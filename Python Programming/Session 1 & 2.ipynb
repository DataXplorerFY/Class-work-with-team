{
 "cells": [
  {
   "cell_type": "code",
   "execution_count": 1,
   "id": "02ea66b4",
   "metadata": {},
   "outputs": [
    {
     "name": "stdout",
     "output_type": "stream",
     "text": [
      "Hello World\n"
     ]
    }
   ],
   "source": [
    "print(\"Hello World\")"
   ]
  },
  {
   "cell_type": "markdown",
   "id": "dbb51d64",
   "metadata": {},
   "source": [
    "# Data Types in python"
   ]
  },
  {
   "cell_type": "markdown",
   "id": "a0bec3de",
   "metadata": {},
   "source": [
    "int\n",
    "float\n",
    "boolean\n",
    "string"
   ]
  },
  {
   "cell_type": "code",
   "execution_count": 2,
   "id": "6ac9de29",
   "metadata": {},
   "outputs": [],
   "source": [
    "#  int 10\n",
    "# float 7.8 "
   ]
  },
  {
   "cell_type": "code",
   "execution_count": 3,
   "id": "599a97a1",
   "metadata": {},
   "outputs": [],
   "source": [
    "height = 5.89876544"
   ]
  },
  {
   "cell_type": "code",
   "execution_count": 4,
   "id": "279d8f4c",
   "metadata": {},
   "outputs": [],
   "source": [
    "weight = 70"
   ]
  },
  {
   "cell_type": "code",
   "execution_count": 5,
   "id": "58af7b88",
   "metadata": {},
   "outputs": [
    {
     "data": {
      "text/plain": [
       "412.9135808"
      ]
     },
     "execution_count": 5,
     "metadata": {},
     "output_type": "execute_result"
    }
   ],
   "source": [
    "lbs = height * weight\n",
    "lbs"
   ]
  },
  {
   "cell_type": "code",
   "execution_count": 7,
   "id": "3598e0ee",
   "metadata": {},
   "outputs": [],
   "source": [
    "#boolean  true false"
   ]
  },
  {
   "cell_type": "code",
   "execution_count": 8,
   "id": "84fa85fd",
   "metadata": {},
   "outputs": [
    {
     "data": {
      "text/plain": [
       "False"
      ]
     },
     "execution_count": 8,
     "metadata": {},
     "output_type": "execute_result"
    }
   ],
   "source": [
    "(5>10)"
   ]
  },
  {
   "cell_type": "code",
   "execution_count": 9,
   "id": "114182d8",
   "metadata": {},
   "outputs": [],
   "source": [
    "name =  \"Farhan Ali\""
   ]
  },
  {
   "cell_type": "code",
   "execution_count": 10,
   "id": "e24ec375",
   "metadata": {},
   "outputs": [
    {
     "ename": "SyntaxError",
     "evalue": "invalid syntax (Temp/ipykernel_17048/3661001233.py, line 1)",
     "output_type": "error",
     "traceback": [
      "\u001b[1;36m  File \u001b[1;32m\"C:\\Users\\farha\\AppData\\Local\\Temp/ipykernel_17048/3661001233.py\"\u001b[1;36m, line \u001b[1;32m1\u001b[0m\n\u001b[1;33m    'This is Farhan's house ''\u001b[0m\n\u001b[1;37m                    ^\u001b[0m\n\u001b[1;31mSyntaxError\u001b[0m\u001b[1;31m:\u001b[0m invalid syntax\n"
     ]
    }
   ],
   "source": [
    "'This is Farhan's house ''"
   ]
  },
  {
   "cell_type": "code",
   "execution_count": 11,
   "id": "3c9bd267",
   "metadata": {},
   "outputs": [
    {
     "data": {
      "text/plain": [
       "\"This is Farhan's house \""
      ]
     },
     "execution_count": 11,
     "metadata": {},
     "output_type": "execute_result"
    }
   ],
   "source": [
    "'This is Farhan\\'s house '"
   ]
  },
  {
   "cell_type": "markdown",
   "id": "8152b538",
   "metadata": {},
   "source": [
    "# Variables naming in python "
   ]
  },
  {
   "cell_type": "code",
   "execution_count": 12,
   "id": "462e3f07",
   "metadata": {},
   "outputs": [
    {
     "ename": "SyntaxError",
     "evalue": "invalid syntax (Temp/ipykernel_17048/3694568505.py, line 1)",
     "output_type": "error",
     "traceback": [
      "\u001b[1;36m  File \u001b[1;32m\"C:\\Users\\farha\\AppData\\Local\\Temp/ipykernel_17048/3694568505.py\"\u001b[1;36m, line \u001b[1;32m1\u001b[0m\n\u001b[1;33m    2age = 56\u001b[0m\n\u001b[1;37m     ^\u001b[0m\n\u001b[1;31mSyntaxError\u001b[0m\u001b[1;31m:\u001b[0m invalid syntax\n"
     ]
    }
   ],
   "source": [
    "2age = 56"
   ]
  },
  {
   "cell_type": "code",
   "execution_count": 13,
   "id": "1b9d3f09",
   "metadata": {},
   "outputs": [],
   "source": [
    "Name = \"leo\""
   ]
  },
  {
   "cell_type": "code",
   "execution_count": 14,
   "id": "a49d3247",
   "metadata": {},
   "outputs": [],
   "source": [
    "name_ = \"kin\""
   ]
  },
  {
   "cell_type": "code",
   "execution_count": 15,
   "id": "3a492cd9",
   "metadata": {},
   "outputs": [],
   "source": [
    "name_01 = 56"
   ]
  },
  {
   "cell_type": "code",
   "execution_count": 16,
   "id": "a40bd42b",
   "metadata": {},
   "outputs": [],
   "source": [
    "_age = 78"
   ]
  },
  {
   "cell_type": "code",
   "execution_count": 18,
   "id": "ecd58c43",
   "metadata": {},
   "outputs": [],
   "source": [
    "namefarhan = \"kin\""
   ]
  },
  {
   "cell_type": "code",
   "execution_count": 20,
   "id": "98092d55",
   "metadata": {},
   "outputs": [],
   "source": [
    "print = 78"
   ]
  },
  {
   "cell_type": "code",
   "execution_count": 21,
   "id": "f03231d3",
   "metadata": {},
   "outputs": [
    {
     "ename": "TypeError",
     "evalue": "'int' object is not callable",
     "output_type": "error",
     "traceback": [
      "\u001b[1;31m---------------------------------------------------------------------------\u001b[0m",
      "\u001b[1;31mTypeError\u001b[0m                                 Traceback (most recent call last)",
      "\u001b[1;32m~\\AppData\\Local\\Temp/ipykernel_17048/952072720.py\u001b[0m in \u001b[0;36m<module>\u001b[1;34m\u001b[0m\n\u001b[1;32m----> 1\u001b[1;33m \u001b[0mprint\u001b[0m\u001b[1;33m(\u001b[0m\u001b[1;34m\"ali\"\u001b[0m\u001b[1;33m)\u001b[0m\u001b[1;33m\u001b[0m\u001b[1;33m\u001b[0m\u001b[0m\n\u001b[0m",
      "\u001b[1;31mTypeError\u001b[0m: 'int' object is not callable"
     ]
    }
   ],
   "source": [
    "print(\"ali\")"
   ]
  },
  {
   "cell_type": "code",
   "execution_count": 27,
   "id": "1d9d6cd2",
   "metadata": {},
   "outputs": [
    {
     "name": "stdout",
     "output_type": "stream",
     "text": [
      "78\n"
     ]
    }
   ],
   "source": [
    "__builtins__.print(print)"
   ]
  },
  {
   "cell_type": "code",
   "execution_count": 28,
   "id": "a6ac265e",
   "metadata": {},
   "outputs": [
    {
     "name": "stderr",
     "output_type": "stream",
     "text": [
      "<>:1: SyntaxWarning: 'int' object is not callable; perhaps you missed a comma?\n",
      "<>:1: SyntaxWarning: 'int' object is not callable; perhaps you missed a comma?\n",
      "C:\\Users\\farha\\AppData\\Local\\Temp/ipykernel_17048/2133508581.py:1: SyntaxWarning: 'int' object is not callable; perhaps you missed a comma?\n",
      "  78(\"ali\")\n"
     ]
    },
    {
     "ename": "TypeError",
     "evalue": "'int' object is not callable",
     "output_type": "error",
     "traceback": [
      "\u001b[1;31m---------------------------------------------------------------------------\u001b[0m",
      "\u001b[1;31mTypeError\u001b[0m                                 Traceback (most recent call last)",
      "\u001b[1;32m~\\AppData\\Local\\Temp/ipykernel_17048/2133508581.py\u001b[0m in \u001b[0;36m<module>\u001b[1;34m\u001b[0m\n\u001b[1;32m----> 1\u001b[1;33m \u001b[1;36m78\u001b[0m\u001b[1;33m(\u001b[0m\u001b[1;34m\"ali\"\u001b[0m\u001b[1;33m)\u001b[0m\u001b[1;33m\u001b[0m\u001b[1;33m\u001b[0m\u001b[0m\n\u001b[0m",
      "\u001b[1;31mTypeError\u001b[0m: 'int' object is not callable"
     ]
    }
   ],
   "source": [
    "78(\"ali\")"
   ]
  },
  {
   "cell_type": "code",
   "execution_count": 30,
   "id": "08dc3135",
   "metadata": {},
   "outputs": [
    {
     "name": "stdout",
     "output_type": "stream",
     "text": [
      "farhan\n"
     ]
    }
   ],
   "source": [
    "__builtins__.print(\"farhan\")"
   ]
  },
  {
   "cell_type": "code",
   "execution_count": 1,
   "id": "2495e379",
   "metadata": {},
   "outputs": [
    {
     "name": "stdout",
     "output_type": "stream",
     "text": [
      "8\n"
     ]
    }
   ],
   "source": [
    "print(8)"
   ]
  },
  {
   "cell_type": "code",
   "execution_count": 1,
   "id": "11b0c0a0",
   "metadata": {},
   "outputs": [
    {
     "data": {
      "text/plain": [
       "['__add__',\n",
       " '__class__',\n",
       " '__contains__',\n",
       " '__delattr__',\n",
       " '__dir__',\n",
       " '__doc__',\n",
       " '__eq__',\n",
       " '__format__',\n",
       " '__ge__',\n",
       " '__getattribute__',\n",
       " '__getitem__',\n",
       " '__getnewargs__',\n",
       " '__getstate__',\n",
       " '__gt__',\n",
       " '__hash__',\n",
       " '__init__',\n",
       " '__init_subclass__',\n",
       " '__iter__',\n",
       " '__le__',\n",
       " '__len__',\n",
       " '__lt__',\n",
       " '__mod__',\n",
       " '__mul__',\n",
       " '__ne__',\n",
       " '__new__',\n",
       " '__reduce__',\n",
       " '__reduce_ex__',\n",
       " '__repr__',\n",
       " '__rmod__',\n",
       " '__rmul__',\n",
       " '__setattr__',\n",
       " '__sizeof__',\n",
       " '__str__',\n",
       " '__subclasshook__',\n",
       " 'capitalize',\n",
       " 'casefold',\n",
       " 'center',\n",
       " 'count',\n",
       " 'encode',\n",
       " 'endswith',\n",
       " 'expandtabs',\n",
       " 'find',\n",
       " 'format',\n",
       " 'format_map',\n",
       " 'index',\n",
       " 'isalnum',\n",
       " 'isalpha',\n",
       " 'isascii',\n",
       " 'isdecimal',\n",
       " 'isdigit',\n",
       " 'isidentifier',\n",
       " 'islower',\n",
       " 'isnumeric',\n",
       " 'isprintable',\n",
       " 'isspace',\n",
       " 'istitle',\n",
       " 'isupper',\n",
       " 'join',\n",
       " 'ljust',\n",
       " 'lower',\n",
       " 'lstrip',\n",
       " 'maketrans',\n",
       " 'partition',\n",
       " 'removeprefix',\n",
       " 'removesuffix',\n",
       " 'replace',\n",
       " 'rfind',\n",
       " 'rindex',\n",
       " 'rjust',\n",
       " 'rpartition',\n",
       " 'rsplit',\n",
       " 'rstrip',\n",
       " 'split',\n",
       " 'splitlines',\n",
       " 'startswith',\n",
       " 'strip',\n",
       " 'swapcase',\n",
       " 'title',\n",
       " 'translate',\n",
       " 'upper',\n",
       " 'zfill']"
      ]
     },
     "execution_count": 1,
     "metadata": {},
     "output_type": "execute_result"
    }
   ],
   "source": [
    "dir(str)"
   ]
  },
  {
   "cell_type": "code",
   "execution_count": 2,
   "id": "e119cfcd",
   "metadata": {},
   "outputs": [
    {
     "name": "stdout",
     "output_type": "stream",
     "text": [
      "farhan\n"
     ]
    }
   ],
   "source": [
    "__builtins__.print(\"farhan\")"
   ]
  },
  {
   "cell_type": "code",
   "execution_count": 1,
   "id": "d21b83f5",
   "metadata": {},
   "outputs": [
    {
     "name": "stdout",
     "output_type": "stream",
     "text": [
      "9\n"
     ]
    }
   ],
   "source": [
    "print(9)"
   ]
  },
  {
   "cell_type": "code",
   "execution_count": 1,
   "id": "391ff1be",
   "metadata": {},
   "outputs": [],
   "source": [
    "message = \"Hi\""
   ]
  },
  {
   "cell_type": "code",
   "execution_count": 2,
   "id": "047e2947",
   "metadata": {},
   "outputs": [],
   "source": [
    "Name = \"Farhan\""
   ]
  },
  {
   "cell_type": "code",
   "execution_count": 3,
   "id": "9932c855",
   "metadata": {},
   "outputs": [
    {
     "name": "stdout",
     "output_type": "stream",
     "text": [
      "Hi Farhan\n"
     ]
    }
   ],
   "source": [
    "print(message, Name)"
   ]
  },
  {
   "cell_type": "code",
   "execution_count": null,
   "id": "ecd88c10",
   "metadata": {},
   "outputs": [],
   "source": []
  }
 ],
 "metadata": {
  "kernelspec": {
   "display_name": "Python 3 (ipykernel)",
   "language": "python",
   "name": "python3"
  },
  "language_info": {
   "codemirror_mode": {
    "name": "ipython",
    "version": 3
   },
   "file_extension": ".py",
   "mimetype": "text/x-python",
   "name": "python",
   "nbconvert_exporter": "python",
   "pygments_lexer": "ipython3",
   "version": "3.11.4"
  }
 },
 "nbformat": 4,
 "nbformat_minor": 5
}
