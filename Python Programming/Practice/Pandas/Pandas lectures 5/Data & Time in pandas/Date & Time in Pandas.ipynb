{
 "cells": [
  {
   "cell_type": "code",
   "execution_count": 1,
   "id": "c371a2e3",
   "metadata": {},
   "outputs": [],
   "source": [
    "import numpy as np"
   ]
  },
  {
   "cell_type": "code",
   "execution_count": 2,
   "id": "e1bce730",
   "metadata": {},
   "outputs": [],
   "source": [
    "import pandas as pd"
   ]
  },
  {
   "cell_type": "code",
   "execution_count": 6,
   "id": "e95f2024",
   "metadata": {},
   "outputs": [],
   "source": [
    "data = pd.read_csv(\"visitors.csv\")"
   ]
  },
  {
   "cell_type": "code",
   "execution_count": 7,
   "id": "6ee7680a",
   "metadata": {},
   "outputs": [
    {
     "data": {
      "text/html": [
       "<div>\n",
       "<style scoped>\n",
       "    .dataframe tbody tr th:only-of-type {\n",
       "        vertical-align: middle;\n",
       "    }\n",
       "\n",
       "    .dataframe tbody tr th {\n",
       "        vertical-align: top;\n",
       "    }\n",
       "\n",
       "    .dataframe thead th {\n",
       "        text-align: right;\n",
       "    }\n",
       "</style>\n",
       "<table border=\"1\" class=\"dataframe\">\n",
       "  <thead>\n",
       "    <tr style=\"text-align: right;\">\n",
       "      <th></th>\n",
       "      <th>name</th>\n",
       "      <th>appt_made_date</th>\n",
       "      <th>appt_start_date</th>\n",
       "      <th>appt_end_date</th>\n",
       "      <th>visitee_namelast</th>\n",
       "      <th>visitee_namefirst</th>\n",
       "      <th>meeting_room</th>\n",
       "      <th>description</th>\n",
       "    </tr>\n",
       "  </thead>\n",
       "  <tbody>\n",
       "    <tr>\n",
       "      <th>0</th>\n",
       "      <td>Joshua T. Blanton</td>\n",
       "      <td>2014-12-18T00:00:00</td>\n",
       "      <td>1/6/15 9:30</td>\n",
       "      <td>1/6/15 23:59</td>\n",
       "      <td>NaN</td>\n",
       "      <td>potus</td>\n",
       "      <td>west wing</td>\n",
       "      <td>JointService Military Honor Guard</td>\n",
       "    </tr>\n",
       "    <tr>\n",
       "      <th>1</th>\n",
       "      <td>Jack T. Gutting</td>\n",
       "      <td>2014-12-18T00:00:00</td>\n",
       "      <td>1/6/15 9:30</td>\n",
       "      <td>1/6/15 23:59</td>\n",
       "      <td>NaN</td>\n",
       "      <td>potus</td>\n",
       "      <td>west wing</td>\n",
       "      <td>JointService Military Honor Guard</td>\n",
       "    </tr>\n",
       "    <tr>\n",
       "      <th>2</th>\n",
       "      <td>Bradley T. Guiles</td>\n",
       "      <td>2014-12-18T00:00:00</td>\n",
       "      <td>1/6/15 9:30</td>\n",
       "      <td>1/6/15 23:59</td>\n",
       "      <td>NaN</td>\n",
       "      <td>potus</td>\n",
       "      <td>west wing</td>\n",
       "      <td>JointService Military Honor Guard</td>\n",
       "    </tr>\n",
       "    <tr>\n",
       "      <th>3</th>\n",
       "      <td>Loryn F. Grieb</td>\n",
       "      <td>2014-12-18T00:00:00</td>\n",
       "      <td>1/6/15 9:30</td>\n",
       "      <td>1/6/15 23:59</td>\n",
       "      <td>NaN</td>\n",
       "      <td>potus</td>\n",
       "      <td>west wing</td>\n",
       "      <td>JointService Military Honor Guard</td>\n",
       "    </tr>\n",
       "    <tr>\n",
       "      <th>4</th>\n",
       "      <td>Travis D. Gordon</td>\n",
       "      <td>2014-12-18T00:00:00</td>\n",
       "      <td>1/6/15 9:30</td>\n",
       "      <td>1/6/15 23:59</td>\n",
       "      <td>NaN</td>\n",
       "      <td>potus</td>\n",
       "      <td>west wing</td>\n",
       "      <td>JointService Military Honor Guard</td>\n",
       "    </tr>\n",
       "    <tr>\n",
       "      <th>...</th>\n",
       "      <td>...</td>\n",
       "      <td>...</td>\n",
       "      <td>...</td>\n",
       "      <td>...</td>\n",
       "      <td>...</td>\n",
       "      <td>...</td>\n",
       "      <td>...</td>\n",
       "      <td>...</td>\n",
       "    </tr>\n",
       "    <tr>\n",
       "      <th>47949</th>\n",
       "      <td>William B. Henline</td>\n",
       "      <td>2015-12-16T00:00:00</td>\n",
       "      <td>12/18/15 16:30</td>\n",
       "      <td>12/18/15 23:59</td>\n",
       "      <td>NaN</td>\n",
       "      <td>POTUS/FLOTUS</td>\n",
       "      <td>State Floo</td>\n",
       "      <td>NaN</td>\n",
       "    </tr>\n",
       "    <tr>\n",
       "      <th>47950</th>\n",
       "      <td>Ian T. Burris</td>\n",
       "      <td>2015-12-16T00:00:00</td>\n",
       "      <td>12/18/15 16:30</td>\n",
       "      <td>12/18/15 23:59</td>\n",
       "      <td>NaN</td>\n",
       "      <td>POTUS/FLOTUS</td>\n",
       "      <td>State Floo</td>\n",
       "      <td>NaN</td>\n",
       "    </tr>\n",
       "    <tr>\n",
       "      <th>47951</th>\n",
       "      <td>James F. Albaugh</td>\n",
       "      <td>2015-12-16T00:00:00</td>\n",
       "      <td>12/18/15 16:30</td>\n",
       "      <td>12/18/15 23:59</td>\n",
       "      <td>NaN</td>\n",
       "      <td>POTUS/FLOTUS</td>\n",
       "      <td>State Floo</td>\n",
       "      <td>NaN</td>\n",
       "    </tr>\n",
       "    <tr>\n",
       "      <th>47952</th>\n",
       "      <td>Jackie L. Finken</td>\n",
       "      <td>2015-12-16T00:00:00</td>\n",
       "      <td>12/18/15 16:30</td>\n",
       "      <td>12/18/15 23:59</td>\n",
       "      <td>NaN</td>\n",
       "      <td>POTUS/FLOTUS</td>\n",
       "      <td>State Floo</td>\n",
       "      <td>NaN</td>\n",
       "    </tr>\n",
       "    <tr>\n",
       "      <th>47953</th>\n",
       "      <td>Grace M. Bauman</td>\n",
       "      <td>2015-12-16T00:00:00</td>\n",
       "      <td>12/18/15 16:30</td>\n",
       "      <td>12/18/15 23:59</td>\n",
       "      <td>NaN</td>\n",
       "      <td>POTUS/FLOTUS</td>\n",
       "      <td>State Floo</td>\n",
       "      <td>NaN</td>\n",
       "    </tr>\n",
       "  </tbody>\n",
       "</table>\n",
       "<p>47954 rows × 8 columns</p>\n",
       "</div>"
      ],
      "text/plain": [
       "                     name       appt_made_date appt_start_date  \\\n",
       "0       Joshua T. Blanton  2014-12-18T00:00:00     1/6/15 9:30   \n",
       "1         Jack T. Gutting  2014-12-18T00:00:00     1/6/15 9:30   \n",
       "2       Bradley T. Guiles  2014-12-18T00:00:00     1/6/15 9:30   \n",
       "3          Loryn F. Grieb  2014-12-18T00:00:00     1/6/15 9:30   \n",
       "4        Travis D. Gordon  2014-12-18T00:00:00     1/6/15 9:30   \n",
       "...                   ...                  ...             ...   \n",
       "47949  William B. Henline  2015-12-16T00:00:00  12/18/15 16:30   \n",
       "47950       Ian T. Burris  2015-12-16T00:00:00  12/18/15 16:30   \n",
       "47951    James F. Albaugh  2015-12-16T00:00:00  12/18/15 16:30   \n",
       "47952    Jackie L. Finken  2015-12-16T00:00:00  12/18/15 16:30   \n",
       "47953     Grace M. Bauman  2015-12-16T00:00:00  12/18/15 16:30   \n",
       "\n",
       "        appt_end_date visitee_namelast visitee_namefirst meeting_room  \\\n",
       "0        1/6/15 23:59              NaN             potus    west wing   \n",
       "1        1/6/15 23:59              NaN             potus    west wing   \n",
       "2        1/6/15 23:59              NaN             potus    west wing   \n",
       "3        1/6/15 23:59              NaN             potus    west wing   \n",
       "4        1/6/15 23:59              NaN             potus    west wing   \n",
       "...               ...              ...               ...          ...   \n",
       "47949  12/18/15 23:59              NaN      POTUS/FLOTUS   State Floo   \n",
       "47950  12/18/15 23:59              NaN      POTUS/FLOTUS   State Floo   \n",
       "47951  12/18/15 23:59              NaN      POTUS/FLOTUS   State Floo   \n",
       "47952  12/18/15 23:59              NaN      POTUS/FLOTUS   State Floo   \n",
       "47953  12/18/15 23:59              NaN      POTUS/FLOTUS   State Floo   \n",
       "\n",
       "                             description  \n",
       "0      JointService Military Honor Guard  \n",
       "1      JointService Military Honor Guard  \n",
       "2      JointService Military Honor Guard  \n",
       "3      JointService Military Honor Guard  \n",
       "4      JointService Military Honor Guard  \n",
       "...                                  ...  \n",
       "47949                                NaN  \n",
       "47950                                NaN  \n",
       "47951                                NaN  \n",
       "47952                                NaN  \n",
       "47953                                NaN  \n",
       "\n",
       "[47954 rows x 8 columns]"
      ]
     },
     "execution_count": 7,
     "metadata": {},
     "output_type": "execute_result"
    }
   ],
   "source": [
    "data"
   ]
  },
  {
   "cell_type": "code",
   "execution_count": 8,
   "id": "0e93a646",
   "metadata": {},
   "outputs": [
    {
     "data": {
      "text/html": [
       "<div>\n",
       "<style scoped>\n",
       "    .dataframe tbody tr th:only-of-type {\n",
       "        vertical-align: middle;\n",
       "    }\n",
       "\n",
       "    .dataframe tbody tr th {\n",
       "        vertical-align: top;\n",
       "    }\n",
       "\n",
       "    .dataframe thead th {\n",
       "        text-align: right;\n",
       "    }\n",
       "</style>\n",
       "<table border=\"1\" class=\"dataframe\">\n",
       "  <thead>\n",
       "    <tr style=\"text-align: right;\">\n",
       "      <th></th>\n",
       "      <th>name</th>\n",
       "      <th>appt_made_date</th>\n",
       "      <th>appt_start_date</th>\n",
       "      <th>appt_end_date</th>\n",
       "      <th>visitee_namelast</th>\n",
       "      <th>visitee_namefirst</th>\n",
       "      <th>meeting_room</th>\n",
       "      <th>description</th>\n",
       "    </tr>\n",
       "  </thead>\n",
       "  <tbody>\n",
       "    <tr>\n",
       "      <th>0</th>\n",
       "      <td>Joshua T. Blanton</td>\n",
       "      <td>2014-12-18T00:00:00</td>\n",
       "      <td>1/6/15 9:30</td>\n",
       "      <td>1/6/15 23:59</td>\n",
       "      <td>NaN</td>\n",
       "      <td>potus</td>\n",
       "      <td>west wing</td>\n",
       "      <td>JointService Military Honor Guard</td>\n",
       "    </tr>\n",
       "    <tr>\n",
       "      <th>1</th>\n",
       "      <td>Jack T. Gutting</td>\n",
       "      <td>2014-12-18T00:00:00</td>\n",
       "      <td>1/6/15 9:30</td>\n",
       "      <td>1/6/15 23:59</td>\n",
       "      <td>NaN</td>\n",
       "      <td>potus</td>\n",
       "      <td>west wing</td>\n",
       "      <td>JointService Military Honor Guard</td>\n",
       "    </tr>\n",
       "    <tr>\n",
       "      <th>2</th>\n",
       "      <td>Bradley T. Guiles</td>\n",
       "      <td>2014-12-18T00:00:00</td>\n",
       "      <td>1/6/15 9:30</td>\n",
       "      <td>1/6/15 23:59</td>\n",
       "      <td>NaN</td>\n",
       "      <td>potus</td>\n",
       "      <td>west wing</td>\n",
       "      <td>JointService Military Honor Guard</td>\n",
       "    </tr>\n",
       "    <tr>\n",
       "      <th>3</th>\n",
       "      <td>Loryn F. Grieb</td>\n",
       "      <td>2014-12-18T00:00:00</td>\n",
       "      <td>1/6/15 9:30</td>\n",
       "      <td>1/6/15 23:59</td>\n",
       "      <td>NaN</td>\n",
       "      <td>potus</td>\n",
       "      <td>west wing</td>\n",
       "      <td>JointService Military Honor Guard</td>\n",
       "    </tr>\n",
       "    <tr>\n",
       "      <th>4</th>\n",
       "      <td>Travis D. Gordon</td>\n",
       "      <td>2014-12-18T00:00:00</td>\n",
       "      <td>1/6/15 9:30</td>\n",
       "      <td>1/6/15 23:59</td>\n",
       "      <td>NaN</td>\n",
       "      <td>potus</td>\n",
       "      <td>west wing</td>\n",
       "      <td>JointService Military Honor Guard</td>\n",
       "    </tr>\n",
       "  </tbody>\n",
       "</table>\n",
       "</div>"
      ],
      "text/plain": [
       "                name       appt_made_date appt_start_date appt_end_date  \\\n",
       "0  Joshua T. Blanton  2014-12-18T00:00:00     1/6/15 9:30  1/6/15 23:59   \n",
       "1    Jack T. Gutting  2014-12-18T00:00:00     1/6/15 9:30  1/6/15 23:59   \n",
       "2  Bradley T. Guiles  2014-12-18T00:00:00     1/6/15 9:30  1/6/15 23:59   \n",
       "3     Loryn F. Grieb  2014-12-18T00:00:00     1/6/15 9:30  1/6/15 23:59   \n",
       "4   Travis D. Gordon  2014-12-18T00:00:00     1/6/15 9:30  1/6/15 23:59   \n",
       "\n",
       "  visitee_namelast visitee_namefirst meeting_room  \\\n",
       "0              NaN             potus    west wing   \n",
       "1              NaN             potus    west wing   \n",
       "2              NaN             potus    west wing   \n",
       "3              NaN             potus    west wing   \n",
       "4              NaN             potus    west wing   \n",
       "\n",
       "                         description  \n",
       "0  JointService Military Honor Guard  \n",
       "1  JointService Military Honor Guard  \n",
       "2  JointService Military Honor Guard  \n",
       "3  JointService Military Honor Guard  \n",
       "4  JointService Military Honor Guard  "
      ]
     },
     "execution_count": 8,
     "metadata": {},
     "output_type": "execute_result"
    }
   ],
   "source": [
    "data.head()"
   ]
  },
  {
   "cell_type": "code",
   "execution_count": 9,
   "id": "133a8347",
   "metadata": {},
   "outputs": [
    {
     "name": "stdout",
     "output_type": "stream",
     "text": [
      "<class 'pandas.core.frame.DataFrame'>\n",
      "RangeIndex: 47954 entries, 0 to 47953\n",
      "Data columns (total 8 columns):\n",
      " #   Column             Non-Null Count  Dtype \n",
      "---  ------             --------------  ----- \n",
      " 0   name               47954 non-null  object\n",
      " 1   appt_made_date     47954 non-null  object\n",
      " 2   appt_start_date    47954 non-null  object\n",
      " 3   appt_end_date      47954 non-null  object\n",
      " 4   visitee_namelast   6069 non-null   object\n",
      " 5   visitee_namefirst  47953 non-null  object\n",
      " 6   meeting_room       47954 non-null  object\n",
      " 7   description        8053 non-null   object\n",
      "dtypes: object(8)\n",
      "memory usage: 2.9+ MB\n"
     ]
    }
   ],
   "source": [
    "data.info()"
   ]
  },
  {
   "cell_type": "markdown",
   "id": "83824ddb",
   "metadata": {},
   "source": [
    "# Setting the appt_start_date Column into DateTime Format"
   ]
  },
  {
   "cell_type": "code",
   "execution_count": 10,
   "id": "d2953bb7",
   "metadata": {},
   "outputs": [
    {
     "data": {
      "text/plain": [
       "0           1/6/15 9:30\n",
       "1           1/6/15 9:30\n",
       "2           1/6/15 9:30\n",
       "3           1/6/15 9:30\n",
       "4           1/6/15 9:30\n",
       "              ...      \n",
       "47949    12/18/15 16:30\n",
       "47950    12/18/15 16:30\n",
       "47951    12/18/15 16:30\n",
       "47952    12/18/15 16:30\n",
       "47953    12/18/15 16:30\n",
       "Name: appt_start_date, Length: 47954, dtype: object"
      ]
     },
     "execution_count": 10,
     "metadata": {},
     "output_type": "execute_result"
    }
   ],
   "source": [
    "data[\"appt_start_date\"]"
   ]
  },
  {
   "cell_type": "code",
   "execution_count": 11,
   "id": "735a5236",
   "metadata": {},
   "outputs": [
    {
     "data": {
      "text/plain": [
       "0       2015-01-06 09:30:00\n",
       "1       2015-01-06 09:30:00\n",
       "2       2015-01-06 09:30:00\n",
       "3       2015-01-06 09:30:00\n",
       "4       2015-01-06 09:30:00\n",
       "                ...        \n",
       "47949   2015-12-18 16:30:00\n",
       "47950   2015-12-18 16:30:00\n",
       "47951   2015-12-18 16:30:00\n",
       "47952   2015-12-18 16:30:00\n",
       "47953   2015-12-18 16:30:00\n",
       "Name: appt_start_date, Length: 47954, dtype: datetime64[ns]"
      ]
     },
     "execution_count": 11,
     "metadata": {},
     "output_type": "execute_result"
    }
   ],
   "source": [
    "pd.to_datetime(data[\"appt_start_date\"])"
   ]
  },
  {
   "cell_type": "code",
   "execution_count": 12,
   "id": "db74bdf3",
   "metadata": {},
   "outputs": [
    {
     "data": {
      "text/html": [
       "<div>\n",
       "<style scoped>\n",
       "    .dataframe tbody tr th:only-of-type {\n",
       "        vertical-align: middle;\n",
       "    }\n",
       "\n",
       "    .dataframe tbody tr th {\n",
       "        vertical-align: top;\n",
       "    }\n",
       "\n",
       "    .dataframe thead th {\n",
       "        text-align: right;\n",
       "    }\n",
       "</style>\n",
       "<table border=\"1\" class=\"dataframe\">\n",
       "  <thead>\n",
       "    <tr style=\"text-align: right;\">\n",
       "      <th></th>\n",
       "      <th>name</th>\n",
       "      <th>appt_made_date</th>\n",
       "      <th>appt_start_date</th>\n",
       "      <th>appt_end_date</th>\n",
       "      <th>visitee_namelast</th>\n",
       "      <th>visitee_namefirst</th>\n",
       "      <th>meeting_room</th>\n",
       "      <th>description</th>\n",
       "    </tr>\n",
       "  </thead>\n",
       "  <tbody>\n",
       "    <tr>\n",
       "      <th>47949</th>\n",
       "      <td>William B. Henline</td>\n",
       "      <td>2015-12-16T00:00:00</td>\n",
       "      <td>12/18/15 16:30</td>\n",
       "      <td>12/18/15 23:59</td>\n",
       "      <td>NaN</td>\n",
       "      <td>POTUS/FLOTUS</td>\n",
       "      <td>State Floo</td>\n",
       "      <td>NaN</td>\n",
       "    </tr>\n",
       "    <tr>\n",
       "      <th>47950</th>\n",
       "      <td>Ian T. Burris</td>\n",
       "      <td>2015-12-16T00:00:00</td>\n",
       "      <td>12/18/15 16:30</td>\n",
       "      <td>12/18/15 23:59</td>\n",
       "      <td>NaN</td>\n",
       "      <td>POTUS/FLOTUS</td>\n",
       "      <td>State Floo</td>\n",
       "      <td>NaN</td>\n",
       "    </tr>\n",
       "    <tr>\n",
       "      <th>47951</th>\n",
       "      <td>James F. Albaugh</td>\n",
       "      <td>2015-12-16T00:00:00</td>\n",
       "      <td>12/18/15 16:30</td>\n",
       "      <td>12/18/15 23:59</td>\n",
       "      <td>NaN</td>\n",
       "      <td>POTUS/FLOTUS</td>\n",
       "      <td>State Floo</td>\n",
       "      <td>NaN</td>\n",
       "    </tr>\n",
       "    <tr>\n",
       "      <th>47952</th>\n",
       "      <td>Jackie L. Finken</td>\n",
       "      <td>2015-12-16T00:00:00</td>\n",
       "      <td>12/18/15 16:30</td>\n",
       "      <td>12/18/15 23:59</td>\n",
       "      <td>NaN</td>\n",
       "      <td>POTUS/FLOTUS</td>\n",
       "      <td>State Floo</td>\n",
       "      <td>NaN</td>\n",
       "    </tr>\n",
       "    <tr>\n",
       "      <th>47953</th>\n",
       "      <td>Grace M. Bauman</td>\n",
       "      <td>2015-12-16T00:00:00</td>\n",
       "      <td>12/18/15 16:30</td>\n",
       "      <td>12/18/15 23:59</td>\n",
       "      <td>NaN</td>\n",
       "      <td>POTUS/FLOTUS</td>\n",
       "      <td>State Floo</td>\n",
       "      <td>NaN</td>\n",
       "    </tr>\n",
       "  </tbody>\n",
       "</table>\n",
       "</div>"
      ],
      "text/plain": [
       "                     name       appt_made_date appt_start_date  \\\n",
       "47949  William B. Henline  2015-12-16T00:00:00  12/18/15 16:30   \n",
       "47950       Ian T. Burris  2015-12-16T00:00:00  12/18/15 16:30   \n",
       "47951    James F. Albaugh  2015-12-16T00:00:00  12/18/15 16:30   \n",
       "47952    Jackie L. Finken  2015-12-16T00:00:00  12/18/15 16:30   \n",
       "47953     Grace M. Bauman  2015-12-16T00:00:00  12/18/15 16:30   \n",
       "\n",
       "        appt_end_date visitee_namelast visitee_namefirst meeting_room  \\\n",
       "47949  12/18/15 23:59              NaN      POTUS/FLOTUS   State Floo   \n",
       "47950  12/18/15 23:59              NaN      POTUS/FLOTUS   State Floo   \n",
       "47951  12/18/15 23:59              NaN      POTUS/FLOTUS   State Floo   \n",
       "47952  12/18/15 23:59              NaN      POTUS/FLOTUS   State Floo   \n",
       "47953  12/18/15 23:59              NaN      POTUS/FLOTUS   State Floo   \n",
       "\n",
       "      description  \n",
       "47949         NaN  \n",
       "47950         NaN  \n",
       "47951         NaN  \n",
       "47952         NaN  \n",
       "47953         NaN  "
      ]
     },
     "execution_count": 12,
     "metadata": {},
     "output_type": "execute_result"
    }
   ],
   "source": [
    "data.tail()"
   ]
  },
  {
   "cell_type": "code",
   "execution_count": 18,
   "id": "366c1b2a",
   "metadata": {},
   "outputs": [],
   "source": [
    "date_sample = \"1/8/15 19:00\"\n",
    "date_format = \"%m/%d/%y %H:%M\""
   ]
  },
  {
   "cell_type": "code",
   "execution_count": 20,
   "id": "e11811c1",
   "metadata": {},
   "outputs": [],
   "source": [
    "data[\"appt_start_date\"] = pd.to_datetime(data[\"appt_start_date\"], format = date_format)"
   ]
  },
  {
   "cell_type": "code",
   "execution_count": 21,
   "id": "5d3a5492",
   "metadata": {},
   "outputs": [
    {
     "data": {
      "text/plain": [
       "0       2015-01-06 09:30:00\n",
       "1       2015-01-06 09:30:00\n",
       "2       2015-01-06 09:30:00\n",
       "3       2015-01-06 09:30:00\n",
       "4       2015-01-06 09:30:00\n",
       "                ...        \n",
       "47949   2015-12-18 16:30:00\n",
       "47950   2015-12-18 16:30:00\n",
       "47951   2015-12-18 16:30:00\n",
       "47952   2015-12-18 16:30:00\n",
       "47953   2015-12-18 16:30:00\n",
       "Name: appt_start_date, Length: 47954, dtype: datetime64[ns]"
      ]
     },
     "execution_count": 21,
     "metadata": {},
     "output_type": "execute_result"
    }
   ],
   "source": [
    "data[\"appt_start_date\"]"
   ]
  },
  {
   "cell_type": "markdown",
   "id": "af45940b",
   "metadata": {},
   "source": [
    "# Setting the appt_end_date Column into DateTime Format"
   ]
  },
  {
   "cell_type": "code",
   "execution_count": 22,
   "id": "dd2b724e",
   "metadata": {},
   "outputs": [],
   "source": [
    "data[\"appt_end_date\"] = pd.to_datetime(data[\"appt_end_date\"], format = date_format)"
   ]
  },
  {
   "cell_type": "code",
   "execution_count": 23,
   "id": "c4959f81",
   "metadata": {},
   "outputs": [
    {
     "data": {
      "text/plain": [
       "0       2015-01-06 23:59:00\n",
       "1       2015-01-06 23:59:00\n",
       "2       2015-01-06 23:59:00\n",
       "3       2015-01-06 23:59:00\n",
       "4       2015-01-06 23:59:00\n",
       "                ...        \n",
       "47949   2015-12-18 23:59:00\n",
       "47950   2015-12-18 23:59:00\n",
       "47951   2015-12-18 23:59:00\n",
       "47952   2015-12-18 23:59:00\n",
       "47953   2015-12-18 23:59:00\n",
       "Name: appt_end_date, Length: 47954, dtype: datetime64[ns]"
      ]
     },
     "execution_count": 23,
     "metadata": {},
     "output_type": "execute_result"
    }
   ],
   "source": [
    "data[\"appt_end_date\"]"
   ]
  },
  {
   "cell_type": "code",
   "execution_count": 24,
   "id": "9fa87fdb",
   "metadata": {},
   "outputs": [
    {
     "data": {
      "text/plain": [
       "name                         object\n",
       "appt_made_date               object\n",
       "appt_start_date      datetime64[ns]\n",
       "appt_end_date        datetime64[ns]\n",
       "visitee_namelast             object\n",
       "visitee_namefirst            object\n",
       "meeting_room                 object\n",
       "description                  object\n",
       "dtype: object"
      ]
     },
     "execution_count": 24,
     "metadata": {},
     "output_type": "execute_result"
    }
   ],
   "source": [
    "data.dtypes"
   ]
  },
  {
   "cell_type": "markdown",
   "id": "574748e7",
   "metadata": {},
   "source": [
    "# Converting these columns details into months wise for better readability"
   ]
  },
  {
   "cell_type": "code",
   "execution_count": 25,
   "id": "76d36c5b",
   "metadata": {},
   "outputs": [],
   "source": [
    "month_wise = data[\"appt_end_date\"].dt.strftime(\"%B %A\")"
   ]
  },
  {
   "cell_type": "code",
   "execution_count": 26,
   "id": "51de8781",
   "metadata": {},
   "outputs": [
    {
     "data": {
      "text/plain": [
       "0        January Tuesday\n",
       "1        January Tuesday\n",
       "2        January Tuesday\n",
       "3        January Tuesday\n",
       "4        January Tuesday\n",
       "              ...       \n",
       "47949    December Friday\n",
       "47950    December Friday\n",
       "47951    December Friday\n",
       "47952    December Friday\n",
       "47953    December Friday\n",
       "Name: appt_end_date, Length: 47954, dtype: object"
      ]
     },
     "execution_count": 26,
     "metadata": {},
     "output_type": "execute_result"
    }
   ],
   "source": [
    "month_wise"
   ]
  },
  {
   "cell_type": "code",
   "execution_count": 28,
   "id": "60f96398",
   "metadata": {},
   "outputs": [
    {
     "data": {
      "text/plain": [
       "June Monday           3935\n",
       "December Friday       3776\n",
       "December Wednesday    2990\n",
       "June Wednesday        2732\n",
       "December Thursday     2568\n",
       "                      ... \n",
       "June Saturday           12\n",
       "January Wednesday        6\n",
       "July Sunday              4\n",
       "June Sunday              2\n",
       "December Saturday        1\n",
       "Name: appt_end_date, Length: 69, dtype: int64"
      ]
     },
     "execution_count": 28,
     "metadata": {},
     "output_type": "execute_result"
    }
   ],
   "source": [
    "month_wise.value_counts()"
   ]
  },
  {
   "cell_type": "code",
   "execution_count": 29,
   "id": "41217a75",
   "metadata": {},
   "outputs": [],
   "source": [
    "length = data[\"appt_end_date\"] - data[\"appt_start_date\"]"
   ]
  },
  {
   "cell_type": "code",
   "execution_count": 30,
   "id": "cc009b93",
   "metadata": {},
   "outputs": [
    {
     "data": {
      "text/plain": [
       "0       0 days 14:29:00\n",
       "1       0 days 14:29:00\n",
       "2       0 days 14:29:00\n",
       "3       0 days 14:29:00\n",
       "4       0 days 14:29:00\n",
       "              ...      \n",
       "47949   0 days 07:29:00\n",
       "47950   0 days 07:29:00\n",
       "47951   0 days 07:29:00\n",
       "47952   0 days 07:29:00\n",
       "47953   0 days 07:29:00\n",
       "Length: 47954, dtype: timedelta64[ns]"
      ]
     },
     "execution_count": 30,
     "metadata": {},
     "output_type": "execute_result"
    }
   ],
   "source": [
    "length"
   ]
  },
  {
   "cell_type": "code",
   "execution_count": 31,
   "id": "e47c4689",
   "metadata": {},
   "outputs": [
    {
     "data": {
      "text/plain": [
       "0       2015-01-06 23:59:00\n",
       "1       2015-01-06 23:59:00\n",
       "2       2015-01-06 23:59:00\n",
       "3       2015-01-06 23:59:00\n",
       "4       2015-01-06 23:59:00\n",
       "                ...        \n",
       "47949   2015-12-18 23:59:00\n",
       "47950   2015-12-18 23:59:00\n",
       "47951   2015-12-18 23:59:00\n",
       "47952   2015-12-18 23:59:00\n",
       "47953   2015-12-18 23:59:00\n",
       "Name: appt_end_date, Length: 47954, dtype: datetime64[ns]"
      ]
     },
     "execution_count": 31,
     "metadata": {},
     "output_type": "execute_result"
    }
   ],
   "source": [
    "data[\"appt_end_date\"]"
   ]
  },
  {
   "cell_type": "code",
   "execution_count": 32,
   "id": "b1e1f9dd",
   "metadata": {},
   "outputs": [
    {
     "data": {
      "text/plain": [
       "0       2015-01-06 09:30:00\n",
       "1       2015-01-06 09:30:00\n",
       "2       2015-01-06 09:30:00\n",
       "3       2015-01-06 09:30:00\n",
       "4       2015-01-06 09:30:00\n",
       "                ...        \n",
       "47949   2015-12-18 16:30:00\n",
       "47950   2015-12-18 16:30:00\n",
       "47951   2015-12-18 16:30:00\n",
       "47952   2015-12-18 16:30:00\n",
       "47953   2015-12-18 16:30:00\n",
       "Name: appt_start_date, Length: 47954, dtype: datetime64[ns]"
      ]
     },
     "execution_count": 32,
     "metadata": {},
     "output_type": "execute_result"
    }
   ],
   "source": [
    "data[\"appt_start_date\"]"
   ]
  },
  {
   "cell_type": "code",
   "execution_count": 33,
   "id": "f2bd4f68",
   "metadata": {},
   "outputs": [
    {
     "data": {
      "text/plain": [
       "Timedelta('0 days 02:29:00')"
      ]
     },
     "execution_count": 33,
     "metadata": {},
     "output_type": "execute_result"
    }
   ],
   "source": [
    "length.min()"
   ]
  },
  {
   "cell_type": "code",
   "execution_count": 34,
   "id": "fc92d471",
   "metadata": {},
   "outputs": [
    {
     "data": {
      "text/plain": [
       "Timedelta('16 days 12:59:00')"
      ]
     },
     "execution_count": 34,
     "metadata": {},
     "output_type": "execute_result"
    }
   ],
   "source": [
    "length.max()"
   ]
  },
  {
   "cell_type": "code",
   "execution_count": 35,
   "id": "c661ebbe",
   "metadata": {},
   "outputs": [
    {
     "data": {
      "text/plain": [
       "Timedelta('21210 days 14:02:00')"
      ]
     },
     "execution_count": 35,
     "metadata": {},
     "output_type": "execute_result"
    }
   ],
   "source": [
    "length.sum()"
   ]
  },
  {
   "cell_type": "code",
   "execution_count": null,
   "id": "3ebe9454",
   "metadata": {},
   "outputs": [],
   "source": []
  }
 ],
 "metadata": {
  "kernelspec": {
   "display_name": "Python 3 (ipykernel)",
   "language": "python",
   "name": "python3"
  },
  "language_info": {
   "codemirror_mode": {
    "name": "ipython",
    "version": 3
   },
   "file_extension": ".py",
   "mimetype": "text/x-python",
   "name": "python",
   "nbconvert_exporter": "python",
   "pygments_lexer": "ipython3",
   "version": "3.9.7"
  }
 },
 "nbformat": 4,
 "nbformat_minor": 5
}
