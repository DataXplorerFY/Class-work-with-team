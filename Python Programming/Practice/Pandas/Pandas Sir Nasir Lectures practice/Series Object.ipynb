{
 "cells": [
  {
   "cell_type": "code",
   "execution_count": 1,
   "id": "510e6a6c",
   "metadata": {},
   "outputs": [],
   "source": [
    "import pandas as pd"
   ]
  },
  {
   "cell_type": "code",
   "execution_count": 5,
   "id": "7dcfd793",
   "metadata": {},
   "outputs": [],
   "source": [
    "obj = pd.Series([1,2,3,4], index = [\"A\",\"B\",\"C\",\"D\"])"
   ]
  },
  {
   "cell_type": "code",
   "execution_count": 6,
   "id": "b230fa48",
   "metadata": {},
   "outputs": [
    {
     "data": {
      "text/plain": [
       "A    1\n",
       "B    2\n",
       "C    3\n",
       "D    4\n",
       "dtype: int64"
      ]
     },
     "execution_count": 6,
     "metadata": {},
     "output_type": "execute_result"
    }
   ],
   "source": [
    "obj"
   ]
  },
  {
   "cell_type": "markdown",
   "id": "052e8d00",
   "metadata": {},
   "source": [
    "# Series Has two things in one object that is "
   ]
  },
  {
   "cell_type": "markdown",
   "id": "60b2b6f2",
   "metadata": {},
   "source": [
    "1. Value\n",
    "\n",
    "2. Index"
   ]
  },
  {
   "cell_type": "code",
   "execution_count": 7,
   "id": "3121bfe3",
   "metadata": {},
   "outputs": [
    {
     "data": {
      "text/plain": [
       "A    1\n",
       "B    2\n",
       "C    3\n",
       "D    4\n",
       "dtype: int64"
      ]
     },
     "execution_count": 7,
     "metadata": {},
     "output_type": "execute_result"
    }
   ],
   "source": [
    "obj"
   ]
  },
  {
   "cell_type": "code",
   "execution_count": 8,
   "id": "75a862b7",
   "metadata": {},
   "outputs": [
    {
     "data": {
      "text/plain": [
       "array([1, 2, 3, 4], dtype=int64)"
      ]
     },
     "execution_count": 8,
     "metadata": {},
     "output_type": "execute_result"
    }
   ],
   "source": [
    "obj.values"
   ]
  },
  {
   "cell_type": "code",
   "execution_count": 10,
   "id": "b016900e",
   "metadata": {},
   "outputs": [
    {
     "data": {
      "text/plain": [
       "Index(['A', 'B', 'C', 'D'], dtype='object')"
      ]
     },
     "execution_count": 10,
     "metadata": {},
     "output_type": "execute_result"
    }
   ],
   "source": [
    "obj.index"
   ]
  },
  {
   "cell_type": "markdown",
   "id": "f3ae1e16",
   "metadata": {},
   "source": [
    "# Lets Make another series in pandas"
   ]
  },
  {
   "cell_type": "code",
   "execution_count": 11,
   "id": "4f7424e3",
   "metadata": {},
   "outputs": [],
   "source": [
    "class_data = pd.Series([6562,6578,7889,9098], index = [\"Farhan\", \"Ali\",\"Asad\",\"Talha\"])"
   ]
  },
  {
   "cell_type": "code",
   "execution_count": 12,
   "id": "b93b3361",
   "metadata": {},
   "outputs": [
    {
     "data": {
      "text/plain": [
       "Farhan    6562\n",
       "Ali       6578\n",
       "Asad      7889\n",
       "Talha     9098\n",
       "dtype: int64"
      ]
     },
     "execution_count": 12,
     "metadata": {},
     "output_type": "execute_result"
    }
   ],
   "source": [
    "class_data"
   ]
  },
  {
   "cell_type": "code",
   "execution_count": 13,
   "id": "62040abb",
   "metadata": {},
   "outputs": [
    {
     "data": {
      "text/plain": [
       "array([6562, 6578, 7889, 9098], dtype=int64)"
      ]
     },
     "execution_count": 13,
     "metadata": {},
     "output_type": "execute_result"
    }
   ],
   "source": [
    "class_data.values"
   ]
  },
  {
   "cell_type": "code",
   "execution_count": 14,
   "id": "5a887d81",
   "metadata": {},
   "outputs": [
    {
     "data": {
      "text/plain": [
       "Index(['Farhan', 'Ali', 'Asad', 'Talha'], dtype='object')"
      ]
     },
     "execution_count": 14,
     "metadata": {},
     "output_type": "execute_result"
    }
   ],
   "source": [
    "class_data.index"
   ]
  },
  {
   "cell_type": "markdown",
   "id": "41fe4545",
   "metadata": {},
   "source": [
    "# Activity for practice to make an 7 days canteen data to hold values, how many sandwiches are sold in easch day "
   ]
  },
  {
   "cell_type": "code",
   "execution_count": 16,
   "id": "7cc40780",
   "metadata": {},
   "outputs": [],
   "source": [
    "canteen_data = pd.Series([10,20,30,40,50,70,25], index = [\"Sunday\",\"Monday\",\"Tuesday\",\"Wednesday\",\"Thursday\",\"Friday\",\"Saturday\"])"
   ]
  },
  {
   "cell_type": "code",
   "execution_count": 17,
   "id": "f161b74c",
   "metadata": {},
   "outputs": [
    {
     "data": {
      "text/plain": [
       "Sunday       10\n",
       "Monday       20\n",
       "Tuesday      30\n",
       "Wednesday    40\n",
       "Thursday     50\n",
       "Friday       70\n",
       "Saturday     25\n",
       "dtype: int64"
      ]
     },
     "execution_count": 17,
     "metadata": {},
     "output_type": "execute_result"
    }
   ],
   "source": [
    "canteen_data"
   ]
  },
  {
   "cell_type": "markdown",
   "id": "7779c702",
   "metadata": {},
   "source": [
    "# How to Access Data"
   ]
  },
  {
   "cell_type": "code",
   "execution_count": 18,
   "id": "d769f2a4",
   "metadata": {},
   "outputs": [
    {
     "data": {
      "text/plain": [
       "20"
      ]
     },
     "execution_count": 18,
     "metadata": {},
     "output_type": "execute_result"
    }
   ],
   "source": [
    "canteen_data[1]"
   ]
  },
  {
   "cell_type": "code",
   "execution_count": 19,
   "id": "54c18d27",
   "metadata": {},
   "outputs": [
    {
     "data": {
      "text/plain": [
       "50"
      ]
     },
     "execution_count": 19,
     "metadata": {},
     "output_type": "execute_result"
    }
   ],
   "source": [
    "canteen_data[4]"
   ]
  },
  {
   "cell_type": "code",
   "execution_count": 20,
   "id": "0b0f54d2",
   "metadata": {},
   "outputs": [
    {
     "data": {
      "text/plain": [
       "30"
      ]
     },
     "execution_count": 20,
     "metadata": {},
     "output_type": "execute_result"
    }
   ],
   "source": [
    "canteen_data[\"Tuesday\"]"
   ]
  },
  {
   "cell_type": "code",
   "execution_count": 21,
   "id": "5089e103",
   "metadata": {},
   "outputs": [],
   "source": [
    "# TO get multiple values we can use list "
   ]
  },
  {
   "cell_type": "code",
   "execution_count": 22,
   "id": "42a9f476",
   "metadata": {},
   "outputs": [
    {
     "data": {
      "text/plain": [
       "Wednesday    40\n",
       "Thursday     50\n",
       "Friday       70\n",
       "dtype: int64"
      ]
     },
     "execution_count": 22,
     "metadata": {},
     "output_type": "execute_result"
    }
   ],
   "source": [
    "canteen_data[[3,4,5]]"
   ]
  },
  {
   "cell_type": "code",
   "execution_count": 23,
   "id": "7ffda155",
   "metadata": {},
   "outputs": [
    {
     "data": {
      "text/plain": [
       "Tuesday      30\n",
       "Wednesday    40\n",
       "Thursday     50\n",
       "Friday       70\n",
       "Saturday     25\n",
       "dtype: int64"
      ]
     },
     "execution_count": 23,
     "metadata": {},
     "output_type": "execute_result"
    }
   ],
   "source": [
    "canteen_data[canteen_data>20]"
   ]
  },
  {
   "cell_type": "markdown",
   "id": "9719289a",
   "metadata": {},
   "source": [
    "# Pandas Series From Numpy Array "
   ]
  },
  {
   "cell_type": "code",
   "execution_count": 5,
   "id": "e94d73db",
   "metadata": {},
   "outputs": [],
   "source": [
    "import numpy as np\n",
    "import pandas as pd"
   ]
  },
  {
   "cell_type": "code",
   "execution_count": 6,
   "id": "ec1fe93a",
   "metadata": {},
   "outputs": [],
   "source": [
    "arr = np.array([1,2,3])"
   ]
  },
  {
   "cell_type": "code",
   "execution_count": 7,
   "id": "6ca743e3",
   "metadata": {},
   "outputs": [],
   "source": [
    "ind = np.array(['Jan',\"Feb\",\"March\"])"
   ]
  },
  {
   "cell_type": "code",
   "execution_count": 8,
   "id": "ad30a183",
   "metadata": {},
   "outputs": [],
   "source": [
    "series = pd.Series(arr,index = ind)"
   ]
  },
  {
   "cell_type": "code",
   "execution_count": 9,
   "id": "5cd28def",
   "metadata": {},
   "outputs": [
    {
     "data": {
      "text/plain": [
       "Jan      1\n",
       "Feb      2\n",
       "March    3\n",
       "dtype: int32"
      ]
     },
     "execution_count": 9,
     "metadata": {},
     "output_type": "execute_result"
    }
   ],
   "source": [
    "series"
   ]
  },
  {
   "cell_type": "code",
   "execution_count": null,
   "id": "880a581f",
   "metadata": {},
   "outputs": [],
   "source": []
  }
 ],
 "metadata": {
  "kernelspec": {
   "display_name": "Python 3 (ipykernel)",
   "language": "python",
   "name": "python3"
  },
  "language_info": {
   "codemirror_mode": {
    "name": "ipython",
    "version": 3
   },
   "file_extension": ".py",
   "mimetype": "text/x-python",
   "name": "python",
   "nbconvert_exporter": "python",
   "pygments_lexer": "ipython3",
   "version": "3.9.7"
  }
 },
 "nbformat": 4,
 "nbformat_minor": 5
}
