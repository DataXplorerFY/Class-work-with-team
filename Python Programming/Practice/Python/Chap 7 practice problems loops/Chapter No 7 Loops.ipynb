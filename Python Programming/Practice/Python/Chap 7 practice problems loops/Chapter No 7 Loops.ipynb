{
 "cells": [
  {
   "cell_type": "markdown",
   "id": "75c7ff47",
   "metadata": {},
   "source": [
    "# 7-1. Rental Car: Write a program that asks the user what kind of rental car they would like. Print a message about that car, such as “Let me see if I can find you a Subaru.”"
   ]
  },
  {
   "cell_type": "code",
   "execution_count": 1,
   "id": "58e6362b",
   "metadata": {},
   "outputs": [
    {
     "name": "stdout",
     "output_type": "stream",
     "text": [
      "What kind of a rental car you would like?\n",
      "\n",
      "Civic\n"
     ]
    }
   ],
   "source": [
    "RentalCar = input(\"What kind of a rental car you would like?\\n\\n\")"
   ]
  },
  {
   "cell_type": "markdown",
   "id": "f069e076",
   "metadata": {},
   "source": [
    "# 7-2. Restaurant Seating: Write a program that asks the user how many people are in their dinner group. If the answer is more than eight, print a message saying they’ll have to wait for a table. Otherwise, report that their table is ready."
   ]
  },
  {
   "cell_type": "code",
   "execution_count": 3,
   "id": "9fcd9074",
   "metadata": {},
   "outputs": [
    {
     "name": "stdout",
     "output_type": "stream",
     "text": [
      "How many people are in their dinner group?\n",
      "\n",
      "9\n",
      "You will have to wait for the table.\n"
     ]
    }
   ],
   "source": [
    "Restaurant_Seating = int(input(\"How many people are in their dinner group?\\n\\n\"))\n",
    "\n",
    "if Restaurant_Seating>8:\n",
    "    print(\"You will have to wait for the table.\")\n",
    "else:\n",
    "    print(\"Your table is ready you can use \")"
   ]
  },
  {
   "cell_type": "markdown",
   "id": "b54b2fed",
   "metadata": {},
   "source": [
    "# 7-3. Multiples of Ten: Ask the user for a number, and then report whether the number is a multiple of 10 or not."
   ]
  },
  {
   "cell_type": "code",
   "execution_count": 6,
   "id": "fb80ca37",
   "metadata": {},
   "outputs": [
    {
     "name": "stdout",
     "output_type": "stream",
     "text": [
      "Enter a number!\n",
      "30\n",
      "The Number you have entered is Multiple of 10!\n"
     ]
    }
   ],
   "source": [
    "userNumber = int(input(\"Enter a number!\\n\"))\n",
    "\n",
    "if userNumber%10 == 0:\n",
    "    print(\"The Number you have entered is Multiple of 10!\")\n",
    "else:\n",
    "    print(\"Not Multiple of 10\")"
   ]
  },
  {
   "cell_type": "markdown",
   "id": "d4829da3",
   "metadata": {},
   "source": [
    "# While Loop"
   ]
  },
  {
   "cell_type": "code",
   "execution_count": 3,
   "id": "656b630f",
   "metadata": {},
   "outputs": [],
   "source": [
    "Num = 10\n",
    "while Num<10:\n",
    "    print(\"Farhan\")\n",
    "    Num += 1"
   ]
  },
  {
   "cell_type": "markdown",
   "id": "b962aef8",
   "metadata": {},
   "source": [
    "# 7-4. Pizza Toppings: Write a loop that prompts the user to enter a series of pizza toppings until they enter a 'quit' value. As they enter each topping, print a message saying you’ll add that topping to their pizza."
   ]
  },
  {
   "cell_type": "code",
   "execution_count": 5,
   "id": "f0d86bf5",
   "metadata": {},
   "outputs": [
    {
     "name": "stdout",
     "output_type": "stream",
     "text": [
      "Enter a series of pizza topings!salt\n",
      "You'll add salt topping to their pizza\n",
      "Enter a series of pizza topings!cheese\n",
      "You'll add cheese topping to their pizza\n",
      "Enter a series of pizza topings!mayoneese\n",
      "You'll add mayoneese topping to their pizza\n",
      "Enter a series of pizza topings!Quiet\n"
     ]
    },
    {
     "data": {
      "text/plain": [
       "['salt', 'cheese', 'mayoneese']"
      ]
     },
     "execution_count": 5,
     "metadata": {},
     "output_type": "execute_result"
    }
   ],
   "source": [
    "\n",
    "flag = True\n",
    "PizzaToppings = []\n",
    "\n",
    "while flag:\n",
    "    userInput = input(\"Enter a series of pizza topings!\")\n",
    "    if userInput== \"Quiet\":\n",
    "        flag = False\n",
    "    else:\n",
    "        PizzaToppings.append(userInput)\n",
    "        print(f\"You'll add {userInput} topping to their pizza\")\n",
    "PizzaToppings\n",
    "    "
   ]
  },
  {
   "cell_type": "markdown",
   "id": "a7aa9789",
   "metadata": {},
   "source": [
    "# 7-5. Movie Tickets: A movie theater charges different ticket prices depending on a person’s age. If a person is under the age of 3, the ticket is free; if they are between 3 and 12, the ticket is $10; and if they are over age 12, the ticket is $15. Write a loop in which you ask users their age, and then tell them the cost of their movie ticket."
   ]
  },
  {
   "cell_type": "code",
   "execution_count": 10,
   "id": "6d175354",
   "metadata": {},
   "outputs": [
    {
     "name": "stdout",
     "output_type": "stream",
     "text": [
      "Enter your age (or 'Q' to quit): Q\n",
      "Invalid input. Enter your age as a number (or 'Q' to quit): 2\n",
      "Enter your age (or 'Q' to quit): Q\n",
      "Invalid input. Enter your age as a number (or 'Q' to quit): q\n"
     ]
    }
   ],
   "source": [
    "flag = True\n",
    "\n",
    "while flag:\n",
    "    try:\n",
    "        userAge = int(input(\"Enter your age (or 'Q' to quit): \"))\n",
    "        if userAge < 3:\n",
    "            print(\"Ticket is free\")\n",
    "        elif 3 <= userAge <= 12:\n",
    "            print(\"Ticket is $10\")\n",
    "        elif userAge >= 12:\n",
    "            print(\"Ticket is $15\")\n",
    "    except ValueError:\n",
    "        user_input = input(\"Invalid input. Enter your age as a number (or 'Q' to quit): \")\n",
    "        if user_input.lower() == 'q':\n",
    "            flag = False"
   ]
  },
  {
   "cell_type": "markdown",
   "id": "5a388b24",
   "metadata": {},
   "source": [
    "# 7-6. Three Exits: Write different versions of either Exercise 7-4 or 7-5 that do each of the following at least once:"
   ]
  },
  {
   "cell_type": "markdown",
   "id": "ba6375b1",
   "metadata": {},
   "source": [
    "• Use a conditional test in the while statement to stop the loop.\n",
    "\n",
    "• Use an active variable to control how long the loop runs.\n",
    "\n",
    "• Use a break statement to exit the loop when the user enters a 'quit' value."
   ]
  },
  {
   "cell_type": "code",
   "execution_count": 11,
   "id": "50ce5818",
   "metadata": {},
   "outputs": [
    {
     "name": "stdout",
     "output_type": "stream",
     "text": [
      "Enter your age (or 'quit' to exit): q\n",
      "Please enter a valid age or 'quit' to exit.\n",
      "Enter your age (or 'quit' to exit): quit\n"
     ]
    }
   ],
   "source": [
    "userAge = None\n",
    "\n",
    "while userAge != 'quit':\n",
    "    userAge = input(\"Enter your age (or 'quit' to exit): \")\n",
    "    if userAge == 'quit':\n",
    "        break\n",
    "    try:\n",
    "        userAge = int(userAge)\n",
    "        if userAge < 3:\n",
    "            print(\"Ticket is free\")\n",
    "        elif 3 <= userAge <= 12:\n",
    "            print(\"Ticket is $10\")\n",
    "        elif userAge > 12:\n",
    "            print(\"Ticket is $15\")\n",
    "    except ValueError:\n",
    "        print(\"Please enter a valid age or 'quit' to exit.\")\n"
   ]
  },
  {
   "cell_type": "code",
   "execution_count": 12,
   "id": "3f98e4c0",
   "metadata": {},
   "outputs": [
    {
     "name": "stdout",
     "output_type": "stream",
     "text": [
      "Enter your age (or 'quit' to exit): quit\n"
     ]
    }
   ],
   "source": [
    "flag = True\n",
    "\n",
    "while flag:\n",
    "    userAge = input(\"Enter your age (or 'quit' to exit): \")\n",
    "    if userAge.lower() == 'quit':\n",
    "        break\n",
    "    try:\n",
    "        userAge = int(userAge)\n",
    "        if userAge < 3:\n",
    "            print(\"Ticket is free\")\n",
    "        elif 3 <= userAge <= 12:\n",
    "            print(\"Ticket is $10\")\n",
    "        elif userAge > 12:\n",
    "            print(\"Ticket is $15\")\n",
    "    except ValueError:\n",
    "        print(\"Please enter a valid age or 'quit' to exit.\")\n"
   ]
  },
  {
   "cell_type": "code",
   "execution_count": 13,
   "id": "7cd42e84",
   "metadata": {},
   "outputs": [
    {
     "name": "stdout",
     "output_type": "stream",
     "text": [
      "Enter your age (or 'quit' to exit): quit\n"
     ]
    }
   ],
   "source": [
    "while True:\n",
    "    userAge = input(\"Enter your age (or 'quit' to exit): \")\n",
    "    if userAge.lower() == 'quit':\n",
    "        break\n",
    "    try:\n",
    "        userAge = int(userAge)\n",
    "        if userAge < 3:\n",
    "            print(\"Ticket is free\")\n",
    "        elif 3 <= userAge <= 12:\n",
    "            print(\"Ticket is $10\")\n",
    "        elif userAge > 12:\n",
    "            print(\"Ticket is $15\")\n",
    "    except ValueError:\n",
    "        print(\"Please enter a valid age or 'quit' to exit.\")\n"
   ]
  },
  {
   "cell_type": "markdown",
   "id": "b9f9fc06",
   "metadata": {},
   "source": [
    "# 7-7. Infinity: Write a loop that never ends, and run it. (To end the loop, press CTRL-C or close the window displaying the output.)"
   ]
  },
  {
   "cell_type": "code",
   "execution_count": null,
   "id": "369a6032",
   "metadata": {},
   "outputs": [],
   "source": [
    "# a=5\n",
    "# while a<10:\n",
    "#     print(\"Farhan\")"
   ]
  },
  {
   "cell_type": "markdown",
   "id": "f5aaea9c",
   "metadata": {},
   "source": [
    "# 7-8. Deli: Make a list called sandwich_orders and fill it with the names of various sandwiches. Then make an empty list called finished_sandwiches. Loop through the list of sandwich orders and print a message for each order, such as I made your tuna sandwich. As each sandwich is made, move it to the list of finished sandwiches. After all the sandwiches have been made, print a message listing each sandwich that was made."
   ]
  },
  {
   "cell_type": "code",
   "execution_count": 2,
   "id": "5dad4764",
   "metadata": {},
   "outputs": [
    {
     "name": "stdout",
     "output_type": "stream",
     "text": [
      "I made your BLT sandwich\n",
      "I made your Turkey Club sandwich\n",
      "I made your Grilled Cheese sandwich\n",
      "I made your Philly Cheesesteak sandwich\n",
      "I made your Reuben sandwich\n",
      "I have made the following Sanwiches \n",
      " \n",
      "BLT\n",
      "Turkey Club\n",
      "Grilled Cheese\n",
      "Philly Cheesesteak\n",
      "Reuben\n"
     ]
    }
   ],
   "source": [
    "sandwich_orders = [\"BLT\", \"Turkey Club\", \"Grilled Cheese\", \"Philly Cheesesteak\", \"Reuben\"]\n",
    "\n",
    "finished_sandwiches = []\n",
    "\n",
    "\n",
    "for i in sandwich_orders:\n",
    "    print(f\"I made your {i} sandwich\" )\n",
    "    finished_sandwiches.append(i)\n",
    "print('I have made the following Sanwiches \\n ')\n",
    "for j in finished_sandwiches:\n",
    "    print(j)\n",
    "    \n",
    "\n",
    "\n"
   ]
  },
  {
   "cell_type": "markdown",
   "id": "b18655a8",
   "metadata": {},
   "source": [
    "# 7-9. No Pastrami: Using the list sandwich_orders from Exercise 7-8, make sure the sandwich 'pastrami' appears in the list at least three times. Add code near the beginning of your program to print a message saying the deli has run out of pastrami, and then use a while loop to remove all occurrences of 'pastrami' from sandwich_orders. Make sure no pastrami sandwiches end up in finished_sandwiches."
   ]
  },
  {
   "cell_type": "code",
   "execution_count": 6,
   "id": "51fee205",
   "metadata": {},
   "outputs": [
    {
     "name": "stdout",
     "output_type": "stream",
     "text": [
      "Deli has run out of pastrami\n",
      "\n",
      "I made your pastrami sandwich\n",
      "I made your Turkey Club sandwich\n",
      "I made your Grilled Cheese sandwich\n",
      "I made your pastrami sandwich\n",
      "I made your pastrami sandwich\n",
      "I have made the following Sanwiches \n",
      " \n",
      "pastrami\n",
      "Turkey Club\n",
      "Grilled Cheese\n",
      "pastrami\n",
      "pastrami\n",
      "['pastrami', 'Turkey Club', 'Grilled Cheese', 'pastrami', 'pastrami']\n"
     ]
    }
   ],
   "source": [
    "sandwich_order = [\"pastrami\", \"Turkey Club\", \"Grilled Cheese\", \"pastrami\", \"pastrami\"]\n",
    "finished_sandwiche = []\n",
    "print(\"Deli has run out of pastrami\\n\")\n",
    "\n",
    "for i in sandwich_order:\n",
    "    print(f\"I made your {i} sandwich\" )\n",
    "    finished_sandwiche.append(i)\n",
    "\n",
    "print('I have made the following Sanwiches \\n ')\n",
    "for j in finished_sandwiche:\n",
    "    print(j)\n",
    "\n",
    "flag = True\n",
    "while flag:\n",
    "    \n",
    "    if \"pastrami\" in sandwich_order:\n",
    "        sandwich_order.remove(\"pastrami\")\n",
    "    else:\n",
    "        flag = False\n",
    "        \n",
    "print(finished_sandwiche)\n",
    "     "
   ]
  },
  {
   "cell_type": "markdown",
   "id": "96859bd6",
   "metadata": {},
   "source": [
    "# 7-10. Dream Vacation: Write a program that polls users about their dream vacation. Write a prompt similar to If you could visit one place in the world, where would you go? Include a block of code that prints the results of the poll."
   ]
  },
  {
   "cell_type": "code",
   "execution_count": 10,
   "id": "a7676b4b",
   "metadata": {},
   "outputs": [
    {
     "name": "stdout",
     "output_type": "stream",
     "text": [
      "Enter your Name!Farhan\n",
      "Your Dream Place!Austria\n",
      "Would you like to add other persons? y/ny\n",
      "Enter your Name!Ashir\n",
      "Your Dream Place!Austria\n",
      "Would you like to add other persons? y/nn\n",
      "\n",
      "--- Poll Results ---\n",
      "Farhan would like to go Austria.\n",
      "Ashir would like to go Austria.\n"
     ]
    }
   ],
   "source": [
    "Dream_Vacation = {}\n",
    "\n",
    "\n",
    "flag = True\n",
    "while flag:\n",
    "    userName = input(\"Enter your Name!\")\n",
    "    DreamPlace = input(\"Your Dream Place!\")\n",
    "    Dream_Vacation[userName] = DreamPlace\n",
    "    repeat = input(\"Would you like to add other persons? y/n\")\n",
    "    if repeat == \"n\":\n",
    "        flag = False\n",
    "    \n",
    "print(\"\\n--- Poll Results ---\")\n",
    "for userName, DreamPlace in Dream_Vacation.items():\n",
    "    print(f\"{userName} would like to go {DreamPlace}.\")    \n",
    "\n",
    "\n",
    "\n",
    "\n",
    "\n",
    "\n"
   ]
  },
  {
   "cell_type": "code",
   "execution_count": null,
   "id": "f78314ef",
   "metadata": {},
   "outputs": [],
   "source": []
  }
 ],
 "metadata": {
  "kernelspec": {
   "display_name": "Python 3 (ipykernel)",
   "language": "python",
   "name": "python3"
  },
  "language_info": {
   "codemirror_mode": {
    "name": "ipython",
    "version": 3
   },
   "file_extension": ".py",
   "mimetype": "text/x-python",
   "name": "python",
   "nbconvert_exporter": "python",
   "pygments_lexer": "ipython3",
   "version": "3.9.7"
  }
 },
 "nbformat": 4,
 "nbformat_minor": 5
}
