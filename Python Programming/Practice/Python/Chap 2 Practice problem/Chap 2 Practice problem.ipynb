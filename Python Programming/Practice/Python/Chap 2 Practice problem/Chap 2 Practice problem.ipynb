{
 "cells": [
  {
   "cell_type": "markdown",
   "id": "929cfb30",
   "metadata": {},
   "source": [
    "# 2-1. Simple Message: Store a message in a variable, and then print that message\n"
   ]
  },
  {
   "cell_type": "code",
   "execution_count": 1,
   "id": "9a749460",
   "metadata": {},
   "outputs": [],
   "source": [
    "acceptance = \"Congratulations! your are selected for the PHD program at ISTA\""
   ]
  },
  {
   "cell_type": "code",
   "execution_count": 2,
   "id": "3546d4ff",
   "metadata": {},
   "outputs": [
    {
     "name": "stdout",
     "output_type": "stream",
     "text": [
      "Congratulations! your are selected for the PHD program at ISTA\n"
     ]
    }
   ],
   "source": [
    "print(acceptance)"
   ]
  },
  {
   "cell_type": "markdown",
   "id": "2eed2472",
   "metadata": {},
   "source": [
    "# 2-2. Simple Messages: Store a message in a variable, and print that message. Then change the value of your variable to a new message, and print the new message\n",
    "\n"
   ]
  },
  {
   "cell_type": "code",
   "execution_count": 3,
   "id": "fb553f48",
   "metadata": {},
   "outputs": [],
   "source": [
    "message = \"Not all those who wander are lost\""
   ]
  },
  {
   "cell_type": "code",
   "execution_count": 4,
   "id": "81f61d65",
   "metadata": {},
   "outputs": [
    {
     "data": {
      "text/plain": [
       "'Not all those who wander are lost'"
      ]
     },
     "execution_count": 4,
     "metadata": {},
     "output_type": "execute_result"
    }
   ],
   "source": [
    "message"
   ]
  },
  {
   "cell_type": "code",
   "execution_count": 5,
   "id": "137f4545",
   "metadata": {},
   "outputs": [],
   "source": [
    "message = \"Hi I am Farhan, whats your name?\""
   ]
  },
  {
   "cell_type": "code",
   "execution_count": 6,
   "id": "34aa87d1",
   "metadata": {},
   "outputs": [
    {
     "data": {
      "text/plain": [
       "'Hi I am Farhan, whats your name?'"
      ]
     },
     "execution_count": 6,
     "metadata": {},
     "output_type": "execute_result"
    }
   ],
   "source": [
    "message "
   ]
  },
  {
   "cell_type": "markdown",
   "id": "d423dcd2",
   "metadata": {},
   "source": [
    "# 2-3. Personal Message: Store a person’s name in a variable, and print a message to that person. Your message should be simple, such as, “Hello Eric, would you like to learn some Python today?”\n"
   ]
  },
  {
   "cell_type": "code",
   "execution_count": 10,
   "id": "b1d8d68d",
   "metadata": {},
   "outputs": [],
   "source": [
    "person_name = \"Farhan\""
   ]
  },
  {
   "cell_type": "code",
   "execution_count": 11,
   "id": "0d668700",
   "metadata": {},
   "outputs": [],
   "source": [
    "Personal_message = \"How are you?\""
   ]
  },
  {
   "cell_type": "code",
   "execution_count": 13,
   "id": "f6ebfb7c",
   "metadata": {},
   "outputs": [
    {
     "name": "stdout",
     "output_type": "stream",
     "text": [
      "Hi , Farhan How are you?\n"
     ]
    }
   ],
   "source": [
    "print(\"Hi\",\",\",person_name, Personal_message)"
   ]
  },
  {
   "cell_type": "markdown",
   "id": "7d861145",
   "metadata": {},
   "source": [
    "# 2-4. Name Cases: Store a person’s name in a variable, and then print that person’s name in lowercase, uppercase, and titlecase"
   ]
  },
  {
   "cell_type": "code",
   "execution_count": 14,
   "id": "2a9e1f7f",
   "metadata": {},
   "outputs": [],
   "source": [
    "person1 = \"Ali\""
   ]
  },
  {
   "cell_type": "code",
   "execution_count": 15,
   "id": "cfb7cf53",
   "metadata": {},
   "outputs": [
    {
     "name": "stdout",
     "output_type": "stream",
     "text": [
      "ALI\n"
     ]
    }
   ],
   "source": [
    "print(person1.upper())"
   ]
  },
  {
   "cell_type": "code",
   "execution_count": 16,
   "id": "831015af",
   "metadata": {},
   "outputs": [
    {
     "name": "stdout",
     "output_type": "stream",
     "text": [
      "ali\n"
     ]
    }
   ],
   "source": [
    "print(person1.lower())"
   ]
  },
  {
   "cell_type": "code",
   "execution_count": 17,
   "id": "196f85a7",
   "metadata": {},
   "outputs": [
    {
     "name": "stdout",
     "output_type": "stream",
     "text": [
      "Ali\n"
     ]
    }
   ],
   "source": [
    "print(person1.capitalize())"
   ]
  },
  {
   "cell_type": "code",
   "execution_count": 18,
   "id": "3033811d",
   "metadata": {},
   "outputs": [
    {
     "name": "stdout",
     "output_type": "stream",
     "text": [
      "Ali\n"
     ]
    }
   ],
   "source": [
    "print(person1.title())"
   ]
  },
  {
   "cell_type": "markdown",
   "id": "d47c65d1",
   "metadata": {},
   "source": [
    "# 2-5. Famous Quote: Find a quote from a famous person you admire. Print the quote and the name of its author. Your output should look something like the following, including the quotation marks: Albert Einstein once said, “A person who never made a mistake never tried anything new.”"
   ]
  },
  {
   "cell_type": "code",
   "execution_count": 19,
   "id": "589062a3",
   "metadata": {},
   "outputs": [],
   "source": [
    "writer = \"Molana rumi\""
   ]
  },
  {
   "cell_type": "code",
   "execution_count": 20,
   "id": "7988e6e7",
   "metadata": {},
   "outputs": [],
   "source": [
    "quote = \"whether one moves slowly or with a speed. One who is a seeker will be a finder\""
   ]
  },
  {
   "cell_type": "code",
   "execution_count": 21,
   "id": "d3d0f4c4",
   "metadata": {},
   "outputs": [
    {
     "name": "stdout",
     "output_type": "stream",
     "text": [
      "Molana rumi  once said whether one moves slowly or with a speed. One who is a seeker will be a finder\n"
     ]
    }
   ],
   "source": [
    "print(writer, \" once said\", quote)"
   ]
  },
  {
   "cell_type": "markdown",
   "id": "1d6f98f8",
   "metadata": {},
   "source": [
    "# 2-6. Famous Quote 2: Repeat Exercise 2-5, but this time store the famous person’s name in a variable called famous_person. Then compose your message and store it in a new variable called message. Print your message."
   ]
  },
  {
   "cell_type": "code",
   "execution_count": 22,
   "id": "58b5d6d0",
   "metadata": {},
   "outputs": [],
   "source": [
    "writer_02 = \"Farhan\""
   ]
  },
  {
   "cell_type": "code",
   "execution_count": 25,
   "id": "4be33aa9",
   "metadata": {},
   "outputs": [],
   "source": [
    "qoute_02 = \"live in yourself!\""
   ]
  },
  {
   "cell_type": "code",
   "execution_count": 26,
   "id": "9b31951d",
   "metadata": {},
   "outputs": [
    {
     "name": "stdout",
     "output_type": "stream",
     "text": [
      "Farhan once said live in yourself!\n"
     ]
    }
   ],
   "source": [
    "print(writer_02, \"once said\", qoute_02)"
   ]
  },
  {
   "cell_type": "markdown",
   "id": "617a2521",
   "metadata": {},
   "source": [
    "# 2-7. Stripping Names: Store a person’s name, and include some whitespace characters at the beginning and end of the name. Make sure you use each character combination, \"\\t\" and \"\\n\", at least once. Print the name once, so the whitespace around the name is displayed. Then print the name using each of the three stripping functions, lstrip(), rstrip(), and strip()."
   ]
  },
  {
   "cell_type": "code",
   "execution_count": 46,
   "id": "e659439c",
   "metadata": {},
   "outputs": [],
   "source": [
    "Name = \"\\t Abdul \\n rehman  .\" "
   ]
  },
  {
   "cell_type": "code",
   "execution_count": 47,
   "id": "54dcbabf",
   "metadata": {},
   "outputs": [
    {
     "name": "stdout",
     "output_type": "stream",
     "text": [
      "\t Abdul \n",
      " rehman  .\n"
     ]
    }
   ],
   "source": [
    "print(Name)"
   ]
  },
  {
   "cell_type": "code",
   "execution_count": 48,
   "id": "1aa5bfb9",
   "metadata": {},
   "outputs": [
    {
     "name": "stdout",
     "output_type": "stream",
     "text": [
      "Abdul \n",
      " rehman  .\n"
     ]
    }
   ],
   "source": [
    "print(Name.lstrip())"
   ]
  },
  {
   "cell_type": "code",
   "execution_count": 49,
   "id": "e453da3a",
   "metadata": {},
   "outputs": [
    {
     "name": "stdout",
     "output_type": "stream",
     "text": [
      "\t Abdul \n",
      " rehman  .\n"
     ]
    }
   ],
   "source": [
    "print(Name.rstrip())"
   ]
  },
  {
   "cell_type": "code",
   "execution_count": 50,
   "id": "24fb5317",
   "metadata": {},
   "outputs": [
    {
     "name": "stdout",
     "output_type": "stream",
     "text": [
      "Abdul \n",
      " rehman  .\n"
     ]
    }
   ],
   "source": [
    "print(Name.strip())"
   ]
  },
  {
   "cell_type": "markdown",
   "id": "1e9300d2",
   "metadata": {},
   "source": [
    "# 2-8. Number Eight: Write addition, subtraction, multiplication, and division operations that each result in the number 8. Be sure to enclose your operations in print statements to see the results. You should create four lines that look like this: print(5 + 3)"
   ]
  },
  {
   "cell_type": "code",
   "execution_count": 51,
   "id": "8e01a188",
   "metadata": {},
   "outputs": [
    {
     "name": "stdout",
     "output_type": "stream",
     "text": [
      "8\n"
     ]
    }
   ],
   "source": [
    "print(5+3)"
   ]
  },
  {
   "cell_type": "code",
   "execution_count": 52,
   "id": "048cbec2",
   "metadata": {},
   "outputs": [
    {
     "name": "stdout",
     "output_type": "stream",
     "text": [
      "8\n"
     ]
    }
   ],
   "source": [
    "print(10-2)"
   ]
  },
  {
   "cell_type": "code",
   "execution_count": 53,
   "id": "c0bb454d",
   "metadata": {},
   "outputs": [
    {
     "name": "stdout",
     "output_type": "stream",
     "text": [
      "8\n"
     ]
    }
   ],
   "source": [
    "print(4*2)"
   ]
  },
  {
   "cell_type": "code",
   "execution_count": 55,
   "id": "acd7cf4d",
   "metadata": {},
   "outputs": [
    {
     "name": "stdout",
     "output_type": "stream",
     "text": [
      "8\n"
     ]
    }
   ],
   "source": [
    "print(16//2)"
   ]
  },
  {
   "cell_type": "markdown",
   "id": "c08292fb",
   "metadata": {},
   "source": [
    "# 2-9. Favorite Number: Store your favorite number in a variable. Then, using that variable, create a message that reveals your favorite number. Print that message. "
   ]
  },
  {
   "cell_type": "code",
   "execution_count": 1,
   "id": "44632865",
   "metadata": {},
   "outputs": [],
   "source": [
    "favorite_Num = 7"
   ]
  },
  {
   "cell_type": "code",
   "execution_count": 2,
   "id": "e8e73d15",
   "metadata": {},
   "outputs": [],
   "source": [
    "Message = \"My favorite number is\""
   ]
  },
  {
   "cell_type": "code",
   "execution_count": 3,
   "id": "aebc7175",
   "metadata": {},
   "outputs": [
    {
     "name": "stdout",
     "output_type": "stream",
     "text": [
      "My favorite number is 7\n"
     ]
    }
   ],
   "source": [
    "print(Message, favorite_Num)"
   ]
  },
  {
   "cell_type": "markdown",
   "id": "11987c05",
   "metadata": {},
   "source": [
    "# 2-10. Adding Comments: Choose two of the programs you’ve written, and add at least one comment to each. If you don’t have anything specific to write because your programs are too simple at this point, just add your name and the current date at the top of each program file. Then write one sentence describing what the program does."
   ]
  },
  {
   "cell_type": "code",
   "execution_count": 4,
   "id": "f486f3bc",
   "metadata": {},
   "outputs": [],
   "source": [
    "X =  10 # x is the variable that stor the valu 10"
   ]
  },
  {
   "cell_type": "code",
   "execution_count": 5,
   "id": "08717dfd",
   "metadata": {},
   "outputs": [
    {
     "name": "stdout",
     "output_type": "stream",
     "text": [
      "10\n"
     ]
    }
   ],
   "source": [
    "print(X)"
   ]
  },
  {
   "cell_type": "code",
   "execution_count": 6,
   "id": "79029cab",
   "metadata": {},
   "outputs": [
    {
     "name": "stdout",
     "output_type": "stream",
     "text": [
      "The Zen of Python, by Tim Peters\n",
      "\n",
      "Beautiful is better than ugly.\n",
      "Explicit is better than implicit.\n",
      "Simple is better than complex.\n",
      "Complex is better than complicated.\n",
      "Flat is better than nested.\n",
      "Sparse is better than dense.\n",
      "Readability counts.\n",
      "Special cases aren't special enough to break the rules.\n",
      "Although practicality beats purity.\n",
      "Errors should never pass silently.\n",
      "Unless explicitly silenced.\n",
      "In the face of ambiguity, refuse the temptation to guess.\n",
      "There should be one-- and preferably only one --obvious way to do it.\n",
      "Although that way may not be obvious at first unless you're Dutch.\n",
      "Now is better than never.\n",
      "Although never is often better than *right* now.\n",
      "If the implementation is hard to explain, it's a bad idea.\n",
      "If the implementation is easy to explain, it may be a good idea.\n",
      "Namespaces are one honking great idea -- let's do more of those!\n"
     ]
    }
   ],
   "source": [
    "import this"
   ]
  },
  {
   "cell_type": "code",
   "execution_count": null,
   "id": "6b592c0a",
   "metadata": {},
   "outputs": [],
   "source": []
  }
 ],
 "metadata": {
  "kernelspec": {
   "display_name": "Python 3 (ipykernel)",
   "language": "python",
   "name": "python3"
  },
  "language_info": {
   "codemirror_mode": {
    "name": "ipython",
    "version": 3
   },
   "file_extension": ".py",
   "mimetype": "text/x-python",
   "name": "python",
   "nbconvert_exporter": "python",
   "pygments_lexer": "ipython3",
   "version": "3.9.7"
  }
 },
 "nbformat": 4,
 "nbformat_minor": 5
}
