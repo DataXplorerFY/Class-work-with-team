{
 "cells": [
  {
   "cell_type": "markdown",
   "id": "a575b05d",
   "metadata": {},
   "source": [
    "# Numpy Basics: Arrays & Vectorized Computation"
   ]
  },
  {
   "cell_type": "markdown",
   "id": "d8dd9c31",
   "metadata": {},
   "source": [
    "Numpy Introduction:\n",
    "\n",
    "1. Numpy stands for Numerical Python_ It is a powerful python library used for numerical computation\n",
    "\n",
    "2. NumPy arrays are mutable, meaning you can change their values after creation.\n",
    "\n",
    "3. Arrays object in Numpy called \"ndarray\", ndarray >> N-Dimensioanl Array\n",
    "\n",
    "4. It stores data in contegeous block of memory"
   ]
  },
  {
   "cell_type": "code",
   "execution_count": 2,
   "id": "5bf378eb",
   "metadata": {},
   "outputs": [],
   "source": [
    "import numpy as np"
   ]
  },
  {
   "cell_type": "code",
   "execution_count": 6,
   "id": "8e0936d4",
   "metadata": {},
   "outputs": [
    {
     "name": "stdout",
     "output_type": "stream",
     "text": [
      "1.26.4\n"
     ]
    }
   ],
   "source": [
    "print(np.__version__)"
   ]
  },
  {
   "cell_type": "code",
   "execution_count": 8,
   "id": "c4460d88",
   "metadata": {},
   "outputs": [
    {
     "name": "stdout",
     "output_type": "stream",
     "text": [
      "[1 2 3 4 5]\n"
     ]
    }
   ],
   "source": [
    "array_01 = np.array([1,2,3,4,5])\n",
    "\n",
    "print(array_01)"
   ]
  },
  {
   "cell_type": "markdown",
   "id": "bb5eb5e2",
   "metadata": {},
   "source": [
    "# Multidimensional Array_Objects"
   ]
  },
  {
   "cell_type": "code",
   "execution_count": 13,
   "id": "d78fcd48",
   "metadata": {},
   "outputs": [
    {
     "data": {
      "text/plain": [
       "array([[0., 0., 0., 0.],\n",
       "       [0., 0., 0., 0.],\n",
       "       [0., 0., 0., 0.],\n",
       "       [0., 0., 0., 0.]])"
      ]
     },
     "execution_count": 13,
     "metadata": {},
     "output_type": "execute_result"
    }
   ],
   "source": [
    "zero = np.zeros((4,4))\n",
    "zero"
   ]
  },
  {
   "cell_type": "code",
   "execution_count": 14,
   "id": "0b9d6c88",
   "metadata": {},
   "outputs": [
    {
     "data": {
      "text/plain": [
       "array([[1., 1., 1., 1., 1.],\n",
       "       [1., 1., 1., 1., 1.],\n",
       "       [1., 1., 1., 1., 1.],\n",
       "       [1., 1., 1., 1., 1.],\n",
       "       [1., 1., 1., 1., 1.]])"
      ]
     },
     "execution_count": 14,
     "metadata": {},
     "output_type": "execute_result"
    }
   ],
   "source": [
    "one = np.ones((5,5))\n",
    "one"
   ]
  },
  {
   "cell_type": "code",
   "execution_count": 15,
   "id": "cc545117",
   "metadata": {},
   "outputs": [
    {
     "name": "stdout",
     "output_type": "stream",
     "text": [
      "<class 'numpy.ndarray'>\n"
     ]
    }
   ],
   "source": [
    "print(type(one))"
   ]
  },
  {
   "cell_type": "code",
   "execution_count": 20,
   "id": "2d812742",
   "metadata": {},
   "outputs": [
    {
     "name": "stdout",
     "output_type": "stream",
     "text": [
      "float64\n"
     ]
    }
   ],
   "source": [
    "print(one.dtype)"
   ]
  },
  {
   "cell_type": "code",
   "execution_count": 23,
   "id": "a8a940a9",
   "metadata": {},
   "outputs": [
    {
     "data": {
      "text/plain": [
       "array([[0., 0., 0.],\n",
       "       [0., 0., 0.]])"
      ]
     },
     "execution_count": 23,
     "metadata": {},
     "output_type": "execute_result"
    }
   ],
   "source": [
    "empty = np.empty((2,3))\n",
    "empty"
   ]
  },
  {
   "cell_type": "markdown",
   "id": "076ab063",
   "metadata": {},
   "source": [
    "# Python List Convert Into Numpy Array"
   ]
  },
  {
   "cell_type": "code",
   "execution_count": 24,
   "id": "252c2afd",
   "metadata": {},
   "outputs": [],
   "source": [
    "python_list = [1,2,3,4,5,6]"
   ]
  },
  {
   "cell_type": "code",
   "execution_count": 26,
   "id": "7abe5ae5",
   "metadata": {},
   "outputs": [
    {
     "data": {
      "text/plain": [
       "list"
      ]
     },
     "execution_count": 26,
     "metadata": {},
     "output_type": "execute_result"
    }
   ],
   "source": [
    "type(python_list)"
   ]
  },
  {
   "cell_type": "code",
   "execution_count": 27,
   "id": "e0120b57",
   "metadata": {},
   "outputs": [
    {
     "name": "stdout",
     "output_type": "stream",
     "text": [
      "<class 'numpy.ndarray'>\n"
     ]
    }
   ],
   "source": [
    "numpy_array = np.array(python_list)\n",
    "\n",
    "print(type(numpy_array))"
   ]
  },
  {
   "cell_type": "code",
   "execution_count": 30,
   "id": "6a17e2f0",
   "metadata": {},
   "outputs": [
    {
     "data": {
      "text/plain": [
       "array([1, 2, 3, 4, 5, 6])"
      ]
     },
     "execution_count": 30,
     "metadata": {},
     "output_type": "execute_result"
    }
   ],
   "source": [
    "np.array(python_list)"
   ]
  },
  {
   "cell_type": "markdown",
   "id": "d0237cfa",
   "metadata": {},
   "source": [
    "# Arange Function Used to Create an Array just like Range function in python | It will create only 1-D Array "
   ]
  },
  {
   "cell_type": "code",
   "execution_count": 36,
   "id": "f2d43f47",
   "metadata": {},
   "outputs": [
    {
     "data": {
      "text/plain": [
       "array([ 1, 11, 21, 31, 41, 51, 61, 71, 81, 91])"
      ]
     },
     "execution_count": 36,
     "metadata": {},
     "output_type": "execute_result"
    }
   ],
   "source": [
    "array_02 = np.arange(1,100,10) #it creates an array from 1 to 100 with step size of 10\n",
    "\n",
    "array_02"
   ]
  },
  {
   "cell_type": "markdown",
   "id": "bfe1e583",
   "metadata": {},
   "source": [
    "# (.shape) Function is used to check the shape of an array e.g. 1-d, 2-d, 3-d, etc"
   ]
  },
  {
   "cell_type": "code",
   "execution_count": 38,
   "id": "4f912b79",
   "metadata": {},
   "outputs": [
    {
     "data": {
      "text/plain": [
       "(10,)"
      ]
     },
     "execution_count": 38,
     "metadata": {},
     "output_type": "execute_result"
    }
   ],
   "source": [
    "array_02.shape"
   ]
  },
  {
   "cell_type": "code",
   "execution_count": 39,
   "id": "63cfe80f",
   "metadata": {},
   "outputs": [
    {
     "data": {
      "text/plain": [
       "10"
      ]
     },
     "execution_count": 39,
     "metadata": {},
     "output_type": "execute_result"
    }
   ],
   "source": [
    "len(array_02)"
   ]
  },
  {
   "cell_type": "code",
   "execution_count": 40,
   "id": "08f817b8",
   "metadata": {},
   "outputs": [
    {
     "data": {
      "text/plain": [
       "10"
      ]
     },
     "execution_count": 40,
     "metadata": {},
     "output_type": "execute_result"
    }
   ],
   "source": [
    "array_02.size"
   ]
  },
  {
   "cell_type": "markdown",
   "id": "f5c9749b",
   "metadata": {},
   "source": [
    "# (.reshape) Function is used to reshape the array into rows and columns"
   ]
  },
  {
   "cell_type": "code",
   "execution_count": 41,
   "id": "171bd38a",
   "metadata": {},
   "outputs": [
    {
     "data": {
      "text/plain": [
       "array([[ 0,  1,  2,  3,  4],\n",
       "       [ 5,  6,  7,  8,  9],\n",
       "       [10, 11, 12, 13, 14],\n",
       "       [15, 16, 17, 18, 19]])"
      ]
     },
     "execution_count": 41,
     "metadata": {},
     "output_type": "execute_result"
    }
   ],
   "source": [
    "arr = np.arange(20).reshape(4,5) \n",
    "arr"
   ]
  },
  {
   "cell_type": "markdown",
   "id": "8c32d15f",
   "metadata": {},
   "source": [
    "# How to create 2-D Array?"
   ]
  },
  {
   "cell_type": "markdown",
   "id": "a057c9d7",
   "metadata": {},
   "source": [
    "1. We can create 2-D array bu using arange function it will creat 1-D array then we will use reshaps function that will convert 1-D to 2-D\n",
    "\n",
    "2. We can create 2-D array by using method that is >> np.array([[1,2,3,4,5],[6,7,8,9,10]])"
   ]
  },
  {
   "cell_type": "code",
   "execution_count": 42,
   "id": "d676e453",
   "metadata": {},
   "outputs": [
    {
     "data": {
      "text/plain": [
       "array([[1, 2, 3, 4],\n",
       "       [5, 6, 7, 8]])"
      ]
     },
     "execution_count": 42,
     "metadata": {},
     "output_type": "execute_result"
    }
   ],
   "source": [
    "_2D_Array = np.array([[1,2,3,4],[5,6,7,8]])\n",
    "\n",
    "_2D_Array"
   ]
  },
  {
   "cell_type": "markdown",
   "id": "1061cfbd",
   "metadata": {},
   "source": [
    "# From 1-d to 2-d array"
   ]
  },
  {
   "cell_type": "code",
   "execution_count": 43,
   "id": "9786b59e",
   "metadata": {},
   "outputs": [],
   "source": [
    "_1D_Array = np.arange(10)"
   ]
  },
  {
   "cell_type": "code",
   "execution_count": 44,
   "id": "d6f4515f",
   "metadata": {},
   "outputs": [
    {
     "data": {
      "text/plain": [
       "array([[0, 1],\n",
       "       [2, 3],\n",
       "       [4, 5],\n",
       "       [6, 7],\n",
       "       [8, 9]])"
      ]
     },
     "execution_count": 44,
     "metadata": {},
     "output_type": "execute_result"
    }
   ],
   "source": [
    "_1D_Array.reshape(5,2)"
   ]
  },
  {
   "cell_type": "markdown",
   "id": "a22893dd",
   "metadata": {},
   "source": [
    "# For checking the Data Types and Dimensions of Arrays "
   ]
  },
  {
   "cell_type": "markdown",
   "id": "04f6fdb9",
   "metadata": {},
   "source": [
    "1.   (.dtype) For checking the Data Type\n",
    "\n",
    "2.   (.ndim) For checking the Dimensions of Array"
   ]
  },
  {
   "cell_type": "code",
   "execution_count": 45,
   "id": "bcfb63ea",
   "metadata": {},
   "outputs": [
    {
     "data": {
      "text/plain": [
       "dtype('int32')"
      ]
     },
     "execution_count": 45,
     "metadata": {},
     "output_type": "execute_result"
    }
   ],
   "source": [
    "_1D_Array.dtype"
   ]
  },
  {
   "cell_type": "code",
   "execution_count": 46,
   "id": "b6d24812",
   "metadata": {},
   "outputs": [
    {
     "data": {
      "text/plain": [
       "1"
      ]
     },
     "execution_count": 46,
     "metadata": {},
     "output_type": "execute_result"
    }
   ],
   "source": [
    "_1D_Array.ndim"
   ]
  },
  {
   "cell_type": "markdown",
   "id": "37a7c0d0",
   "metadata": {},
   "source": [
    "# 0-D Array"
   ]
  },
  {
   "cell_type": "code",
   "execution_count": 48,
   "id": "ad215e90",
   "metadata": {},
   "outputs": [
    {
     "data": {
      "text/plain": [
       "array(45)"
      ]
     },
     "execution_count": 48,
     "metadata": {},
     "output_type": "execute_result"
    }
   ],
   "source": [
    "np.array(45)"
   ]
  },
  {
   "cell_type": "markdown",
   "id": "c5fa5c5a",
   "metadata": {},
   "source": [
    "# 1-D Array"
   ]
  },
  {
   "cell_type": "code",
   "execution_count": 49,
   "id": "2297de20",
   "metadata": {},
   "outputs": [
    {
     "data": {
      "text/plain": [
       "array([0, 1, 2, 3, 4, 5, 6, 7, 8, 9])"
      ]
     },
     "execution_count": 49,
     "metadata": {},
     "output_type": "execute_result"
    }
   ],
   "source": [
    "np.arange(10)"
   ]
  },
  {
   "cell_type": "markdown",
   "id": "c1fb8674",
   "metadata": {},
   "source": [
    "# 2-D Array"
   ]
  },
  {
   "cell_type": "code",
   "execution_count": 51,
   "id": "2a6f7510",
   "metadata": {},
   "outputs": [
    {
     "data": {
      "text/plain": [
       "array([[ 0,  1,  2,  3],\n",
       "       [ 4,  5,  6,  7],\n",
       "       [ 8,  9, 10, 11],\n",
       "       [12, 13, 14, 15],\n",
       "       [16, 17, 18, 19]])"
      ]
     },
     "execution_count": 51,
     "metadata": {},
     "output_type": "execute_result"
    }
   ],
   "source": [
    "np.arange(20).reshape(5,4)"
   ]
  },
  {
   "cell_type": "markdown",
   "id": "30607fb1",
   "metadata": {},
   "source": [
    "# 3-D Array"
   ]
  },
  {
   "cell_type": "code",
   "execution_count": 52,
   "id": "d4ac2014",
   "metadata": {},
   "outputs": [
    {
     "data": {
      "text/plain": [
       "array([[[1, 2, 3],\n",
       "        [4, 5, 6],\n",
       "        [7, 8, 9]]])"
      ]
     },
     "execution_count": 52,
     "metadata": {},
     "output_type": "execute_result"
    }
   ],
   "source": [
    "np.array([[[1,2,3],[4,5,6],[7,8,9]]])"
   ]
  },
  {
   "cell_type": "markdown",
   "id": "92f5993b",
   "metadata": {},
   "source": [
    "# We Have Learned 1-D array to 2-D array, Know we will learn how to convert 2-D array to 1-D array"
   ]
  },
  {
   "cell_type": "markdown",
   "id": "612f146d",
   "metadata": {},
   "source": [
    "we have 3 functions that we can used to convert the 2-D array to 1-D array \n",
    "\n",
    "1. ( .reshape() )\n",
    "\n",
    "2. ( .flatten() )\n",
    "\n",
    "3. ( .ravel() )"
   ]
  },
  {
   "cell_type": "code",
   "execution_count": 54,
   "id": "903e39b2",
   "metadata": {},
   "outputs": [
    {
     "data": {
      "text/plain": [
       "array([[1, 2, 3],\n",
       "       [4, 5, 6]])"
      ]
     },
     "execution_count": 54,
     "metadata": {},
     "output_type": "execute_result"
    }
   ],
   "source": [
    "# First we create the 2-Dimensioanl Array\n",
    "\n",
    "array2d =np.array([[1,2,3],[4,5,6]])\n",
    "array2d"
   ]
  },
  {
   "cell_type": "markdown",
   "id": "97e782e7",
   "metadata": {},
   "source": [
    "# By using .reshape() function"
   ]
  },
  {
   "cell_type": "code",
   "execution_count": 65,
   "id": "7ec0ea56",
   "metadata": {},
   "outputs": [
    {
     "data": {
      "text/plain": [
       "array([1, 2, 3, 4, 5, 6])"
      ]
     },
     "execution_count": 65,
     "metadata": {},
     "output_type": "execute_result"
    }
   ],
   "source": [
    "array2d.reshape(-1)\n",
    "\n",
    "# The -1 argument in the reshape() function indicates that NumPy should automatically calculate the size \n",
    "# of the remaining dimension based on the total number of elements in the array, ensuring that the resulting array is 1D."
   ]
  },
  {
   "cell_type": "markdown",
   "id": "a9bb621a",
   "metadata": {},
   "source": [
    "#  By using .flatten() function"
   ]
  },
  {
   "cell_type": "code",
   "execution_count": 66,
   "id": "8a444b04",
   "metadata": {},
   "outputs": [],
   "source": [
    "a = np.array([[11,12,13],[14,15,16]])"
   ]
  },
  {
   "cell_type": "code",
   "execution_count": 67,
   "id": "4e4b433b",
   "metadata": {},
   "outputs": [
    {
     "data": {
      "text/plain": [
       "array([[11, 12, 13],\n",
       "       [14, 15, 16]])"
      ]
     },
     "execution_count": 67,
     "metadata": {},
     "output_type": "execute_result"
    }
   ],
   "source": [
    "a"
   ]
  },
  {
   "cell_type": "code",
   "execution_count": 70,
   "id": "51582d00",
   "metadata": {},
   "outputs": [
    {
     "data": {
      "text/plain": [
       "array([11, 12, 13, 14, 15, 16])"
      ]
     },
     "execution_count": 70,
     "metadata": {},
     "output_type": "execute_result"
    }
   ],
   "source": [
    "a.flatten()  #It will return the coppy of array by converting it into 1-d array"
   ]
  },
  {
   "cell_type": "code",
   "execution_count": 71,
   "id": "cd5de2be",
   "metadata": {},
   "outputs": [
    {
     "data": {
      "text/plain": [
       "array([[11, 12, 13],\n",
       "       [14, 15, 16]])"
      ]
     },
     "execution_count": 71,
     "metadata": {},
     "output_type": "execute_result"
    }
   ],
   "source": [
    "a"
   ]
  },
  {
   "cell_type": "markdown",
   "id": "58015175",
   "metadata": {},
   "source": [
    "# By Using the .ravel() function"
   ]
  },
  {
   "cell_type": "code",
   "execution_count": 72,
   "id": "f288acda",
   "metadata": {},
   "outputs": [],
   "source": [
    "b = np.array([[111,112,113],[114,115,116]])"
   ]
  },
  {
   "cell_type": "code",
   "execution_count": 73,
   "id": "689e916c",
   "metadata": {},
   "outputs": [
    {
     "data": {
      "text/plain": [
       "array([[111, 112, 113],\n",
       "       [114, 115, 116]])"
      ]
     },
     "execution_count": 73,
     "metadata": {},
     "output_type": "execute_result"
    }
   ],
   "source": [
    "b"
   ]
  },
  {
   "cell_type": "code",
   "execution_count": 75,
   "id": "de036d61",
   "metadata": {},
   "outputs": [
    {
     "data": {
      "text/plain": [
       "array([111, 112, 113, 114, 115, 116])"
      ]
     },
     "execution_count": 75,
     "metadata": {},
     "output_type": "execute_result"
    }
   ],
   "source": [
    "b.ravel()"
   ]
  },
  {
   "cell_type": "markdown",
   "id": "a9304266",
   "metadata": {},
   "source": [
    "# Arithmatic operations with NDARRAY"
   ]
  },
  {
   "cell_type": "markdown",
   "id": "c80f808f",
   "metadata": {},
   "source": [
    "1. np.random.randn(): This function is part of the NumPy library's random module, which provides various methods for generating random numbers.\n",
    "2. (10): This argument specifies the shape of the output array. In this case, it's a tuple with only one element, 10, indicating that we want an array with 10 elements.\n",
    "\n",
    "So, np.random.randn(10) generates an array with 10 random numbers sampled from a standard normal distribution. Each number in the array is drawn independently from the standard normal distribution, meaning each number has a mean of 0 and a standard deviation of 1."
   ]
  },
  {
   "cell_type": "code",
   "execution_count": 76,
   "id": "4ebdde36",
   "metadata": {},
   "outputs": [],
   "source": [
    "A = np.random.randn((10))"
   ]
  },
  {
   "cell_type": "code",
   "execution_count": 77,
   "id": "ab66368d",
   "metadata": {},
   "outputs": [],
   "source": [
    "B = np.random.randn((10))"
   ]
  },
  {
   "cell_type": "code",
   "execution_count": 79,
   "id": "e2718207",
   "metadata": {},
   "outputs": [
    {
     "data": {
      "text/plain": [
       "array([-0.52059527, -0.47002936, -0.07752566,  2.04321212,  0.04752197,\n",
       "       -1.29359976, -1.41691197,  2.36207642,  1.54955422,  1.11061749])"
      ]
     },
     "execution_count": 79,
     "metadata": {},
     "output_type": "execute_result"
    }
   ],
   "source": [
    "A"
   ]
  },
  {
   "cell_type": "code",
   "execution_count": 80,
   "id": "a3bd789c",
   "metadata": {},
   "outputs": [
    {
     "data": {
      "text/plain": [
       "array([-0.2786708 , -1.88384191, -0.21697278,  0.64826278,  0.86815162,\n",
       "        0.79788987,  1.23012421,  1.52848123, -0.91182764, -0.69800007])"
      ]
     },
     "execution_count": 80,
     "metadata": {},
     "output_type": "execute_result"
    }
   ],
   "source": [
    "B"
   ]
  },
  {
   "cell_type": "code",
   "execution_count": 81,
   "id": "8f16ed86",
   "metadata": {},
   "outputs": [
    {
     "data": {
      "text/plain": [
       "array([-0.79926607, -2.35387127, -0.29449844,  2.69147491,  0.91567359,\n",
       "       -0.49570989, -0.18678776,  3.89055765,  0.63772658,  0.41261742])"
      ]
     },
     "execution_count": 81,
     "metadata": {},
     "output_type": "execute_result"
    }
   ],
   "source": [
    "A+B"
   ]
  },
  {
   "cell_type": "code",
   "execution_count": 82,
   "id": "afa432d3",
   "metadata": {},
   "outputs": [
    {
     "data": {
      "text/plain": [
       "array([-0.24192447,  1.41381255,  0.13944711,  1.39494934, -0.82062965,\n",
       "       -2.09148963, -2.64703618,  0.8335952 ,  2.46138186,  1.80861757])"
      ]
     },
     "execution_count": 82,
     "metadata": {},
     "output_type": "execute_result"
    }
   ],
   "source": [
    "A-B"
   ]
  },
  {
   "cell_type": "code",
   "execution_count": 83,
   "id": "014063b9",
   "metadata": {},
   "outputs": [],
   "source": [
    "C = np.array([[1,2,3],[4,5,6]])\n",
    "\n",
    "D = np.array([[1,2,3],[4,5,6]])"
   ]
  },
  {
   "cell_type": "code",
   "execution_count": 84,
   "id": "e526501e",
   "metadata": {},
   "outputs": [
    {
     "data": {
      "text/plain": [
       "array([[1, 2, 3],\n",
       "       [4, 5, 6]])"
      ]
     },
     "execution_count": 84,
     "metadata": {},
     "output_type": "execute_result"
    }
   ],
   "source": [
    "C"
   ]
  },
  {
   "cell_type": "code",
   "execution_count": 85,
   "id": "a0245ab4",
   "metadata": {},
   "outputs": [
    {
     "data": {
      "text/plain": [
       "array([[1, 2, 3],\n",
       "       [4, 5, 6]])"
      ]
     },
     "execution_count": 85,
     "metadata": {},
     "output_type": "execute_result"
    }
   ],
   "source": [
    "D"
   ]
  },
  {
   "cell_type": "code",
   "execution_count": 86,
   "id": "3374a9b6",
   "metadata": {},
   "outputs": [
    {
     "data": {
      "text/plain": [
       "array([[ 2,  4,  6],\n",
       "       [ 8, 10, 12]])"
      ]
     },
     "execution_count": 86,
     "metadata": {},
     "output_type": "execute_result"
    }
   ],
   "source": [
    "C+D"
   ]
  },
  {
   "cell_type": "code",
   "execution_count": 87,
   "id": "1907a932",
   "metadata": {},
   "outputs": [
    {
     "data": {
      "text/plain": [
       "array([[0, 0, 0],\n",
       "       [0, 0, 0]])"
      ]
     },
     "execution_count": 87,
     "metadata": {},
     "output_type": "execute_result"
    }
   ],
   "source": [
    "C-D"
   ]
  },
  {
   "cell_type": "code",
   "execution_count": 88,
   "id": "ff6b402b",
   "metadata": {},
   "outputs": [
    {
     "data": {
      "text/plain": [
       "array([[False, False, False],\n",
       "       [False, False, False]])"
      ]
     },
     "execution_count": 88,
     "metadata": {},
     "output_type": "execute_result"
    }
   ],
   "source": [
    "C>D"
   ]
  },
  {
   "cell_type": "markdown",
   "id": "7329f370",
   "metadata": {},
   "source": [
    "# Indexing & Slicing"
   ]
  },
  {
   "cell_type": "code",
   "execution_count": 92,
   "id": "32c330d9",
   "metadata": {},
   "outputs": [
    {
     "ename": "AttributeError",
     "evalue": "'list' object has no attribute 'strip'",
     "output_type": "error",
     "traceback": [
      "\u001b[1;31m---------------------------------------------------------------------------\u001b[0m",
      "\u001b[1;31mAttributeError\u001b[0m                            Traceback (most recent call last)",
      "\u001b[1;32m~\\AppData\\Local\\Temp/ipykernel_12160/4229876718.py\u001b[0m in \u001b[0;36m<module>\u001b[1;34m\u001b[0m\n\u001b[0;32m      5\u001b[0m \u001b[1;33m\u001b[0m\u001b[0m\n\u001b[0;32m      6\u001b[0m \u001b[1;33m\u001b[0m\u001b[0m\n\u001b[1;32m----> 7\u001b[1;33m \u001b[0mresult\u001b[0m \u001b[1;33m=\u001b[0m \u001b[0minputArray\u001b[0m\u001b[1;33m(\u001b[0m\u001b[1;33m[\u001b[0m\u001b[1;36m1\u001b[0m\u001b[1;33m,\u001b[0m\u001b[1;36m2\u001b[0m\u001b[1;33m,\u001b[0m\u001b[1;36m3\u001b[0m\u001b[1;33m]\u001b[0m\u001b[1;33m)\u001b[0m\u001b[1;33m\u001b[0m\u001b[1;33m\u001b[0m\u001b[0m\n\u001b[0m\u001b[0;32m      8\u001b[0m \u001b[0mprint\u001b[0m\u001b[1;33m(\u001b[0m\u001b[0mresults\u001b[0m\u001b[1;33m)\u001b[0m\u001b[1;33m\u001b[0m\u001b[1;33m\u001b[0m\u001b[0m\n",
      "\u001b[1;32m~\\AppData\\Local\\Temp/ipykernel_12160/4229876718.py\u001b[0m in \u001b[0;36minputArray\u001b[1;34m(array)\u001b[0m\n\u001b[0;32m      1\u001b[0m \u001b[1;32mdef\u001b[0m \u001b[0minputArray\u001b[0m\u001b[1;33m(\u001b[0m\u001b[0marray\u001b[0m\u001b[1;33m)\u001b[0m\u001b[1;33m:\u001b[0m\u001b[1;33m\u001b[0m\u001b[1;33m\u001b[0m\u001b[0m\n\u001b[0;32m      2\u001b[0m     \u001b[0mlis\u001b[0m \u001b[1;33m=\u001b[0m \u001b[0mlist\u001b[0m\u001b[1;33m(\u001b[0m\u001b[0marray\u001b[0m\u001b[1;33m)\u001b[0m\u001b[1;33m\u001b[0m\u001b[1;33m\u001b[0m\u001b[0m\n\u001b[1;32m----> 3\u001b[1;33m     \u001b[0mrevers\u001b[0m \u001b[1;33m=\u001b[0m \u001b[0mlis\u001b[0m\u001b[1;33m.\u001b[0m\u001b[0mstrip\u001b[0m\u001b[1;33m(\u001b[0m\u001b[1;33m)\u001b[0m\u001b[1;33m.\u001b[0m\u001b[0msplit\u001b[0m\u001b[1;33m(\u001b[0m\u001b[1;34m' '\u001b[0m\u001b[1;33m)\u001b[0m\u001b[1;33m.\u001b[0m\u001b[0mreverse\u001b[0m\u001b[1;33m(\u001b[0m\u001b[1;33m)\u001b[0m\u001b[1;33m.\u001b[0m\u001b[0mfloat\u001b[0m\u001b[1;33m\u001b[0m\u001b[1;33m\u001b[0m\u001b[0m\n\u001b[0m\u001b[0;32m      4\u001b[0m     \u001b[1;32mreturn\u001b[0m \u001b[0mrevers\u001b[0m\u001b[1;33m\u001b[0m\u001b[1;33m\u001b[0m\u001b[0m\n\u001b[0;32m      5\u001b[0m \u001b[1;33m\u001b[0m\u001b[0m\n",
      "\u001b[1;31mAttributeError\u001b[0m: 'list' object has no attribute 'strip'"
     ]
    }
   ],
   "source": [
    "def inputArray(array):\n",
    "    lis = list(array)\n",
    "    revers = lis.strip().split(' ').reverse().float\n",
    "    return revers\n",
    "\n",
    "\n",
    "result = inputArray([1,2,3])\n",
    "print(results)"
   ]
  },
  {
   "cell_type": "code",
   "execution_count": null,
   "id": "03e91bb8",
   "metadata": {},
   "outputs": [],
   "source": []
  }
 ],
 "metadata": {
  "kernelspec": {
   "display_name": "Python 3 (ipykernel)",
   "language": "python",
   "name": "python3"
  },
  "language_info": {
   "codemirror_mode": {
    "name": "ipython",
    "version": 3
   },
   "file_extension": ".py",
   "mimetype": "text/x-python",
   "name": "python",
   "nbconvert_exporter": "python",
   "pygments_lexer": "ipython3",
   "version": "3.9.7"
  }
 },
 "nbformat": 4,
 "nbformat_minor": 5
}
