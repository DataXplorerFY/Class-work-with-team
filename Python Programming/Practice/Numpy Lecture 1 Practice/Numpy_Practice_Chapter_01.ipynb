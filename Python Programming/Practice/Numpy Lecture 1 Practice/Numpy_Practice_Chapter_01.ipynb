{
 "cells": [
  {
   "cell_type": "markdown",
   "id": "a575b05d",
   "metadata": {},
   "source": [
    "# Numpy Basics: Arrays & Vectorized Computation"
   ]
  },
  {
   "cell_type": "markdown",
   "id": "d8dd9c31",
   "metadata": {},
   "source": [
    "Numpy Introduction:\n",
    "\n",
    "1. Numpy stands for Numerical Python_ It is a powerful python library used for numerical computation\n",
    "\n",
    "2. NumPy arrays are mutable, meaning you can change their values after creation.\n",
    "\n",
    "3. Arrays object in Numpy called \"ndarray\", ndarray >> N-Dimensioanl Array\n",
    "\n",
    "4. It stores data in contegeous block of memory"
   ]
  },
  {
   "cell_type": "code",
   "execution_count": 2,
   "id": "5bf378eb",
   "metadata": {},
   "outputs": [],
   "source": [
    "import numpy as np"
   ]
  },
  {
   "cell_type": "code",
   "execution_count": 6,
   "id": "8e0936d4",
   "metadata": {},
   "outputs": [
    {
     "name": "stdout",
     "output_type": "stream",
     "text": [
      "1.26.4\n"
     ]
    }
   ],
   "source": [
    "print(np.__version__)"
   ]
  },
  {
   "cell_type": "code",
   "execution_count": 8,
   "id": "c4460d88",
   "metadata": {},
   "outputs": [
    {
     "name": "stdout",
     "output_type": "stream",
     "text": [
      "[1 2 3 4 5]\n"
     ]
    }
   ],
   "source": [
    "array_01 = np.array([1,2,3,4,5])\n",
    "\n",
    "print(array_01)"
   ]
  },
  {
   "cell_type": "markdown",
   "id": "bb5eb5e2",
   "metadata": {},
   "source": [
    "# Multidimensional Array_Objects"
   ]
  },
  {
   "cell_type": "code",
   "execution_count": 13,
   "id": "d78fcd48",
   "metadata": {},
   "outputs": [
    {
     "data": {
      "text/plain": [
       "array([[0., 0., 0., 0.],\n",
       "       [0., 0., 0., 0.],\n",
       "       [0., 0., 0., 0.],\n",
       "       [0., 0., 0., 0.]])"
      ]
     },
     "execution_count": 13,
     "metadata": {},
     "output_type": "execute_result"
    }
   ],
   "source": [
    "zero = np.zeros((4,4))\n",
    "zero"
   ]
  },
  {
   "cell_type": "code",
   "execution_count": 14,
   "id": "0b9d6c88",
   "metadata": {},
   "outputs": [
    {
     "data": {
      "text/plain": [
       "array([[1., 1., 1., 1., 1.],\n",
       "       [1., 1., 1., 1., 1.],\n",
       "       [1., 1., 1., 1., 1.],\n",
       "       [1., 1., 1., 1., 1.],\n",
       "       [1., 1., 1., 1., 1.]])"
      ]
     },
     "execution_count": 14,
     "metadata": {},
     "output_type": "execute_result"
    }
   ],
   "source": [
    "one = np.ones((5,5))\n",
    "one"
   ]
  },
  {
   "cell_type": "code",
   "execution_count": 15,
   "id": "cc545117",
   "metadata": {},
   "outputs": [
    {
     "name": "stdout",
     "output_type": "stream",
     "text": [
      "<class 'numpy.ndarray'>\n"
     ]
    }
   ],
   "source": [
    "print(type(one))"
   ]
  },
  {
   "cell_type": "code",
   "execution_count": 20,
   "id": "2d812742",
   "metadata": {},
   "outputs": [
    {
     "name": "stdout",
     "output_type": "stream",
     "text": [
      "float64\n"
     ]
    }
   ],
   "source": [
    "print(one.dtype)"
   ]
  },
  {
   "cell_type": "code",
   "execution_count": 23,
   "id": "a8a940a9",
   "metadata": {},
   "outputs": [
    {
     "data": {
      "text/plain": [
       "array([[0., 0., 0.],\n",
       "       [0., 0., 0.]])"
      ]
     },
     "execution_count": 23,
     "metadata": {},
     "output_type": "execute_result"
    }
   ],
   "source": [
    "empty = np.empty((2,3))\n",
    "empty"
   ]
  },
  {
   "cell_type": "markdown",
   "id": "076ab063",
   "metadata": {},
   "source": [
    "# Python List Convert Into Numpy Array"
   ]
  },
  {
   "cell_type": "code",
   "execution_count": 24,
   "id": "252c2afd",
   "metadata": {},
   "outputs": [],
   "source": [
    "python_list = [1,2,3,4,5,6]"
   ]
  },
  {
   "cell_type": "code",
   "execution_count": 26,
   "id": "7abe5ae5",
   "metadata": {},
   "outputs": [
    {
     "data": {
      "text/plain": [
       "list"
      ]
     },
     "execution_count": 26,
     "metadata": {},
     "output_type": "execute_result"
    }
   ],
   "source": [
    "type(python_list)"
   ]
  },
  {
   "cell_type": "code",
   "execution_count": 27,
   "id": "e0120b57",
   "metadata": {},
   "outputs": [
    {
     "name": "stdout",
     "output_type": "stream",
     "text": [
      "<class 'numpy.ndarray'>\n"
     ]
    }
   ],
   "source": [
    "numpy_array = np.array(python_list)\n",
    "\n",
    "print(type(numpy_array))"
   ]
  },
  {
   "cell_type": "code",
   "execution_count": 30,
   "id": "6a17e2f0",
   "metadata": {},
   "outputs": [
    {
     "data": {
      "text/plain": [
       "array([1, 2, 3, 4, 5, 6])"
      ]
     },
     "execution_count": 30,
     "metadata": {},
     "output_type": "execute_result"
    }
   ],
   "source": [
    "np.array(python_list)"
   ]
  },
  {
   "cell_type": "markdown",
   "id": "d0237cfa",
   "metadata": {},
   "source": [
    "# Arange Function Used to Create an Array just like Range function in python | It will create only 1-D Array "
   ]
  },
  {
   "cell_type": "code",
   "execution_count": 36,
   "id": "f2d43f47",
   "metadata": {},
   "outputs": [
    {
     "data": {
      "text/plain": [
       "array([ 1, 11, 21, 31, 41, 51, 61, 71, 81, 91])"
      ]
     },
     "execution_count": 36,
     "metadata": {},
     "output_type": "execute_result"
    }
   ],
   "source": [
    "array_02 = np.arange(1,100,10) #it creates an array from 1 to 100 with step size of 10\n",
    "\n",
    "array_02"
   ]
  },
  {
   "cell_type": "markdown",
   "id": "bfe1e583",
   "metadata": {},
   "source": [
    "# (.shape) Function is used to check the shape of an array e.g. 1-d, 2-d, 3-d, etc"
   ]
  },
  {
   "cell_type": "code",
   "execution_count": 38,
   "id": "4f912b79",
   "metadata": {},
   "outputs": [
    {
     "data": {
      "text/plain": [
       "(10,)"
      ]
     },
     "execution_count": 38,
     "metadata": {},
     "output_type": "execute_result"
    }
   ],
   "source": [
    "array_02.shape"
   ]
  },
  {
   "cell_type": "code",
   "execution_count": 39,
   "id": "63cfe80f",
   "metadata": {},
   "outputs": [
    {
     "data": {
      "text/plain": [
       "10"
      ]
     },
     "execution_count": 39,
     "metadata": {},
     "output_type": "execute_result"
    }
   ],
   "source": [
    "len(array_02)"
   ]
  },
  {
   "cell_type": "code",
   "execution_count": 40,
   "id": "08f817b8",
   "metadata": {},
   "outputs": [
    {
     "data": {
      "text/plain": [
       "10"
      ]
     },
     "execution_count": 40,
     "metadata": {},
     "output_type": "execute_result"
    }
   ],
   "source": [
    "array_02.size"
   ]
  },
  {
   "cell_type": "markdown",
   "id": "f5c9749b",
   "metadata": {},
   "source": [
    "# (.reshape) Function is used to reshape the array into rows and columns"
   ]
  },
  {
   "cell_type": "code",
   "execution_count": 41,
   "id": "171bd38a",
   "metadata": {},
   "outputs": [
    {
     "data": {
      "text/plain": [
       "array([[ 0,  1,  2,  3,  4],\n",
       "       [ 5,  6,  7,  8,  9],\n",
       "       [10, 11, 12, 13, 14],\n",
       "       [15, 16, 17, 18, 19]])"
      ]
     },
     "execution_count": 41,
     "metadata": {},
     "output_type": "execute_result"
    }
   ],
   "source": [
    "arr = np.arange(20).reshape(4,5) \n",
    "arr"
   ]
  },
  {
   "cell_type": "markdown",
   "id": "8c32d15f",
   "metadata": {},
   "source": [
    "# How to create 2-D Array?"
   ]
  },
  {
   "cell_type": "markdown",
   "id": "a057c9d7",
   "metadata": {},
   "source": [
    "1. We can create 2-D array bu using arange function it will creat 1-D array then we will use reshaps function that will convert 1-D to 2-D\n",
    "\n",
    "2. We can create 2-D array by using method that is >> np.array([[1,2,3,4,5],[6,7,8,9,10]])"
   ]
  },
  {
   "cell_type": "code",
   "execution_count": 42,
   "id": "d676e453",
   "metadata": {},
   "outputs": [
    {
     "data": {
      "text/plain": [
       "array([[1, 2, 3, 4],\n",
       "       [5, 6, 7, 8]])"
      ]
     },
     "execution_count": 42,
     "metadata": {},
     "output_type": "execute_result"
    }
   ],
   "source": [
    "_2D_Array = np.array([[1,2,3,4],[5,6,7,8]])\n",
    "\n",
    "_2D_Array"
   ]
  },
  {
   "cell_type": "markdown",
   "id": "1061cfbd",
   "metadata": {},
   "source": [
    "# From 1-d to 2-d array"
   ]
  },
  {
   "cell_type": "code",
   "execution_count": 43,
   "id": "9786b59e",
   "metadata": {},
   "outputs": [],
   "source": [
    "_1D_Array = np.arange(10)"
   ]
  },
  {
   "cell_type": "code",
   "execution_count": 44,
   "id": "d6f4515f",
   "metadata": {},
   "outputs": [
    {
     "data": {
      "text/plain": [
       "array([[0, 1],\n",
       "       [2, 3],\n",
       "       [4, 5],\n",
       "       [6, 7],\n",
       "       [8, 9]])"
      ]
     },
     "execution_count": 44,
     "metadata": {},
     "output_type": "execute_result"
    }
   ],
   "source": [
    "_1D_Array.reshape(5,2)"
   ]
  },
  {
   "cell_type": "markdown",
   "id": "a22893dd",
   "metadata": {},
   "source": [
    "# For checking the Data Types and Dimensions of Arrays "
   ]
  },
  {
   "cell_type": "markdown",
   "id": "04f6fdb9",
   "metadata": {},
   "source": [
    "1.   (.dtype) For checking the Data Type\n",
    "\n",
    "2.   (.ndim) For checking the Dimensions of Array"
   ]
  },
  {
   "cell_type": "code",
   "execution_count": 45,
   "id": "bcfb63ea",
   "metadata": {},
   "outputs": [
    {
     "data": {
      "text/plain": [
       "dtype('int32')"
      ]
     },
     "execution_count": 45,
     "metadata": {},
     "output_type": "execute_result"
    }
   ],
   "source": [
    "_1D_Array.dtype"
   ]
  },
  {
   "cell_type": "code",
   "execution_count": 46,
   "id": "b6d24812",
   "metadata": {},
   "outputs": [
    {
     "data": {
      "text/plain": [
       "1"
      ]
     },
     "execution_count": 46,
     "metadata": {},
     "output_type": "execute_result"
    }
   ],
   "source": [
    "_1D_Array.ndim"
   ]
  },
  {
   "cell_type": "markdown",
   "id": "37a7c0d0",
   "metadata": {},
   "source": [
    "# 0-D Array"
   ]
  },
  {
   "cell_type": "code",
   "execution_count": 48,
   "id": "ad215e90",
   "metadata": {},
   "outputs": [
    {
     "data": {
      "text/plain": [
       "array(45)"
      ]
     },
     "execution_count": 48,
     "metadata": {},
     "output_type": "execute_result"
    }
   ],
   "source": [
    "np.array(45)"
   ]
  },
  {
   "cell_type": "markdown",
   "id": "c5fa5c5a",
   "metadata": {},
   "source": [
    "# 1-D Array"
   ]
  },
  {
   "cell_type": "code",
   "execution_count": 49,
   "id": "2297de20",
   "metadata": {},
   "outputs": [
    {
     "data": {
      "text/plain": [
       "array([0, 1, 2, 3, 4, 5, 6, 7, 8, 9])"
      ]
     },
     "execution_count": 49,
     "metadata": {},
     "output_type": "execute_result"
    }
   ],
   "source": [
    "np.arange(10)"
   ]
  },
  {
   "cell_type": "markdown",
   "id": "c1fb8674",
   "metadata": {},
   "source": [
    "# 2-D Array"
   ]
  },
  {
   "cell_type": "code",
   "execution_count": 51,
   "id": "2a6f7510",
   "metadata": {},
   "outputs": [
    {
     "data": {
      "text/plain": [
       "array([[ 0,  1,  2,  3],\n",
       "       [ 4,  5,  6,  7],\n",
       "       [ 8,  9, 10, 11],\n",
       "       [12, 13, 14, 15],\n",
       "       [16, 17, 18, 19]])"
      ]
     },
     "execution_count": 51,
     "metadata": {},
     "output_type": "execute_result"
    }
   ],
   "source": [
    "np.arange(20).reshape(5,4)"
   ]
  },
  {
   "cell_type": "markdown",
   "id": "30607fb1",
   "metadata": {},
   "source": [
    "# 3-D Array"
   ]
  },
  {
   "cell_type": "code",
   "execution_count": 52,
   "id": "d4ac2014",
   "metadata": {},
   "outputs": [
    {
     "data": {
      "text/plain": [
       "array([[[1, 2, 3],\n",
       "        [4, 5, 6],\n",
       "        [7, 8, 9]]])"
      ]
     },
     "execution_count": 52,
     "metadata": {},
     "output_type": "execute_result"
    }
   ],
   "source": [
    "np.array([[[1,2,3],[4,5,6],[7,8,9]]])"
   ]
  },
  {
   "cell_type": "markdown",
   "id": "92f5993b",
   "metadata": {},
   "source": [
    "# We Have Learned 1-D array to 2-D array, Know we will learn how to convert 2-D array to 1-D array"
   ]
  },
  {
   "cell_type": "markdown",
   "id": "612f146d",
   "metadata": {},
   "source": [
    "we have 3 functions that we can used to convert the 2-D array to 1-D array \n",
    "\n",
    "1. ( .reshape() )\n",
    "\n",
    "2. ( .flatten() )\n",
    "\n",
    "3. ( .ravel() )"
   ]
  },
  {
   "cell_type": "code",
   "execution_count": 54,
   "id": "903e39b2",
   "metadata": {},
   "outputs": [
    {
     "data": {
      "text/plain": [
       "array([[1, 2, 3],\n",
       "       [4, 5, 6]])"
      ]
     },
     "execution_count": 54,
     "metadata": {},
     "output_type": "execute_result"
    }
   ],
   "source": [
    "# First we create the 2-Dimensioanl Array\n",
    "\n",
    "array2d =np.array([[1,2,3],[4,5,6]])\n",
    "array2d"
   ]
  },
  {
   "cell_type": "markdown",
   "id": "97e782e7",
   "metadata": {},
   "source": [
    "# By using .reshape() function"
   ]
  },
  {
   "cell_type": "code",
   "execution_count": 65,
   "id": "7ec0ea56",
   "metadata": {},
   "outputs": [
    {
     "data": {
      "text/plain": [
       "array([1, 2, 3, 4, 5, 6])"
      ]
     },
     "execution_count": 65,
     "metadata": {},
     "output_type": "execute_result"
    }
   ],
   "source": [
    "array2d.reshape(-1)\n",
    "\n",
    "# The -1 argument in the reshape() function indicates that NumPy should automatically calculate the size \n",
    "# of the remaining dimension based on the total number of elements in the array, ensuring that the resulting array is 1D."
   ]
  },
  {
   "cell_type": "markdown",
   "id": "a9bb621a",
   "metadata": {},
   "source": [
    "#  By using .flatten() function"
   ]
  },
  {
   "cell_type": "code",
   "execution_count": 66,
   "id": "8a444b04",
   "metadata": {},
   "outputs": [],
   "source": [
    "a = np.array([[11,12,13],[14,15,16]])"
   ]
  },
  {
   "cell_type": "code",
   "execution_count": 67,
   "id": "4e4b433b",
   "metadata": {},
   "outputs": [
    {
     "data": {
      "text/plain": [
       "array([[11, 12, 13],\n",
       "       [14, 15, 16]])"
      ]
     },
     "execution_count": 67,
     "metadata": {},
     "output_type": "execute_result"
    }
   ],
   "source": [
    "a"
   ]
  },
  {
   "cell_type": "code",
   "execution_count": 70,
   "id": "51582d00",
   "metadata": {},
   "outputs": [
    {
     "data": {
      "text/plain": [
       "array([11, 12, 13, 14, 15, 16])"
      ]
     },
     "execution_count": 70,
     "metadata": {},
     "output_type": "execute_result"
    }
   ],
   "source": [
    "a.flatten()  #It will return the coppy of array by converting it into 1-d array"
   ]
  },
  {
   "cell_type": "code",
   "execution_count": 71,
   "id": "cd5de2be",
   "metadata": {},
   "outputs": [
    {
     "data": {
      "text/plain": [
       "array([[11, 12, 13],\n",
       "       [14, 15, 16]])"
      ]
     },
     "execution_count": 71,
     "metadata": {},
     "output_type": "execute_result"
    }
   ],
   "source": [
    "a"
   ]
  },
  {
   "cell_type": "markdown",
   "id": "58015175",
   "metadata": {},
   "source": [
    "# By Using the .ravel() function"
   ]
  },
  {
   "cell_type": "code",
   "execution_count": 72,
   "id": "f288acda",
   "metadata": {},
   "outputs": [],
   "source": [
    "b = np.array([[111,112,113],[114,115,116]])"
   ]
  },
  {
   "cell_type": "code",
   "execution_count": 73,
   "id": "689e916c",
   "metadata": {},
   "outputs": [
    {
     "data": {
      "text/plain": [
       "array([[111, 112, 113],\n",
       "       [114, 115, 116]])"
      ]
     },
     "execution_count": 73,
     "metadata": {},
     "output_type": "execute_result"
    }
   ],
   "source": [
    "b"
   ]
  },
  {
   "cell_type": "code",
   "execution_count": 75,
   "id": "de036d61",
   "metadata": {},
   "outputs": [
    {
     "data": {
      "text/plain": [
       "array([111, 112, 113, 114, 115, 116])"
      ]
     },
     "execution_count": 75,
     "metadata": {},
     "output_type": "execute_result"
    }
   ],
   "source": [
    "b.ravel()"
   ]
  },
  {
   "cell_type": "markdown",
   "id": "a9304266",
   "metadata": {},
   "source": [
    "# Arithmatic operations with NDARRAY"
   ]
  },
  {
   "cell_type": "markdown",
   "id": "c80f808f",
   "metadata": {},
   "source": [
    "1. np.random.randn(): This function is part of the NumPy library's random module, which provides various methods for generating random numbers.\n",
    "2. (10): This argument specifies the shape of the output array. In this case, it's a tuple with only one element, 10, indicating that we want an array with 10 elements.\n",
    "\n",
    "So, np.random.randn(10) generates an array with 10 random numbers sampled from a standard normal distribution. Each number in the array is drawn independently from the standard normal distribution, meaning each number has a mean of 0 and a standard deviation of 1."
   ]
  },
  {
   "cell_type": "code",
   "execution_count": 76,
   "id": "4ebdde36",
   "metadata": {},
   "outputs": [],
   "source": [
    "A = np.random.randn((10))"
   ]
  },
  {
   "cell_type": "code",
   "execution_count": 77,
   "id": "ab66368d",
   "metadata": {},
   "outputs": [],
   "source": [
    "B = np.random.randn((10))"
   ]
  },
  {
   "cell_type": "code",
   "execution_count": 79,
   "id": "e2718207",
   "metadata": {},
   "outputs": [
    {
     "data": {
      "text/plain": [
       "array([-0.52059527, -0.47002936, -0.07752566,  2.04321212,  0.04752197,\n",
       "       -1.29359976, -1.41691197,  2.36207642,  1.54955422,  1.11061749])"
      ]
     },
     "execution_count": 79,
     "metadata": {},
     "output_type": "execute_result"
    }
   ],
   "source": [
    "A"
   ]
  },
  {
   "cell_type": "code",
   "execution_count": 80,
   "id": "a3bd789c",
   "metadata": {},
   "outputs": [
    {
     "data": {
      "text/plain": [
       "array([-0.2786708 , -1.88384191, -0.21697278,  0.64826278,  0.86815162,\n",
       "        0.79788987,  1.23012421,  1.52848123, -0.91182764, -0.69800007])"
      ]
     },
     "execution_count": 80,
     "metadata": {},
     "output_type": "execute_result"
    }
   ],
   "source": [
    "B"
   ]
  },
  {
   "cell_type": "code",
   "execution_count": 81,
   "id": "8f16ed86",
   "metadata": {},
   "outputs": [
    {
     "data": {
      "text/plain": [
       "array([-0.79926607, -2.35387127, -0.29449844,  2.69147491,  0.91567359,\n",
       "       -0.49570989, -0.18678776,  3.89055765,  0.63772658,  0.41261742])"
      ]
     },
     "execution_count": 81,
     "metadata": {},
     "output_type": "execute_result"
    }
   ],
   "source": [
    "A+B"
   ]
  },
  {
   "cell_type": "code",
   "execution_count": 82,
   "id": "afa432d3",
   "metadata": {},
   "outputs": [
    {
     "data": {
      "text/plain": [
       "array([-0.24192447,  1.41381255,  0.13944711,  1.39494934, -0.82062965,\n",
       "       -2.09148963, -2.64703618,  0.8335952 ,  2.46138186,  1.80861757])"
      ]
     },
     "execution_count": 82,
     "metadata": {},
     "output_type": "execute_result"
    }
   ],
   "source": [
    "A-B"
   ]
  },
  {
   "cell_type": "code",
   "execution_count": 83,
   "id": "014063b9",
   "metadata": {},
   "outputs": [],
   "source": [
    "C = np.array([[1,2,3],[4,5,6]])\n",
    "\n",
    "D = np.array([[1,2,3],[4,5,6]])"
   ]
  },
  {
   "cell_type": "code",
   "execution_count": 84,
   "id": "e526501e",
   "metadata": {},
   "outputs": [
    {
     "data": {
      "text/plain": [
       "array([[1, 2, 3],\n",
       "       [4, 5, 6]])"
      ]
     },
     "execution_count": 84,
     "metadata": {},
     "output_type": "execute_result"
    }
   ],
   "source": [
    "C"
   ]
  },
  {
   "cell_type": "code",
   "execution_count": 85,
   "id": "a0245ab4",
   "metadata": {},
   "outputs": [
    {
     "data": {
      "text/plain": [
       "array([[1, 2, 3],\n",
       "       [4, 5, 6]])"
      ]
     },
     "execution_count": 85,
     "metadata": {},
     "output_type": "execute_result"
    }
   ],
   "source": [
    "D"
   ]
  },
  {
   "cell_type": "code",
   "execution_count": 86,
   "id": "3374a9b6",
   "metadata": {},
   "outputs": [
    {
     "data": {
      "text/plain": [
       "array([[ 2,  4,  6],\n",
       "       [ 8, 10, 12]])"
      ]
     },
     "execution_count": 86,
     "metadata": {},
     "output_type": "execute_result"
    }
   ],
   "source": [
    "C+D"
   ]
  },
  {
   "cell_type": "code",
   "execution_count": 87,
   "id": "1907a932",
   "metadata": {},
   "outputs": [
    {
     "data": {
      "text/plain": [
       "array([[0, 0, 0],\n",
       "       [0, 0, 0]])"
      ]
     },
     "execution_count": 87,
     "metadata": {},
     "output_type": "execute_result"
    }
   ],
   "source": [
    "C-D"
   ]
  },
  {
   "cell_type": "code",
   "execution_count": 88,
   "id": "ff6b402b",
   "metadata": {},
   "outputs": [
    {
     "data": {
      "text/plain": [
       "array([[False, False, False],\n",
       "       [False, False, False]])"
      ]
     },
     "execution_count": 88,
     "metadata": {},
     "output_type": "execute_result"
    }
   ],
   "source": [
    "C>D"
   ]
  },
  {
   "cell_type": "markdown",
   "id": "7329f370",
   "metadata": {},
   "source": [
    "# Indexing & Slicing"
   ]
  },
  {
   "cell_type": "code",
   "execution_count": 1,
   "id": "32c330d9",
   "metadata": {},
   "outputs": [],
   "source": [
    "import numpy as np"
   ]
  },
  {
   "cell_type": "code",
   "execution_count": 2,
   "id": "03e91bb8",
   "metadata": {},
   "outputs": [],
   "source": [
    "arr1 = np.array([1,2,3,4,5])"
   ]
  },
  {
   "cell_type": "code",
   "execution_count": 3,
   "id": "df26623e",
   "metadata": {},
   "outputs": [
    {
     "data": {
      "text/plain": [
       "3"
      ]
     },
     "execution_count": 3,
     "metadata": {},
     "output_type": "execute_result"
    }
   ],
   "source": [
    "arr1[2]"
   ]
  },
  {
   "cell_type": "code",
   "execution_count": 4,
   "id": "eacc3473",
   "metadata": {},
   "outputs": [
    {
     "data": {
      "text/plain": [
       "4"
      ]
     },
     "execution_count": 4,
     "metadata": {},
     "output_type": "execute_result"
    }
   ],
   "source": [
    "arr1[3]"
   ]
  },
  {
   "cell_type": "code",
   "execution_count": 18,
   "id": "53998bf8",
   "metadata": {},
   "outputs": [],
   "source": [
    "arr2d = np.arange(30).reshape(6,5)"
   ]
  },
  {
   "cell_type": "code",
   "execution_count": 19,
   "id": "0329868d",
   "metadata": {},
   "outputs": [
    {
     "data": {
      "text/plain": [
       "array([[ 0,  1,  2,  3,  4],\n",
       "       [ 5,  6,  7,  8,  9],\n",
       "       [10, 11, 12, 13, 14],\n",
       "       [15, 16, 17, 18, 19],\n",
       "       [20, 21, 22, 23, 24],\n",
       "       [25, 26, 27, 28, 29]])"
      ]
     },
     "execution_count": 19,
     "metadata": {},
     "output_type": "execute_result"
    }
   ],
   "source": [
    "arr2d"
   ]
  },
  {
   "cell_type": "code",
   "execution_count": 20,
   "id": "cd28ef91",
   "metadata": {},
   "outputs": [
    {
     "data": {
      "text/plain": [
       "array([0, 1, 2, 3, 4])"
      ]
     },
     "execution_count": 20,
     "metadata": {},
     "output_type": "execute_result"
    }
   ],
   "source": [
    "arr2d[0]"
   ]
  },
  {
   "cell_type": "code",
   "execution_count": 21,
   "id": "def2ae57",
   "metadata": {},
   "outputs": [
    {
     "data": {
      "text/plain": [
       "array([5, 6, 7, 8, 9])"
      ]
     },
     "execution_count": 21,
     "metadata": {},
     "output_type": "execute_result"
    }
   ],
   "source": [
    "arr2d[1]"
   ]
  },
  {
   "cell_type": "code",
   "execution_count": 22,
   "id": "221c4254",
   "metadata": {},
   "outputs": [
    {
     "data": {
      "text/plain": [
       "8"
      ]
     },
     "execution_count": 22,
     "metadata": {},
     "output_type": "execute_result"
    }
   ],
   "source": [
    "arr2d[1][3]"
   ]
  },
  {
   "cell_type": "code",
   "execution_count": 23,
   "id": "66f659e3",
   "metadata": {},
   "outputs": [
    {
     "data": {
      "text/plain": [
       "array([ 6,  7,  8,  9, 10, 11, 12, 13, 14, 15, 16, 17, 18, 19, 20, 21, 22,\n",
       "       23, 24, 25, 26, 27, 28, 29])"
      ]
     },
     "execution_count": 23,
     "metadata": {},
     "output_type": "execute_result"
    }
   ],
   "source": [
    "arr2d[arr2d>5] ##Boolean indexing"
   ]
  },
  {
   "cell_type": "code",
   "execution_count": 24,
   "id": "3786220b",
   "metadata": {},
   "outputs": [
    {
     "data": {
      "text/plain": [
       "array([[ 0,  1,  2,  3,  4],\n",
       "       [ 5,  6,  7,  8,  9],\n",
       "       [10, 11, 12, 13, 14],\n",
       "       [15, 16, 17, 18, 19],\n",
       "       [20, 21, 22, 23, 24],\n",
       "       [25, 26, 27, 28, 29]])"
      ]
     },
     "execution_count": 24,
     "metadata": {},
     "output_type": "execute_result"
    }
   ],
   "source": [
    "arr2d"
   ]
  },
  {
   "cell_type": "markdown",
   "id": "3f94707c",
   "metadata": {},
   "source": [
    "# Fancy Indexing\n"
   ]
  },
  {
   "cell_type": "markdown",
   "id": "2a9587ed",
   "metadata": {},
   "source": [
    "if we want to specific rows more then 1 from 2d array, then we will use fancy indexing like below"
   ]
  },
  {
   "cell_type": "code",
   "execution_count": 26,
   "id": "a0a6ae63",
   "metadata": {},
   "outputs": [
    {
     "data": {
      "text/plain": [
       "array([[ 0,  1,  2,  3,  4],\n",
       "       [10, 11, 12, 13, 14],\n",
       "       [20, 21, 22, 23, 24]])"
      ]
     },
     "execution_count": 26,
     "metadata": {},
     "output_type": "execute_result"
    }
   ],
   "source": [
    "arr2d[[0,2,4]]"
   ]
  },
  {
   "cell_type": "markdown",
   "id": "a9fbcb2a",
   "metadata": {},
   "source": [
    "# Element-Wise Function"
   ]
  },
  {
   "cell_type": "code",
   "execution_count": 14,
   "id": "178c98d9",
   "metadata": {},
   "outputs": [],
   "source": [
    "import numpy as np"
   ]
  },
  {
   "cell_type": "code",
   "execution_count": 20,
   "id": "834d499f",
   "metadata": {},
   "outputs": [],
   "source": [
    "x = np.array([101,911,8,6,11])"
   ]
  },
  {
   "cell_type": "code",
   "execution_count": 21,
   "id": "d8aa33f5",
   "metadata": {},
   "outputs": [
    {
     "name": "stdout",
     "output_type": "stream",
     "text": [
      "[10.04987562 30.18277655  2.82842712  2.44948974  3.31662479]\n"
     ]
    }
   ],
   "source": [
    "print(np.sqrt(x)) #Each element in the array result is the square root of the corresponding element in the array x."
   ]
  },
  {
   "cell_type": "code",
   "execution_count": 22,
   "id": "2860a6a3",
   "metadata": {},
   "outputs": [
    {
     "name": "stdout",
     "output_type": "stream",
     "text": [
      "[ 10201 829921     64     36    121]\n"
     ]
    }
   ],
   "source": [
    "print(np.power(x,2))"
   ]
  },
  {
   "cell_type": "code",
   "execution_count": 23,
   "id": "4c232bee",
   "metadata": {},
   "outputs": [],
   "source": [
    "y = np.array([110,91,81,61,11])"
   ]
  },
  {
   "cell_type": "code",
   "execution_count": 24,
   "id": "4233ccee",
   "metadata": {},
   "outputs": [
    {
     "data": {
      "text/plain": [
       "array([110, 911,  81,  61,  11])"
      ]
     },
     "execution_count": 24,
     "metadata": {},
     "output_type": "execute_result"
    }
   ],
   "source": [
    "np.maximum(x,y) #Each element in the resulting array is the maximum of the corresponding elements in x and y."
   ]
  },
  {
   "cell_type": "markdown",
   "id": "7bbc7160",
   "metadata": {},
   "source": [
    "# NP-Where function \n"
   ]
  },
  {
   "cell_type": "markdown",
   "id": "4560182f",
   "metadata": {},
   "source": [
    "The first argument (arr > 2) is the condition. It checks each element of the array arr to see if it's greater than 2.\n",
    "\n",
    "The second argument (10) is the value that will replace the elements where the condition is True. So, if an element is greater than 2, it will be replaced by 10.\n",
    "\n",
    "The third argument (arr) is the value that will replace the elements where the condition is False. So, if an element is not greater than 2, it remains unchanged."
   ]
  },
  {
   "cell_type": "code",
   "execution_count": 32,
   "id": "4d0e572e",
   "metadata": {},
   "outputs": [
    {
     "name": "stdout",
     "output_type": "stream",
     "text": [
      "[10000 20000 35000 35000]\n"
     ]
    }
   ],
   "source": [
    "salary = np.array([10000, 20000, 30000,40000])\n",
    "\n",
    "\n",
    "results = np.where(salary>20000, 35000,salary)\n",
    "\n",
    "print(results)"
   ]
  },
  {
   "cell_type": "markdown",
   "id": "236d73a5",
   "metadata": {},
   "source": [
    "# Mathematical & Statistical Method"
   ]
  },
  {
   "cell_type": "markdown",
   "id": "75522977",
   "metadata": {},
   "source": [
    "Mean Function "
   ]
  },
  {
   "cell_type": "code",
   "execution_count": 33,
   "id": "4fc74a91",
   "metadata": {},
   "outputs": [
    {
     "name": "stdout",
     "output_type": "stream",
     "text": [
      "3.5\n"
     ]
    }
   ],
   "source": [
    "a = np.array([1,2,3,4,5,6])\n",
    "\n",
    "print(a.mean())"
   ]
  },
  {
   "cell_type": "markdown",
   "id": "6e3aab25",
   "metadata": {},
   "source": [
    "cumsum() function >> cumulative sum of array elements\n",
    "\n",
    "The first element in the cumulative sum array is the same as the first element in the original array (1).\n",
    "\n",
    "The second element in the cumulative sum array is the sum of the first two elements in the original array (1 + 2 = 3).\n",
    "\n",
    "The third element in the cumulative sum array is the sum of the first three elements in the original array (1 + 2 + 3 = 6)."
   ]
  },
  {
   "cell_type": "code",
   "execution_count": 34,
   "id": "6d59461b",
   "metadata": {},
   "outputs": [
    {
     "name": "stdout",
     "output_type": "stream",
     "text": [
      "[ 1  3  6 10 15 21]\n"
     ]
    }
   ],
   "source": [
    "print(a.cumsum())"
   ]
  },
  {
   "cell_type": "markdown",
   "id": "d6b7302f",
   "metadata": {},
   "source": [
    "cumprod() >> cumulative product of array element"
   ]
  },
  {
   "cell_type": "code",
   "execution_count": 35,
   "id": "8048dde7",
   "metadata": {},
   "outputs": [
    {
     "name": "stdout",
     "output_type": "stream",
     "text": [
      "[  1   2   6  24 120 720]\n"
     ]
    }
   ],
   "source": [
    "print(a.cumprod())"
   ]
  },
  {
   "cell_type": "code",
   "execution_count": 38,
   "id": "5280f4b5",
   "metadata": {},
   "outputs": [
    {
     "name": "stdout",
     "output_type": "stream",
     "text": [
      "[ 1  2  3  4  5 45]\n"
     ]
    }
   ],
   "source": [
    "b = np.array([1,1,2,3,4,45,5])  #if the array has some same values multiple time like this [1,1,2,3,3], it will only once\n",
    "\n",
    "print(np.unique(b))"
   ]
  },
  {
   "cell_type": "markdown",
   "id": "8e03139a",
   "metadata": {},
   "source": [
    "# File Input/Output"
   ]
  },
  {
   "cell_type": "code",
   "execution_count": 39,
   "id": "8817ff3b",
   "metadata": {},
   "outputs": [],
   "source": [
    "X = [1,4,5,7]\n",
    "Y = [8,9,10]\n",
    "\n",
    "np.save('textx',X)  #It will save the text file in the same directory"
   ]
  },
  {
   "cell_type": "markdown",
   "id": "865908bd",
   "metadata": {},
   "source": [
    "# Numpy Linear Algebra Functions"
   ]
  },
  {
   "cell_type": "code",
   "execution_count": 1,
   "id": "357da48f",
   "metadata": {},
   "outputs": [],
   "source": [
    "import numpy as np"
   ]
  },
  {
   "cell_type": "code",
   "execution_count": 10,
   "id": "2cc051dc",
   "metadata": {},
   "outputs": [
    {
     "data": {
      "text/plain": [
       "array([[ 0.43005601,  0.15783621,  0.43261693],\n",
       "       [-1.49221304,  0.47150238, -1.22919505],\n",
       "       [-0.55016876,  0.31494861, -0.41554923]])"
      ]
     },
     "execution_count": 10,
     "metadata": {},
     "output_type": "execute_result"
    }
   ],
   "source": [
    "x = np.random.randn(3,2)\n",
    "\n",
    "y = np.random.randn(2,3)\n",
    "x.dot(y)"
   ]
  },
  {
   "cell_type": "code",
   "execution_count": 11,
   "id": "ceed54c5",
   "metadata": {},
   "outputs": [
    {
     "data": {
      "text/plain": [
       "array([[ 0.34885394,  0.25173951],\n",
       "       [-1.23310142,  1.00608889],\n",
       "       [-0.45777129,  0.63117596]])"
      ]
     },
     "execution_count": 11,
     "metadata": {},
     "output_type": "execute_result"
    }
   ],
   "source": [
    "x"
   ]
  },
  {
   "cell_type": "code",
   "execution_count": 12,
   "id": "6b87d769",
   "metadata": {},
   "outputs": [
    {
     "data": {
      "text/plain": [
       "array([[ 0.34885394, -1.23310142, -0.45777129],\n",
       "       [ 0.25173951,  1.00608889,  0.63117596]])"
      ]
     },
     "execution_count": 12,
     "metadata": {},
     "output_type": "execute_result"
    }
   ],
   "source": [
    "x.transpose()"
   ]
  },
  {
   "cell_type": "code",
   "execution_count": 13,
   "id": "5bc639ce",
   "metadata": {},
   "outputs": [
    {
     "data": {
      "text/plain": [
       "1.3549428357941"
      ]
     },
     "execution_count": 13,
     "metadata": {},
     "output_type": "execute_result"
    }
   ],
   "source": [
    "x.trace() # \n",
    "The x.trace() #method in NumPy computes the sum along the diagonal of the array x."
   ]
  },
  {
   "cell_type": "markdown",
   "id": "830311d3",
   "metadata": {},
   "source": [
    "# Pseudo Random Number Generator (PRNG):"
   ]
  },
  {
   "cell_type": "markdown",
   "id": "a41dec07",
   "metadata": {},
   "source": [
    "A pseudo-random number generator is a computer program or algorithm that produces numbers that appear random, but are actually generated by a deterministic process. In simpler terms, it's a tool used by computers to create sequences of numbers that seem random, but are actually generated using a specific formula. These numbers are not truly random because they are generated by an algorithm, but they're unpredictable enough for most practical purposes."
   ]
  },
  {
   "cell_type": "markdown",
   "id": "75c2c755",
   "metadata": {},
   "source": [
    "# np.random.normal()"
   ]
  },
  {
   "cell_type": "markdown",
   "id": "2e6577fa",
   "metadata": {},
   "source": [
    "This function generates random numbers from a normal distribution (Gaussian distribution). It takes parameters for mean, standard deviation, and the size of the output array. Here's an example:"
   ]
  },
  {
   "cell_type": "code",
   "execution_count": 15,
   "id": "a785a4ea",
   "metadata": {},
   "outputs": [
    {
     "name": "stdout",
     "output_type": "stream",
     "text": [
      "[-1.43049641  0.49057668  1.60545916  3.27691065  1.25977911  1.70909789\n",
      "  0.54274473  1.79948813  2.36820573  0.27155687]\n"
     ]
    }
   ],
   "source": [
    "import numpy as np\n",
    "\n",
    "# Generate 10 random numbers from a normal distribution with mean 0 and standard deviation 1\n",
    "random_numbers = np.random.normal(1, 2, 10)\n",
    "\n",
    "print(random_numbers)"
   ]
  },
  {
   "cell_type": "markdown",
   "id": "f93ae8ed",
   "metadata": {},
   "source": [
    "# np.random.seed()"
   ]
  },
  {
   "cell_type": "markdown",
   "id": "754d07a2",
   "metadata": {},
   "source": [
    "This function sets the seed for the random number generator. This is useful for reproducibility; setting the seed to a specific value ensures that the same sequence of random numbers is generated each time the code is run. Here's an example:"
   ]
  },
  {
   "cell_type": "code",
   "execution_count": 28,
   "id": "24d99c3e",
   "metadata": {},
   "outputs": [
    {
     "name": "stdout",
     "output_type": "stream",
     "text": [
      "[0.4359949  0.02592623 0.54966248 0.43532239 0.4203678 ]\n"
     ]
    }
   ],
   "source": [
    "import numpy as np\n",
    "\n",
    "# Set the seed to 42\n",
    "np.random.seed(2)\n",
    "\n",
    "# Generate 5 random numbers\n",
    "random_numbers = np.random.random(5)\n",
    "\n",
    "print(random_numbers)\n",
    "\n",
    "#This will output an array of 5 random numbers, but because we set the seed to 42, running this code multiple times will always produce the same sequence of random numbers."
   ]
  },
  {
   "cell_type": "markdown",
   "id": "9edec499",
   "metadata": {},
   "source": [
    "# np.random.gamma()"
   ]
  },
  {
   "cell_type": "markdown",
   "id": "0f3ad50f",
   "metadata": {},
   "source": [
    "This function generates random numbers from a gamma distribution. It takes parameters for shape and scale, as well as the size of the output array. Here's an example:"
   ]
  },
  {
   "cell_type": "code",
   "execution_count": 23,
   "id": "e2aa188a",
   "metadata": {},
   "outputs": [
    {
     "name": "stdout",
     "output_type": "stream",
     "text": [
      "[4.10697087 6.68243999 2.04721274 2.15290884 0.11489537 6.43856384\n",
      " 2.34577209 1.76041404 1.95788388 5.12707361]\n"
     ]
    }
   ],
   "source": [
    "random_numbers = np.random.gamma(2, 2, 10)\n",
    "\n",
    "print(random_numbers)"
   ]
  },
  {
   "cell_type": "markdown",
   "id": "3167a612",
   "metadata": {},
   "source": [
    "# Concatenate"
   ]
  },
  {
   "cell_type": "markdown",
   "id": "de37a459",
   "metadata": {},
   "source": [
    "V-Stack: Row-Wise\n",
    "\n",
    "H-Stack: Col-Wise"
   ]
  },
  {
   "cell_type": "code",
   "execution_count": 29,
   "id": "946a62a7",
   "metadata": {},
   "outputs": [],
   "source": [
    "arr1 = np.array([[1,2,3,4],[5,6,7,8]])\n",
    "\n",
    "arr2 = np.array([[9,10,11,12],[13,14,15,16]])\n",
    "\n"
   ]
  },
  {
   "cell_type": "markdown",
   "id": "cd7469cd",
   "metadata": {},
   "source": [
    "# V-Stack: Row-Wise"
   ]
  },
  {
   "cell_type": "code",
   "execution_count": 30,
   "id": "b82fda1a",
   "metadata": {},
   "outputs": [
    {
     "data": {
      "text/plain": [
       "array([[ 1,  2,  3,  4],\n",
       "       [ 5,  6,  7,  8],\n",
       "       [ 9, 10, 11, 12],\n",
       "       [13, 14, 15, 16]])"
      ]
     },
     "execution_count": 30,
     "metadata": {},
     "output_type": "execute_result"
    }
   ],
   "source": [
    "np.concatenate((arr1,arr2), axis=0) #axis 0 mean it will concatenate and increse the number of rows "
   ]
  },
  {
   "cell_type": "markdown",
   "id": "d200c0e8",
   "metadata": {},
   "source": [
    "# H-Stack: Col-Wise"
   ]
  },
  {
   "cell_type": "code",
   "execution_count": 31,
   "id": "be92d416",
   "metadata": {},
   "outputs": [
    {
     "data": {
      "text/plain": [
       "array([[ 1,  2,  3,  4,  9, 10, 11, 12],\n",
       "       [ 5,  6,  7,  8, 13, 14, 15, 16]])"
      ]
     },
     "execution_count": 31,
     "metadata": {},
     "output_type": "execute_result"
    }
   ],
   "source": [
    "np.concatenate((arr1,arr2), axis=1) #axis 1 mean it will concatenate and increse the number of Col "
   ]
  },
  {
   "cell_type": "markdown",
   "id": "f93c9f4c",
   "metadata": {},
   "source": [
    "# We can also use np.vstack and np.hstack"
   ]
  },
  {
   "cell_type": "code",
   "execution_count": 32,
   "id": "b056532f",
   "metadata": {},
   "outputs": [
    {
     "data": {
      "text/plain": [
       "array([[ 1,  2,  3,  4],\n",
       "       [ 5,  6,  7,  8],\n",
       "       [ 9, 10, 11, 12],\n",
       "       [13, 14, 15, 16]])"
      ]
     },
     "execution_count": 32,
     "metadata": {},
     "output_type": "execute_result"
    }
   ],
   "source": [
    "np.vstack((arr1,arr2))"
   ]
  },
  {
   "cell_type": "code",
   "execution_count": 33,
   "id": "5c88de34",
   "metadata": {},
   "outputs": [
    {
     "data": {
      "text/plain": [
       "array([[ 1,  2,  3,  4,  9, 10, 11, 12],\n",
       "       [ 5,  6,  7,  8, 13, 14, 15, 16]])"
      ]
     },
     "execution_count": 33,
     "metadata": {},
     "output_type": "execute_result"
    }
   ],
   "source": [
    "np.hstack((arr1,arr2))"
   ]
  },
  {
   "cell_type": "markdown",
   "id": "fb24454b",
   "metadata": {},
   "source": [
    "# Spliting of arays"
   ]
  },
  {
   "cell_type": "markdown",
   "id": "020af77c",
   "metadata": {},
   "source": [
    "Split the into multiple arrays along x-axis"
   ]
  },
  {
   "cell_type": "code",
   "execution_count": 39,
   "id": "76f60388",
   "metadata": {},
   "outputs": [
    {
     "data": {
      "text/plain": [
       "[array([1, 2]), array([3, 4]), array([ 5,  6,  7,  8,  9, 10])]"
      ]
     },
     "execution_count": 39,
     "metadata": {},
     "output_type": "execute_result"
    }
   ],
   "source": [
    "arr1 = np.array([1,2,3,4,5,6,7,8,9,10])\n",
    "\n",
    "np.split(arr1,[2,4])  # in this [2,4] means that we have to split the array 1st from index 2 and then again aplit from index 4"
   ]
  },
  {
   "cell_type": "markdown",
   "id": "cf31bf18",
   "metadata": {},
   "source": [
    "# If we have to split 2-D Array? then we will use its axis o or 1 for col or rows"
   ]
  },
  {
   "cell_type": "code",
   "execution_count": 41,
   "id": "7e390ae2",
   "metadata": {},
   "outputs": [],
   "source": [
    "arr2d = np.arange(10).reshape(5,2)"
   ]
  },
  {
   "cell_type": "code",
   "execution_count": 42,
   "id": "f696e210",
   "metadata": {},
   "outputs": [
    {
     "data": {
      "text/plain": [
       "array([[0, 1],\n",
       "       [2, 3],\n",
       "       [4, 5],\n",
       "       [6, 7],\n",
       "       [8, 9]])"
      ]
     },
     "execution_count": 42,
     "metadata": {},
     "output_type": "execute_result"
    }
   ],
   "source": [
    "arr2d"
   ]
  },
  {
   "cell_type": "code",
   "execution_count": 43,
   "id": "ea2c6296",
   "metadata": {},
   "outputs": [
    {
     "data": {
      "text/plain": [
       "[array([[0, 1],\n",
       "        [2, 3]]),\n",
       " array([[4, 5],\n",
       "        [6, 7],\n",
       "        [8, 9]])]"
      ]
     },
     "execution_count": 43,
     "metadata": {},
     "output_type": "execute_result"
    }
   ],
   "source": [
    "np.split(arr2d,[2],axis=0)"
   ]
  },
  {
   "cell_type": "markdown",
   "id": "769e238b",
   "metadata": {},
   "source": [
    "# Tile & Repeat"
   ]
  },
  {
   "cell_type": "markdown",
   "id": "49832902",
   "metadata": {},
   "source": [
    "np.tile(array, reps): Repeats the elements of an array along specified axes.\n",
    "    \n",
    "np.repeat(array, repeats): Repeats each element of an array a specified number of times."
   ]
  },
  {
   "cell_type": "code",
   "execution_count": 44,
   "id": "7bce7bde",
   "metadata": {},
   "outputs": [],
   "source": [
    "arr1d = np.array([1,2,3,4,5,6,7,8,9])"
   ]
  },
  {
   "cell_type": "code",
   "execution_count": 45,
   "id": "6ee5a7ca",
   "metadata": {},
   "outputs": [
    {
     "data": {
      "text/plain": [
       "array([1, 2, 3, 4, 5, 6, 7, 8, 9])"
      ]
     },
     "execution_count": 45,
     "metadata": {},
     "output_type": "execute_result"
    }
   ],
   "source": [
    "arr1d"
   ]
  },
  {
   "cell_type": "code",
   "execution_count": 48,
   "id": "d44827df",
   "metadata": {},
   "outputs": [
    {
     "data": {
      "text/plain": [
       "array([ 1,  1,  2,  2,  3,  3,  4,  4,  5,  5,  6,  6,  7,  7,  8,  8,  9,\n",
       "        9, 10, 10])"
      ]
     },
     "execution_count": 48,
     "metadata": {},
     "output_type": "execute_result"
    }
   ],
   "source": [
    "np.repeat(arr1,2) # we have to repeat arr1 and 2 parameter mean that we want every elennt in two times repeatations"
   ]
  },
  {
   "cell_type": "code",
   "execution_count": 51,
   "id": "c908c124",
   "metadata": {},
   "outputs": [
    {
     "data": {
      "text/plain": [
       "array([1, 2, 3, 4, 5, 6, 7, 8, 9, 1, 2, 3, 4, 5, 6, 7, 8, 9])"
      ]
     },
     "execution_count": 51,
     "metadata": {},
     "output_type": "execute_result"
    }
   ],
   "source": [
    "np.tile(arr1d,2)"
   ]
  },
  {
   "cell_type": "code",
   "execution_count": null,
   "id": "fcfac039",
   "metadata": {},
   "outputs": [],
   "source": []
  }
 ],
 "metadata": {
  "kernelspec": {
   "display_name": "Python 3 (ipykernel)",
   "language": "python",
   "name": "python3"
  },
  "language_info": {
   "codemirror_mode": {
    "name": "ipython",
    "version": 3
   },
   "file_extension": ".py",
   "mimetype": "text/x-python",
   "name": "python",
   "nbconvert_exporter": "python",
   "pygments_lexer": "ipython3",
   "version": "3.9.7"
  }
 },
 "nbformat": 4,
 "nbformat_minor": 5
}
