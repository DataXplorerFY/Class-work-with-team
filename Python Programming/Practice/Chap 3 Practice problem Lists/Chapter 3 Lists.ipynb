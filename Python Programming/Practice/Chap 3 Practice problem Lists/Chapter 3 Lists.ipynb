{
 "cells": [
  {
   "cell_type": "code",
   "execution_count": 1,
   "id": "7ec38d95",
   "metadata": {},
   "outputs": [
    {
     "name": "stdout",
     "output_type": "stream",
     "text": [
      "Enter your name!Farhan\n"
     ]
    },
    {
     "data": {
      "text/plain": [
       "'Farhan'"
      ]
     },
     "execution_count": 1,
     "metadata": {},
     "output_type": "execute_result"
    }
   ],
   "source": [
    "name = input(\"Enter your name!\")\n",
    "name"
   ]
  },
  {
   "cell_type": "code",
   "execution_count": 2,
   "id": "74ec3f7c",
   "metadata": {},
   "outputs": [
    {
     "data": {
      "text/plain": [
       "str"
      ]
     },
     "execution_count": 2,
     "metadata": {},
     "output_type": "execute_result"
    }
   ],
   "source": [
    "type(name)"
   ]
  },
  {
   "cell_type": "code",
   "execution_count": 3,
   "id": "4fbafe20",
   "metadata": {},
   "outputs": [
    {
     "name": "stdout",
     "output_type": "stream",
     "text": [
      "Enter your age 2\n"
     ]
    },
    {
     "data": {
      "text/plain": [
       "2"
      ]
     },
     "execution_count": 3,
     "metadata": {},
     "output_type": "execute_result"
    }
   ],
   "source": [
    "age = int(input(\"Enter your age \"))\n",
    "age"
   ]
  },
  {
   "cell_type": "code",
   "execution_count": 4,
   "id": "87f950d8",
   "metadata": {},
   "outputs": [
    {
     "data": {
      "text/plain": [
       "int"
      ]
     },
     "execution_count": 4,
     "metadata": {},
     "output_type": "execute_result"
    }
   ],
   "source": [
    "type(age)"
   ]
  },
  {
   "cell_type": "markdown",
   "id": "44e73757",
   "metadata": {},
   "source": [
    "# Chapter 3 introduction to Lists in python "
   ]
  },
  {
   "cell_type": "code",
   "execution_count": 5,
   "id": "27dd0042",
   "metadata": {},
   "outputs": [],
   "source": [
    "list_1 = [\"Farhan\",\"Ali\",\"Hamza\",\"Asad\"]"
   ]
  },
  {
   "cell_type": "code",
   "execution_count": 6,
   "id": "337ac234",
   "metadata": {},
   "outputs": [
    {
     "data": {
      "text/plain": [
       "['Farhan', 'Ali', 'Hamza', 'Asad']"
      ]
     },
     "execution_count": 6,
     "metadata": {},
     "output_type": "execute_result"
    }
   ],
   "source": [
    "list_1"
   ]
  },
  {
   "cell_type": "code",
   "execution_count": 7,
   "id": "db323bb8",
   "metadata": {},
   "outputs": [],
   "source": [
    "list_2 = [1,2,3,4,5]"
   ]
  },
  {
   "cell_type": "code",
   "execution_count": 8,
   "id": "1afafcdd",
   "metadata": {},
   "outputs": [
    {
     "data": {
      "text/plain": [
       "[1, 2, 3, 4, 5]"
      ]
     },
     "execution_count": 8,
     "metadata": {},
     "output_type": "execute_result"
    }
   ],
   "source": [
    "list_2"
   ]
  },
  {
   "cell_type": "code",
   "execution_count": 9,
   "id": "a9d4b42d",
   "metadata": {},
   "outputs": [],
   "source": [
    "list_3 = [2.3,4.5,6.7]"
   ]
  },
  {
   "cell_type": "code",
   "execution_count": 10,
   "id": "14974d5f",
   "metadata": {},
   "outputs": [
    {
     "data": {
      "text/plain": [
       "[2.3, 4.5, 6.7]"
      ]
     },
     "execution_count": 10,
     "metadata": {},
     "output_type": "execute_result"
    }
   ],
   "source": [
    "list_3"
   ]
  },
  {
   "cell_type": "code",
   "execution_count": 11,
   "id": "438bcfeb",
   "metadata": {},
   "outputs": [],
   "source": [
    "list_4 = [\"Farhan\",\"Ali\", 23, 5.8, 2.8]"
   ]
  },
  {
   "cell_type": "code",
   "execution_count": 12,
   "id": "018134e3",
   "metadata": {},
   "outputs": [
    {
     "data": {
      "text/plain": [
       "['Farhan', 'Ali', 23, 5.8, 2.8]"
      ]
     },
     "execution_count": 12,
     "metadata": {},
     "output_type": "execute_result"
    }
   ],
   "source": [
    "list_4"
   ]
  },
  {
   "cell_type": "markdown",
   "id": "9c726192",
   "metadata": {},
   "source": [
    "# List Functions "
   ]
  },
  {
   "cell_type": "code",
   "execution_count": 13,
   "id": "7e4a2254",
   "metadata": {},
   "outputs": [],
   "source": [
    "list = [\"Farhan\", \"Ali\",\"Asad\"]"
   ]
  },
  {
   "cell_type": "code",
   "execution_count": 14,
   "id": "25be3826",
   "metadata": {},
   "outputs": [
    {
     "data": {
      "text/plain": [
       "['Farhan', 'Ali', 'Asad']"
      ]
     },
     "execution_count": 14,
     "metadata": {},
     "output_type": "execute_result"
    }
   ],
   "source": [
    "list "
   ]
  },
  {
   "cell_type": "markdown",
   "id": "e32d3507",
   "metadata": {},
   "source": [
    "#  How to access list items"
   ]
  },
  {
   "cell_type": "code",
   "execution_count": 15,
   "id": "a6b6f568",
   "metadata": {},
   "outputs": [
    {
     "data": {
      "text/plain": [
       "'Farhan'"
      ]
     },
     "execution_count": 15,
     "metadata": {},
     "output_type": "execute_result"
    }
   ],
   "source": [
    "list[0]"
   ]
  },
  {
   "cell_type": "code",
   "execution_count": 16,
   "id": "5eef2547",
   "metadata": {},
   "outputs": [
    {
     "data": {
      "text/plain": [
       "'Ali'"
      ]
     },
     "execution_count": 16,
     "metadata": {},
     "output_type": "execute_result"
    }
   ],
   "source": [
    "list[1]"
   ]
  },
  {
   "cell_type": "code",
   "execution_count": 17,
   "id": "21979b29",
   "metadata": {},
   "outputs": [],
   "source": [
    "fruits = []"
   ]
  },
  {
   "cell_type": "code",
   "execution_count": 18,
   "id": "c3ea7518",
   "metadata": {},
   "outputs": [
    {
     "data": {
      "text/plain": [
       "0"
      ]
     },
     "execution_count": 18,
     "metadata": {},
     "output_type": "execute_result"
    }
   ],
   "source": [
    "len(fruits)"
   ]
  },
  {
   "cell_type": "markdown",
   "id": "78b8a11a",
   "metadata": {},
   "source": [
    "# how to add item in a list "
   ]
  },
  {
   "cell_type": "code",
   "execution_count": 19,
   "id": "53aad198",
   "metadata": {},
   "outputs": [],
   "source": [
    "#we can use append  function to add items in a list in the last . and it will only take one value "
   ]
  },
  {
   "cell_type": "code",
   "execution_count": 20,
   "id": "2146d6d5",
   "metadata": {},
   "outputs": [
    {
     "data": {
      "text/plain": [
       "[]"
      ]
     },
     "execution_count": 20,
     "metadata": {},
     "output_type": "execute_result"
    }
   ],
   "source": [
    "fruits"
   ]
  },
  {
   "cell_type": "code",
   "execution_count": 21,
   "id": "22e2db03",
   "metadata": {},
   "outputs": [],
   "source": [
    "fruits.append(\"apple\")"
   ]
  },
  {
   "cell_type": "code",
   "execution_count": 22,
   "id": "fb963b0b",
   "metadata": {},
   "outputs": [
    {
     "data": {
      "text/plain": [
       "['apple']"
      ]
     },
     "execution_count": 22,
     "metadata": {},
     "output_type": "execute_result"
    }
   ],
   "source": [
    "fruits"
   ]
  },
  {
   "cell_type": "code",
   "execution_count": 23,
   "id": "1a98d192",
   "metadata": {},
   "outputs": [],
   "source": [
    "fruits.append(\"cherry\")"
   ]
  },
  {
   "cell_type": "code",
   "execution_count": 24,
   "id": "966c13be",
   "metadata": {},
   "outputs": [
    {
     "data": {
      "text/plain": [
       "['apple', 'cherry']"
      ]
     },
     "execution_count": 24,
     "metadata": {},
     "output_type": "execute_result"
    }
   ],
   "source": [
    "fruits"
   ]
  },
  {
   "cell_type": "code",
   "execution_count": 25,
   "id": "39f66250",
   "metadata": {},
   "outputs": [],
   "source": [
    "fruits.append(\"banana\")"
   ]
  },
  {
   "cell_type": "code",
   "execution_count": 26,
   "id": "46cb75cc",
   "metadata": {},
   "outputs": [
    {
     "data": {
      "text/plain": [
       "['apple', 'cherry', 'banana']"
      ]
     },
     "execution_count": 26,
     "metadata": {},
     "output_type": "execute_result"
    }
   ],
   "source": [
    "fruits\n"
   ]
  },
  {
   "cell_type": "code",
   "execution_count": 27,
   "id": "21ea4e4f",
   "metadata": {},
   "outputs": [],
   "source": [
    "# Next Insert funstion, it will also add values in the list but it also can take index number where you want to add the value "
   ]
  },
  {
   "cell_type": "code",
   "execution_count": 28,
   "id": "e1cea07b",
   "metadata": {},
   "outputs": [
    {
     "data": {
      "text/plain": [
       "['apple', 'cherry', 'banana']"
      ]
     },
     "execution_count": 28,
     "metadata": {},
     "output_type": "execute_result"
    }
   ],
   "source": [
    "fruits"
   ]
  },
  {
   "cell_type": "code",
   "execution_count": 29,
   "id": "38821eea",
   "metadata": {},
   "outputs": [],
   "source": [
    "fruits.insert(1,\"Mango\") #itll will add Mango in the 1st index"
   ]
  },
  {
   "cell_type": "code",
   "execution_count": 30,
   "id": "05c565e4",
   "metadata": {},
   "outputs": [
    {
     "data": {
      "text/plain": [
       "['apple', 'Mango', 'cherry', 'banana']"
      ]
     },
     "execution_count": 30,
     "metadata": {},
     "output_type": "execute_result"
    }
   ],
   "source": [
    "fruits"
   ]
  },
  {
   "cell_type": "code",
   "execution_count": 31,
   "id": "3bf1a799",
   "metadata": {},
   "outputs": [],
   "source": [
    "# If we want to add multiple valuse or item in the list by once, then we can use extent function of list "
   ]
  },
  {
   "cell_type": "code",
   "execution_count": 32,
   "id": "ae032a69",
   "metadata": {},
   "outputs": [
    {
     "data": {
      "text/plain": [
       "['apple', 'Mango', 'cherry', 'banana']"
      ]
     },
     "execution_count": 32,
     "metadata": {},
     "output_type": "execute_result"
    }
   ],
   "source": [
    "fruits"
   ]
  },
  {
   "cell_type": "code",
   "execution_count": 33,
   "id": "86ef58b5",
   "metadata": {},
   "outputs": [],
   "source": [
    "fruits.extend([\"APPLE\",\"ORANGE\",\"MANGO\",\"BANANA\"]) #for this we will give a list for multiple valuse"
   ]
  },
  {
   "cell_type": "code",
   "execution_count": 34,
   "id": "7d108bc3",
   "metadata": {},
   "outputs": [
    {
     "data": {
      "text/plain": [
       "['apple', 'Mango', 'cherry', 'banana', 'APPLE', 'ORANGE', 'MANGO', 'BANANA']"
      ]
     },
     "execution_count": 34,
     "metadata": {},
     "output_type": "execute_result"
    }
   ],
   "source": [
    "fruits"
   ]
  },
  {
   "cell_type": "markdown",
   "id": "fcfb195d",
   "metadata": {},
   "source": [
    "# For counting we can use count function"
   ]
  },
  {
   "cell_type": "code",
   "execution_count": 35,
   "id": "23b7253a",
   "metadata": {},
   "outputs": [],
   "source": [
    "#if we want to count thatb how many time a number contain in a list we can use count() function "
   ]
  },
  {
   "cell_type": "code",
   "execution_count": 36,
   "id": "99507aa8",
   "metadata": {},
   "outputs": [
    {
     "data": {
      "text/plain": [
       "['apple', 'Mango', 'cherry', 'banana', 'APPLE', 'ORANGE', 'MANGO', 'BANANA']"
      ]
     },
     "execution_count": 36,
     "metadata": {},
     "output_type": "execute_result"
    }
   ],
   "source": [
    "fruits"
   ]
  },
  {
   "cell_type": "code",
   "execution_count": 37,
   "id": "e8417d60",
   "metadata": {},
   "outputs": [
    {
     "data": {
      "text/plain": [
       "1"
      ]
     },
     "execution_count": 37,
     "metadata": {},
     "output_type": "execute_result"
    }
   ],
   "source": [
    "fruits.count(\"apple\")"
   ]
  },
  {
   "cell_type": "code",
   "execution_count": 38,
   "id": "ec516e83",
   "metadata": {},
   "outputs": [
    {
     "data": {
      "text/plain": [
       "1"
      ]
     },
     "execution_count": 38,
     "metadata": {},
     "output_type": "execute_result"
    }
   ],
   "source": [
    "fruits.count(\"Mango\")"
   ]
  },
  {
   "cell_type": "code",
   "execution_count": 39,
   "id": "d01bad5f",
   "metadata": {},
   "outputs": [],
   "source": [
    "#if we want to know about the index number of item in the list then we can use index function "
   ]
  },
  {
   "cell_type": "code",
   "execution_count": 40,
   "id": "7212a699",
   "metadata": {},
   "outputs": [
    {
     "data": {
      "text/plain": [
       "['apple', 'Mango', 'cherry', 'banana', 'APPLE', 'ORANGE', 'MANGO', 'BANANA']"
      ]
     },
     "execution_count": 40,
     "metadata": {},
     "output_type": "execute_result"
    }
   ],
   "source": [
    "fruits"
   ]
  },
  {
   "cell_type": "code",
   "execution_count": 41,
   "id": "b0cd4f83",
   "metadata": {},
   "outputs": [
    {
     "data": {
      "text/plain": [
       "3"
      ]
     },
     "execution_count": 41,
     "metadata": {},
     "output_type": "execute_result"
    }
   ],
   "source": [
    "fruits.index(\"banana\")"
   ]
  },
  {
   "cell_type": "markdown",
   "id": "fb1af9a2",
   "metadata": {},
   "source": [
    "# Clear Function"
   ]
  },
  {
   "cell_type": "code",
   "execution_count": 42,
   "id": "b4fd3465",
   "metadata": {},
   "outputs": [],
   "source": [
    "#it will delete all the elements from the list permamnntly "
   ]
  },
  {
   "cell_type": "code",
   "execution_count": 43,
   "id": "fe42bfe4",
   "metadata": {},
   "outputs": [],
   "source": [
    "Names = [\"Farhan\",\"Ali\",\"Asad\",\"Johns\"]"
   ]
  },
  {
   "cell_type": "code",
   "execution_count": 44,
   "id": "44b0bc56",
   "metadata": {},
   "outputs": [
    {
     "data": {
      "text/plain": [
       "['Farhan', 'Ali', 'Asad', 'Johns']"
      ]
     },
     "execution_count": 44,
     "metadata": {},
     "output_type": "execute_result"
    }
   ],
   "source": [
    "Names"
   ]
  },
  {
   "cell_type": "code",
   "execution_count": 45,
   "id": "56d5c948",
   "metadata": {},
   "outputs": [],
   "source": [
    "Names.clear()"
   ]
  },
  {
   "cell_type": "code",
   "execution_count": 46,
   "id": "c08c0f1a",
   "metadata": {},
   "outputs": [
    {
     "data": {
      "text/plain": [
       "[]"
      ]
     },
     "execution_count": 46,
     "metadata": {},
     "output_type": "execute_result"
    }
   ],
   "source": [
    "Names"
   ]
  },
  {
   "cell_type": "markdown",
   "id": "ebd5bed7",
   "metadata": {},
   "source": [
    "# Copy Function"
   ]
  },
  {
   "cell_type": "markdown",
   "id": "6deb865c",
   "metadata": {},
   "source": [
    "# Copy Function make the copy of the origional list and then we have 2 different lists one is oriogional and 2nd is copied list. It is copyed items by value"
   ]
  },
  {
   "cell_type": "code",
   "execution_count": 47,
   "id": "b4d86b0e",
   "metadata": {},
   "outputs": [
    {
     "data": {
      "text/plain": [
       "['apple', 'Mango', 'cherry', 'banana', 'APPLE', 'ORANGE', 'MANGO', 'BANANA']"
      ]
     },
     "execution_count": 47,
     "metadata": {},
     "output_type": "execute_result"
    }
   ],
   "source": [
    "fruits"
   ]
  },
  {
   "cell_type": "code",
   "execution_count": 48,
   "id": "0b7d3e95",
   "metadata": {},
   "outputs": [],
   "source": [
    "Fruits_02 = fruits.copy()"
   ]
  },
  {
   "cell_type": "code",
   "execution_count": 49,
   "id": "44f47476",
   "metadata": {},
   "outputs": [
    {
     "data": {
      "text/plain": [
       "['apple', 'Mango', 'cherry', 'banana', 'APPLE', 'ORANGE', 'MANGO', 'BANANA']"
      ]
     },
     "execution_count": 49,
     "metadata": {},
     "output_type": "execute_result"
    }
   ],
   "source": [
    "Fruits_02"
   ]
  },
  {
   "cell_type": "code",
   "execution_count": 50,
   "id": "2b8fcb3b",
   "metadata": {},
   "outputs": [
    {
     "name": "stdout",
     "output_type": "stream",
     "text": [
      "This is the 1st origional list ['apple', 'Mango', 'cherry', 'banana', 'APPLE', 'ORANGE', 'MANGO', 'BANANA']\n",
      "This is the 2nd Copied list ['apple', 'Mango', 'cherry', 'banana', 'APPLE', 'ORANGE', 'MANGO', 'BANANA']\n"
     ]
    }
   ],
   "source": [
    "print(f\"This is the 1st origional list {fruits}\")\n",
    "print(f\"This is the 2nd Copied list {Fruits_02}\")\n"
   ]
  },
  {
   "cell_type": "markdown",
   "id": "f440f649",
   "metadata": {},
   "source": [
    "# How to remove items from list "
   ]
  },
  {
   "cell_type": "code",
   "execution_count": 51,
   "id": "68887cd8",
   "metadata": {},
   "outputs": [],
   "source": [
    "# we can delete items from list in 2 ways "
   ]
  },
  {
   "cell_type": "code",
   "execution_count": 52,
   "id": "2f90d866",
   "metadata": {},
   "outputs": [],
   "source": [
    "cities = [\"Faisalabad\", \"Lahore\",\"karachi\",\"Islamabad\"]"
   ]
  },
  {
   "cell_type": "code",
   "execution_count": 53,
   "id": "8a6c53b4",
   "metadata": {},
   "outputs": [
    {
     "data": {
      "text/plain": [
       "['Faisalabad', 'Lahore', 'karachi', 'Islamabad']"
      ]
     },
     "execution_count": 53,
     "metadata": {},
     "output_type": "execute_result"
    }
   ],
   "source": [
    "cities"
   ]
  },
  {
   "cell_type": "code",
   "execution_count": 54,
   "id": "55f16bce",
   "metadata": {},
   "outputs": [],
   "source": [
    "# 1st way is Dell keyword"
   ]
  },
  {
   "cell_type": "code",
   "execution_count": 55,
   "id": "7c5f16f8",
   "metadata": {},
   "outputs": [],
   "source": [
    "del cities[0] #it will take index number 0 and delete it "
   ]
  },
  {
   "cell_type": "code",
   "execution_count": 56,
   "id": "5a5c81fb",
   "metadata": {},
   "outputs": [
    {
     "data": {
      "text/plain": [
       "['Lahore', 'karachi', 'Islamabad']"
      ]
     },
     "execution_count": 56,
     "metadata": {},
     "output_type": "execute_result"
    }
   ],
   "source": [
    "cities"
   ]
  },
  {
   "cell_type": "code",
   "execution_count": 57,
   "id": "56874945",
   "metadata": {},
   "outputs": [],
   "source": [
    "# The other method is remove it will take value and delete it "
   ]
  },
  {
   "cell_type": "code",
   "execution_count": 58,
   "id": "39cac4cd",
   "metadata": {},
   "outputs": [],
   "source": [
    "cities.remove(\"Lahore\")"
   ]
  },
  {
   "cell_type": "code",
   "execution_count": 59,
   "id": "b98b572a",
   "metadata": {},
   "outputs": [
    {
     "data": {
      "text/plain": [
       "['karachi', 'Islamabad']"
      ]
     },
     "execution_count": 59,
     "metadata": {},
     "output_type": "execute_result"
    }
   ],
   "source": [
    "cities"
   ]
  },
  {
   "cell_type": "markdown",
   "id": "0dd6e08b",
   "metadata": {},
   "source": [
    "# Pop Function"
   ]
  },
  {
   "cell_type": "code",
   "execution_count": 60,
   "id": "cecbab02",
   "metadata": {},
   "outputs": [],
   "source": [
    "#pop function is same as remove but it return the value after removing "
   ]
  },
  {
   "cell_type": "code",
   "execution_count": 61,
   "id": "46fafcbe",
   "metadata": {},
   "outputs": [
    {
     "data": {
      "text/plain": [
       "['karachi', 'Islamabad']"
      ]
     },
     "execution_count": 61,
     "metadata": {},
     "output_type": "execute_result"
    }
   ],
   "source": [
    "cities"
   ]
  },
  {
   "cell_type": "code",
   "execution_count": 62,
   "id": "6a146e06",
   "metadata": {},
   "outputs": [],
   "source": [
    "cities.append(\"Lahore\")"
   ]
  },
  {
   "cell_type": "code",
   "execution_count": 63,
   "id": "6de5494e",
   "metadata": {},
   "outputs": [
    {
     "data": {
      "text/plain": [
       "['karachi', 'Islamabad', 'Lahore']"
      ]
     },
     "execution_count": 63,
     "metadata": {},
     "output_type": "execute_result"
    }
   ],
   "source": [
    "cities"
   ]
  },
  {
   "cell_type": "code",
   "execution_count": 64,
   "id": "f070df85",
   "metadata": {},
   "outputs": [],
   "source": [
    "cities.insert(0, \"KPK\")"
   ]
  },
  {
   "cell_type": "code",
   "execution_count": 65,
   "id": "c94da182",
   "metadata": {},
   "outputs": [
    {
     "data": {
      "text/plain": [
       "['KPK', 'karachi', 'Islamabad', 'Lahore']"
      ]
     },
     "execution_count": 65,
     "metadata": {},
     "output_type": "execute_result"
    }
   ],
   "source": [
    "cities"
   ]
  },
  {
   "cell_type": "code",
   "execution_count": 66,
   "id": "4dab4cf9",
   "metadata": {},
   "outputs": [],
   "source": [
    "poppedCities = cities.pop()"
   ]
  },
  {
   "cell_type": "code",
   "execution_count": 67,
   "id": "1c3c5ee6",
   "metadata": {},
   "outputs": [
    {
     "name": "stdout",
     "output_type": "stream",
     "text": [
      " This city is popped from list Lahore\n",
      " The remaining cities are ['KPK', 'karachi', 'Islamabad']\n"
     ]
    }
   ],
   "source": [
    "print(f\" This city is popped from list {poppedCities}\")\n",
    "print(f\" The remaining cities are {cities}\")"
   ]
  },
  {
   "cell_type": "markdown",
   "id": "8f9ced62",
   "metadata": {},
   "source": [
    "# Sort and Reverse  Functions"
   ]
  },
  {
   "cell_type": "code",
   "execution_count": 68,
   "id": "38be2c83",
   "metadata": {},
   "outputs": [
    {
     "data": {
      "text/plain": [
       "['KPK', 'karachi', 'Islamabad']"
      ]
     },
     "execution_count": 68,
     "metadata": {},
     "output_type": "execute_result"
    }
   ],
   "source": [
    "cities"
   ]
  },
  {
   "cell_type": "code",
   "execution_count": 69,
   "id": "f207b464",
   "metadata": {},
   "outputs": [],
   "source": [
    "cities.sort() #it will sort values in the asscending order"
   ]
  },
  {
   "cell_type": "code",
   "execution_count": 70,
   "id": "e1fbb80b",
   "metadata": {},
   "outputs": [
    {
     "data": {
      "text/plain": [
       "['Islamabad', 'KPK', 'karachi']"
      ]
     },
     "execution_count": 70,
     "metadata": {},
     "output_type": "execute_result"
    }
   ],
   "source": [
    "cities"
   ]
  },
  {
   "cell_type": "code",
   "execution_count": 71,
   "id": "274122cf",
   "metadata": {},
   "outputs": [],
   "source": [
    "cities.reverse() # it will reverse the items in the desending order"
   ]
  },
  {
   "cell_type": "code",
   "execution_count": 72,
   "id": "3800928c",
   "metadata": {},
   "outputs": [
    {
     "data": {
      "text/plain": [
       "['karachi', 'KPK', 'Islamabad']"
      ]
     },
     "execution_count": 72,
     "metadata": {},
     "output_type": "execute_result"
    }
   ],
   "source": [
    "cities"
   ]
  },
  {
   "cell_type": "code",
   "execution_count": 73,
   "id": "814432da",
   "metadata": {},
   "outputs": [],
   "source": [
    "First_Name = [\"Farhan\", \"Ali\"]"
   ]
  },
  {
   "cell_type": "code",
   "execution_count": 74,
   "id": "8eaf4f52",
   "metadata": {},
   "outputs": [],
   "source": [
    "First_Name.reverse()"
   ]
  },
  {
   "cell_type": "code",
   "execution_count": 75,
   "id": "e2d456b1",
   "metadata": {},
   "outputs": [
    {
     "data": {
      "text/plain": [
       "['Ali', 'Farhan']"
      ]
     },
     "execution_count": 75,
     "metadata": {},
     "output_type": "execute_result"
    }
   ],
   "source": [
    "First_Name"
   ]
  },
  {
   "cell_type": "markdown",
   "id": "13d5a99e",
   "metadata": {},
   "source": [
    "# Problem Solving Chap 3 Lists\n"
   ]
  },
  {
   "cell_type": "markdown",
   "id": "429125df",
   "metadata": {},
   "source": [
    "# 3-1. Names: Store the names of a few of your friends in a list called names. Print each person’s name by accessing each element in the list, one at a time."
   ]
  },
  {
   "cell_type": "code",
   "execution_count": 76,
   "id": "b75b7f27",
   "metadata": {},
   "outputs": [],
   "source": [
    "names = [\"Farhan\",\"Abdulrehman\",\"hafiz\"]"
   ]
  },
  {
   "cell_type": "code",
   "execution_count": 77,
   "id": "f6ac5e3c",
   "metadata": {},
   "outputs": [
    {
     "data": {
      "text/plain": [
       "'Farhan'"
      ]
     },
     "execution_count": 77,
     "metadata": {},
     "output_type": "execute_result"
    }
   ],
   "source": [
    "names[0]"
   ]
  },
  {
   "cell_type": "code",
   "execution_count": 78,
   "id": "19864e66",
   "metadata": {},
   "outputs": [
    {
     "data": {
      "text/plain": [
       "'Abdulrehman'"
      ]
     },
     "execution_count": 78,
     "metadata": {},
     "output_type": "execute_result"
    }
   ],
   "source": [
    "names[1]"
   ]
  },
  {
   "cell_type": "code",
   "execution_count": 79,
   "id": "91964888",
   "metadata": {},
   "outputs": [
    {
     "data": {
      "text/plain": [
       "'hafiz'"
      ]
     },
     "execution_count": 79,
     "metadata": {},
     "output_type": "execute_result"
    }
   ],
   "source": [
    "names[2]"
   ]
  },
  {
   "cell_type": "code",
   "execution_count": 80,
   "id": "e648ee30",
   "metadata": {},
   "outputs": [
    {
     "ename": "IndexError",
     "evalue": "list index out of range",
     "output_type": "error",
     "traceback": [
      "\u001b[1;31m---------------------------------------------------------------------------\u001b[0m",
      "\u001b[1;31mIndexError\u001b[0m                                Traceback (most recent call last)",
      "\u001b[1;32m~\\AppData\\Local\\Temp/ipykernel_19872/2793969243.py\u001b[0m in \u001b[0;36m<module>\u001b[1;34m\u001b[0m\n\u001b[1;32m----> 1\u001b[1;33m \u001b[0mnames\u001b[0m\u001b[1;33m[\u001b[0m\u001b[1;36m3\u001b[0m\u001b[1;33m]\u001b[0m\u001b[1;33m\u001b[0m\u001b[1;33m\u001b[0m\u001b[0m\n\u001b[0m",
      "\u001b[1;31mIndexError\u001b[0m: list index out of range"
     ]
    }
   ],
   "source": [
    "names[3] "
   ]
  },
  {
   "cell_type": "markdown",
   "id": "0810a971",
   "metadata": {},
   "source": [
    "# 3-2. Greetings: Start with the list you used in Exercise 3-1, but instead of just printing each person’s name, print a message to them. The text of each message should be the same, but each message should be personalized with the person’s name."
   ]
  },
  {
   "cell_type": "code",
   "execution_count": 81,
   "id": "0144e1c6",
   "metadata": {},
   "outputs": [
    {
     "data": {
      "text/plain": [
       "['Farhan', 'Abdulrehman', 'hafiz']"
      ]
     },
     "execution_count": 81,
     "metadata": {},
     "output_type": "execute_result"
    }
   ],
   "source": [
    "names"
   ]
  },
  {
   "cell_type": "code",
   "execution_count": 82,
   "id": "ab5491a5",
   "metadata": {},
   "outputs": [],
   "source": [
    "message = \"How are you!\""
   ]
  },
  {
   "cell_type": "code",
   "execution_count": 83,
   "id": "f2a4aaa2",
   "metadata": {},
   "outputs": [
    {
     "name": "stdout",
     "output_type": "stream",
     "text": [
      "Hello   Farhan How are you!\n"
     ]
    }
   ],
   "source": [
    "print(\"Hello\", \" \", names[0],message)"
   ]
  },
  {
   "cell_type": "code",
   "execution_count": 84,
   "id": "3e34c5cc",
   "metadata": {},
   "outputs": [
    {
     "name": "stdout",
     "output_type": "stream",
     "text": [
      "Hello   Abdulrehman How are you!\n"
     ]
    }
   ],
   "source": [
    "print(\"Hello\", \" \", names[1],message)"
   ]
  },
  {
   "cell_type": "code",
   "execution_count": 85,
   "id": "7ca52edb",
   "metadata": {},
   "outputs": [
    {
     "name": "stdout",
     "output_type": "stream",
     "text": [
      "Hello   hafiz How are you!\n"
     ]
    }
   ],
   "source": [
    "print(\"Hello\", \" \", names[2],message)"
   ]
  },
  {
   "cell_type": "markdown",
   "id": "b0d0adbb",
   "metadata": {},
   "source": [
    "# 3-3. Your Own List: Think of your favorite mode of transportation, such as a motorcycle or a car, and make a list that stores several examples. Use your list to print a series of statements about these items, such as “I would like to own a Honda motorcycle.” "
   ]
  },
  {
   "cell_type": "code",
   "execution_count": 86,
   "id": "e31f0205",
   "metadata": {},
   "outputs": [],
   "source": [
    "vehicles = [\"Bike\", \"HeavyBike\", \"Car\", \"Cycle\"]"
   ]
  },
  {
   "cell_type": "code",
   "execution_count": 87,
   "id": "3972b47a",
   "metadata": {},
   "outputs": [],
   "source": [
    "statement = \"I would like to own a\""
   ]
  },
  {
   "cell_type": "code",
   "execution_count": 88,
   "id": "ad88b4c6",
   "metadata": {},
   "outputs": [
    {
     "name": "stdout",
     "output_type": "stream",
     "text": [
      "I would like to own a Bike\n"
     ]
    }
   ],
   "source": [
    "print(statement, vehicles[0])"
   ]
  },
  {
   "cell_type": "code",
   "execution_count": 89,
   "id": "7f51aac5",
   "metadata": {},
   "outputs": [
    {
     "name": "stdout",
     "output_type": "stream",
     "text": [
      "I would like to own a HeavyBike\n"
     ]
    }
   ],
   "source": [
    "print(statement, vehicles[1])"
   ]
  },
  {
   "cell_type": "code",
   "execution_count": 90,
   "id": "5610372f",
   "metadata": {},
   "outputs": [
    {
     "name": "stdout",
     "output_type": "stream",
     "text": [
      "I would like to own a Car\n"
     ]
    }
   ],
   "source": [
    "print(statement, vehicles[2])"
   ]
  },
  {
   "cell_type": "code",
   "execution_count": 91,
   "id": "139b1ae4",
   "metadata": {},
   "outputs": [
    {
     "name": "stdout",
     "output_type": "stream",
     "text": [
      "I would like to own a Bike\n",
      "I would like to own a HeavyBike\n",
      "I would like to own a Car\n",
      "I would like to own a Cycle\n"
     ]
    }
   ],
   "source": [
    "for i in vehicles:\n",
    "    print(statement, i)"
   ]
  },
  {
   "cell_type": "markdown",
   "id": "f6354197",
   "metadata": {},
   "source": [
    "# 3-4. Guest List: If you could invite anyone, living or deceased, to dinner, who would you invite? Make a list that includes at least three people you’d like to invite to dinner. Then use your list to print a message to each person, inviting them to dinner."
   ]
  },
  {
   "cell_type": "code",
   "execution_count": 92,
   "id": "8c286291",
   "metadata": {},
   "outputs": [],
   "source": [
    "Guest_list = [\"Quaid e Azam\", \"Allama iqbal\",\"Imran Khan\", \"Barrister Gohar\"]"
   ]
  },
  {
   "cell_type": "code",
   "execution_count": 93,
   "id": "014492fd",
   "metadata": {},
   "outputs": [],
   "source": [
    "message = \"I would like you to join me at My dinner party on Thursday 8PM, at Royal palace!\""
   ]
  },
  {
   "cell_type": "code",
   "execution_count": 98,
   "id": "4c2847ee",
   "metadata": {},
   "outputs": [
    {
     "name": "stdout",
     "output_type": "stream",
     "text": [
      "Hi Quaid e Azam I would like you to join me at My dinner party on Thursday 8PM, at Royal palace!\n",
      "Hi Allama iqbal I would like you to join me at My dinner party on Thursday 8PM, at Royal palace!\n",
      "Hi Imran Khan I would like you to join me at My dinner party on Thursday 8PM, at Royal palace!\n",
      "Hi Barrister Gohar I would like you to join me at My dinner party on Thursday 8PM, at Royal palace!\n"
     ]
    }
   ],
   "source": [
    "for i in Guest_list:\n",
    "    print(\"Hi\", i, message)"
   ]
  },
  {
   "cell_type": "markdown",
   "id": "36f4e8e0",
   "metadata": {},
   "source": [
    "# 3-5. Changing Guest List: You just heard that one of your guests can’t make the dinner, so you need to send out a new set of invitations. You’ll have to think of someone else to invite."
   ]
  },
  {
   "cell_type": "markdown",
   "id": "5a92d8c0",
   "metadata": {},
   "source": [
    "Start with your program from Exercise 3-4. Add a print() call at the end of\n",
    "your program, stating the name of the guest who can’t make it."
   ]
  },
  {
   "cell_type": "code",
   "execution_count": 99,
   "id": "9dac9dd4",
   "metadata": {},
   "outputs": [
    {
     "name": "stdout",
     "output_type": "stream",
     "text": [
      "Quaid e Azam Due to heavy rain in his city he will not join us \n"
     ]
    }
   ],
   "source": [
    "print(Guest_list[0], \"Due to heavy rain in his city he will not join us \")"
   ]
  },
  {
   "cell_type": "code",
   "execution_count": 100,
   "id": "eff18cbc",
   "metadata": {},
   "outputs": [
    {
     "data": {
      "text/plain": [
       "['Quaid e Azam', 'Allama iqbal', 'Imran Khan', 'Barrister Gohar']"
      ]
     },
     "execution_count": 100,
     "metadata": {},
     "output_type": "execute_result"
    }
   ],
   "source": [
    "Guest_list"
   ]
  },
  {
   "cell_type": "code",
   "execution_count": 105,
   "id": "397970ee",
   "metadata": {},
   "outputs": [],
   "source": [
    "poped = Guest_list.pop(0)"
   ]
  },
  {
   "cell_type": "code",
   "execution_count": 107,
   "id": "9af1ff8f",
   "metadata": {},
   "outputs": [
    {
     "name": "stdout",
     "output_type": "stream",
     "text": [
      "Quaid e Azam cannot join us \n"
     ]
    }
   ],
   "source": [
    "print(poped, \"cannot join us \")"
   ]
  },
  {
   "cell_type": "code",
   "execution_count": null,
   "id": "f001cf18",
   "metadata": {},
   "outputs": [],
   "source": []
  }
 ],
 "metadata": {
  "kernelspec": {
   "display_name": "Python 3 (ipykernel)",
   "language": "python",
   "name": "python3"
  },
  "language_info": {
   "codemirror_mode": {
    "name": "ipython",
    "version": 3
   },
   "file_extension": ".py",
   "mimetype": "text/x-python",
   "name": "python",
   "nbconvert_exporter": "python",
   "pygments_lexer": "ipython3",
   "version": "3.9.7"
  }
 },
 "nbformat": 4,
 "nbformat_minor": 5
}
