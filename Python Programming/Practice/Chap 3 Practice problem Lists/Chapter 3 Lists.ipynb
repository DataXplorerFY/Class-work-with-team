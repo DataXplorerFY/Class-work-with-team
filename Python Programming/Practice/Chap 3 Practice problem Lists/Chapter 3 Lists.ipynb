{
 "cells": [
  {
   "cell_type": "code",
   "execution_count": 1,
   "id": "7ec38d95",
   "metadata": {},
   "outputs": [
    {
     "name": "stdout",
     "output_type": "stream",
     "text": [
      "Enter your name!leo\n"
     ]
    },
    {
     "data": {
      "text/plain": [
       "'leo'"
      ]
     },
     "execution_count": 1,
     "metadata": {},
     "output_type": "execute_result"
    }
   ],
   "source": [
    "name = input(\"Enter your name!\")\n",
    "name"
   ]
  },
  {
   "cell_type": "code",
   "execution_count": 2,
   "id": "74ec3f7c",
   "metadata": {},
   "outputs": [
    {
     "data": {
      "text/plain": [
       "str"
      ]
     },
     "execution_count": 2,
     "metadata": {},
     "output_type": "execute_result"
    }
   ],
   "source": [
    "type(name)"
   ]
  },
  {
   "cell_type": "code",
   "execution_count": 3,
   "id": "4fbafe20",
   "metadata": {},
   "outputs": [
    {
     "name": "stdout",
     "output_type": "stream",
     "text": [
      "Enter your age 5\n"
     ]
    },
    {
     "data": {
      "text/plain": [
       "5"
      ]
     },
     "execution_count": 3,
     "metadata": {},
     "output_type": "execute_result"
    }
   ],
   "source": [
    "age = int(input(\"Enter your age \"))\n",
    "age"
   ]
  },
  {
   "cell_type": "code",
   "execution_count": 4,
   "id": "87f950d8",
   "metadata": {},
   "outputs": [
    {
     "data": {
      "text/plain": [
       "int"
      ]
     },
     "execution_count": 4,
     "metadata": {},
     "output_type": "execute_result"
    }
   ],
   "source": [
    "type(age)"
   ]
  },
  {
   "cell_type": "markdown",
   "id": "44e73757",
   "metadata": {},
   "source": [
    "# Chapter 3 introduction to Lists in python "
   ]
  },
  {
   "cell_type": "code",
   "execution_count": 5,
   "id": "27dd0042",
   "metadata": {},
   "outputs": [],
   "source": [
    "list_1 = [\"Farhan\",\"Ali\",\"Hamza\",\"Asad\"]"
   ]
  },
  {
   "cell_type": "code",
   "execution_count": 6,
   "id": "337ac234",
   "metadata": {},
   "outputs": [
    {
     "data": {
      "text/plain": [
       "['Farhan', 'Ali', 'Hamza', 'Asad']"
      ]
     },
     "execution_count": 6,
     "metadata": {},
     "output_type": "execute_result"
    }
   ],
   "source": [
    "list_1"
   ]
  },
  {
   "cell_type": "code",
   "execution_count": 7,
   "id": "db323bb8",
   "metadata": {},
   "outputs": [],
   "source": [
    "list_2 = [1,2,3,4,5]"
   ]
  },
  {
   "cell_type": "code",
   "execution_count": 8,
   "id": "1afafcdd",
   "metadata": {},
   "outputs": [
    {
     "data": {
      "text/plain": [
       "[1, 2, 3, 4, 5]"
      ]
     },
     "execution_count": 8,
     "metadata": {},
     "output_type": "execute_result"
    }
   ],
   "source": [
    "list_2"
   ]
  },
  {
   "cell_type": "code",
   "execution_count": 9,
   "id": "a9d4b42d",
   "metadata": {},
   "outputs": [],
   "source": [
    "list_3 = [2.3,4.5,6.7]"
   ]
  },
  {
   "cell_type": "code",
   "execution_count": 10,
   "id": "14974d5f",
   "metadata": {},
   "outputs": [
    {
     "data": {
      "text/plain": [
       "[2.3, 4.5, 6.7]"
      ]
     },
     "execution_count": 10,
     "metadata": {},
     "output_type": "execute_result"
    }
   ],
   "source": [
    "list_3"
   ]
  },
  {
   "cell_type": "code",
   "execution_count": 11,
   "id": "438bcfeb",
   "metadata": {},
   "outputs": [],
   "source": [
    "list_4 = [\"Farhan\",\"Ali\", 23, 5.8, 2.8]"
   ]
  },
  {
   "cell_type": "code",
   "execution_count": 12,
   "id": "018134e3",
   "metadata": {},
   "outputs": [
    {
     "data": {
      "text/plain": [
       "['Farhan', 'Ali', 23, 5.8, 2.8]"
      ]
     },
     "execution_count": 12,
     "metadata": {},
     "output_type": "execute_result"
    }
   ],
   "source": [
    "list_4"
   ]
  },
  {
   "cell_type": "markdown",
   "id": "9c726192",
   "metadata": {},
   "source": [
    "# List Functions "
   ]
  },
  {
   "cell_type": "code",
   "execution_count": 13,
   "id": "7e4a2254",
   "metadata": {},
   "outputs": [],
   "source": [
    "List = [\"Farhan\", \"Ali\",\"Asad\"]"
   ]
  },
  {
   "cell_type": "code",
   "execution_count": 14,
   "id": "25be3826",
   "metadata": {},
   "outputs": [
    {
     "data": {
      "text/plain": [
       "['Farhan', 'Ali', 'Asad']"
      ]
     },
     "execution_count": 14,
     "metadata": {},
     "output_type": "execute_result"
    }
   ],
   "source": [
    "List "
   ]
  },
  {
   "cell_type": "markdown",
   "id": "e32d3507",
   "metadata": {},
   "source": [
    "#  How to access list items"
   ]
  },
  {
   "cell_type": "code",
   "execution_count": 15,
   "id": "a6b6f568",
   "metadata": {},
   "outputs": [
    {
     "data": {
      "text/plain": [
       "'Farhan'"
      ]
     },
     "execution_count": 15,
     "metadata": {},
     "output_type": "execute_result"
    }
   ],
   "source": [
    "List[0]"
   ]
  },
  {
   "cell_type": "code",
   "execution_count": 16,
   "id": "5eef2547",
   "metadata": {},
   "outputs": [
    {
     "data": {
      "text/plain": [
       "'Ali'"
      ]
     },
     "execution_count": 16,
     "metadata": {},
     "output_type": "execute_result"
    }
   ],
   "source": [
    "List[1]"
   ]
  },
  {
   "cell_type": "code",
   "execution_count": 17,
   "id": "21979b29",
   "metadata": {},
   "outputs": [],
   "source": [
    "fruits = []"
   ]
  },
  {
   "cell_type": "code",
   "execution_count": 18,
   "id": "c3ea7518",
   "metadata": {},
   "outputs": [
    {
     "data": {
      "text/plain": [
       "0"
      ]
     },
     "execution_count": 18,
     "metadata": {},
     "output_type": "execute_result"
    }
   ],
   "source": [
    "len(fruits)"
   ]
  },
  {
   "cell_type": "markdown",
   "id": "78b8a11a",
   "metadata": {},
   "source": [
    "# how to add item in a list "
   ]
  },
  {
   "cell_type": "code",
   "execution_count": 19,
   "id": "53aad198",
   "metadata": {},
   "outputs": [],
   "source": [
    "#we can use append  function to add items in a list in the last . and it will only take one value "
   ]
  },
  {
   "cell_type": "code",
   "execution_count": 20,
   "id": "2146d6d5",
   "metadata": {},
   "outputs": [
    {
     "data": {
      "text/plain": [
       "[]"
      ]
     },
     "execution_count": 20,
     "metadata": {},
     "output_type": "execute_result"
    }
   ],
   "source": [
    "fruits"
   ]
  },
  {
   "cell_type": "code",
   "execution_count": 21,
   "id": "22e2db03",
   "metadata": {},
   "outputs": [],
   "source": [
    "fruits.append(\"apple\")"
   ]
  },
  {
   "cell_type": "code",
   "execution_count": 22,
   "id": "fb963b0b",
   "metadata": {},
   "outputs": [
    {
     "data": {
      "text/plain": [
       "['apple']"
      ]
     },
     "execution_count": 22,
     "metadata": {},
     "output_type": "execute_result"
    }
   ],
   "source": [
    "fruits"
   ]
  },
  {
   "cell_type": "code",
   "execution_count": 23,
   "id": "1a98d192",
   "metadata": {},
   "outputs": [],
   "source": [
    "fruits.append(\"cherry\")"
   ]
  },
  {
   "cell_type": "code",
   "execution_count": 24,
   "id": "966c13be",
   "metadata": {},
   "outputs": [
    {
     "data": {
      "text/plain": [
       "['apple', 'cherry']"
      ]
     },
     "execution_count": 24,
     "metadata": {},
     "output_type": "execute_result"
    }
   ],
   "source": [
    "fruits"
   ]
  },
  {
   "cell_type": "code",
   "execution_count": 25,
   "id": "39f66250",
   "metadata": {},
   "outputs": [],
   "source": [
    "fruits.append(\"banana\")"
   ]
  },
  {
   "cell_type": "code",
   "execution_count": 26,
   "id": "46cb75cc",
   "metadata": {},
   "outputs": [
    {
     "data": {
      "text/plain": [
       "['apple', 'cherry', 'banana']"
      ]
     },
     "execution_count": 26,
     "metadata": {},
     "output_type": "execute_result"
    }
   ],
   "source": [
    "fruits\n"
   ]
  },
  {
   "cell_type": "code",
   "execution_count": 27,
   "id": "21ea4e4f",
   "metadata": {},
   "outputs": [],
   "source": [
    "# Next Insert funstion, it will also add values in the list but it also can take index number where you want to add the value "
   ]
  },
  {
   "cell_type": "code",
   "execution_count": 28,
   "id": "e1cea07b",
   "metadata": {},
   "outputs": [
    {
     "data": {
      "text/plain": [
       "['apple', 'cherry', 'banana']"
      ]
     },
     "execution_count": 28,
     "metadata": {},
     "output_type": "execute_result"
    }
   ],
   "source": [
    "fruits"
   ]
  },
  {
   "cell_type": "code",
   "execution_count": 29,
   "id": "38821eea",
   "metadata": {},
   "outputs": [],
   "source": [
    "fruits.insert(1,\"Mango\") #itll will add Mango in the 1st index"
   ]
  },
  {
   "cell_type": "code",
   "execution_count": 30,
   "id": "05c565e4",
   "metadata": {},
   "outputs": [
    {
     "data": {
      "text/plain": [
       "['apple', 'Mango', 'cherry', 'banana']"
      ]
     },
     "execution_count": 30,
     "metadata": {},
     "output_type": "execute_result"
    }
   ],
   "source": [
    "fruits"
   ]
  },
  {
   "cell_type": "code",
   "execution_count": 31,
   "id": "3bf1a799",
   "metadata": {},
   "outputs": [],
   "source": [
    "# If we want to add multiple valuse or item in the list by once, then we can use extent function of list "
   ]
  },
  {
   "cell_type": "code",
   "execution_count": 32,
   "id": "ae032a69",
   "metadata": {},
   "outputs": [
    {
     "data": {
      "text/plain": [
       "['apple', 'Mango', 'cherry', 'banana']"
      ]
     },
     "execution_count": 32,
     "metadata": {},
     "output_type": "execute_result"
    }
   ],
   "source": [
    "fruits"
   ]
  },
  {
   "cell_type": "code",
   "execution_count": 33,
   "id": "86ef58b5",
   "metadata": {},
   "outputs": [],
   "source": [
    "fruits.extend([\"APPLE\",\"ORANGE\",\"MANGO\",\"BANANA\"]) #for this we will give a list for multiple valuse"
   ]
  },
  {
   "cell_type": "code",
   "execution_count": 34,
   "id": "7d108bc3",
   "metadata": {},
   "outputs": [
    {
     "data": {
      "text/plain": [
       "['apple', 'Mango', 'cherry', 'banana', 'APPLE', 'ORANGE', 'MANGO', 'BANANA']"
      ]
     },
     "execution_count": 34,
     "metadata": {},
     "output_type": "execute_result"
    }
   ],
   "source": [
    "fruits"
   ]
  },
  {
   "cell_type": "markdown",
   "id": "fcfb195d",
   "metadata": {},
   "source": [
    "# For counting we can use count function"
   ]
  },
  {
   "cell_type": "code",
   "execution_count": 35,
   "id": "23b7253a",
   "metadata": {},
   "outputs": [],
   "source": [
    "#if we want to count thatb how many time a number contain in a list we can use count() function "
   ]
  },
  {
   "cell_type": "code",
   "execution_count": 36,
   "id": "99507aa8",
   "metadata": {},
   "outputs": [
    {
     "data": {
      "text/plain": [
       "['apple', 'Mango', 'cherry', 'banana', 'APPLE', 'ORANGE', 'MANGO', 'BANANA']"
      ]
     },
     "execution_count": 36,
     "metadata": {},
     "output_type": "execute_result"
    }
   ],
   "source": [
    "fruits"
   ]
  },
  {
   "cell_type": "code",
   "execution_count": 37,
   "id": "e8417d60",
   "metadata": {},
   "outputs": [
    {
     "data": {
      "text/plain": [
       "1"
      ]
     },
     "execution_count": 37,
     "metadata": {},
     "output_type": "execute_result"
    }
   ],
   "source": [
    "fruits.count(\"apple\")"
   ]
  },
  {
   "cell_type": "code",
   "execution_count": 38,
   "id": "ec516e83",
   "metadata": {},
   "outputs": [
    {
     "data": {
      "text/plain": [
       "1"
      ]
     },
     "execution_count": 38,
     "metadata": {},
     "output_type": "execute_result"
    }
   ],
   "source": [
    "fruits.count(\"Mango\")"
   ]
  },
  {
   "cell_type": "code",
   "execution_count": 39,
   "id": "d01bad5f",
   "metadata": {},
   "outputs": [],
   "source": [
    "#if we want to know about the index number of item in the list then we can use index function "
   ]
  },
  {
   "cell_type": "code",
   "execution_count": 40,
   "id": "7212a699",
   "metadata": {},
   "outputs": [
    {
     "data": {
      "text/plain": [
       "['apple', 'Mango', 'cherry', 'banana', 'APPLE', 'ORANGE', 'MANGO', 'BANANA']"
      ]
     },
     "execution_count": 40,
     "metadata": {},
     "output_type": "execute_result"
    }
   ],
   "source": [
    "fruits"
   ]
  },
  {
   "cell_type": "code",
   "execution_count": 41,
   "id": "b0cd4f83",
   "metadata": {},
   "outputs": [
    {
     "data": {
      "text/plain": [
       "3"
      ]
     },
     "execution_count": 41,
     "metadata": {},
     "output_type": "execute_result"
    }
   ],
   "source": [
    "fruits.index(\"banana\")"
   ]
  },
  {
   "cell_type": "markdown",
   "id": "fb1af9a2",
   "metadata": {},
   "source": [
    "# Clear Function"
   ]
  },
  {
   "cell_type": "code",
   "execution_count": 42,
   "id": "b4fd3465",
   "metadata": {},
   "outputs": [],
   "source": [
    "#it will delete all the elements from the list permamnntly "
   ]
  },
  {
   "cell_type": "code",
   "execution_count": 43,
   "id": "fe42bfe4",
   "metadata": {},
   "outputs": [],
   "source": [
    "Names = [\"Farhan\",\"Ali\",\"Asad\",\"Johns\"]"
   ]
  },
  {
   "cell_type": "code",
   "execution_count": 44,
   "id": "44b0bc56",
   "metadata": {},
   "outputs": [
    {
     "data": {
      "text/plain": [
       "['Farhan', 'Ali', 'Asad', 'Johns']"
      ]
     },
     "execution_count": 44,
     "metadata": {},
     "output_type": "execute_result"
    }
   ],
   "source": [
    "Names"
   ]
  },
  {
   "cell_type": "code",
   "execution_count": 45,
   "id": "56d5c948",
   "metadata": {},
   "outputs": [],
   "source": [
    "Names.clear()"
   ]
  },
  {
   "cell_type": "code",
   "execution_count": 46,
   "id": "c08c0f1a",
   "metadata": {},
   "outputs": [
    {
     "data": {
      "text/plain": [
       "[]"
      ]
     },
     "execution_count": 46,
     "metadata": {},
     "output_type": "execute_result"
    }
   ],
   "source": [
    "Names"
   ]
  },
  {
   "cell_type": "markdown",
   "id": "ebd5bed7",
   "metadata": {},
   "source": [
    "# Copy Function"
   ]
  },
  {
   "cell_type": "markdown",
   "id": "6deb865c",
   "metadata": {},
   "source": [
    "# Copy Function make the copy of the origional list and then we have 2 different lists one is oriogional and 2nd is copied list. It is copyed items by value"
   ]
  },
  {
   "cell_type": "code",
   "execution_count": 47,
   "id": "b4d86b0e",
   "metadata": {},
   "outputs": [
    {
     "data": {
      "text/plain": [
       "['apple', 'Mango', 'cherry', 'banana', 'APPLE', 'ORANGE', 'MANGO', 'BANANA']"
      ]
     },
     "execution_count": 47,
     "metadata": {},
     "output_type": "execute_result"
    }
   ],
   "source": [
    "fruits"
   ]
  },
  {
   "cell_type": "code",
   "execution_count": 48,
   "id": "0b7d3e95",
   "metadata": {},
   "outputs": [],
   "source": [
    "Fruits_02 = fruits.copy()"
   ]
  },
  {
   "cell_type": "code",
   "execution_count": 49,
   "id": "44f47476",
   "metadata": {},
   "outputs": [
    {
     "data": {
      "text/plain": [
       "['apple', 'Mango', 'cherry', 'banana', 'APPLE', 'ORANGE', 'MANGO', 'BANANA']"
      ]
     },
     "execution_count": 49,
     "metadata": {},
     "output_type": "execute_result"
    }
   ],
   "source": [
    "Fruits_02"
   ]
  },
  {
   "cell_type": "code",
   "execution_count": 50,
   "id": "2b8fcb3b",
   "metadata": {},
   "outputs": [
    {
     "name": "stdout",
     "output_type": "stream",
     "text": [
      "This is the 1st origional list ['apple', 'Mango', 'cherry', 'banana', 'APPLE', 'ORANGE', 'MANGO', 'BANANA']\n",
      "This is the 2nd Copied list ['apple', 'Mango', 'cherry', 'banana', 'APPLE', 'ORANGE', 'MANGO', 'BANANA']\n"
     ]
    }
   ],
   "source": [
    "print(f\"This is the 1st origional list {fruits}\")\n",
    "print(f\"This is the 2nd Copied list {Fruits_02}\")\n"
   ]
  },
  {
   "cell_type": "markdown",
   "id": "f440f649",
   "metadata": {},
   "source": [
    "# How to remove items from list "
   ]
  },
  {
   "cell_type": "code",
   "execution_count": 51,
   "id": "68887cd8",
   "metadata": {},
   "outputs": [],
   "source": [
    "# we can delete items from list in 2 ways "
   ]
  },
  {
   "cell_type": "code",
   "execution_count": 52,
   "id": "2f90d866",
   "metadata": {},
   "outputs": [],
   "source": [
    "cities = [\"Faisalabad\", \"Lahore\",\"karachi\",\"Islamabad\"]"
   ]
  },
  {
   "cell_type": "code",
   "execution_count": 53,
   "id": "8a6c53b4",
   "metadata": {},
   "outputs": [
    {
     "data": {
      "text/plain": [
       "['Faisalabad', 'Lahore', 'karachi', 'Islamabad']"
      ]
     },
     "execution_count": 53,
     "metadata": {},
     "output_type": "execute_result"
    }
   ],
   "source": [
    "cities"
   ]
  },
  {
   "cell_type": "code",
   "execution_count": 54,
   "id": "55f16bce",
   "metadata": {},
   "outputs": [],
   "source": [
    "# 1st way is Dell keyword"
   ]
  },
  {
   "cell_type": "code",
   "execution_count": 55,
   "id": "7c5f16f8",
   "metadata": {},
   "outputs": [],
   "source": [
    "del cities[0] #it will take index number 0 and delete it "
   ]
  },
  {
   "cell_type": "code",
   "execution_count": 56,
   "id": "5a5c81fb",
   "metadata": {},
   "outputs": [
    {
     "data": {
      "text/plain": [
       "['Lahore', 'karachi', 'Islamabad']"
      ]
     },
     "execution_count": 56,
     "metadata": {},
     "output_type": "execute_result"
    }
   ],
   "source": [
    "cities"
   ]
  },
  {
   "cell_type": "code",
   "execution_count": 57,
   "id": "56874945",
   "metadata": {},
   "outputs": [],
   "source": [
    "# The other method is remove it will take value and delete it "
   ]
  },
  {
   "cell_type": "code",
   "execution_count": 58,
   "id": "39cac4cd",
   "metadata": {},
   "outputs": [],
   "source": [
    "cities.remove(\"Lahore\")"
   ]
  },
  {
   "cell_type": "code",
   "execution_count": 59,
   "id": "b98b572a",
   "metadata": {},
   "outputs": [
    {
     "data": {
      "text/plain": [
       "['karachi', 'Islamabad']"
      ]
     },
     "execution_count": 59,
     "metadata": {},
     "output_type": "execute_result"
    }
   ],
   "source": [
    "cities"
   ]
  },
  {
   "cell_type": "markdown",
   "id": "0dd6e08b",
   "metadata": {},
   "source": [
    "# Pop Function"
   ]
  },
  {
   "cell_type": "code",
   "execution_count": 60,
   "id": "cecbab02",
   "metadata": {},
   "outputs": [],
   "source": [
    "#pop function is same as remove but it return the value after removing "
   ]
  },
  {
   "cell_type": "code",
   "execution_count": 61,
   "id": "46fafcbe",
   "metadata": {},
   "outputs": [
    {
     "data": {
      "text/plain": [
       "['karachi', 'Islamabad']"
      ]
     },
     "execution_count": 61,
     "metadata": {},
     "output_type": "execute_result"
    }
   ],
   "source": [
    "cities"
   ]
  },
  {
   "cell_type": "code",
   "execution_count": 62,
   "id": "6a146e06",
   "metadata": {},
   "outputs": [],
   "source": [
    "cities.append(\"Lahore\")"
   ]
  },
  {
   "cell_type": "code",
   "execution_count": 63,
   "id": "6de5494e",
   "metadata": {},
   "outputs": [
    {
     "data": {
      "text/plain": [
       "['karachi', 'Islamabad', 'Lahore']"
      ]
     },
     "execution_count": 63,
     "metadata": {},
     "output_type": "execute_result"
    }
   ],
   "source": [
    "cities"
   ]
  },
  {
   "cell_type": "code",
   "execution_count": 64,
   "id": "f070df85",
   "metadata": {},
   "outputs": [],
   "source": [
    "cities.insert(0, \"KPK\")"
   ]
  },
  {
   "cell_type": "code",
   "execution_count": 65,
   "id": "c94da182",
   "metadata": {},
   "outputs": [
    {
     "data": {
      "text/plain": [
       "['KPK', 'karachi', 'Islamabad', 'Lahore']"
      ]
     },
     "execution_count": 65,
     "metadata": {},
     "output_type": "execute_result"
    }
   ],
   "source": [
    "cities"
   ]
  },
  {
   "cell_type": "code",
   "execution_count": 66,
   "id": "4dab4cf9",
   "metadata": {},
   "outputs": [],
   "source": [
    "poppedCities = cities.pop()"
   ]
  },
  {
   "cell_type": "code",
   "execution_count": 67,
   "id": "1c3c5ee6",
   "metadata": {},
   "outputs": [
    {
     "name": "stdout",
     "output_type": "stream",
     "text": [
      " This city is popped from list Lahore\n",
      " The remaining cities are ['KPK', 'karachi', 'Islamabad']\n"
     ]
    }
   ],
   "source": [
    "print(f\" This city is popped from list {poppedCities}\")\n",
    "print(f\" The remaining cities are {cities}\")"
   ]
  },
  {
   "cell_type": "markdown",
   "id": "8f9ced62",
   "metadata": {},
   "source": [
    "# Sort and Reverse  Functions"
   ]
  },
  {
   "cell_type": "code",
   "execution_count": 68,
   "id": "38be2c83",
   "metadata": {},
   "outputs": [
    {
     "data": {
      "text/plain": [
       "['KPK', 'karachi', 'Islamabad']"
      ]
     },
     "execution_count": 68,
     "metadata": {},
     "output_type": "execute_result"
    }
   ],
   "source": [
    "cities"
   ]
  },
  {
   "cell_type": "code",
   "execution_count": 69,
   "id": "f207b464",
   "metadata": {},
   "outputs": [],
   "source": [
    "cities.sort() #it will sort values in the asscending order"
   ]
  },
  {
   "cell_type": "code",
   "execution_count": 70,
   "id": "e1fbb80b",
   "metadata": {},
   "outputs": [
    {
     "data": {
      "text/plain": [
       "['Islamabad', 'KPK', 'karachi']"
      ]
     },
     "execution_count": 70,
     "metadata": {},
     "output_type": "execute_result"
    }
   ],
   "source": [
    "cities"
   ]
  },
  {
   "cell_type": "code",
   "execution_count": 71,
   "id": "274122cf",
   "metadata": {},
   "outputs": [],
   "source": [
    "cities.reverse() # it will reverse the items in the desending order"
   ]
  },
  {
   "cell_type": "code",
   "execution_count": 72,
   "id": "3800928c",
   "metadata": {},
   "outputs": [
    {
     "data": {
      "text/plain": [
       "['karachi', 'KPK', 'Islamabad']"
      ]
     },
     "execution_count": 72,
     "metadata": {},
     "output_type": "execute_result"
    }
   ],
   "source": [
    "cities"
   ]
  },
  {
   "cell_type": "code",
   "execution_count": 73,
   "id": "814432da",
   "metadata": {},
   "outputs": [],
   "source": [
    "First_Name = [\"Farhan\", \"Ali\"]"
   ]
  },
  {
   "cell_type": "code",
   "execution_count": 74,
   "id": "8eaf4f52",
   "metadata": {},
   "outputs": [],
   "source": [
    "First_Name.reverse()"
   ]
  },
  {
   "cell_type": "code",
   "execution_count": 75,
   "id": "e2d456b1",
   "metadata": {},
   "outputs": [
    {
     "data": {
      "text/plain": [
       "['Ali', 'Farhan']"
      ]
     },
     "execution_count": 75,
     "metadata": {},
     "output_type": "execute_result"
    }
   ],
   "source": [
    "First_Name"
   ]
  },
  {
   "cell_type": "markdown",
   "id": "13d5a99e",
   "metadata": {},
   "source": [
    "# Problem Solving Chap 3 Lists\n"
   ]
  },
  {
   "cell_type": "markdown",
   "id": "429125df",
   "metadata": {},
   "source": [
    "# 3-1. Names: Store the names of a few of your friends in a list called names. Print each person’s name by accessing each element in the list, one at a time."
   ]
  },
  {
   "cell_type": "code",
   "execution_count": 76,
   "id": "b75b7f27",
   "metadata": {},
   "outputs": [],
   "source": [
    "names = [\"Farhan\",\"Abdulrehman\",\"hafiz\"]"
   ]
  },
  {
   "cell_type": "code",
   "execution_count": 77,
   "id": "f6ac5e3c",
   "metadata": {},
   "outputs": [
    {
     "data": {
      "text/plain": [
       "'Farhan'"
      ]
     },
     "execution_count": 77,
     "metadata": {},
     "output_type": "execute_result"
    }
   ],
   "source": [
    "names[0]"
   ]
  },
  {
   "cell_type": "code",
   "execution_count": 78,
   "id": "19864e66",
   "metadata": {},
   "outputs": [
    {
     "data": {
      "text/plain": [
       "'Abdulrehman'"
      ]
     },
     "execution_count": 78,
     "metadata": {},
     "output_type": "execute_result"
    }
   ],
   "source": [
    "names[1]"
   ]
  },
  {
   "cell_type": "code",
   "execution_count": 79,
   "id": "91964888",
   "metadata": {},
   "outputs": [
    {
     "data": {
      "text/plain": [
       "'hafiz'"
      ]
     },
     "execution_count": 79,
     "metadata": {},
     "output_type": "execute_result"
    }
   ],
   "source": [
    "names[2]"
   ]
  },
  {
   "cell_type": "code",
   "execution_count": 80,
   "id": "e648ee30",
   "metadata": {},
   "outputs": [],
   "source": [
    "#names[3] "
   ]
  },
  {
   "cell_type": "markdown",
   "id": "0810a971",
   "metadata": {},
   "source": [
    "# 3-2. Greetings: Start with the list you used in Exercise 3-1, but instead of just printing each person’s name, print a message to them. The text of each message should be the same, but each message should be personalized with the person’s name."
   ]
  },
  {
   "cell_type": "code",
   "execution_count": 81,
   "id": "0144e1c6",
   "metadata": {},
   "outputs": [
    {
     "data": {
      "text/plain": [
       "['Farhan', 'Abdulrehman', 'hafiz']"
      ]
     },
     "execution_count": 81,
     "metadata": {},
     "output_type": "execute_result"
    }
   ],
   "source": [
    "names"
   ]
  },
  {
   "cell_type": "code",
   "execution_count": 82,
   "id": "ab5491a5",
   "metadata": {},
   "outputs": [],
   "source": [
    "message = \"How are you!\""
   ]
  },
  {
   "cell_type": "code",
   "execution_count": 83,
   "id": "f2a4aaa2",
   "metadata": {},
   "outputs": [
    {
     "name": "stdout",
     "output_type": "stream",
     "text": [
      "Hello   Farhan How are you!\n"
     ]
    }
   ],
   "source": [
    "print(\"Hello\", \" \", names[0],message)"
   ]
  },
  {
   "cell_type": "code",
   "execution_count": 84,
   "id": "3e34c5cc",
   "metadata": {},
   "outputs": [
    {
     "name": "stdout",
     "output_type": "stream",
     "text": [
      "Hello   Abdulrehman How are you!\n"
     ]
    }
   ],
   "source": [
    "print(\"Hello\", \" \", names[1],message)"
   ]
  },
  {
   "cell_type": "code",
   "execution_count": 85,
   "id": "7ca52edb",
   "metadata": {},
   "outputs": [
    {
     "name": "stdout",
     "output_type": "stream",
     "text": [
      "Hello   hafiz How are you!\n"
     ]
    }
   ],
   "source": [
    "print(\"Hello\", \" \", names[2],message)"
   ]
  },
  {
   "cell_type": "markdown",
   "id": "b0d0adbb",
   "metadata": {},
   "source": [
    "# 3-3. Your Own List: Think of your favorite mode of transportation, such as a motorcycle or a car, and make a list that stores several examples. Use your list to print a series of statements about these items, such as “I would like to own a Honda motorcycle.” "
   ]
  },
  {
   "cell_type": "code",
   "execution_count": 86,
   "id": "e31f0205",
   "metadata": {},
   "outputs": [],
   "source": [
    "vehicles = [\"Bike\", \"HeavyBike\", \"Car\", \"Cycle\"]"
   ]
  },
  {
   "cell_type": "code",
   "execution_count": 87,
   "id": "3972b47a",
   "metadata": {},
   "outputs": [],
   "source": [
    "statement = \"I would like to own a\""
   ]
  },
  {
   "cell_type": "code",
   "execution_count": 88,
   "id": "ad88b4c6",
   "metadata": {},
   "outputs": [
    {
     "name": "stdout",
     "output_type": "stream",
     "text": [
      "I would like to own a Bike\n"
     ]
    }
   ],
   "source": [
    "print(statement, vehicles[0])"
   ]
  },
  {
   "cell_type": "code",
   "execution_count": 89,
   "id": "7f51aac5",
   "metadata": {},
   "outputs": [
    {
     "name": "stdout",
     "output_type": "stream",
     "text": [
      "I would like to own a HeavyBike\n"
     ]
    }
   ],
   "source": [
    "print(statement, vehicles[1])"
   ]
  },
  {
   "cell_type": "code",
   "execution_count": 90,
   "id": "5610372f",
   "metadata": {},
   "outputs": [
    {
     "name": "stdout",
     "output_type": "stream",
     "text": [
      "I would like to own a Car\n"
     ]
    }
   ],
   "source": [
    "print(statement, vehicles[2])"
   ]
  },
  {
   "cell_type": "code",
   "execution_count": 91,
   "id": "139b1ae4",
   "metadata": {},
   "outputs": [
    {
     "name": "stdout",
     "output_type": "stream",
     "text": [
      "I would like to own a Bike\n",
      "I would like to own a HeavyBike\n",
      "I would like to own a Car\n",
      "I would like to own a Cycle\n"
     ]
    }
   ],
   "source": [
    "for i in vehicles:\n",
    "    print(statement, i)"
   ]
  },
  {
   "cell_type": "markdown",
   "id": "f6354197",
   "metadata": {},
   "source": [
    "# 3-4. Guest List: If you could invite anyone, living or deceased, to dinner, who would you invite? Make a list that includes at least three people you’d like to invite to dinner. Then use your list to print a message to each person, inviting them to dinner."
   ]
  },
  {
   "cell_type": "code",
   "execution_count": 92,
   "id": "8c286291",
   "metadata": {},
   "outputs": [],
   "source": [
    "Guest_list = [\"Quaid e Azam\", \"Allama iqbal\",\"Imran Khan\", \"Barrister Gohar\"]"
   ]
  },
  {
   "cell_type": "code",
   "execution_count": 93,
   "id": "014492fd",
   "metadata": {},
   "outputs": [],
   "source": [
    "message = \"I would like you to join me at My dinner party on Thursday 8PM, at Royal palace!\""
   ]
  },
  {
   "cell_type": "code",
   "execution_count": 94,
   "id": "4c2847ee",
   "metadata": {},
   "outputs": [
    {
     "name": "stdout",
     "output_type": "stream",
     "text": [
      "Hi Quaid e Azam I would like you to join me at My dinner party on Thursday 8PM, at Royal palace!\n",
      "Hi Allama iqbal I would like you to join me at My dinner party on Thursday 8PM, at Royal palace!\n",
      "Hi Imran Khan I would like you to join me at My dinner party on Thursday 8PM, at Royal palace!\n",
      "Hi Barrister Gohar I would like you to join me at My dinner party on Thursday 8PM, at Royal palace!\n"
     ]
    }
   ],
   "source": [
    "for i in Guest_list:\n",
    "    print(\"Hi\", i, message)"
   ]
  },
  {
   "cell_type": "markdown",
   "id": "36f4e8e0",
   "metadata": {},
   "source": [
    "# 3-5. Changing Guest List: You just heard that one of your guests can’t make the dinner, so you need to send out a new set of invitations. You’ll have to think of someone else to invite."
   ]
  },
  {
   "cell_type": "markdown",
   "id": "5a92d8c0",
   "metadata": {},
   "source": [
    "Start with your program from Exercise 3-4. Add a print() call at the end of\n",
    "your program, stating the name of the guest who can’t make it."
   ]
  },
  {
   "cell_type": "code",
   "execution_count": 95,
   "id": "9dac9dd4",
   "metadata": {},
   "outputs": [
    {
     "name": "stdout",
     "output_type": "stream",
     "text": [
      "Quaid e Azam Due to heavy rain in his city he will not join us \n"
     ]
    }
   ],
   "source": [
    "print(Guest_list[0], \"Due to heavy rain in his city he will not join us \")"
   ]
  },
  {
   "cell_type": "code",
   "execution_count": 96,
   "id": "eff18cbc",
   "metadata": {},
   "outputs": [
    {
     "data": {
      "text/plain": [
       "['Quaid e Azam', 'Allama iqbal', 'Imran Khan', 'Barrister Gohar']"
      ]
     },
     "execution_count": 96,
     "metadata": {},
     "output_type": "execute_result"
    }
   ],
   "source": [
    "Guest_list"
   ]
  },
  {
   "cell_type": "code",
   "execution_count": 97,
   "id": "397970ee",
   "metadata": {},
   "outputs": [],
   "source": [
    "poped = Guest_list.pop(0)"
   ]
  },
  {
   "cell_type": "code",
   "execution_count": 98,
   "id": "9af1ff8f",
   "metadata": {},
   "outputs": [
    {
     "name": "stdout",
     "output_type": "stream",
     "text": [
      "Quaid e Azam cannot join us \n"
     ]
    }
   ],
   "source": [
    "print(poped, \"cannot join us \")"
   ]
  },
  {
   "cell_type": "code",
   "execution_count": 99,
   "id": "f001cf18",
   "metadata": {},
   "outputs": [
    {
     "data": {
      "text/plain": [
       "['Allama iqbal', 'Imran Khan', 'Barrister Gohar']"
      ]
     },
     "execution_count": 99,
     "metadata": {},
     "output_type": "execute_result"
    }
   ],
   "source": [
    "Guest_list"
   ]
  },
  {
   "cell_type": "markdown",
   "id": "795121f8",
   "metadata": {},
   "source": [
    "Modify your list, replacing the name of the guest who can’t make it with the\n",
    "name of the new person you are inviting."
   ]
  },
  {
   "cell_type": "code",
   "execution_count": 100,
   "id": "e656d1c2",
   "metadata": {},
   "outputs": [],
   "source": [
    "Guest_list[0]= \"Sher Afzal Marwat\""
   ]
  },
  {
   "cell_type": "code",
   "execution_count": 101,
   "id": "dd3c9a06",
   "metadata": {},
   "outputs": [
    {
     "data": {
      "text/plain": [
       "['Sher Afzal Marwat', 'Imran Khan', 'Barrister Gohar']"
      ]
     },
     "execution_count": 101,
     "metadata": {},
     "output_type": "execute_result"
    }
   ],
   "source": [
    "Guest_list"
   ]
  },
  {
   "cell_type": "markdown",
   "id": "ed2755f7",
   "metadata": {},
   "source": [
    "# Print a second set of invitation messages, one for each person who is still in your list."
   ]
  },
  {
   "cell_type": "code",
   "execution_count": 102,
   "id": "c25aeeb5",
   "metadata": {},
   "outputs": [
    {
     "name": "stdout",
     "output_type": "stream",
     "text": [
      "Sher Afzal Marwat I would like you to join me at My dinner party on Thursday 8PM, at Royal palace!\n",
      "Imran Khan I would like you to join me at My dinner party on Thursday 8PM, at Royal palace!\n",
      "Barrister Gohar I would like you to join me at My dinner party on Thursday 8PM, at Royal palace!\n"
     ]
    }
   ],
   "source": [
    "for i in Guest_list:\n",
    "    print(i, message)"
   ]
  },
  {
   "cell_type": "markdown",
   "id": "5415068e",
   "metadata": {},
   "source": [
    "# 3-6. More Guests: You just found a bigger dinner table, so now more space is available. Think of three more guests to invite to dinner."
   ]
  },
  {
   "cell_type": "markdown",
   "id": "8908b4e4",
   "metadata": {},
   "source": [
    "• Start with your program from Exercise 3-4 or 3-5. Add a print() call to the\n",
    "end of your program, informing people that you found a bigger table."
   ]
  },
  {
   "cell_type": "code",
   "execution_count": 103,
   "id": "24f5442a",
   "metadata": {},
   "outputs": [
    {
     "name": "stdout",
     "output_type": "stream",
     "text": [
      "Sher Afzal Marwat I would like you to join me at My dinner party on Thursday 8PM, at Royal palace!\n",
      "Imran Khan I would like you to join me at My dinner party on Thursday 8PM, at Royal palace!\n",
      "Barrister Gohar I would like you to join me at My dinner party on Thursday 8PM, at Royal palace!\n",
      "We found a bigger table and wll invite more guests\n"
     ]
    }
   ],
   "source": [
    "for i in Guest_list:\n",
    "    print(i, message)\n",
    "print(\"We found a bigger table and wll invite more guests\")"
   ]
  },
  {
   "cell_type": "markdown",
   "id": "d78bbcda",
   "metadata": {},
   "source": [
    "Use insert() to add one new guest to the beginning of your list."
   ]
  },
  {
   "cell_type": "code",
   "execution_count": 104,
   "id": "347ae42a",
   "metadata": {},
   "outputs": [],
   "source": [
    "Guest_list.insert(0, \"Muraad Saeed\")"
   ]
  },
  {
   "cell_type": "code",
   "execution_count": 105,
   "id": "c003c817",
   "metadata": {},
   "outputs": [
    {
     "data": {
      "text/plain": [
       "['Muraad Saeed', 'Sher Afzal Marwat', 'Imran Khan', 'Barrister Gohar']"
      ]
     },
     "execution_count": 105,
     "metadata": {},
     "output_type": "execute_result"
    }
   ],
   "source": [
    "Guest_list"
   ]
  },
  {
   "cell_type": "markdown",
   "id": "1bc78a29",
   "metadata": {},
   "source": [
    "Use insert() to add one new guest to the middle of your list."
   ]
  },
  {
   "cell_type": "code",
   "execution_count": 106,
   "id": "c108d8cb",
   "metadata": {},
   "outputs": [
    {
     "data": {
      "text/plain": [
       "2"
      ]
     },
     "execution_count": 106,
     "metadata": {},
     "output_type": "execute_result"
    }
   ],
   "source": [
    "len(Guest_list)//2"
   ]
  },
  {
   "cell_type": "code",
   "execution_count": 107,
   "id": "75f14b97",
   "metadata": {},
   "outputs": [],
   "source": [
    "Guest_list.insert(len(Guest_list)//2, \"Asad umar\")"
   ]
  },
  {
   "cell_type": "code",
   "execution_count": 108,
   "id": "04a71310",
   "metadata": {},
   "outputs": [
    {
     "data": {
      "text/plain": [
       "['Muraad Saeed',\n",
       " 'Sher Afzal Marwat',\n",
       " 'Asad umar',\n",
       " 'Imran Khan',\n",
       " 'Barrister Gohar']"
      ]
     },
     "execution_count": 108,
     "metadata": {},
     "output_type": "execute_result"
    }
   ],
   "source": [
    "Guest_list"
   ]
  },
  {
   "cell_type": "markdown",
   "id": "a1470f77",
   "metadata": {},
   "source": [
    "Use append() to add one new guest to the end of your list."
   ]
  },
  {
   "cell_type": "code",
   "execution_count": 109,
   "id": "104c02cc",
   "metadata": {},
   "outputs": [],
   "source": [
    "Guest_list.append(\"Ali\")"
   ]
  },
  {
   "cell_type": "code",
   "execution_count": 110,
   "id": "7587a646",
   "metadata": {},
   "outputs": [
    {
     "data": {
      "text/plain": [
       "['Muraad Saeed',\n",
       " 'Sher Afzal Marwat',\n",
       " 'Asad umar',\n",
       " 'Imran Khan',\n",
       " 'Barrister Gohar',\n",
       " 'Ali']"
      ]
     },
     "execution_count": 110,
     "metadata": {},
     "output_type": "execute_result"
    }
   ],
   "source": [
    "Guest_list"
   ]
  },
  {
   "cell_type": "markdown",
   "id": "987a4c61",
   "metadata": {},
   "source": [
    "Print a new set of invitation messages, one for each person in your list"
   ]
  },
  {
   "cell_type": "code",
   "execution_count": 111,
   "id": "6cd2ea79",
   "metadata": {},
   "outputs": [
    {
     "name": "stdout",
     "output_type": "stream",
     "text": [
      "Muraad Saeed I would like you to join me at My dinner party on Thursday 8PM, at Royal palace!\n",
      "Sher Afzal Marwat I would like you to join me at My dinner party on Thursday 8PM, at Royal palace!\n",
      "Asad umar I would like you to join me at My dinner party on Thursday 8PM, at Royal palace!\n",
      "Imran Khan I would like you to join me at My dinner party on Thursday 8PM, at Royal palace!\n",
      "Barrister Gohar I would like you to join me at My dinner party on Thursday 8PM, at Royal palace!\n",
      "Ali I would like you to join me at My dinner party on Thursday 8PM, at Royal palace!\n"
     ]
    }
   ],
   "source": [
    "for i in Guest_list:\n",
    "    print(i, message)\n"
   ]
  },
  {
   "cell_type": "markdown",
   "id": "3297109a",
   "metadata": {},
   "source": [
    "# 3-7. Shrinking Guest List: You just found out that your new dinner table won’t arrive in time for the dinner, and now you have space for only two guests."
   ]
  },
  {
   "cell_type": "markdown",
   "id": "ee268146",
   "metadata": {},
   "source": [
    "Start with your program from Exercise 3-6. Add a new line that prints a\n",
    "message saying that you can invite only two people for dinner."
   ]
  },
  {
   "cell_type": "code",
   "execution_count": 112,
   "id": "ba14adef",
   "metadata": {},
   "outputs": [
    {
     "name": "stdout",
     "output_type": "stream",
     "text": [
      "Muraad Saeed Sorry We have space only for two guests!\n",
      "Sher Afzal Marwat Sorry We have space only for two guests!\n",
      "Asad umar Sorry We have space only for two guests!\n",
      "Imran Khan Sorry We have space only for two guests!\n",
      "Barrister Gohar Sorry We have space only for two guests!\n",
      "Ali Sorry We have space only for two guests!\n"
     ]
    }
   ],
   "source": [
    "for i in Guest_list:\n",
    "    print(i,\"Sorry We have space only for two guests!\")"
   ]
  },
  {
   "cell_type": "markdown",
   "id": "c657d6ce",
   "metadata": {},
   "source": [
    "Use pop() to remove guests from your list one at a time until only two\n",
    "names remain in your list. Each time you pop a name from your list, print a\n",
    "message to that person letting them know you’re sorry you can’t invite them\n",
    "to dinner."
   ]
  },
  {
   "cell_type": "code",
   "execution_count": 113,
   "id": "8094398f",
   "metadata": {},
   "outputs": [],
   "source": [
    "Guest_list = ['Muraad Saeed', 'Sher Afzal Marwat', 'Asad umar', 'Imran Khan',  'Barrister Gohar',  'Ali']"
   ]
  },
  {
   "cell_type": "code",
   "execution_count": 114,
   "id": "af69a52a",
   "metadata": {},
   "outputs": [],
   "source": [
    "Guest_list = ['Muraad Saeed', 'Sher Afzal Marwat', 'Asad umar', 'Imran Khan',  'Barrister Gohar',  'Ali']"
   ]
  },
  {
   "cell_type": "code",
   "execution_count": 115,
   "id": "51d43e09",
   "metadata": {},
   "outputs": [],
   "source": [
    "message = \"Sorry we cannor invite you to dinner!\""
   ]
  },
  {
   "cell_type": "code",
   "execution_count": 116,
   "id": "c197b697",
   "metadata": {},
   "outputs": [],
   "source": [
    "poped_List = []"
   ]
  },
  {
   "cell_type": "code",
   "execution_count": 117,
   "id": "f7a3b082",
   "metadata": {},
   "outputs": [],
   "source": [
    "poped_List = Guest_list.pop()"
   ]
  },
  {
   "cell_type": "code",
   "execution_count": 118,
   "id": "9018b108",
   "metadata": {},
   "outputs": [],
   "source": [
    "for i in Guest_list:\n",
    "    if len(Guest_list)>=2:\n",
    "        Guest_list.pop()\n",
    "\n",
    "    "
   ]
  },
  {
   "cell_type": "code",
   "execution_count": 119,
   "id": "1c4a06de",
   "metadata": {},
   "outputs": [
    {
     "data": {
      "text/plain": [
       "['Muraad Saeed', 'Sher Afzal Marwat']"
      ]
     },
     "execution_count": 119,
     "metadata": {},
     "output_type": "execute_result"
    }
   ],
   "source": [
    "Guest_list"
   ]
  },
  {
   "cell_type": "code",
   "execution_count": 120,
   "id": "5cac4fd2",
   "metadata": {},
   "outputs": [
    {
     "data": {
      "text/plain": [
       "'Ali'"
      ]
     },
     "execution_count": 120,
     "metadata": {},
     "output_type": "execute_result"
    }
   ],
   "source": [
    "poped_List"
   ]
  },
  {
   "cell_type": "markdown",
   "id": "c6d4c263",
   "metadata": {},
   "source": [
    "Print a message to each of the two people still on your list, letting them\n",
    "know they’re still invited."
   ]
  },
  {
   "cell_type": "code",
   "execution_count": 121,
   "id": "7c6ab3c0",
   "metadata": {},
   "outputs": [
    {
     "data": {
      "text/plain": [
       "['Muraad Saeed', 'Sher Afzal Marwat']"
      ]
     },
     "execution_count": 121,
     "metadata": {},
     "output_type": "execute_result"
    }
   ],
   "source": [
    "Guest_list"
   ]
  },
  {
   "cell_type": "code",
   "execution_count": 122,
   "id": "a76f74e6",
   "metadata": {},
   "outputs": [
    {
     "name": "stdout",
     "output_type": "stream",
     "text": [
      "Muraad Saeed You are still invited for dinner\n",
      "Sher Afzal Marwat You are still invited for dinner\n"
     ]
    }
   ],
   "source": [
    "for i in Guest_list:\n",
    "    print(i, \"You are still invited for dinner\")"
   ]
  },
  {
   "cell_type": "markdown",
   "id": "ec36951b",
   "metadata": {},
   "source": [
    "Use del to remove the last two names from your list, so you have an empty\n",
    "list. Print your list to make sure you actually have an empty list at the end of\n",
    "your program."
   ]
  },
  {
   "cell_type": "code",
   "execution_count": 123,
   "id": "2d8c0340",
   "metadata": {},
   "outputs": [],
   "source": [
    "Guest_list = ['Muraad Saeed', 'Sher Afzal Marwat']"
   ]
  },
  {
   "cell_type": "code",
   "execution_count": 124,
   "id": "29c8be08",
   "metadata": {},
   "outputs": [],
   "source": [
    "del Guest_list[0]"
   ]
  },
  {
   "cell_type": "code",
   "execution_count": 125,
   "id": "5b62ac1d",
   "metadata": {},
   "outputs": [],
   "source": [
    "del Guest_list[0]"
   ]
  },
  {
   "cell_type": "code",
   "execution_count": 126,
   "id": "8c3fcb0c",
   "metadata": {},
   "outputs": [
    {
     "data": {
      "text/plain": [
       "[]"
      ]
     },
     "execution_count": 126,
     "metadata": {},
     "output_type": "execute_result"
    }
   ],
   "source": [
    "Guest_list"
   ]
  },
  {
   "cell_type": "markdown",
   "id": "02d53c30",
   "metadata": {},
   "source": [
    "# 3-8. Seeing the World: Think of at least five places in the world you’d like to visit."
   ]
  },
  {
   "cell_type": "markdown",
   "id": "ed69274d",
   "metadata": {},
   "source": [
    "Store the locations in a list. Make sure the list is not in alphabetical order"
   ]
  },
  {
   "cell_type": "code",
   "execution_count": 127,
   "id": "a3cda047",
   "metadata": {},
   "outputs": [],
   "source": [
    "location = [\"muree\", \"Lahore\",\"Faisalabad\",\"Islamabad\"]"
   ]
  },
  {
   "cell_type": "markdown",
   "id": "c29781a7",
   "metadata": {},
   "source": [
    "Print your list in its original order. Don’t worry about printing the list neatly;\n",
    "just print it as a raw Python list."
   ]
  },
  {
   "cell_type": "code",
   "execution_count": 128,
   "id": "d9ba3185",
   "metadata": {},
   "outputs": [
    {
     "data": {
      "text/plain": [
       "['muree', 'Lahore', 'Faisalabad', 'Islamabad']"
      ]
     },
     "execution_count": 128,
     "metadata": {},
     "output_type": "execute_result"
    }
   ],
   "source": [
    "location"
   ]
  },
  {
   "cell_type": "code",
   "execution_count": 129,
   "id": "99bf9b26",
   "metadata": {},
   "outputs": [],
   "source": [
    "copiedlist = location.copy()"
   ]
  },
  {
   "cell_type": "code",
   "execution_count": 130,
   "id": "895007c2",
   "metadata": {},
   "outputs": [
    {
     "data": {
      "text/plain": [
       "['muree', 'Lahore', 'Faisalabad', 'Islamabad']"
      ]
     },
     "execution_count": 130,
     "metadata": {},
     "output_type": "execute_result"
    }
   ],
   "source": [
    "copiedlist"
   ]
  },
  {
   "cell_type": "code",
   "execution_count": 131,
   "id": "e2e2a1cd",
   "metadata": {},
   "outputs": [],
   "source": [
    "copiedlist.sort()"
   ]
  },
  {
   "cell_type": "code",
   "execution_count": 132,
   "id": "c995bcba",
   "metadata": {},
   "outputs": [
    {
     "data": {
      "text/plain": [
       "['Faisalabad', 'Islamabad', 'Lahore', 'muree']"
      ]
     },
     "execution_count": 132,
     "metadata": {},
     "output_type": "execute_result"
    }
   ],
   "source": [
    "copiedlist"
   ]
  },
  {
   "cell_type": "code",
   "execution_count": 133,
   "id": "06cfe86d",
   "metadata": {},
   "outputs": [
    {
     "name": "stdout",
     "output_type": "stream",
     "text": [
      "This is origional list ['muree', 'Lahore', 'Faisalabad', 'Islamabad']\n",
      "This is copied list ['Faisalabad', 'Islamabad', 'Lahore', 'muree']\n"
     ]
    }
   ],
   "source": [
    "print(f\"This is origional list {location}\")\n",
    "print(f\"This is copied list {copiedlist}\")"
   ]
  },
  {
   "cell_type": "markdown",
   "id": "578dcdaa",
   "metadata": {},
   "source": [
    "Use sorted() to print your list in reverse-alphabetical order without changing the order of the original list."
   ]
  },
  {
   "cell_type": "code",
   "execution_count": 134,
   "id": "1d4cfbc8",
   "metadata": {},
   "outputs": [
    {
     "data": {
      "text/plain": [
       "['muree', 'Lahore', 'Faisalabad', 'Islamabad']"
      ]
     },
     "execution_count": 134,
     "metadata": {},
     "output_type": "execute_result"
    }
   ],
   "source": [
    "location"
   ]
  },
  {
   "cell_type": "code",
   "execution_count": 135,
   "id": "2f4af8c5",
   "metadata": {},
   "outputs": [
    {
     "data": {
      "text/plain": [
       "['Faisalabad', 'Islamabad', 'Lahore', 'muree']"
      ]
     },
     "execution_count": 135,
     "metadata": {},
     "output_type": "execute_result"
    }
   ],
   "source": [
    "copiedlist"
   ]
  },
  {
   "cell_type": "code",
   "execution_count": 136,
   "id": "8128780f",
   "metadata": {},
   "outputs": [],
   "source": [
    "copiedlist.reverse()"
   ]
  },
  {
   "cell_type": "code",
   "execution_count": 137,
   "id": "f45c3f23",
   "metadata": {},
   "outputs": [
    {
     "data": {
      "text/plain": [
       "['muree', 'Lahore', 'Islamabad', 'Faisalabad']"
      ]
     },
     "execution_count": 137,
     "metadata": {},
     "output_type": "execute_result"
    }
   ],
   "source": [
    "copiedlist"
   ]
  },
  {
   "cell_type": "markdown",
   "id": "3e6faf43",
   "metadata": {},
   "source": [
    "Show that your list is still in its original order by printing it again."
   ]
  },
  {
   "cell_type": "code",
   "execution_count": 138,
   "id": "c75b844e",
   "metadata": {},
   "outputs": [
    {
     "data": {
      "text/plain": [
       "['muree', 'Lahore', 'Faisalabad', 'Islamabad']"
      ]
     },
     "execution_count": 138,
     "metadata": {},
     "output_type": "execute_result"
    }
   ],
   "source": [
    "location"
   ]
  },
  {
   "cell_type": "markdown",
   "id": "10e8ec71",
   "metadata": {},
   "source": [
    "Use reverse() to change the order of your list. Print the list to show that its\n",
    "order has changed."
   ]
  },
  {
   "cell_type": "code",
   "execution_count": 139,
   "id": "6ab59097",
   "metadata": {},
   "outputs": [],
   "source": [
    "location.reverse()"
   ]
  },
  {
   "cell_type": "code",
   "execution_count": 140,
   "id": "93184543",
   "metadata": {},
   "outputs": [
    {
     "data": {
      "text/plain": [
       "['Islamabad', 'Faisalabad', 'Lahore', 'muree']"
      ]
     },
     "execution_count": 140,
     "metadata": {},
     "output_type": "execute_result"
    }
   ],
   "source": [
    "location"
   ]
  },
  {
   "cell_type": "code",
   "execution_count": 141,
   "id": "755cca3a",
   "metadata": {},
   "outputs": [
    {
     "data": {
      "text/plain": [
       "['muree', 'Lahore', 'Islamabad', 'Faisalabad']"
      ]
     },
     "execution_count": 141,
     "metadata": {},
     "output_type": "execute_result"
    }
   ],
   "source": [
    "copiedlist "
   ]
  },
  {
   "cell_type": "markdown",
   "id": "29297e46",
   "metadata": {},
   "source": [
    "• Use reverse() to change the order of your list again. Print the list to show\n",
    "it’s back to its original order."
   ]
  },
  {
   "cell_type": "code",
   "execution_count": 142,
   "id": "fd69f4fd",
   "metadata": {},
   "outputs": [],
   "source": [
    "location.reverse()"
   ]
  },
  {
   "cell_type": "code",
   "execution_count": 143,
   "id": "66c9237f",
   "metadata": {},
   "outputs": [
    {
     "data": {
      "text/plain": [
       "['muree', 'Lahore', 'Faisalabad', 'Islamabad']"
      ]
     },
     "execution_count": 143,
     "metadata": {},
     "output_type": "execute_result"
    }
   ],
   "source": [
    "location"
   ]
  },
  {
   "cell_type": "markdown",
   "id": "c3e2164d",
   "metadata": {},
   "source": [
    "# 3-9. Dinner Guests: Working with one of the programs from Exercises 3-4 through 3-7 (pages 41–42), use len() to print a message indicating the number of people you’re inviting to dinner."
   ]
  },
  {
   "cell_type": "code",
   "execution_count": 144,
   "id": "aeb43add",
   "metadata": {},
   "outputs": [
    {
     "data": {
      "text/plain": [
       "[]"
      ]
     },
     "execution_count": 144,
     "metadata": {},
     "output_type": "execute_result"
    }
   ],
   "source": [
    "Guest_list"
   ]
  },
  {
   "cell_type": "code",
   "execution_count": 145,
   "id": "90dce8b0",
   "metadata": {},
   "outputs": [],
   "source": [
    "Guest_list.append(\"Ali\")"
   ]
  },
  {
   "cell_type": "code",
   "execution_count": 146,
   "id": "8f5d73ce",
   "metadata": {},
   "outputs": [
    {
     "data": {
      "text/plain": [
       "['Ali']"
      ]
     },
     "execution_count": 146,
     "metadata": {},
     "output_type": "execute_result"
    }
   ],
   "source": [
    "Guest_list"
   ]
  },
  {
   "cell_type": "code",
   "execution_count": 147,
   "id": "2c4e8b74",
   "metadata": {},
   "outputs": [],
   "source": [
    "Guest_list.extend([\"farhan\",\"Asad\",\"Leo\"])"
   ]
  },
  {
   "cell_type": "code",
   "execution_count": 148,
   "id": "d4f72d7a",
   "metadata": {},
   "outputs": [
    {
     "data": {
      "text/plain": [
       "['Ali', 'farhan', 'Asad', 'Leo']"
      ]
     },
     "execution_count": 148,
     "metadata": {},
     "output_type": "execute_result"
    }
   ],
   "source": [
    "Guest_list"
   ]
  },
  {
   "cell_type": "code",
   "execution_count": 149,
   "id": "b6b0a8f5",
   "metadata": {},
   "outputs": [
    {
     "data": {
      "text/plain": [
       "4"
      ]
     },
     "execution_count": 149,
     "metadata": {},
     "output_type": "execute_result"
    }
   ],
   "source": [
    "len(Guest_list)"
   ]
  },
  {
   "cell_type": "markdown",
   "id": "8a969a0e",
   "metadata": {},
   "source": [
    "# 3-10. Every Function: Think of things you could store in a list. For example, you could make a list of mountains, rivers, countries, cities, languages, or anything else you’d like. Write a program that creates a list containing these items and then uses each function introduced in this chapter at least once."
   ]
  },
  {
   "cell_type": "code",
   "execution_count": 150,
   "id": "b20e4a6a",
   "metadata": {},
   "outputs": [],
   "source": [
    "List_02 = [\"Faisalabad\",\"Farhan\",\"Ali\",\"Bike\",\"Car\",\"CGPA\",10]"
   ]
  },
  {
   "cell_type": "code",
   "execution_count": 151,
   "id": "b21bfc52",
   "metadata": {},
   "outputs": [
    {
     "data": {
      "text/plain": [
       "['Faisalabad', 'Farhan', 'Ali', 'Bike', 'Car', 'CGPA', 10]"
      ]
     },
     "execution_count": 151,
     "metadata": {},
     "output_type": "execute_result"
    }
   ],
   "source": [
    "List_02"
   ]
  },
  {
   "cell_type": "code",
   "execution_count": 152,
   "id": "832ac7fe",
   "metadata": {},
   "outputs": [],
   "source": [
    "List_02.reverse()"
   ]
  },
  {
   "cell_type": "code",
   "execution_count": 153,
   "id": "01a0e7b5",
   "metadata": {},
   "outputs": [
    {
     "data": {
      "text/plain": [
       "[10, 'CGPA', 'Car', 'Bike', 'Ali', 'Farhan', 'Faisalabad']"
      ]
     },
     "execution_count": 153,
     "metadata": {},
     "output_type": "execute_result"
    }
   ],
   "source": [
    "List_02"
   ]
  },
  {
   "cell_type": "markdown",
   "id": "52c755b3",
   "metadata": {},
   "source": [
    "# 3-11. Intentional Error: If you haven’t received an index error in one of your programs yet, try to make one happen. Change an index in one of your programs to produce an index error. Make sure you correct the error before closing the program."
   ]
  },
  {
   "cell_type": "code",
   "execution_count": 154,
   "id": "2dadbff3",
   "metadata": {},
   "outputs": [
    {
     "ename": "IndexError",
     "evalue": "list index out of range",
     "output_type": "error",
     "traceback": [
      "\u001b[1;31m---------------------------------------------------------------------------\u001b[0m",
      "\u001b[1;31mIndexError\u001b[0m                                Traceback (most recent call last)",
      "\u001b[1;32m~\\AppData\\Local\\Temp/ipykernel_8932/3803153715.py\u001b[0m in \u001b[0;36m<module>\u001b[1;34m\u001b[0m\n\u001b[1;32m----> 1\u001b[1;33m \u001b[0mList_02\u001b[0m\u001b[1;33m[\u001b[0m\u001b[1;36m10\u001b[0m\u001b[1;33m]\u001b[0m\u001b[1;33m\u001b[0m\u001b[1;33m\u001b[0m\u001b[0m\n\u001b[0m",
      "\u001b[1;31mIndexError\u001b[0m: list index out of range"
     ]
    }
   ],
   "source": [
    "List_02[10]"
   ]
  },
  {
   "cell_type": "markdown",
   "id": "402bd57c",
   "metadata": {},
   "source": [
    "# Chapter 4 Working with lists"
   ]
  },
  {
   "cell_type": "markdown",
   "id": "ec17cd7f",
   "metadata": {},
   "source": [
    "looping through lists"
   ]
  },
  {
   "cell_type": "code",
   "execution_count": 155,
   "id": "764b0ce5",
   "metadata": {},
   "outputs": [
    {
     "data": {
      "text/plain": [
       "['Farhan', 'Abdulrehman', 'hafiz']"
      ]
     },
     "execution_count": 155,
     "metadata": {},
     "output_type": "execute_result"
    }
   ],
   "source": [
    "names "
   ]
  },
  {
   "cell_type": "code",
   "execution_count": 156,
   "id": "3f064ba6",
   "metadata": {},
   "outputs": [
    {
     "name": "stdout",
     "output_type": "stream",
     "text": [
      "Farhan\n",
      "Abdulrehman\n",
      "hafiz\n"
     ]
    }
   ],
   "source": [
    "for name in names:\n",
    "    print(name)"
   ]
  },
  {
   "cell_type": "code",
   "execution_count": 157,
   "id": "c97cf6a5",
   "metadata": {},
   "outputs": [
    {
     "name": "stdout",
     "output_type": "stream",
     "text": [
      "Farhan, That was great trick\n",
      "Abdulrehman, That was great trick\n",
      "Hafiz, That was great trick\n"
     ]
    }
   ],
   "source": [
    "for name in names:\n",
    "    print(f\"{name.title()}, That was great trick\")"
   ]
  },
  {
   "cell_type": "code",
   "execution_count": 158,
   "id": "806a45d0",
   "metadata": {},
   "outputs": [],
   "source": [
    "cgpa = [2, 4, 2, 3 ]"
   ]
  },
  {
   "cell_type": "code",
   "execution_count": 159,
   "id": "34679995",
   "metadata": {},
   "outputs": [
    {
     "ename": "AttributeError",
     "evalue": "'int' object has no attribute 'title'",
     "output_type": "error",
     "traceback": [
      "\u001b[1;31m---------------------------------------------------------------------------\u001b[0m",
      "\u001b[1;31mAttributeError\u001b[0m                            Traceback (most recent call last)",
      "\u001b[1;32m~\\AppData\\Local\\Temp/ipykernel_8932/3629355539.py\u001b[0m in \u001b[0;36m<module>\u001b[1;34m\u001b[0m\n\u001b[0;32m      1\u001b[0m \u001b[1;32mfor\u001b[0m \u001b[0mmarks\u001b[0m \u001b[1;32min\u001b[0m \u001b[0mcgpa\u001b[0m\u001b[1;33m:\u001b[0m\u001b[1;33m\u001b[0m\u001b[1;33m\u001b[0m\u001b[0m\n\u001b[1;32m----> 2\u001b[1;33m     \u001b[0mprint\u001b[0m\u001b[1;33m(\u001b[0m\u001b[1;34mf\"{marks.title()}, Farhan's GPA in Semesters\"\u001b[0m\u001b[1;33m)\u001b[0m\u001b[1;33m\u001b[0m\u001b[1;33m\u001b[0m\u001b[0m\n\u001b[0m",
      "\u001b[1;31mAttributeError\u001b[0m: 'int' object has no attribute 'title'"
     ]
    }
   ],
   "source": [
    "for marks in cgpa:\n",
    "    print(f\"{marks.title()}, Farhan's GPA in Semesters\")"
   ]
  },
  {
   "cell_type": "code",
   "execution_count": 160,
   "id": "22e791c5",
   "metadata": {},
   "outputs": [
    {
     "data": {
      "text/plain": [
       "['Farhan', 'Abdulrehman', 'hafiz']"
      ]
     },
     "execution_count": 160,
     "metadata": {},
     "output_type": "execute_result"
    }
   ],
   "source": [
    "names"
   ]
  },
  {
   "cell_type": "code",
   "execution_count": 161,
   "id": "2cce8cff",
   "metadata": {},
   "outputs": [
    {
     "name": "stdout",
     "output_type": "stream",
     "text": [
      "Farhan, That was great trick!\n",
      "I cannot wait to see more tricks , Farhan.\n",
      "\n",
      "Abdulrehman, That was great trick!\n",
      "I cannot wait to see more tricks , Abdulrehman.\n",
      "\n",
      "Hafiz, That was great trick!\n",
      "I cannot wait to see more tricks , Hafiz.\n",
      "\n"
     ]
    }
   ],
   "source": [
    "for name in names:\n",
    "    print(f\"{name.title()}, That was great trick!\")\n",
    "    print(f\"I cannot wait to see more tricks , {name.title()}.\\n\")"
   ]
  },
  {
   "cell_type": "code",
   "execution_count": 162,
   "id": "17cb5b3c",
   "metadata": {},
   "outputs": [
    {
     "name": "stdout",
     "output_type": "stream",
     "text": [
      "Farhan, That was great trick!\n",
      "I cannot wait to see more tricks , Farhan.\n",
      "\n",
      "Abdulrehman, That was great trick!\n",
      "I cannot wait to see more tricks , Abdulrehman.\n",
      "\n",
      "Hafiz, That was great trick!\n",
      "I cannot wait to see more tricks , Hafiz.\n",
      "\n",
      "Thank you all of you for being here\n"
     ]
    }
   ],
   "source": [
    "for name in names:\n",
    "    print(f\"{name.title()}, That was great trick!\")\n",
    "    print(f\"I cannot wait to see more tricks , {name.title()}.\\n\")\n",
    "print(\"Thank you all of you for being here\")"
   ]
  },
  {
   "cell_type": "markdown",
   "id": "b56f2d10",
   "metadata": {},
   "source": [
    "# 4-1. Pizzas: Think of at least three kinds of your favorite pizza. Store these pizza names in a list, and then use a for loop to print the name of each pizza."
   ]
  },
  {
   "cell_type": "markdown",
   "id": "3b8d5488",
   "metadata": {},
   "source": [
    "Modify your for loop to print a sentence using the name of the pizza,\n",
    "instead of printing just the name of the pizza. For each pizza, you should\n",
    "have one line of output containing a simple statement like I like pepperoni pizza."
   ]
  },
  {
   "cell_type": "code",
   "execution_count": 163,
   "id": "d6f41c16",
   "metadata": {},
   "outputs": [
    {
     "name": "stdout",
     "output_type": "stream",
     "text": [
      "I like the Chicken Tikka pizza \n",
      "I like the Chickenkabab pizza \n",
      "I like the Malai Botiii pizza \n"
     ]
    }
   ],
   "source": [
    "pizaNames = [\"Chicken Tikka\",\"Chickenkabab\", \"Malai botiii\"]\n",
    "for piza in pizaNames:\n",
    "    print(f\"I like the {piza.title()} pizza \")"
   ]
  },
  {
   "cell_type": "markdown",
   "id": "17c38d07",
   "metadata": {},
   "source": [
    "Add a line at the end of your program, outside the for loop, that states\n",
    "how much you like pizza. The output should consist of three or more lines\n",
    "about the kinds of pizza you like and then an additional sentence, such as\n",
    "I really love pizza!"
   ]
  },
  {
   "cell_type": "code",
   "execution_count": 164,
   "id": "e89fc578",
   "metadata": {},
   "outputs": [
    {
     "name": "stdout",
     "output_type": "stream",
     "text": [
      "I like the Chicken Tikka pizza \n",
      "I like the Chickenkabab pizza \n",
      "I like the Malai Botiii pizza \n",
      "These pizas are very yummy and i really like it\n"
     ]
    }
   ],
   "source": [
    "pizaNames = [\"Chicken Tikka\",\"Chickenkabab\", \"Malai botiii\"]\n",
    "for piza in pizaNames:\n",
    "    print(f\"I like the {piza.title()} pizza \")\n",
    "print('These pizas are very yummy and i really like it')"
   ]
  },
  {
   "cell_type": "markdown",
   "id": "e758a58c",
   "metadata": {},
   "source": [
    "# 4-2. Animals: Think of at least three different animals that have a common characteristic. Store the names of these animals in a list, and then use a for loop to print out the name of each animal."
   ]
  },
  {
   "cell_type": "code",
   "execution_count": 165,
   "id": "813ccd5f",
   "metadata": {},
   "outputs": [],
   "source": [
    "animals = [\"Lion\", \"Tiger\", \"Cheetah\"]"
   ]
  },
  {
   "cell_type": "markdown",
   "id": "3dd6bb3b",
   "metadata": {},
   "source": [
    "Modify your program to print a statement about each animal, such as A\n",
    "dog would make a great pet."
   ]
  },
  {
   "cell_type": "code",
   "execution_count": 166,
   "id": "eeb7df18",
   "metadata": {},
   "outputs": [
    {
     "name": "stdout",
     "output_type": "stream",
     "text": [
      "A Lion, would make a great pet\n",
      "A Tiger, would make a great pet\n",
      "A Cheetah, would make a great pet\n"
     ]
    }
   ],
   "source": [
    "for animal in animals:\n",
    "    print(f\"A {animal.title()}, would make a great pet\")"
   ]
  },
  {
   "cell_type": "markdown",
   "id": "edb2f10e",
   "metadata": {},
   "source": [
    "Add a line at the end of your program, stating what these animals have in\n",
    "common. You could print a sentence, such as Any of these animals would\n",
    "make a great pet!"
   ]
  },
  {
   "cell_type": "code",
   "execution_count": 167,
   "id": "65db09c9",
   "metadata": {},
   "outputs": [
    {
     "name": "stdout",
     "output_type": "stream",
     "text": [
      "A Lion, would make a great pet\n",
      "A Tiger, would make a great pet\n",
      "A Cheetah, would make a great pet\n",
      "These Animals are brave so thats why i like their these habits\n"
     ]
    }
   ],
   "source": [
    "for animal in animals:\n",
    "    print(f\"A {animal.title()}, would make a great pet\")\n",
    "print(\"These Animals are brave so thats why i like their these habits\")"
   ]
  },
  {
   "cell_type": "markdown",
   "id": "6a2c4526",
   "metadata": {},
   "source": [
    "# Making Numerical Lists"
   ]
  },
  {
   "cell_type": "code",
   "execution_count": 168,
   "id": "bd6de990",
   "metadata": {},
   "outputs": [
    {
     "name": "stdout",
     "output_type": "stream",
     "text": [
      "1\n",
      "2\n",
      "3\n",
      "4\n",
      "5\n",
      "6\n",
      "7\n",
      "8\n",
      "9\n"
     ]
    }
   ],
   "source": [
    "for value in range(1,10):\n",
    "    print(value)"
   ]
  },
  {
   "cell_type": "code",
   "execution_count": 169,
   "id": "f097c518",
   "metadata": {},
   "outputs": [
    {
     "name": "stdout",
     "output_type": "stream",
     "text": [
      "1\n",
      "3\n",
      "5\n",
      "7\n",
      "9\n"
     ]
    }
   ],
   "source": [
    "for value in range(1,10,2):  #range(start, stop, step size)\n",
    "    print(value)"
   ]
  },
  {
   "cell_type": "markdown",
   "id": "e208a004",
   "metadata": {},
   "source": [
    "use range to make a list of numbers"
   ]
  },
  {
   "cell_type": "code",
   "execution_count": 170,
   "id": "52de8b65",
   "metadata": {},
   "outputs": [
    {
     "name": "stdout",
     "output_type": "stream",
     "text": [
      "[1, 2, 3, 4, 5]\n"
     ]
    }
   ],
   "source": [
    "numbers = list(range(1,6))\n",
    "print(numbers)"
   ]
  },
  {
   "cell_type": "code",
   "execution_count": 171,
   "id": "f5b35c28",
   "metadata": {},
   "outputs": [
    {
     "name": "stdout",
     "output_type": "stream",
     "text": [
      "[1, 2, 3, 4, 5]\n"
     ]
    }
   ],
   "source": [
    "numbers = list(range(1, 6))\n",
    "print(numbers)"
   ]
  },
  {
   "cell_type": "code",
   "execution_count": null,
   "id": "b1394e91",
   "metadata": {},
   "outputs": [],
   "source": [
    "list"
   ]
  },
  {
   "cell_type": "code",
   "execution_count": 172,
   "id": "fe61495a",
   "metadata": {},
   "outputs": [],
   "source": [
    "even_numbers = list(range(1,100, 2))"
   ]
  },
  {
   "cell_type": "code",
   "execution_count": 173,
   "id": "32522463",
   "metadata": {},
   "outputs": [
    {
     "data": {
      "text/plain": [
       "[1,\n",
       " 3,\n",
       " 5,\n",
       " 7,\n",
       " 9,\n",
       " 11,\n",
       " 13,\n",
       " 15,\n",
       " 17,\n",
       " 19,\n",
       " 21,\n",
       " 23,\n",
       " 25,\n",
       " 27,\n",
       " 29,\n",
       " 31,\n",
       " 33,\n",
       " 35,\n",
       " 37,\n",
       " 39,\n",
       " 41,\n",
       " 43,\n",
       " 45,\n",
       " 47,\n",
       " 49,\n",
       " 51,\n",
       " 53,\n",
       " 55,\n",
       " 57,\n",
       " 59,\n",
       " 61,\n",
       " 63,\n",
       " 65,\n",
       " 67,\n",
       " 69,\n",
       " 71,\n",
       " 73,\n",
       " 75,\n",
       " 77,\n",
       " 79,\n",
       " 81,\n",
       " 83,\n",
       " 85,\n",
       " 87,\n",
       " 89,\n",
       " 91,\n",
       " 93,\n",
       " 95,\n",
       " 97,\n",
       " 99]"
      ]
     },
     "execution_count": 173,
     "metadata": {},
     "output_type": "execute_result"
    }
   ],
   "source": [
    "even_numbers"
   ]
  },
  {
   "cell_type": "code",
   "execution_count": 174,
   "id": "a49534c1",
   "metadata": {},
   "outputs": [
    {
     "name": "stdout",
     "output_type": "stream",
     "text": [
      "[1, 4, 9, 16, 25, 36, 49, 64, 81, 100, 121, 144, 169, 196, 225, 256, 289, 324, 361]\n"
     ]
    }
   ],
   "source": [
    "squares = []\n",
    "for value in range(1,20):\n",
    "    square = value**2\n",
    "    squares.append(square)\n",
    "print(squares)"
   ]
  },
  {
   "cell_type": "code",
   "execution_count": 175,
   "id": "52905501",
   "metadata": {},
   "outputs": [
    {
     "name": "stdout",
     "output_type": "stream",
     "text": [
      "[1, 4, 9, 16, 25, 36, 49, 64, 81, 100, 121, 144, 169, 196, 225, 256, 289, 324, 361, 21, 22, 23, 24, 25, 26, 27, 28, 29]\n"
     ]
    }
   ],
   "source": [
    "for value in range(21,30):\n",
    "    squares.append(value)\n",
    "    \n",
    "print(squares)"
   ]
  },
  {
   "cell_type": "markdown",
   "id": "e53adde5",
   "metadata": {},
   "source": [
    "# Simple Statistics with a List of Numbers"
   ]
  },
  {
   "cell_type": "code",
   "execution_count": 176,
   "id": "07648e19",
   "metadata": {},
   "outputs": [],
   "source": [
    "digit = list(range(1,10))"
   ]
  },
  {
   "cell_type": "code",
   "execution_count": 177,
   "id": "1e07590f",
   "metadata": {},
   "outputs": [
    {
     "data": {
      "text/plain": [
       "[1, 2, 3, 4, 5, 6, 7, 8, 9]"
      ]
     },
     "execution_count": 177,
     "metadata": {},
     "output_type": "execute_result"
    }
   ],
   "source": [
    "digit"
   ]
  },
  {
   "cell_type": "code",
   "execution_count": 179,
   "id": "f6c668c2",
   "metadata": {},
   "outputs": [
    {
     "data": {
      "text/plain": [
       "1"
      ]
     },
     "execution_count": 179,
     "metadata": {},
     "output_type": "execute_result"
    }
   ],
   "source": [
    "min(digit)"
   ]
  },
  {
   "cell_type": "code",
   "execution_count": 180,
   "id": "7b6b22ea",
   "metadata": {},
   "outputs": [
    {
     "data": {
      "text/plain": [
       "9"
      ]
     },
     "execution_count": 180,
     "metadata": {},
     "output_type": "execute_result"
    }
   ],
   "source": [
    "max(digit)"
   ]
  },
  {
   "cell_type": "code",
   "execution_count": 181,
   "id": "3119240b",
   "metadata": {},
   "outputs": [
    {
     "data": {
      "text/plain": [
       "45"
      ]
     },
     "execution_count": 181,
     "metadata": {},
     "output_type": "execute_result"
    }
   ],
   "source": [
    "sum(digit)"
   ]
  },
  {
   "cell_type": "code",
   "execution_count": 182,
   "id": "a43db764",
   "metadata": {},
   "outputs": [
    {
     "data": {
      "text/plain": [
       "[1, 2, 3, 4, 5, 6, 7, 8, 9]"
      ]
     },
     "execution_count": 182,
     "metadata": {},
     "output_type": "execute_result"
    }
   ],
   "source": [
    "digit"
   ]
  },
  {
   "cell_type": "code",
   "execution_count": 186,
   "id": "497c771c",
   "metadata": {},
   "outputs": [
    {
     "name": "stdout",
     "output_type": "stream",
     "text": [
      "45\n"
     ]
    }
   ],
   "source": [
    "total = 0\n",
    "for i in digit:\n",
    "    total = total+i\n",
    "   \n",
    "    \n",
    "print(total)"
   ]
  },
  {
   "cell_type": "markdown",
   "id": "22c1b1fe",
   "metadata": {},
   "source": [
    "# page No sixty, next start"
   ]
  },
  {
   "cell_type": "code",
   "execution_count": null,
   "id": "7ea3fa95",
   "metadata": {},
   "outputs": [],
   "source": []
  }
 ],
 "metadata": {
  "kernelspec": {
   "display_name": "Python 3 (ipykernel)",
   "language": "python",
   "name": "python3"
  },
  "language_info": {
   "codemirror_mode": {
    "name": "ipython",
    "version": 3
   },
   "file_extension": ".py",
   "mimetype": "text/x-python",
   "name": "python",
   "nbconvert_exporter": "python",
   "pygments_lexer": "ipython3",
   "version": "3.9.7"
  }
 },
 "nbformat": 4,
 "nbformat_minor": 5
}
