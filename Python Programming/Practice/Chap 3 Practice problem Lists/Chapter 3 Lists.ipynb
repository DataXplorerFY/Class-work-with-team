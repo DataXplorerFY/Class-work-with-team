{
 "cells": [
  {
   "cell_type": "code",
   "execution_count": 1,
   "id": "7ec38d95",
   "metadata": {},
   "outputs": [
    {
     "name": "stdout",
     "output_type": "stream",
     "text": [
      "Enter your name!leo\n"
     ]
    },
    {
     "data": {
      "text/plain": [
       "'leo'"
      ]
     },
     "execution_count": 1,
     "metadata": {},
     "output_type": "execute_result"
    }
   ],
   "source": [
    "name = input(\"Enter your name!\")\n",
    "name"
   ]
  },
  {
   "cell_type": "code",
   "execution_count": 2,
   "id": "74ec3f7c",
   "metadata": {},
   "outputs": [
    {
     "data": {
      "text/plain": [
       "str"
      ]
     },
     "execution_count": 2,
     "metadata": {},
     "output_type": "execute_result"
    }
   ],
   "source": [
    "type(name)"
   ]
  },
  {
   "cell_type": "code",
   "execution_count": 3,
   "id": "4fbafe20",
   "metadata": {},
   "outputs": [
    {
     "name": "stdout",
     "output_type": "stream",
     "text": [
      "Enter your age 5\n"
     ]
    },
    {
     "data": {
      "text/plain": [
       "5"
      ]
     },
     "execution_count": 3,
     "metadata": {},
     "output_type": "execute_result"
    }
   ],
   "source": [
    "age = int(input(\"Enter your age \"))\n",
    "age"
   ]
  },
  {
   "cell_type": "code",
   "execution_count": 4,
   "id": "87f950d8",
   "metadata": {},
   "outputs": [
    {
     "data": {
      "text/plain": [
       "int"
      ]
     },
     "execution_count": 4,
     "metadata": {},
     "output_type": "execute_result"
    }
   ],
   "source": [
    "type(age)"
   ]
  },
  {
   "cell_type": "markdown",
   "id": "44e73757",
   "metadata": {},
   "source": [
    "# Chapter 3 introduction to Lists in python "
   ]
  },
  {
   "cell_type": "code",
   "execution_count": 5,
   "id": "27dd0042",
   "metadata": {},
   "outputs": [],
   "source": [
    "list_1 = [\"Farhan\",\"Ali\",\"Hamza\",\"Asad\"]"
   ]
  },
  {
   "cell_type": "code",
   "execution_count": 6,
   "id": "337ac234",
   "metadata": {},
   "outputs": [
    {
     "data": {
      "text/plain": [
       "['Farhan', 'Ali', 'Hamza', 'Asad']"
      ]
     },
     "execution_count": 6,
     "metadata": {},
     "output_type": "execute_result"
    }
   ],
   "source": [
    "list_1"
   ]
  },
  {
   "cell_type": "code",
   "execution_count": 7,
   "id": "db323bb8",
   "metadata": {},
   "outputs": [],
   "source": [
    "list_2 = [1,2,3,4,5]"
   ]
  },
  {
   "cell_type": "code",
   "execution_count": 8,
   "id": "1afafcdd",
   "metadata": {},
   "outputs": [
    {
     "data": {
      "text/plain": [
       "[1, 2, 3, 4, 5]"
      ]
     },
     "execution_count": 8,
     "metadata": {},
     "output_type": "execute_result"
    }
   ],
   "source": [
    "list_2"
   ]
  },
  {
   "cell_type": "code",
   "execution_count": 9,
   "id": "a9d4b42d",
   "metadata": {},
   "outputs": [],
   "source": [
    "list_3 = [2.3,4.5,6.7]"
   ]
  },
  {
   "cell_type": "code",
   "execution_count": 10,
   "id": "14974d5f",
   "metadata": {},
   "outputs": [
    {
     "data": {
      "text/plain": [
       "[2.3, 4.5, 6.7]"
      ]
     },
     "execution_count": 10,
     "metadata": {},
     "output_type": "execute_result"
    }
   ],
   "source": [
    "list_3"
   ]
  },
  {
   "cell_type": "code",
   "execution_count": 11,
   "id": "438bcfeb",
   "metadata": {},
   "outputs": [],
   "source": [
    "list_4 = [\"Farhan\",\"Ali\", 23, 5.8, 2.8]"
   ]
  },
  {
   "cell_type": "code",
   "execution_count": 12,
   "id": "018134e3",
   "metadata": {},
   "outputs": [
    {
     "data": {
      "text/plain": [
       "['Farhan', 'Ali', 23, 5.8, 2.8]"
      ]
     },
     "execution_count": 12,
     "metadata": {},
     "output_type": "execute_result"
    }
   ],
   "source": [
    "list_4"
   ]
  },
  {
   "cell_type": "markdown",
   "id": "9c726192",
   "metadata": {},
   "source": [
    "# List Functions "
   ]
  },
  {
   "cell_type": "code",
   "execution_count": 13,
   "id": "7e4a2254",
   "metadata": {},
   "outputs": [],
   "source": [
    "List = [\"Farhan\", \"Ali\",\"Asad\"]"
   ]
  },
  {
   "cell_type": "code",
   "execution_count": 14,
   "id": "25be3826",
   "metadata": {},
   "outputs": [
    {
     "data": {
      "text/plain": [
       "['Farhan', 'Ali', 'Asad']"
      ]
     },
     "execution_count": 14,
     "metadata": {},
     "output_type": "execute_result"
    }
   ],
   "source": [
    "List "
   ]
  },
  {
   "cell_type": "markdown",
   "id": "e32d3507",
   "metadata": {},
   "source": [
    "#  How to access list items"
   ]
  },
  {
   "cell_type": "code",
   "execution_count": 15,
   "id": "a6b6f568",
   "metadata": {},
   "outputs": [
    {
     "data": {
      "text/plain": [
       "'Farhan'"
      ]
     },
     "execution_count": 15,
     "metadata": {},
     "output_type": "execute_result"
    }
   ],
   "source": [
    "List[0]"
   ]
  },
  {
   "cell_type": "code",
   "execution_count": 16,
   "id": "5eef2547",
   "metadata": {},
   "outputs": [
    {
     "data": {
      "text/plain": [
       "'Ali'"
      ]
     },
     "execution_count": 16,
     "metadata": {},
     "output_type": "execute_result"
    }
   ],
   "source": [
    "List[1]"
   ]
  },
  {
   "cell_type": "code",
   "execution_count": 17,
   "id": "21979b29",
   "metadata": {},
   "outputs": [],
   "source": [
    "fruits = []"
   ]
  },
  {
   "cell_type": "code",
   "execution_count": 18,
   "id": "c3ea7518",
   "metadata": {},
   "outputs": [
    {
     "data": {
      "text/plain": [
       "0"
      ]
     },
     "execution_count": 18,
     "metadata": {},
     "output_type": "execute_result"
    }
   ],
   "source": [
    "len(fruits)"
   ]
  },
  {
   "cell_type": "markdown",
   "id": "78b8a11a",
   "metadata": {},
   "source": [
    "# how to add item in a list "
   ]
  },
  {
   "cell_type": "code",
   "execution_count": 19,
   "id": "53aad198",
   "metadata": {},
   "outputs": [],
   "source": [
    "#we can use append  function to add items in a list in the last . and it will only take one value "
   ]
  },
  {
   "cell_type": "code",
   "execution_count": 20,
   "id": "2146d6d5",
   "metadata": {},
   "outputs": [
    {
     "data": {
      "text/plain": [
       "[]"
      ]
     },
     "execution_count": 20,
     "metadata": {},
     "output_type": "execute_result"
    }
   ],
   "source": [
    "fruits"
   ]
  },
  {
   "cell_type": "code",
   "execution_count": 21,
   "id": "22e2db03",
   "metadata": {},
   "outputs": [],
   "source": [
    "fruits.append(\"apple\")"
   ]
  },
  {
   "cell_type": "code",
   "execution_count": 22,
   "id": "fb963b0b",
   "metadata": {},
   "outputs": [
    {
     "data": {
      "text/plain": [
       "['apple']"
      ]
     },
     "execution_count": 22,
     "metadata": {},
     "output_type": "execute_result"
    }
   ],
   "source": [
    "fruits"
   ]
  },
  {
   "cell_type": "code",
   "execution_count": 23,
   "id": "1a98d192",
   "metadata": {},
   "outputs": [],
   "source": [
    "fruits.append(\"cherry\")"
   ]
  },
  {
   "cell_type": "code",
   "execution_count": 24,
   "id": "966c13be",
   "metadata": {},
   "outputs": [
    {
     "data": {
      "text/plain": [
       "['apple', 'cherry']"
      ]
     },
     "execution_count": 24,
     "metadata": {},
     "output_type": "execute_result"
    }
   ],
   "source": [
    "fruits"
   ]
  },
  {
   "cell_type": "code",
   "execution_count": 25,
   "id": "39f66250",
   "metadata": {},
   "outputs": [],
   "source": [
    "fruits.append(\"banana\")"
   ]
  },
  {
   "cell_type": "code",
   "execution_count": 26,
   "id": "46cb75cc",
   "metadata": {},
   "outputs": [
    {
     "data": {
      "text/plain": [
       "['apple', 'cherry', 'banana']"
      ]
     },
     "execution_count": 26,
     "metadata": {},
     "output_type": "execute_result"
    }
   ],
   "source": [
    "fruits\n"
   ]
  },
  {
   "cell_type": "code",
   "execution_count": 27,
   "id": "21ea4e4f",
   "metadata": {},
   "outputs": [],
   "source": [
    "# Next Insert funstion, it will also add values in the list but it also can take index number where you want to add the value "
   ]
  },
  {
   "cell_type": "code",
   "execution_count": 28,
   "id": "e1cea07b",
   "metadata": {},
   "outputs": [
    {
     "data": {
      "text/plain": [
       "['apple', 'cherry', 'banana']"
      ]
     },
     "execution_count": 28,
     "metadata": {},
     "output_type": "execute_result"
    }
   ],
   "source": [
    "fruits"
   ]
  },
  {
   "cell_type": "code",
   "execution_count": 29,
   "id": "38821eea",
   "metadata": {},
   "outputs": [],
   "source": [
    "fruits.insert(1,\"Mango\") #itll will add Mango in the 1st index"
   ]
  },
  {
   "cell_type": "code",
   "execution_count": 30,
   "id": "05c565e4",
   "metadata": {},
   "outputs": [
    {
     "data": {
      "text/plain": [
       "['apple', 'Mango', 'cherry', 'banana']"
      ]
     },
     "execution_count": 30,
     "metadata": {},
     "output_type": "execute_result"
    }
   ],
   "source": [
    "fruits"
   ]
  },
  {
   "cell_type": "code",
   "execution_count": 31,
   "id": "3bf1a799",
   "metadata": {},
   "outputs": [],
   "source": [
    "# If we want to add multiple valuse or item in the list by once, then we can use extent function of list "
   ]
  },
  {
   "cell_type": "code",
   "execution_count": 32,
   "id": "ae032a69",
   "metadata": {},
   "outputs": [
    {
     "data": {
      "text/plain": [
       "['apple', 'Mango', 'cherry', 'banana']"
      ]
     },
     "execution_count": 32,
     "metadata": {},
     "output_type": "execute_result"
    }
   ],
   "source": [
    "fruits"
   ]
  },
  {
   "cell_type": "code",
   "execution_count": 33,
   "id": "86ef58b5",
   "metadata": {},
   "outputs": [],
   "source": [
    "fruits.extend([\"APPLE\",\"ORANGE\",\"MANGO\",\"BANANA\"]) #for this we will give a list for multiple valuse"
   ]
  },
  {
   "cell_type": "code",
   "execution_count": 34,
   "id": "7d108bc3",
   "metadata": {},
   "outputs": [
    {
     "data": {
      "text/plain": [
       "['apple', 'Mango', 'cherry', 'banana', 'APPLE', 'ORANGE', 'MANGO', 'BANANA']"
      ]
     },
     "execution_count": 34,
     "metadata": {},
     "output_type": "execute_result"
    }
   ],
   "source": [
    "fruits"
   ]
  },
  {
   "cell_type": "markdown",
   "id": "fcfb195d",
   "metadata": {},
   "source": [
    "# For counting we can use count function"
   ]
  },
  {
   "cell_type": "code",
   "execution_count": 35,
   "id": "23b7253a",
   "metadata": {},
   "outputs": [],
   "source": [
    "#if we want to count thatb how many time a number contain in a list we can use count() function "
   ]
  },
  {
   "cell_type": "code",
   "execution_count": 36,
   "id": "99507aa8",
   "metadata": {},
   "outputs": [
    {
     "data": {
      "text/plain": [
       "['apple', 'Mango', 'cherry', 'banana', 'APPLE', 'ORANGE', 'MANGO', 'BANANA']"
      ]
     },
     "execution_count": 36,
     "metadata": {},
     "output_type": "execute_result"
    }
   ],
   "source": [
    "fruits"
   ]
  },
  {
   "cell_type": "code",
   "execution_count": 37,
   "id": "e8417d60",
   "metadata": {},
   "outputs": [
    {
     "data": {
      "text/plain": [
       "1"
      ]
     },
     "execution_count": 37,
     "metadata": {},
     "output_type": "execute_result"
    }
   ],
   "source": [
    "fruits.count(\"apple\")"
   ]
  },
  {
   "cell_type": "code",
   "execution_count": 38,
   "id": "ec516e83",
   "metadata": {},
   "outputs": [
    {
     "data": {
      "text/plain": [
       "1"
      ]
     },
     "execution_count": 38,
     "metadata": {},
     "output_type": "execute_result"
    }
   ],
   "source": [
    "fruits.count(\"Mango\")"
   ]
  },
  {
   "cell_type": "code",
   "execution_count": 39,
   "id": "d01bad5f",
   "metadata": {},
   "outputs": [],
   "source": [
    "#if we want to know about the index number of item in the list then we can use index function "
   ]
  },
  {
   "cell_type": "code",
   "execution_count": 40,
   "id": "7212a699",
   "metadata": {},
   "outputs": [
    {
     "data": {
      "text/plain": [
       "['apple', 'Mango', 'cherry', 'banana', 'APPLE', 'ORANGE', 'MANGO', 'BANANA']"
      ]
     },
     "execution_count": 40,
     "metadata": {},
     "output_type": "execute_result"
    }
   ],
   "source": [
    "fruits"
   ]
  },
  {
   "cell_type": "code",
   "execution_count": 41,
   "id": "b0cd4f83",
   "metadata": {},
   "outputs": [
    {
     "data": {
      "text/plain": [
       "3"
      ]
     },
     "execution_count": 41,
     "metadata": {},
     "output_type": "execute_result"
    }
   ],
   "source": [
    "fruits.index(\"banana\")"
   ]
  },
  {
   "cell_type": "markdown",
   "id": "fb1af9a2",
   "metadata": {},
   "source": [
    "# Clear Function"
   ]
  },
  {
   "cell_type": "code",
   "execution_count": 42,
   "id": "b4fd3465",
   "metadata": {},
   "outputs": [],
   "source": [
    "#it will delete all the elements from the list permamnntly "
   ]
  },
  {
   "cell_type": "code",
   "execution_count": 43,
   "id": "fe42bfe4",
   "metadata": {},
   "outputs": [],
   "source": [
    "Names = [\"Farhan\",\"Ali\",\"Asad\",\"Johns\"]"
   ]
  },
  {
   "cell_type": "code",
   "execution_count": 44,
   "id": "44b0bc56",
   "metadata": {},
   "outputs": [
    {
     "data": {
      "text/plain": [
       "['Farhan', 'Ali', 'Asad', 'Johns']"
      ]
     },
     "execution_count": 44,
     "metadata": {},
     "output_type": "execute_result"
    }
   ],
   "source": [
    "Names"
   ]
  },
  {
   "cell_type": "code",
   "execution_count": 45,
   "id": "56d5c948",
   "metadata": {},
   "outputs": [],
   "source": [
    "Names.clear()"
   ]
  },
  {
   "cell_type": "code",
   "execution_count": 46,
   "id": "c08c0f1a",
   "metadata": {},
   "outputs": [
    {
     "data": {
      "text/plain": [
       "[]"
      ]
     },
     "execution_count": 46,
     "metadata": {},
     "output_type": "execute_result"
    }
   ],
   "source": [
    "Names"
   ]
  },
  {
   "cell_type": "markdown",
   "id": "ebd5bed7",
   "metadata": {},
   "source": [
    "# Copy Function"
   ]
  },
  {
   "cell_type": "markdown",
   "id": "6deb865c",
   "metadata": {},
   "source": [
    "# Copy Function make the copy of the origional list and then we have 2 different lists one is oriogional and 2nd is copied list. It is copyed items by value"
   ]
  },
  {
   "cell_type": "code",
   "execution_count": 47,
   "id": "b4d86b0e",
   "metadata": {},
   "outputs": [
    {
     "data": {
      "text/plain": [
       "['apple', 'Mango', 'cherry', 'banana', 'APPLE', 'ORANGE', 'MANGO', 'BANANA']"
      ]
     },
     "execution_count": 47,
     "metadata": {},
     "output_type": "execute_result"
    }
   ],
   "source": [
    "fruits"
   ]
  },
  {
   "cell_type": "code",
   "execution_count": 48,
   "id": "0b7d3e95",
   "metadata": {},
   "outputs": [],
   "source": [
    "Fruits_02 = fruits.copy()"
   ]
  },
  {
   "cell_type": "code",
   "execution_count": 49,
   "id": "44f47476",
   "metadata": {},
   "outputs": [
    {
     "data": {
      "text/plain": [
       "['apple', 'Mango', 'cherry', 'banana', 'APPLE', 'ORANGE', 'MANGO', 'BANANA']"
      ]
     },
     "execution_count": 49,
     "metadata": {},
     "output_type": "execute_result"
    }
   ],
   "source": [
    "Fruits_02"
   ]
  },
  {
   "cell_type": "code",
   "execution_count": 50,
   "id": "2b8fcb3b",
   "metadata": {},
   "outputs": [
    {
     "name": "stdout",
     "output_type": "stream",
     "text": [
      "This is the 1st origional list ['apple', 'Mango', 'cherry', 'banana', 'APPLE', 'ORANGE', 'MANGO', 'BANANA']\n",
      "This is the 2nd Copied list ['apple', 'Mango', 'cherry', 'banana', 'APPLE', 'ORANGE', 'MANGO', 'BANANA']\n"
     ]
    }
   ],
   "source": [
    "print(f\"This is the 1st origional list {fruits}\")\n",
    "print(f\"This is the 2nd Copied list {Fruits_02}\")\n"
   ]
  },
  {
   "cell_type": "markdown",
   "id": "f440f649",
   "metadata": {},
   "source": [
    "# How to remove items from list "
   ]
  },
  {
   "cell_type": "code",
   "execution_count": 51,
   "id": "68887cd8",
   "metadata": {},
   "outputs": [],
   "source": [
    "# we can delete items from list in 2 ways "
   ]
  },
  {
   "cell_type": "code",
   "execution_count": 52,
   "id": "2f90d866",
   "metadata": {},
   "outputs": [],
   "source": [
    "cities = [\"Faisalabad\", \"Lahore\",\"karachi\",\"Islamabad\"]"
   ]
  },
  {
   "cell_type": "code",
   "execution_count": 53,
   "id": "8a6c53b4",
   "metadata": {},
   "outputs": [
    {
     "data": {
      "text/plain": [
       "['Faisalabad', 'Lahore', 'karachi', 'Islamabad']"
      ]
     },
     "execution_count": 53,
     "metadata": {},
     "output_type": "execute_result"
    }
   ],
   "source": [
    "cities"
   ]
  },
  {
   "cell_type": "code",
   "execution_count": 54,
   "id": "55f16bce",
   "metadata": {},
   "outputs": [],
   "source": [
    "# 1st way is Dell keyword"
   ]
  },
  {
   "cell_type": "code",
   "execution_count": 55,
   "id": "7c5f16f8",
   "metadata": {},
   "outputs": [],
   "source": [
    "del cities[0] #it will take index number 0 and delete it "
   ]
  },
  {
   "cell_type": "code",
   "execution_count": 56,
   "id": "5a5c81fb",
   "metadata": {},
   "outputs": [
    {
     "data": {
      "text/plain": [
       "['Lahore', 'karachi', 'Islamabad']"
      ]
     },
     "execution_count": 56,
     "metadata": {},
     "output_type": "execute_result"
    }
   ],
   "source": [
    "cities"
   ]
  },
  {
   "cell_type": "code",
   "execution_count": 57,
   "id": "56874945",
   "metadata": {},
   "outputs": [],
   "source": [
    "# The other method is remove it will take value and delete it "
   ]
  },
  {
   "cell_type": "code",
   "execution_count": 58,
   "id": "39cac4cd",
   "metadata": {},
   "outputs": [],
   "source": [
    "cities.remove(\"Lahore\")"
   ]
  },
  {
   "cell_type": "code",
   "execution_count": 59,
   "id": "b98b572a",
   "metadata": {},
   "outputs": [
    {
     "data": {
      "text/plain": [
       "['karachi', 'Islamabad']"
      ]
     },
     "execution_count": 59,
     "metadata": {},
     "output_type": "execute_result"
    }
   ],
   "source": [
    "cities"
   ]
  },
  {
   "cell_type": "markdown",
   "id": "0dd6e08b",
   "metadata": {},
   "source": [
    "# Pop Function"
   ]
  },
  {
   "cell_type": "code",
   "execution_count": 60,
   "id": "cecbab02",
   "metadata": {},
   "outputs": [],
   "source": [
    "#pop function is same as remove but it return the value after removing "
   ]
  },
  {
   "cell_type": "code",
   "execution_count": 61,
   "id": "46fafcbe",
   "metadata": {},
   "outputs": [
    {
     "data": {
      "text/plain": [
       "['karachi', 'Islamabad']"
      ]
     },
     "execution_count": 61,
     "metadata": {},
     "output_type": "execute_result"
    }
   ],
   "source": [
    "cities"
   ]
  },
  {
   "cell_type": "code",
   "execution_count": 62,
   "id": "6a146e06",
   "metadata": {},
   "outputs": [],
   "source": [
    "cities.append(\"Lahore\")"
   ]
  },
  {
   "cell_type": "code",
   "execution_count": 63,
   "id": "6de5494e",
   "metadata": {},
   "outputs": [
    {
     "data": {
      "text/plain": [
       "['karachi', 'Islamabad', 'Lahore']"
      ]
     },
     "execution_count": 63,
     "metadata": {},
     "output_type": "execute_result"
    }
   ],
   "source": [
    "cities"
   ]
  },
  {
   "cell_type": "code",
   "execution_count": 64,
   "id": "f070df85",
   "metadata": {},
   "outputs": [],
   "source": [
    "cities.insert(0, \"KPK\")"
   ]
  },
  {
   "cell_type": "code",
   "execution_count": 65,
   "id": "c94da182",
   "metadata": {},
   "outputs": [
    {
     "data": {
      "text/plain": [
       "['KPK', 'karachi', 'Islamabad', 'Lahore']"
      ]
     },
     "execution_count": 65,
     "metadata": {},
     "output_type": "execute_result"
    }
   ],
   "source": [
    "cities"
   ]
  },
  {
   "cell_type": "code",
   "execution_count": 66,
   "id": "4dab4cf9",
   "metadata": {},
   "outputs": [],
   "source": [
    "poppedCities = cities.pop()"
   ]
  },
  {
   "cell_type": "code",
   "execution_count": 67,
   "id": "1c3c5ee6",
   "metadata": {},
   "outputs": [
    {
     "name": "stdout",
     "output_type": "stream",
     "text": [
      " This city is popped from list Lahore\n",
      " The remaining cities are ['KPK', 'karachi', 'Islamabad']\n"
     ]
    }
   ],
   "source": [
    "print(f\" This city is popped from list {poppedCities}\")\n",
    "print(f\" The remaining cities are {cities}\")"
   ]
  },
  {
   "cell_type": "markdown",
   "id": "8f9ced62",
   "metadata": {},
   "source": [
    "# Sort and Reverse  Functions"
   ]
  },
  {
   "cell_type": "code",
   "execution_count": 68,
   "id": "38be2c83",
   "metadata": {},
   "outputs": [
    {
     "data": {
      "text/plain": [
       "['KPK', 'karachi', 'Islamabad']"
      ]
     },
     "execution_count": 68,
     "metadata": {},
     "output_type": "execute_result"
    }
   ],
   "source": [
    "cities"
   ]
  },
  {
   "cell_type": "code",
   "execution_count": 69,
   "id": "f207b464",
   "metadata": {},
   "outputs": [],
   "source": [
    "cities.sort() #it will sort values in the asscending order"
   ]
  },
  {
   "cell_type": "code",
   "execution_count": 70,
   "id": "e1fbb80b",
   "metadata": {},
   "outputs": [
    {
     "data": {
      "text/plain": [
       "['Islamabad', 'KPK', 'karachi']"
      ]
     },
     "execution_count": 70,
     "metadata": {},
     "output_type": "execute_result"
    }
   ],
   "source": [
    "cities"
   ]
  },
  {
   "cell_type": "code",
   "execution_count": 71,
   "id": "274122cf",
   "metadata": {},
   "outputs": [],
   "source": [
    "cities.reverse() # it will reverse the items in the desending order"
   ]
  },
  {
   "cell_type": "code",
   "execution_count": 72,
   "id": "3800928c",
   "metadata": {},
   "outputs": [
    {
     "data": {
      "text/plain": [
       "['karachi', 'KPK', 'Islamabad']"
      ]
     },
     "execution_count": 72,
     "metadata": {},
     "output_type": "execute_result"
    }
   ],
   "source": [
    "cities"
   ]
  },
  {
   "cell_type": "code",
   "execution_count": 73,
   "id": "814432da",
   "metadata": {},
   "outputs": [],
   "source": [
    "First_Name = [\"Farhan\", \"Ali\"]"
   ]
  },
  {
   "cell_type": "code",
   "execution_count": 74,
   "id": "8eaf4f52",
   "metadata": {},
   "outputs": [],
   "source": [
    "First_Name.reverse()"
   ]
  },
  {
   "cell_type": "code",
   "execution_count": 75,
   "id": "e2d456b1",
   "metadata": {},
   "outputs": [
    {
     "data": {
      "text/plain": [
       "['Ali', 'Farhan']"
      ]
     },
     "execution_count": 75,
     "metadata": {},
     "output_type": "execute_result"
    }
   ],
   "source": [
    "First_Name"
   ]
  },
  {
   "cell_type": "markdown",
   "id": "13d5a99e",
   "metadata": {},
   "source": [
    "# Problem Solving Chap 3 Lists\n"
   ]
  },
  {
   "cell_type": "markdown",
   "id": "429125df",
   "metadata": {},
   "source": [
    "# 3-1. Names: Store the names of a few of your friends in a list called names. Print each person’s name by accessing each element in the list, one at a time."
   ]
  },
  {
   "cell_type": "code",
   "execution_count": 76,
   "id": "b75b7f27",
   "metadata": {},
   "outputs": [],
   "source": [
    "names = [\"Farhan\",\"Abdulrehman\",\"hafiz\"]"
   ]
  },
  {
   "cell_type": "code",
   "execution_count": 77,
   "id": "f6ac5e3c",
   "metadata": {},
   "outputs": [
    {
     "data": {
      "text/plain": [
       "'Farhan'"
      ]
     },
     "execution_count": 77,
     "metadata": {},
     "output_type": "execute_result"
    }
   ],
   "source": [
    "names[0]"
   ]
  },
  {
   "cell_type": "code",
   "execution_count": 78,
   "id": "19864e66",
   "metadata": {},
   "outputs": [
    {
     "data": {
      "text/plain": [
       "'Abdulrehman'"
      ]
     },
     "execution_count": 78,
     "metadata": {},
     "output_type": "execute_result"
    }
   ],
   "source": [
    "names[1]"
   ]
  },
  {
   "cell_type": "code",
   "execution_count": 79,
   "id": "91964888",
   "metadata": {},
   "outputs": [
    {
     "data": {
      "text/plain": [
       "'hafiz'"
      ]
     },
     "execution_count": 79,
     "metadata": {},
     "output_type": "execute_result"
    }
   ],
   "source": [
    "names[2]"
   ]
  },
  {
   "cell_type": "code",
   "execution_count": 80,
   "id": "e648ee30",
   "metadata": {},
   "outputs": [],
   "source": [
    "#names[3] "
   ]
  },
  {
   "cell_type": "markdown",
   "id": "0810a971",
   "metadata": {},
   "source": [
    "# 3-2. Greetings: Start with the list you used in Exercise 3-1, but instead of just printing each person’s name, print a message to them. The text of each message should be the same, but each message should be personalized with the person’s name."
   ]
  },
  {
   "cell_type": "code",
   "execution_count": 81,
   "id": "0144e1c6",
   "metadata": {},
   "outputs": [
    {
     "data": {
      "text/plain": [
       "['Farhan', 'Abdulrehman', 'hafiz']"
      ]
     },
     "execution_count": 81,
     "metadata": {},
     "output_type": "execute_result"
    }
   ],
   "source": [
    "names"
   ]
  },
  {
   "cell_type": "code",
   "execution_count": 82,
   "id": "ab5491a5",
   "metadata": {},
   "outputs": [],
   "source": [
    "message = \"How are you!\""
   ]
  },
  {
   "cell_type": "code",
   "execution_count": 83,
   "id": "f2a4aaa2",
   "metadata": {},
   "outputs": [
    {
     "name": "stdout",
     "output_type": "stream",
     "text": [
      "Hello   Farhan How are you!\n"
     ]
    }
   ],
   "source": [
    "print(\"Hello\", \" \", names[0],message)"
   ]
  },
  {
   "cell_type": "code",
   "execution_count": 84,
   "id": "3e34c5cc",
   "metadata": {},
   "outputs": [
    {
     "name": "stdout",
     "output_type": "stream",
     "text": [
      "Hello   Abdulrehman How are you!\n"
     ]
    }
   ],
   "source": [
    "print(\"Hello\", \" \", names[1],message)"
   ]
  },
  {
   "cell_type": "code",
   "execution_count": 85,
   "id": "7ca52edb",
   "metadata": {},
   "outputs": [
    {
     "name": "stdout",
     "output_type": "stream",
     "text": [
      "Hello   hafiz How are you!\n"
     ]
    }
   ],
   "source": [
    "print(\"Hello\", \" \", names[2],message)"
   ]
  },
  {
   "cell_type": "markdown",
   "id": "b0d0adbb",
   "metadata": {},
   "source": [
    "# 3-3. Your Own List: Think of your favorite mode of transportation, such as a motorcycle or a car, and make a list that stores several examples. Use your list to print a series of statements about these items, such as “I would like to own a Honda motorcycle.” "
   ]
  },
  {
   "cell_type": "code",
   "execution_count": 86,
   "id": "e31f0205",
   "metadata": {},
   "outputs": [],
   "source": [
    "vehicles = [\"Bike\", \"HeavyBike\", \"Car\", \"Cycle\"]"
   ]
  },
  {
   "cell_type": "code",
   "execution_count": 87,
   "id": "3972b47a",
   "metadata": {},
   "outputs": [],
   "source": [
    "statement = \"I would like to own a\""
   ]
  },
  {
   "cell_type": "code",
   "execution_count": 88,
   "id": "ad88b4c6",
   "metadata": {},
   "outputs": [
    {
     "name": "stdout",
     "output_type": "stream",
     "text": [
      "I would like to own a Bike\n"
     ]
    }
   ],
   "source": [
    "print(statement, vehicles[0])"
   ]
  },
  {
   "cell_type": "code",
   "execution_count": 89,
   "id": "7f51aac5",
   "metadata": {},
   "outputs": [
    {
     "name": "stdout",
     "output_type": "stream",
     "text": [
      "I would like to own a HeavyBike\n"
     ]
    }
   ],
   "source": [
    "print(statement, vehicles[1])"
   ]
  },
  {
   "cell_type": "code",
   "execution_count": 90,
   "id": "5610372f",
   "metadata": {},
   "outputs": [
    {
     "name": "stdout",
     "output_type": "stream",
     "text": [
      "I would like to own a Car\n"
     ]
    }
   ],
   "source": [
    "print(statement, vehicles[2])"
   ]
  },
  {
   "cell_type": "code",
   "execution_count": 91,
   "id": "139b1ae4",
   "metadata": {},
   "outputs": [
    {
     "name": "stdout",
     "output_type": "stream",
     "text": [
      "I would like to own a Bike\n",
      "I would like to own a HeavyBike\n",
      "I would like to own a Car\n",
      "I would like to own a Cycle\n"
     ]
    }
   ],
   "source": [
    "for i in vehicles:\n",
    "    print(statement, i)"
   ]
  },
  {
   "cell_type": "markdown",
   "id": "f6354197",
   "metadata": {},
   "source": [
    "# 3-4. Guest List: If you could invite anyone, living or deceased, to dinner, who would you invite? Make a list that includes at least three people you’d like to invite to dinner. Then use your list to print a message to each person, inviting them to dinner."
   ]
  },
  {
   "cell_type": "code",
   "execution_count": 92,
   "id": "8c286291",
   "metadata": {},
   "outputs": [],
   "source": [
    "Guest_list = [\"Quaid e Azam\", \"Allama iqbal\",\"Imran Khan\", \"Barrister Gohar\"]"
   ]
  },
  {
   "cell_type": "code",
   "execution_count": 93,
   "id": "014492fd",
   "metadata": {},
   "outputs": [],
   "source": [
    "message = \"I would like you to join me at My dinner party on Thursday 8PM, at Royal palace!\""
   ]
  },
  {
   "cell_type": "code",
   "execution_count": 94,
   "id": "4c2847ee",
   "metadata": {},
   "outputs": [
    {
     "name": "stdout",
     "output_type": "stream",
     "text": [
      "Hi Quaid e Azam I would like you to join me at My dinner party on Thursday 8PM, at Royal palace!\n",
      "Hi Allama iqbal I would like you to join me at My dinner party on Thursday 8PM, at Royal palace!\n",
      "Hi Imran Khan I would like you to join me at My dinner party on Thursday 8PM, at Royal palace!\n",
      "Hi Barrister Gohar I would like you to join me at My dinner party on Thursday 8PM, at Royal palace!\n"
     ]
    }
   ],
   "source": [
    "for i in Guest_list:\n",
    "    print(\"Hi\", i, message)"
   ]
  },
  {
   "cell_type": "markdown",
   "id": "36f4e8e0",
   "metadata": {},
   "source": [
    "# 3-5. Changing Guest List: You just heard that one of your guests can’t make the dinner, so you need to send out a new set of invitations. You’ll have to think of someone else to invite."
   ]
  },
  {
   "cell_type": "markdown",
   "id": "5a92d8c0",
   "metadata": {},
   "source": [
    "Start with your program from Exercise 3-4. Add a print() call at the end of\n",
    "your program, stating the name of the guest who can’t make it."
   ]
  },
  {
   "cell_type": "code",
   "execution_count": 95,
   "id": "9dac9dd4",
   "metadata": {},
   "outputs": [
    {
     "name": "stdout",
     "output_type": "stream",
     "text": [
      "Quaid e Azam Due to heavy rain in his city he will not join us \n"
     ]
    }
   ],
   "source": [
    "print(Guest_list[0], \"Due to heavy rain in his city he will not join us \")"
   ]
  },
  {
   "cell_type": "code",
   "execution_count": 96,
   "id": "eff18cbc",
   "metadata": {},
   "outputs": [
    {
     "data": {
      "text/plain": [
       "['Quaid e Azam', 'Allama iqbal', 'Imran Khan', 'Barrister Gohar']"
      ]
     },
     "execution_count": 96,
     "metadata": {},
     "output_type": "execute_result"
    }
   ],
   "source": [
    "Guest_list"
   ]
  },
  {
   "cell_type": "code",
   "execution_count": 97,
   "id": "397970ee",
   "metadata": {},
   "outputs": [],
   "source": [
    "poped = Guest_list.pop(0)"
   ]
  },
  {
   "cell_type": "code",
   "execution_count": 98,
   "id": "9af1ff8f",
   "metadata": {},
   "outputs": [
    {
     "name": "stdout",
     "output_type": "stream",
     "text": [
      "Quaid e Azam cannot join us \n"
     ]
    }
   ],
   "source": [
    "print(poped, \"cannot join us \")"
   ]
  },
  {
   "cell_type": "code",
   "execution_count": 99,
   "id": "f001cf18",
   "metadata": {},
   "outputs": [
    {
     "data": {
      "text/plain": [
       "['Allama iqbal', 'Imran Khan', 'Barrister Gohar']"
      ]
     },
     "execution_count": 99,
     "metadata": {},
     "output_type": "execute_result"
    }
   ],
   "source": [
    "Guest_list"
   ]
  },
  {
   "cell_type": "markdown",
   "id": "795121f8",
   "metadata": {},
   "source": [
    "Modify your list, replacing the name of the guest who can’t make it with the\n",
    "name of the new person you are inviting."
   ]
  },
  {
   "cell_type": "code",
   "execution_count": 100,
   "id": "e656d1c2",
   "metadata": {},
   "outputs": [],
   "source": [
    "Guest_list[0]= \"Sher Afzal Marwat\""
   ]
  },
  {
   "cell_type": "code",
   "execution_count": 101,
   "id": "dd3c9a06",
   "metadata": {},
   "outputs": [
    {
     "data": {
      "text/plain": [
       "['Sher Afzal Marwat', 'Imran Khan', 'Barrister Gohar']"
      ]
     },
     "execution_count": 101,
     "metadata": {},
     "output_type": "execute_result"
    }
   ],
   "source": [
    "Guest_list"
   ]
  },
  {
   "cell_type": "markdown",
   "id": "ed2755f7",
   "metadata": {},
   "source": [
    "# Print a second set of invitation messages, one for each person who is still in your list."
   ]
  },
  {
   "cell_type": "code",
   "execution_count": 102,
   "id": "c25aeeb5",
   "metadata": {},
   "outputs": [
    {
     "name": "stdout",
     "output_type": "stream",
     "text": [
      "Sher Afzal Marwat I would like you to join me at My dinner party on Thursday 8PM, at Royal palace!\n",
      "Imran Khan I would like you to join me at My dinner party on Thursday 8PM, at Royal palace!\n",
      "Barrister Gohar I would like you to join me at My dinner party on Thursday 8PM, at Royal palace!\n"
     ]
    }
   ],
   "source": [
    "for i in Guest_list:\n",
    "    print(i, message)"
   ]
  },
  {
   "cell_type": "markdown",
   "id": "5415068e",
   "metadata": {},
   "source": [
    "# 3-6. More Guests: You just found a bigger dinner table, so now more space is available. Think of three more guests to invite to dinner."
   ]
  },
  {
   "cell_type": "markdown",
   "id": "8908b4e4",
   "metadata": {},
   "source": [
    "• Start with your program from Exercise 3-4 or 3-5. Add a print() call to the\n",
    "end of your program, informing people that you found a bigger table."
   ]
  },
  {
   "cell_type": "code",
   "execution_count": 103,
   "id": "24f5442a",
   "metadata": {},
   "outputs": [
    {
     "name": "stdout",
     "output_type": "stream",
     "text": [
      "Sher Afzal Marwat I would like you to join me at My dinner party on Thursday 8PM, at Royal palace!\n",
      "Imran Khan I would like you to join me at My dinner party on Thursday 8PM, at Royal palace!\n",
      "Barrister Gohar I would like you to join me at My dinner party on Thursday 8PM, at Royal palace!\n",
      "We found a bigger table and wll invite more guests\n"
     ]
    }
   ],
   "source": [
    "for i in Guest_list:\n",
    "    print(i, message)\n",
    "print(\"We found a bigger table and wll invite more guests\")"
   ]
  },
  {
   "cell_type": "markdown",
   "id": "d78bbcda",
   "metadata": {},
   "source": [
    "Use insert() to add one new guest to the beginning of your list."
   ]
  },
  {
   "cell_type": "code",
   "execution_count": 104,
   "id": "347ae42a",
   "metadata": {},
   "outputs": [],
   "source": [
    "Guest_list.insert(0, \"Muraad Saeed\")"
   ]
  },
  {
   "cell_type": "code",
   "execution_count": 105,
   "id": "c003c817",
   "metadata": {},
   "outputs": [
    {
     "data": {
      "text/plain": [
       "['Muraad Saeed', 'Sher Afzal Marwat', 'Imran Khan', 'Barrister Gohar']"
      ]
     },
     "execution_count": 105,
     "metadata": {},
     "output_type": "execute_result"
    }
   ],
   "source": [
    "Guest_list"
   ]
  },
  {
   "cell_type": "markdown",
   "id": "1bc78a29",
   "metadata": {},
   "source": [
    "Use insert() to add one new guest to the middle of your list."
   ]
  },
  {
   "cell_type": "code",
   "execution_count": 106,
   "id": "c108d8cb",
   "metadata": {},
   "outputs": [
    {
     "data": {
      "text/plain": [
       "2"
      ]
     },
     "execution_count": 106,
     "metadata": {},
     "output_type": "execute_result"
    }
   ],
   "source": [
    "len(Guest_list)//2"
   ]
  },
  {
   "cell_type": "code",
   "execution_count": 107,
   "id": "75f14b97",
   "metadata": {},
   "outputs": [],
   "source": [
    "Guest_list.insert(len(Guest_list)//2, \"Asad umar\")"
   ]
  },
  {
   "cell_type": "code",
   "execution_count": 108,
   "id": "04a71310",
   "metadata": {},
   "outputs": [
    {
     "data": {
      "text/plain": [
       "['Muraad Saeed',\n",
       " 'Sher Afzal Marwat',\n",
       " 'Asad umar',\n",
       " 'Imran Khan',\n",
       " 'Barrister Gohar']"
      ]
     },
     "execution_count": 108,
     "metadata": {},
     "output_type": "execute_result"
    }
   ],
   "source": [
    "Guest_list"
   ]
  },
  {
   "cell_type": "markdown",
   "id": "a1470f77",
   "metadata": {},
   "source": [
    "Use append() to add one new guest to the end of your list."
   ]
  },
  {
   "cell_type": "code",
   "execution_count": 109,
   "id": "104c02cc",
   "metadata": {},
   "outputs": [],
   "source": [
    "Guest_list.append(\"Ali\")"
   ]
  },
  {
   "cell_type": "code",
   "execution_count": 110,
   "id": "7587a646",
   "metadata": {},
   "outputs": [
    {
     "data": {
      "text/plain": [
       "['Muraad Saeed',\n",
       " 'Sher Afzal Marwat',\n",
       " 'Asad umar',\n",
       " 'Imran Khan',\n",
       " 'Barrister Gohar',\n",
       " 'Ali']"
      ]
     },
     "execution_count": 110,
     "metadata": {},
     "output_type": "execute_result"
    }
   ],
   "source": [
    "Guest_list"
   ]
  },
  {
   "cell_type": "markdown",
   "id": "987a4c61",
   "metadata": {},
   "source": [
    "Print a new set of invitation messages, one for each person in your list"
   ]
  },
  {
   "cell_type": "code",
   "execution_count": 111,
   "id": "6cd2ea79",
   "metadata": {},
   "outputs": [
    {
     "name": "stdout",
     "output_type": "stream",
     "text": [
      "Muraad Saeed I would like you to join me at My dinner party on Thursday 8PM, at Royal palace!\n",
      "Sher Afzal Marwat I would like you to join me at My dinner party on Thursday 8PM, at Royal palace!\n",
      "Asad umar I would like you to join me at My dinner party on Thursday 8PM, at Royal palace!\n",
      "Imran Khan I would like you to join me at My dinner party on Thursday 8PM, at Royal palace!\n",
      "Barrister Gohar I would like you to join me at My dinner party on Thursday 8PM, at Royal palace!\n",
      "Ali I would like you to join me at My dinner party on Thursday 8PM, at Royal palace!\n"
     ]
    }
   ],
   "source": [
    "for i in Guest_list:\n",
    "    print(i, message)\n"
   ]
  },
  {
   "cell_type": "markdown",
   "id": "3297109a",
   "metadata": {},
   "source": [
    "# 3-7. Shrinking Guest List: You just found out that your new dinner table won’t arrive in time for the dinner, and now you have space for only two guests."
   ]
  },
  {
   "cell_type": "markdown",
   "id": "ee268146",
   "metadata": {},
   "source": [
    "Start with your program from Exercise 3-6. Add a new line that prints a\n",
    "message saying that you can invite only two people for dinner."
   ]
  },
  {
   "cell_type": "code",
   "execution_count": 112,
   "id": "ba14adef",
   "metadata": {},
   "outputs": [
    {
     "name": "stdout",
     "output_type": "stream",
     "text": [
      "Muraad Saeed Sorry We have space only for two guests!\n",
      "Sher Afzal Marwat Sorry We have space only for two guests!\n",
      "Asad umar Sorry We have space only for two guests!\n",
      "Imran Khan Sorry We have space only for two guests!\n",
      "Barrister Gohar Sorry We have space only for two guests!\n",
      "Ali Sorry We have space only for two guests!\n"
     ]
    }
   ],
   "source": [
    "for i in Guest_list:\n",
    "    print(i,\"Sorry We have space only for two guests!\")"
   ]
  },
  {
   "cell_type": "markdown",
   "id": "c657d6ce",
   "metadata": {},
   "source": [
    "Use pop() to remove guests from your list one at a time until only two\n",
    "names remain in your list. Each time you pop a name from your list, print a\n",
    "message to that person letting them know you’re sorry you can’t invite them\n",
    "to dinner."
   ]
  },
  {
   "cell_type": "code",
   "execution_count": 113,
   "id": "8094398f",
   "metadata": {},
   "outputs": [],
   "source": [
    "Guest_list = ['Muraad Saeed', 'Sher Afzal Marwat', 'Asad umar', 'Imran Khan',  'Barrister Gohar',  'Ali']"
   ]
  },
  {
   "cell_type": "code",
   "execution_count": 114,
   "id": "af69a52a",
   "metadata": {},
   "outputs": [],
   "source": [
    "Guest_list = ['Muraad Saeed', 'Sher Afzal Marwat', 'Asad umar', 'Imran Khan',  'Barrister Gohar',  'Ali']"
   ]
  },
  {
   "cell_type": "code",
   "execution_count": 115,
   "id": "51d43e09",
   "metadata": {},
   "outputs": [],
   "source": [
    "message = \"Sorry we cannor invite you to dinner!\""
   ]
  },
  {
   "cell_type": "code",
   "execution_count": 116,
   "id": "c197b697",
   "metadata": {},
   "outputs": [],
   "source": [
    "poped_List = []"
   ]
  },
  {
   "cell_type": "code",
   "execution_count": 117,
   "id": "f7a3b082",
   "metadata": {},
   "outputs": [],
   "source": [
    "poped_List = Guest_list.pop()"
   ]
  },
  {
   "cell_type": "code",
   "execution_count": 118,
   "id": "9018b108",
   "metadata": {},
   "outputs": [],
   "source": [
    "for i in Guest_list:\n",
    "    if len(Guest_list)>=2:\n",
    "        Guest_list.pop()\n",
    "\n",
    "    "
   ]
  },
  {
   "cell_type": "code",
   "execution_count": 119,
   "id": "1c4a06de",
   "metadata": {},
   "outputs": [
    {
     "data": {
      "text/plain": [
       "['Muraad Saeed', 'Sher Afzal Marwat']"
      ]
     },
     "execution_count": 119,
     "metadata": {},
     "output_type": "execute_result"
    }
   ],
   "source": [
    "Guest_list"
   ]
  },
  {
   "cell_type": "code",
   "execution_count": 120,
   "id": "5cac4fd2",
   "metadata": {},
   "outputs": [
    {
     "data": {
      "text/plain": [
       "'Ali'"
      ]
     },
     "execution_count": 120,
     "metadata": {},
     "output_type": "execute_result"
    }
   ],
   "source": [
    "poped_List"
   ]
  },
  {
   "cell_type": "markdown",
   "id": "c6d4c263",
   "metadata": {},
   "source": [
    "Print a message to each of the two people still on your list, letting them\n",
    "know they’re still invited."
   ]
  },
  {
   "cell_type": "code",
   "execution_count": 121,
   "id": "7c6ab3c0",
   "metadata": {},
   "outputs": [
    {
     "data": {
      "text/plain": [
       "['Muraad Saeed', 'Sher Afzal Marwat']"
      ]
     },
     "execution_count": 121,
     "metadata": {},
     "output_type": "execute_result"
    }
   ],
   "source": [
    "Guest_list"
   ]
  },
  {
   "cell_type": "code",
   "execution_count": 122,
   "id": "a76f74e6",
   "metadata": {},
   "outputs": [
    {
     "name": "stdout",
     "output_type": "stream",
     "text": [
      "Muraad Saeed You are still invited for dinner\n",
      "Sher Afzal Marwat You are still invited for dinner\n"
     ]
    }
   ],
   "source": [
    "for i in Guest_list:\n",
    "    print(i, \"You are still invited for dinner\")"
   ]
  },
  {
   "cell_type": "markdown",
   "id": "ec36951b",
   "metadata": {},
   "source": [
    "Use del to remove the last two names from your list, so you have an empty\n",
    "list. Print your list to make sure you actually have an empty list at the end of\n",
    "your program."
   ]
  },
  {
   "cell_type": "code",
   "execution_count": 123,
   "id": "2d8c0340",
   "metadata": {},
   "outputs": [],
   "source": [
    "Guest_list = ['Muraad Saeed', 'Sher Afzal Marwat']"
   ]
  },
  {
   "cell_type": "code",
   "execution_count": 124,
   "id": "29c8be08",
   "metadata": {},
   "outputs": [],
   "source": [
    "del Guest_list[0]"
   ]
  },
  {
   "cell_type": "code",
   "execution_count": 125,
   "id": "5b62ac1d",
   "metadata": {},
   "outputs": [],
   "source": [
    "del Guest_list[0]"
   ]
  },
  {
   "cell_type": "code",
   "execution_count": 126,
   "id": "8c3fcb0c",
   "metadata": {},
   "outputs": [
    {
     "data": {
      "text/plain": [
       "[]"
      ]
     },
     "execution_count": 126,
     "metadata": {},
     "output_type": "execute_result"
    }
   ],
   "source": [
    "Guest_list"
   ]
  },
  {
   "cell_type": "markdown",
   "id": "02d53c30",
   "metadata": {},
   "source": [
    "# 3-8. Seeing the World: Think of at least five places in the world you’d like to visit."
   ]
  },
  {
   "cell_type": "markdown",
   "id": "ed69274d",
   "metadata": {},
   "source": [
    "Store the locations in a list. Make sure the list is not in alphabetical order"
   ]
  },
  {
   "cell_type": "code",
   "execution_count": 127,
   "id": "a3cda047",
   "metadata": {},
   "outputs": [],
   "source": [
    "location = [\"muree\", \"Lahore\",\"Faisalabad\",\"Islamabad\"]"
   ]
  },
  {
   "cell_type": "markdown",
   "id": "c29781a7",
   "metadata": {},
   "source": [
    "Print your list in its original order. Don’t worry about printing the list neatly;\n",
    "just print it as a raw Python list."
   ]
  },
  {
   "cell_type": "code",
   "execution_count": 128,
   "id": "d9ba3185",
   "metadata": {},
   "outputs": [
    {
     "data": {
      "text/plain": [
       "['muree', 'Lahore', 'Faisalabad', 'Islamabad']"
      ]
     },
     "execution_count": 128,
     "metadata": {},
     "output_type": "execute_result"
    }
   ],
   "source": [
    "location"
   ]
  },
  {
   "cell_type": "code",
   "execution_count": 129,
   "id": "99bf9b26",
   "metadata": {},
   "outputs": [],
   "source": [
    "copiedlist = location.copy()"
   ]
  },
  {
   "cell_type": "code",
   "execution_count": 130,
   "id": "895007c2",
   "metadata": {},
   "outputs": [
    {
     "data": {
      "text/plain": [
       "['muree', 'Lahore', 'Faisalabad', 'Islamabad']"
      ]
     },
     "execution_count": 130,
     "metadata": {},
     "output_type": "execute_result"
    }
   ],
   "source": [
    "copiedlist"
   ]
  },
  {
   "cell_type": "code",
   "execution_count": 131,
   "id": "e2e2a1cd",
   "metadata": {},
   "outputs": [],
   "source": [
    "copiedlist.sort()"
   ]
  },
  {
   "cell_type": "code",
   "execution_count": 132,
   "id": "c995bcba",
   "metadata": {},
   "outputs": [
    {
     "data": {
      "text/plain": [
       "['Faisalabad', 'Islamabad', 'Lahore', 'muree']"
      ]
     },
     "execution_count": 132,
     "metadata": {},
     "output_type": "execute_result"
    }
   ],
   "source": [
    "copiedlist"
   ]
  },
  {
   "cell_type": "code",
   "execution_count": 133,
   "id": "06cfe86d",
   "metadata": {},
   "outputs": [
    {
     "name": "stdout",
     "output_type": "stream",
     "text": [
      "This is origional list ['muree', 'Lahore', 'Faisalabad', 'Islamabad']\n",
      "This is copied list ['Faisalabad', 'Islamabad', 'Lahore', 'muree']\n"
     ]
    }
   ],
   "source": [
    "print(f\"This is origional list {location}\")\n",
    "print(f\"This is copied list {copiedlist}\")"
   ]
  },
  {
   "cell_type": "markdown",
   "id": "578dcdaa",
   "metadata": {},
   "source": [
    "Use sorted() to print your list in reverse-alphabetical order without changing the order of the original list."
   ]
  },
  {
   "cell_type": "code",
   "execution_count": 134,
   "id": "1d4cfbc8",
   "metadata": {},
   "outputs": [
    {
     "data": {
      "text/plain": [
       "['muree', 'Lahore', 'Faisalabad', 'Islamabad']"
      ]
     },
     "execution_count": 134,
     "metadata": {},
     "output_type": "execute_result"
    }
   ],
   "source": [
    "location"
   ]
  },
  {
   "cell_type": "code",
   "execution_count": 135,
   "id": "2f4af8c5",
   "metadata": {},
   "outputs": [
    {
     "data": {
      "text/plain": [
       "['Faisalabad', 'Islamabad', 'Lahore', 'muree']"
      ]
     },
     "execution_count": 135,
     "metadata": {},
     "output_type": "execute_result"
    }
   ],
   "source": [
    "copiedlist"
   ]
  },
  {
   "cell_type": "code",
   "execution_count": 136,
   "id": "8128780f",
   "metadata": {},
   "outputs": [],
   "source": [
    "copiedlist.reverse()"
   ]
  },
  {
   "cell_type": "code",
   "execution_count": 137,
   "id": "f45c3f23",
   "metadata": {},
   "outputs": [
    {
     "data": {
      "text/plain": [
       "['muree', 'Lahore', 'Islamabad', 'Faisalabad']"
      ]
     },
     "execution_count": 137,
     "metadata": {},
     "output_type": "execute_result"
    }
   ],
   "source": [
    "copiedlist"
   ]
  },
  {
   "cell_type": "markdown",
   "id": "3e6faf43",
   "metadata": {},
   "source": [
    "Show that your list is still in its original order by printing it again."
   ]
  },
  {
   "cell_type": "code",
   "execution_count": 138,
   "id": "c75b844e",
   "metadata": {},
   "outputs": [
    {
     "data": {
      "text/plain": [
       "['muree', 'Lahore', 'Faisalabad', 'Islamabad']"
      ]
     },
     "execution_count": 138,
     "metadata": {},
     "output_type": "execute_result"
    }
   ],
   "source": [
    "location"
   ]
  },
  {
   "cell_type": "markdown",
   "id": "10e8ec71",
   "metadata": {},
   "source": [
    "Use reverse() to change the order of your list. Print the list to show that its\n",
    "order has changed."
   ]
  },
  {
   "cell_type": "code",
   "execution_count": 139,
   "id": "6ab59097",
   "metadata": {},
   "outputs": [],
   "source": [
    "location.reverse()"
   ]
  },
  {
   "cell_type": "code",
   "execution_count": 140,
   "id": "93184543",
   "metadata": {},
   "outputs": [
    {
     "data": {
      "text/plain": [
       "['Islamabad', 'Faisalabad', 'Lahore', 'muree']"
      ]
     },
     "execution_count": 140,
     "metadata": {},
     "output_type": "execute_result"
    }
   ],
   "source": [
    "location"
   ]
  },
  {
   "cell_type": "code",
   "execution_count": 141,
   "id": "755cca3a",
   "metadata": {},
   "outputs": [
    {
     "data": {
      "text/plain": [
       "['muree', 'Lahore', 'Islamabad', 'Faisalabad']"
      ]
     },
     "execution_count": 141,
     "metadata": {},
     "output_type": "execute_result"
    }
   ],
   "source": [
    "copiedlist "
   ]
  },
  {
   "cell_type": "markdown",
   "id": "29297e46",
   "metadata": {},
   "source": [
    "• Use reverse() to change the order of your list again. Print the list to show\n",
    "it’s back to its original order."
   ]
  },
  {
   "cell_type": "code",
   "execution_count": 142,
   "id": "fd69f4fd",
   "metadata": {},
   "outputs": [],
   "source": [
    "location.reverse()"
   ]
  },
  {
   "cell_type": "code",
   "execution_count": 143,
   "id": "66c9237f",
   "metadata": {},
   "outputs": [
    {
     "data": {
      "text/plain": [
       "['muree', 'Lahore', 'Faisalabad', 'Islamabad']"
      ]
     },
     "execution_count": 143,
     "metadata": {},
     "output_type": "execute_result"
    }
   ],
   "source": [
    "location"
   ]
  },
  {
   "cell_type": "markdown",
   "id": "c3e2164d",
   "metadata": {},
   "source": [
    "# 3-9. Dinner Guests: Working with one of the programs from Exercises 3-4 through 3-7 (pages 41–42), use len() to print a message indicating the number of people you’re inviting to dinner."
   ]
  },
  {
   "cell_type": "code",
   "execution_count": 144,
   "id": "aeb43add",
   "metadata": {},
   "outputs": [
    {
     "data": {
      "text/plain": [
       "[]"
      ]
     },
     "execution_count": 144,
     "metadata": {},
     "output_type": "execute_result"
    }
   ],
   "source": [
    "Guest_list"
   ]
  },
  {
   "cell_type": "code",
   "execution_count": 145,
   "id": "90dce8b0",
   "metadata": {},
   "outputs": [],
   "source": [
    "Guest_list.append(\"Ali\")"
   ]
  },
  {
   "cell_type": "code",
   "execution_count": 146,
   "id": "8f5d73ce",
   "metadata": {},
   "outputs": [
    {
     "data": {
      "text/plain": [
       "['Ali']"
      ]
     },
     "execution_count": 146,
     "metadata": {},
     "output_type": "execute_result"
    }
   ],
   "source": [
    "Guest_list"
   ]
  },
  {
   "cell_type": "code",
   "execution_count": 147,
   "id": "2c4e8b74",
   "metadata": {},
   "outputs": [],
   "source": [
    "Guest_list.extend([\"farhan\",\"Asad\",\"Leo\"])"
   ]
  },
  {
   "cell_type": "code",
   "execution_count": 148,
   "id": "d4f72d7a",
   "metadata": {},
   "outputs": [
    {
     "data": {
      "text/plain": [
       "['Ali', 'farhan', 'Asad', 'Leo']"
      ]
     },
     "execution_count": 148,
     "metadata": {},
     "output_type": "execute_result"
    }
   ],
   "source": [
    "Guest_list"
   ]
  },
  {
   "cell_type": "code",
   "execution_count": 149,
   "id": "b6b0a8f5",
   "metadata": {},
   "outputs": [
    {
     "data": {
      "text/plain": [
       "4"
      ]
     },
     "execution_count": 149,
     "metadata": {},
     "output_type": "execute_result"
    }
   ],
   "source": [
    "len(Guest_list)"
   ]
  },
  {
   "cell_type": "markdown",
   "id": "8a969a0e",
   "metadata": {},
   "source": [
    "# 3-10. Every Function: Think of things you could store in a list. For example, you could make a list of mountains, rivers, countries, cities, languages, or anything else you’d like. Write a program that creates a list containing these items and then uses each function introduced in this chapter at least once."
   ]
  },
  {
   "cell_type": "code",
   "execution_count": 150,
   "id": "b20e4a6a",
   "metadata": {},
   "outputs": [],
   "source": [
    "List_02 = [\"Faisalabad\",\"Farhan\",\"Ali\",\"Bike\",\"Car\",\"CGPA\",10]"
   ]
  },
  {
   "cell_type": "code",
   "execution_count": 151,
   "id": "b21bfc52",
   "metadata": {},
   "outputs": [
    {
     "data": {
      "text/plain": [
       "['Faisalabad', 'Farhan', 'Ali', 'Bike', 'Car', 'CGPA', 10]"
      ]
     },
     "execution_count": 151,
     "metadata": {},
     "output_type": "execute_result"
    }
   ],
   "source": [
    "List_02"
   ]
  },
  {
   "cell_type": "code",
   "execution_count": 152,
   "id": "832ac7fe",
   "metadata": {},
   "outputs": [],
   "source": [
    "List_02.reverse()"
   ]
  },
  {
   "cell_type": "code",
   "execution_count": 153,
   "id": "01a0e7b5",
   "metadata": {},
   "outputs": [
    {
     "data": {
      "text/plain": [
       "[10, 'CGPA', 'Car', 'Bike', 'Ali', 'Farhan', 'Faisalabad']"
      ]
     },
     "execution_count": 153,
     "metadata": {},
     "output_type": "execute_result"
    }
   ],
   "source": [
    "List_02"
   ]
  },
  {
   "cell_type": "markdown",
   "id": "52c755b3",
   "metadata": {},
   "source": [
    "# 3-11. Intentional Error: If you haven’t received an index error in one of your programs yet, try to make one happen. Change an index in one of your programs to produce an index error. Make sure you correct the error before closing the program."
   ]
  },
  {
   "cell_type": "code",
   "execution_count": 154,
   "id": "2dadbff3",
   "metadata": {},
   "outputs": [
    {
     "ename": "IndexError",
     "evalue": "list index out of range",
     "output_type": "error",
     "traceback": [
      "\u001b[1;31m---------------------------------------------------------------------------\u001b[0m",
      "\u001b[1;31mIndexError\u001b[0m                                Traceback (most recent call last)",
      "\u001b[1;32m~\\AppData\\Local\\Temp/ipykernel_8932/3803153715.py\u001b[0m in \u001b[0;36m<module>\u001b[1;34m\u001b[0m\n\u001b[1;32m----> 1\u001b[1;33m \u001b[0mList_02\u001b[0m\u001b[1;33m[\u001b[0m\u001b[1;36m10\u001b[0m\u001b[1;33m]\u001b[0m\u001b[1;33m\u001b[0m\u001b[1;33m\u001b[0m\u001b[0m\n\u001b[0m",
      "\u001b[1;31mIndexError\u001b[0m: list index out of range"
     ]
    }
   ],
   "source": [
    "List_02[10]"
   ]
  },
  {
   "cell_type": "markdown",
   "id": "402bd57c",
   "metadata": {},
   "source": [
    "# Chapter 4 Working with lists"
   ]
  },
  {
   "cell_type": "markdown",
   "id": "ec17cd7f",
   "metadata": {},
   "source": [
    "looping through lists"
   ]
  },
  {
   "cell_type": "code",
   "execution_count": 155,
   "id": "764b0ce5",
   "metadata": {},
   "outputs": [
    {
     "data": {
      "text/plain": [
       "['Farhan', 'Abdulrehman', 'hafiz']"
      ]
     },
     "execution_count": 155,
     "metadata": {},
     "output_type": "execute_result"
    }
   ],
   "source": [
    "names "
   ]
  },
  {
   "cell_type": "code",
   "execution_count": 156,
   "id": "3f064ba6",
   "metadata": {},
   "outputs": [
    {
     "name": "stdout",
     "output_type": "stream",
     "text": [
      "Farhan\n",
      "Abdulrehman\n",
      "hafiz\n"
     ]
    }
   ],
   "source": [
    "for name in names:\n",
    "    print(name)"
   ]
  },
  {
   "cell_type": "code",
   "execution_count": 157,
   "id": "c97cf6a5",
   "metadata": {},
   "outputs": [
    {
     "name": "stdout",
     "output_type": "stream",
     "text": [
      "Farhan, That was great trick\n",
      "Abdulrehman, That was great trick\n",
      "Hafiz, That was great trick\n"
     ]
    }
   ],
   "source": [
    "for name in names:\n",
    "    print(f\"{name.title()}, That was great trick\")"
   ]
  },
  {
   "cell_type": "code",
   "execution_count": 158,
   "id": "806a45d0",
   "metadata": {},
   "outputs": [],
   "source": [
    "cgpa = [2, 4, 2, 3 ]"
   ]
  },
  {
   "cell_type": "code",
   "execution_count": 159,
   "id": "34679995",
   "metadata": {},
   "outputs": [
    {
     "ename": "AttributeError",
     "evalue": "'int' object has no attribute 'title'",
     "output_type": "error",
     "traceback": [
      "\u001b[1;31m---------------------------------------------------------------------------\u001b[0m",
      "\u001b[1;31mAttributeError\u001b[0m                            Traceback (most recent call last)",
      "\u001b[1;32m~\\AppData\\Local\\Temp/ipykernel_8932/3629355539.py\u001b[0m in \u001b[0;36m<module>\u001b[1;34m\u001b[0m\n\u001b[0;32m      1\u001b[0m \u001b[1;32mfor\u001b[0m \u001b[0mmarks\u001b[0m \u001b[1;32min\u001b[0m \u001b[0mcgpa\u001b[0m\u001b[1;33m:\u001b[0m\u001b[1;33m\u001b[0m\u001b[1;33m\u001b[0m\u001b[0m\n\u001b[1;32m----> 2\u001b[1;33m     \u001b[0mprint\u001b[0m\u001b[1;33m(\u001b[0m\u001b[1;34mf\"{marks.title()}, Farhan's GPA in Semesters\"\u001b[0m\u001b[1;33m)\u001b[0m\u001b[1;33m\u001b[0m\u001b[1;33m\u001b[0m\u001b[0m\n\u001b[0m",
      "\u001b[1;31mAttributeError\u001b[0m: 'int' object has no attribute 'title'"
     ]
    }
   ],
   "source": [
    "for marks in cgpa:\n",
    "    print(f\"{marks.title()}, Farhan's GPA in Semesters\")"
   ]
  },
  {
   "cell_type": "code",
   "execution_count": 160,
   "id": "22e791c5",
   "metadata": {},
   "outputs": [
    {
     "data": {
      "text/plain": [
       "['Farhan', 'Abdulrehman', 'hafiz']"
      ]
     },
     "execution_count": 160,
     "metadata": {},
     "output_type": "execute_result"
    }
   ],
   "source": [
    "names"
   ]
  },
  {
   "cell_type": "code",
   "execution_count": 161,
   "id": "2cce8cff",
   "metadata": {},
   "outputs": [
    {
     "name": "stdout",
     "output_type": "stream",
     "text": [
      "Farhan, That was great trick!\n",
      "I cannot wait to see more tricks , Farhan.\n",
      "\n",
      "Abdulrehman, That was great trick!\n",
      "I cannot wait to see more tricks , Abdulrehman.\n",
      "\n",
      "Hafiz, That was great trick!\n",
      "I cannot wait to see more tricks , Hafiz.\n",
      "\n"
     ]
    }
   ],
   "source": [
    "for name in names:\n",
    "    print(f\"{name.title()}, That was great trick!\")\n",
    "    print(f\"I cannot wait to see more tricks , {name.title()}.\\n\")"
   ]
  },
  {
   "cell_type": "code",
   "execution_count": 162,
   "id": "17cb5b3c",
   "metadata": {},
   "outputs": [
    {
     "name": "stdout",
     "output_type": "stream",
     "text": [
      "Farhan, That was great trick!\n",
      "I cannot wait to see more tricks , Farhan.\n",
      "\n",
      "Abdulrehman, That was great trick!\n",
      "I cannot wait to see more tricks , Abdulrehman.\n",
      "\n",
      "Hafiz, That was great trick!\n",
      "I cannot wait to see more tricks , Hafiz.\n",
      "\n",
      "Thank you all of you for being here\n"
     ]
    }
   ],
   "source": [
    "for name in names:\n",
    "    print(f\"{name.title()}, That was great trick!\")\n",
    "    print(f\"I cannot wait to see more tricks , {name.title()}.\\n\")\n",
    "print(\"Thank you all of you for being here\")"
   ]
  },
  {
   "cell_type": "markdown",
   "id": "b56f2d10",
   "metadata": {},
   "source": [
    "# 4-1. Pizzas: Think of at least three kinds of your favorite pizza. Store these pizza names in a list, and then use a for loop to print the name of each pizza."
   ]
  },
  {
   "cell_type": "markdown",
   "id": "3b8d5488",
   "metadata": {},
   "source": [
    "Modify your for loop to print a sentence using the name of the pizza,\n",
    "instead of printing just the name of the pizza. For each pizza, you should\n",
    "have one line of output containing a simple statement like I like pepperoni pizza."
   ]
  },
  {
   "cell_type": "code",
   "execution_count": 163,
   "id": "d6f41c16",
   "metadata": {},
   "outputs": [
    {
     "name": "stdout",
     "output_type": "stream",
     "text": [
      "I like the Chicken Tikka pizza \n",
      "I like the Chickenkabab pizza \n",
      "I like the Malai Botiii pizza \n"
     ]
    }
   ],
   "source": [
    "pizaNames = [\"Chicken Tikka\",\"Chickenkabab\", \"Malai botiii\"]\n",
    "for piza in pizaNames:\n",
    "    print(f\"I like the {piza.title()} pizza \")"
   ]
  },
  {
   "cell_type": "markdown",
   "id": "17c38d07",
   "metadata": {},
   "source": [
    "Add a line at the end of your program, outside the for loop, that states\n",
    "how much you like pizza. The output should consist of three or more lines\n",
    "about the kinds of pizza you like and then an additional sentence, such as\n",
    "I really love pizza!"
   ]
  },
  {
   "cell_type": "code",
   "execution_count": 164,
   "id": "e89fc578",
   "metadata": {},
   "outputs": [
    {
     "name": "stdout",
     "output_type": "stream",
     "text": [
      "I like the Chicken Tikka pizza \n",
      "I like the Chickenkabab pizza \n",
      "I like the Malai Botiii pizza \n",
      "These pizas are very yummy and i really like it\n"
     ]
    }
   ],
   "source": [
    "pizaNames = [\"Chicken Tikka\",\"Chickenkabab\", \"Malai botiii\"]\n",
    "for piza in pizaNames:\n",
    "    print(f\"I like the {piza.title()} pizza \")\n",
    "print('These pizas are very yummy and i really like it')"
   ]
  },
  {
   "cell_type": "markdown",
   "id": "e758a58c",
   "metadata": {},
   "source": [
    "# 4-2. Animals: Think of at least three different animals that have a common characteristic. Store the names of these animals in a list, and then use a for loop to print out the name of each animal."
   ]
  },
  {
   "cell_type": "code",
   "execution_count": 165,
   "id": "813ccd5f",
   "metadata": {},
   "outputs": [],
   "source": [
    "animals = [\"Lion\", \"Tiger\", \"Cheetah\"]"
   ]
  },
  {
   "cell_type": "markdown",
   "id": "3dd6bb3b",
   "metadata": {},
   "source": [
    "Modify your program to print a statement about each animal, such as A\n",
    "dog would make a great pet."
   ]
  },
  {
   "cell_type": "code",
   "execution_count": 166,
   "id": "eeb7df18",
   "metadata": {},
   "outputs": [
    {
     "name": "stdout",
     "output_type": "stream",
     "text": [
      "A Lion, would make a great pet\n",
      "A Tiger, would make a great pet\n",
      "A Cheetah, would make a great pet\n"
     ]
    }
   ],
   "source": [
    "for animal in animals:\n",
    "    print(f\"A {animal.title()}, would make a great pet\")"
   ]
  },
  {
   "cell_type": "markdown",
   "id": "edb2f10e",
   "metadata": {},
   "source": [
    "Add a line at the end of your program, stating what these animals have in\n",
    "common. You could print a sentence, such as Any of these animals would\n",
    "make a great pet!"
   ]
  },
  {
   "cell_type": "code",
   "execution_count": 167,
   "id": "65db09c9",
   "metadata": {},
   "outputs": [
    {
     "name": "stdout",
     "output_type": "stream",
     "text": [
      "A Lion, would make a great pet\n",
      "A Tiger, would make a great pet\n",
      "A Cheetah, would make a great pet\n",
      "These Animals are brave so thats why i like their these habits\n"
     ]
    }
   ],
   "source": [
    "for animal in animals:\n",
    "    print(f\"A {animal.title()}, would make a great pet\")\n",
    "print(\"These Animals are brave so thats why i like their these habits\")"
   ]
  },
  {
   "cell_type": "markdown",
   "id": "6a2c4526",
   "metadata": {},
   "source": [
    "# Making Numerical Lists"
   ]
  },
  {
   "cell_type": "code",
   "execution_count": 168,
   "id": "bd6de990",
   "metadata": {},
   "outputs": [
    {
     "name": "stdout",
     "output_type": "stream",
     "text": [
      "1\n",
      "2\n",
      "3\n",
      "4\n",
      "5\n",
      "6\n",
      "7\n",
      "8\n",
      "9\n"
     ]
    }
   ],
   "source": [
    "for value in range(1,10):\n",
    "    print(value)"
   ]
  },
  {
   "cell_type": "code",
   "execution_count": 169,
   "id": "f097c518",
   "metadata": {},
   "outputs": [
    {
     "name": "stdout",
     "output_type": "stream",
     "text": [
      "1\n",
      "3\n",
      "5\n",
      "7\n",
      "9\n"
     ]
    }
   ],
   "source": [
    "for value in range(1,10,2):  #range(start, stop, step size)\n",
    "    print(value)"
   ]
  },
  {
   "cell_type": "markdown",
   "id": "e208a004",
   "metadata": {},
   "source": [
    "use range to make a list of numbers"
   ]
  },
  {
   "cell_type": "code",
   "execution_count": 170,
   "id": "52de8b65",
   "metadata": {},
   "outputs": [
    {
     "name": "stdout",
     "output_type": "stream",
     "text": [
      "[1, 2, 3, 4, 5]\n"
     ]
    }
   ],
   "source": [
    "numbers = list(range(1,6))\n",
    "print(numbers)"
   ]
  },
  {
   "cell_type": "code",
   "execution_count": 171,
   "id": "f5b35c28",
   "metadata": {},
   "outputs": [
    {
     "name": "stdout",
     "output_type": "stream",
     "text": [
      "[1, 2, 3, 4, 5]\n"
     ]
    }
   ],
   "source": [
    "numbers = list(range(1, 6))\n",
    "print(numbers)"
   ]
  },
  {
   "cell_type": "code",
   "execution_count": null,
   "id": "b1394e91",
   "metadata": {},
   "outputs": [],
   "source": [
    "list"
   ]
  },
  {
   "cell_type": "code",
   "execution_count": 172,
   "id": "fe61495a",
   "metadata": {},
   "outputs": [],
   "source": [
    "even_numbers = list(range(1,100, 2))"
   ]
  },
  {
   "cell_type": "code",
   "execution_count": 173,
   "id": "32522463",
   "metadata": {},
   "outputs": [
    {
     "data": {
      "text/plain": [
       "[1,\n",
       " 3,\n",
       " 5,\n",
       " 7,\n",
       " 9,\n",
       " 11,\n",
       " 13,\n",
       " 15,\n",
       " 17,\n",
       " 19,\n",
       " 21,\n",
       " 23,\n",
       " 25,\n",
       " 27,\n",
       " 29,\n",
       " 31,\n",
       " 33,\n",
       " 35,\n",
       " 37,\n",
       " 39,\n",
       " 41,\n",
       " 43,\n",
       " 45,\n",
       " 47,\n",
       " 49,\n",
       " 51,\n",
       " 53,\n",
       " 55,\n",
       " 57,\n",
       " 59,\n",
       " 61,\n",
       " 63,\n",
       " 65,\n",
       " 67,\n",
       " 69,\n",
       " 71,\n",
       " 73,\n",
       " 75,\n",
       " 77,\n",
       " 79,\n",
       " 81,\n",
       " 83,\n",
       " 85,\n",
       " 87,\n",
       " 89,\n",
       " 91,\n",
       " 93,\n",
       " 95,\n",
       " 97,\n",
       " 99]"
      ]
     },
     "execution_count": 173,
     "metadata": {},
     "output_type": "execute_result"
    }
   ],
   "source": [
    "even_numbers"
   ]
  },
  {
   "cell_type": "code",
   "execution_count": 174,
   "id": "a49534c1",
   "metadata": {},
   "outputs": [
    {
     "name": "stdout",
     "output_type": "stream",
     "text": [
      "[1, 4, 9, 16, 25, 36, 49, 64, 81, 100, 121, 144, 169, 196, 225, 256, 289, 324, 361]\n"
     ]
    }
   ],
   "source": [
    "squares = []\n",
    "for value in range(1,20):\n",
    "    square = value**2\n",
    "    squares.append(square)\n",
    "print(squares)"
   ]
  },
  {
   "cell_type": "code",
   "execution_count": 175,
   "id": "52905501",
   "metadata": {},
   "outputs": [
    {
     "name": "stdout",
     "output_type": "stream",
     "text": [
      "[1, 4, 9, 16, 25, 36, 49, 64, 81, 100, 121, 144, 169, 196, 225, 256, 289, 324, 361, 21, 22, 23, 24, 25, 26, 27, 28, 29]\n"
     ]
    }
   ],
   "source": [
    "for value in range(21,30):\n",
    "    squares.append(value)\n",
    "    \n",
    "print(squares)"
   ]
  },
  {
   "cell_type": "markdown",
   "id": "e53adde5",
   "metadata": {},
   "source": [
    "# Simple Statistics with a List of Numbers"
   ]
  },
  {
   "cell_type": "code",
   "execution_count": 176,
   "id": "07648e19",
   "metadata": {},
   "outputs": [],
   "source": [
    "digit = list(range(1,10))"
   ]
  },
  {
   "cell_type": "code",
   "execution_count": 177,
   "id": "1e07590f",
   "metadata": {},
   "outputs": [
    {
     "data": {
      "text/plain": [
       "[1, 2, 3, 4, 5, 6, 7, 8, 9]"
      ]
     },
     "execution_count": 177,
     "metadata": {},
     "output_type": "execute_result"
    }
   ],
   "source": [
    "digit"
   ]
  },
  {
   "cell_type": "code",
   "execution_count": 179,
   "id": "f6c668c2",
   "metadata": {},
   "outputs": [
    {
     "data": {
      "text/plain": [
       "1"
      ]
     },
     "execution_count": 179,
     "metadata": {},
     "output_type": "execute_result"
    }
   ],
   "source": [
    "min(digit)"
   ]
  },
  {
   "cell_type": "code",
   "execution_count": 180,
   "id": "7b6b22ea",
   "metadata": {},
   "outputs": [
    {
     "data": {
      "text/plain": [
       "9"
      ]
     },
     "execution_count": 180,
     "metadata": {},
     "output_type": "execute_result"
    }
   ],
   "source": [
    "max(digit)"
   ]
  },
  {
   "cell_type": "code",
   "execution_count": 181,
   "id": "3119240b",
   "metadata": {},
   "outputs": [
    {
     "data": {
      "text/plain": [
       "45"
      ]
     },
     "execution_count": 181,
     "metadata": {},
     "output_type": "execute_result"
    }
   ],
   "source": [
    "sum(digit)"
   ]
  },
  {
   "cell_type": "code",
   "execution_count": 182,
   "id": "a43db764",
   "metadata": {},
   "outputs": [
    {
     "data": {
      "text/plain": [
       "[1, 2, 3, 4, 5, 6, 7, 8, 9]"
      ]
     },
     "execution_count": 182,
     "metadata": {},
     "output_type": "execute_result"
    }
   ],
   "source": [
    "digit"
   ]
  },
  {
   "cell_type": "code",
   "execution_count": 186,
   "id": "497c771c",
   "metadata": {},
   "outputs": [
    {
     "name": "stdout",
     "output_type": "stream",
     "text": [
      "45\n"
     ]
    }
   ],
   "source": [
    "total = 0\n",
    "for i in digit:\n",
    "    total = total+i\n",
    "   \n",
    "    \n",
    "print(total)"
   ]
  },
  {
   "cell_type": "markdown",
   "id": "22c1b1fe",
   "metadata": {},
   "source": [
    "# 4-3. Counting to Twenty: Use a for loop to print the numbers from 1 to 20, inclusive"
   ]
  },
  {
   "cell_type": "code",
   "execution_count": 2,
   "id": "7ea3fa95",
   "metadata": {},
   "outputs": [
    {
     "name": "stdout",
     "output_type": "stream",
     "text": [
      "1\n",
      "2\n",
      "3\n",
      "4\n",
      "5\n",
      "6\n",
      "7\n",
      "8\n",
      "9\n",
      "10\n",
      "11\n",
      "12\n",
      "13\n",
      "14\n",
      "15\n",
      "16\n",
      "17\n",
      "18\n",
      "19\n",
      "20\n"
     ]
    }
   ],
   "source": [
    "for i in range(1,21):\n",
    "    print(i)"
   ]
  },
  {
   "cell_type": "markdown",
   "id": "f918e093",
   "metadata": {},
   "source": [
    "# 4-4. One Million: Make a list of the numbers from one to one million, and then use a for loop to print the numbers. (If the output is taking too long, stop it by pressing CTRL-C or by closing the output window."
   ]
  },
  {
   "cell_type": "code",
   "execution_count": 6,
   "id": "f1bd390f",
   "metadata": {},
   "outputs": [],
   "source": [
    "One_Million = list(range(1,100001))"
   ]
  },
  {
   "cell_type": "code",
   "execution_count": 7,
   "id": "c489e776",
   "metadata": {},
   "outputs": [
    {
     "data": {
      "text/plain": [
       "[1,\n",
       " 2,\n",
       " 3,\n",
       " 4,\n",
       " 5,\n",
       " 6,\n",
       " 7,\n",
       " 8,\n",
       " 9,\n",
       " 10,\n",
       " 11,\n",
       " 12,\n",
       " 13,\n",
       " 14,\n",
       " 15,\n",
       " 16,\n",
       " 17,\n",
       " 18,\n",
       " 19,\n",
       " 20,\n",
       " 21,\n",
       " 22,\n",
       " 23,\n",
       " 24,\n",
       " 25,\n",
       " 26,\n",
       " 27,\n",
       " 28,\n",
       " 29,\n",
       " 30,\n",
       " 31,\n",
       " 32,\n",
       " 33,\n",
       " 34,\n",
       " 35,\n",
       " 36,\n",
       " 37,\n",
       " 38,\n",
       " 39,\n",
       " 40,\n",
       " 41,\n",
       " 42,\n",
       " 43,\n",
       " 44,\n",
       " 45,\n",
       " 46,\n",
       " 47,\n",
       " 48,\n",
       " 49,\n",
       " 50,\n",
       " 51,\n",
       " 52,\n",
       " 53,\n",
       " 54,\n",
       " 55,\n",
       " 56,\n",
       " 57,\n",
       " 58,\n",
       " 59,\n",
       " 60,\n",
       " 61,\n",
       " 62,\n",
       " 63,\n",
       " 64,\n",
       " 65,\n",
       " 66,\n",
       " 67,\n",
       " 68,\n",
       " 69,\n",
       " 70,\n",
       " 71,\n",
       " 72,\n",
       " 73,\n",
       " 74,\n",
       " 75,\n",
       " 76,\n",
       " 77,\n",
       " 78,\n",
       " 79,\n",
       " 80,\n",
       " 81,\n",
       " 82,\n",
       " 83,\n",
       " 84,\n",
       " 85,\n",
       " 86,\n",
       " 87,\n",
       " 88,\n",
       " 89,\n",
       " 90,\n",
       " 91,\n",
       " 92,\n",
       " 93,\n",
       " 94,\n",
       " 95,\n",
       " 96,\n",
       " 97,\n",
       " 98,\n",
       " 99,\n",
       " 100,\n",
       " 101,\n",
       " 102,\n",
       " 103,\n",
       " 104,\n",
       " 105,\n",
       " 106,\n",
       " 107,\n",
       " 108,\n",
       " 109,\n",
       " 110,\n",
       " 111,\n",
       " 112,\n",
       " 113,\n",
       " 114,\n",
       " 115,\n",
       " 116,\n",
       " 117,\n",
       " 118,\n",
       " 119,\n",
       " 120,\n",
       " 121,\n",
       " 122,\n",
       " 123,\n",
       " 124,\n",
       " 125,\n",
       " 126,\n",
       " 127,\n",
       " 128,\n",
       " 129,\n",
       " 130,\n",
       " 131,\n",
       " 132,\n",
       " 133,\n",
       " 134,\n",
       " 135,\n",
       " 136,\n",
       " 137,\n",
       " 138,\n",
       " 139,\n",
       " 140,\n",
       " 141,\n",
       " 142,\n",
       " 143,\n",
       " 144,\n",
       " 145,\n",
       " 146,\n",
       " 147,\n",
       " 148,\n",
       " 149,\n",
       " 150,\n",
       " 151,\n",
       " 152,\n",
       " 153,\n",
       " 154,\n",
       " 155,\n",
       " 156,\n",
       " 157,\n",
       " 158,\n",
       " 159,\n",
       " 160,\n",
       " 161,\n",
       " 162,\n",
       " 163,\n",
       " 164,\n",
       " 165,\n",
       " 166,\n",
       " 167,\n",
       " 168,\n",
       " 169,\n",
       " 170,\n",
       " 171,\n",
       " 172,\n",
       " 173,\n",
       " 174,\n",
       " 175,\n",
       " 176,\n",
       " 177,\n",
       " 178,\n",
       " 179,\n",
       " 180,\n",
       " 181,\n",
       " 182,\n",
       " 183,\n",
       " 184,\n",
       " 185,\n",
       " 186,\n",
       " 187,\n",
       " 188,\n",
       " 189,\n",
       " 190,\n",
       " 191,\n",
       " 192,\n",
       " 193,\n",
       " 194,\n",
       " 195,\n",
       " 196,\n",
       " 197,\n",
       " 198,\n",
       " 199,\n",
       " 200,\n",
       " 201,\n",
       " 202,\n",
       " 203,\n",
       " 204,\n",
       " 205,\n",
       " 206,\n",
       " 207,\n",
       " 208,\n",
       " 209,\n",
       " 210,\n",
       " 211,\n",
       " 212,\n",
       " 213,\n",
       " 214,\n",
       " 215,\n",
       " 216,\n",
       " 217,\n",
       " 218,\n",
       " 219,\n",
       " 220,\n",
       " 221,\n",
       " 222,\n",
       " 223,\n",
       " 224,\n",
       " 225,\n",
       " 226,\n",
       " 227,\n",
       " 228,\n",
       " 229,\n",
       " 230,\n",
       " 231,\n",
       " 232,\n",
       " 233,\n",
       " 234,\n",
       " 235,\n",
       " 236,\n",
       " 237,\n",
       " 238,\n",
       " 239,\n",
       " 240,\n",
       " 241,\n",
       " 242,\n",
       " 243,\n",
       " 244,\n",
       " 245,\n",
       " 246,\n",
       " 247,\n",
       " 248,\n",
       " 249,\n",
       " 250,\n",
       " 251,\n",
       " 252,\n",
       " 253,\n",
       " 254,\n",
       " 255,\n",
       " 256,\n",
       " 257,\n",
       " 258,\n",
       " 259,\n",
       " 260,\n",
       " 261,\n",
       " 262,\n",
       " 263,\n",
       " 264,\n",
       " 265,\n",
       " 266,\n",
       " 267,\n",
       " 268,\n",
       " 269,\n",
       " 270,\n",
       " 271,\n",
       " 272,\n",
       " 273,\n",
       " 274,\n",
       " 275,\n",
       " 276,\n",
       " 277,\n",
       " 278,\n",
       " 279,\n",
       " 280,\n",
       " 281,\n",
       " 282,\n",
       " 283,\n",
       " 284,\n",
       " 285,\n",
       " 286,\n",
       " 287,\n",
       " 288,\n",
       " 289,\n",
       " 290,\n",
       " 291,\n",
       " 292,\n",
       " 293,\n",
       " 294,\n",
       " 295,\n",
       " 296,\n",
       " 297,\n",
       " 298,\n",
       " 299,\n",
       " 300,\n",
       " 301,\n",
       " 302,\n",
       " 303,\n",
       " 304,\n",
       " 305,\n",
       " 306,\n",
       " 307,\n",
       " 308,\n",
       " 309,\n",
       " 310,\n",
       " 311,\n",
       " 312,\n",
       " 313,\n",
       " 314,\n",
       " 315,\n",
       " 316,\n",
       " 317,\n",
       " 318,\n",
       " 319,\n",
       " 320,\n",
       " 321,\n",
       " 322,\n",
       " 323,\n",
       " 324,\n",
       " 325,\n",
       " 326,\n",
       " 327,\n",
       " 328,\n",
       " 329,\n",
       " 330,\n",
       " 331,\n",
       " 332,\n",
       " 333,\n",
       " 334,\n",
       " 335,\n",
       " 336,\n",
       " 337,\n",
       " 338,\n",
       " 339,\n",
       " 340,\n",
       " 341,\n",
       " 342,\n",
       " 343,\n",
       " 344,\n",
       " 345,\n",
       " 346,\n",
       " 347,\n",
       " 348,\n",
       " 349,\n",
       " 350,\n",
       " 351,\n",
       " 352,\n",
       " 353,\n",
       " 354,\n",
       " 355,\n",
       " 356,\n",
       " 357,\n",
       " 358,\n",
       " 359,\n",
       " 360,\n",
       " 361,\n",
       " 362,\n",
       " 363,\n",
       " 364,\n",
       " 365,\n",
       " 366,\n",
       " 367,\n",
       " 368,\n",
       " 369,\n",
       " 370,\n",
       " 371,\n",
       " 372,\n",
       " 373,\n",
       " 374,\n",
       " 375,\n",
       " 376,\n",
       " 377,\n",
       " 378,\n",
       " 379,\n",
       " 380,\n",
       " 381,\n",
       " 382,\n",
       " 383,\n",
       " 384,\n",
       " 385,\n",
       " 386,\n",
       " 387,\n",
       " 388,\n",
       " 389,\n",
       " 390,\n",
       " 391,\n",
       " 392,\n",
       " 393,\n",
       " 394,\n",
       " 395,\n",
       " 396,\n",
       " 397,\n",
       " 398,\n",
       " 399,\n",
       " 400,\n",
       " 401,\n",
       " 402,\n",
       " 403,\n",
       " 404,\n",
       " 405,\n",
       " 406,\n",
       " 407,\n",
       " 408,\n",
       " 409,\n",
       " 410,\n",
       " 411,\n",
       " 412,\n",
       " 413,\n",
       " 414,\n",
       " 415,\n",
       " 416,\n",
       " 417,\n",
       " 418,\n",
       " 419,\n",
       " 420,\n",
       " 421,\n",
       " 422,\n",
       " 423,\n",
       " 424,\n",
       " 425,\n",
       " 426,\n",
       " 427,\n",
       " 428,\n",
       " 429,\n",
       " 430,\n",
       " 431,\n",
       " 432,\n",
       " 433,\n",
       " 434,\n",
       " 435,\n",
       " 436,\n",
       " 437,\n",
       " 438,\n",
       " 439,\n",
       " 440,\n",
       " 441,\n",
       " 442,\n",
       " 443,\n",
       " 444,\n",
       " 445,\n",
       " 446,\n",
       " 447,\n",
       " 448,\n",
       " 449,\n",
       " 450,\n",
       " 451,\n",
       " 452,\n",
       " 453,\n",
       " 454,\n",
       " 455,\n",
       " 456,\n",
       " 457,\n",
       " 458,\n",
       " 459,\n",
       " 460,\n",
       " 461,\n",
       " 462,\n",
       " 463,\n",
       " 464,\n",
       " 465,\n",
       " 466,\n",
       " 467,\n",
       " 468,\n",
       " 469,\n",
       " 470,\n",
       " 471,\n",
       " 472,\n",
       " 473,\n",
       " 474,\n",
       " 475,\n",
       " 476,\n",
       " 477,\n",
       " 478,\n",
       " 479,\n",
       " 480,\n",
       " 481,\n",
       " 482,\n",
       " 483,\n",
       " 484,\n",
       " 485,\n",
       " 486,\n",
       " 487,\n",
       " 488,\n",
       " 489,\n",
       " 490,\n",
       " 491,\n",
       " 492,\n",
       " 493,\n",
       " 494,\n",
       " 495,\n",
       " 496,\n",
       " 497,\n",
       " 498,\n",
       " 499,\n",
       " 500,\n",
       " 501,\n",
       " 502,\n",
       " 503,\n",
       " 504,\n",
       " 505,\n",
       " 506,\n",
       " 507,\n",
       " 508,\n",
       " 509,\n",
       " 510,\n",
       " 511,\n",
       " 512,\n",
       " 513,\n",
       " 514,\n",
       " 515,\n",
       " 516,\n",
       " 517,\n",
       " 518,\n",
       " 519,\n",
       " 520,\n",
       " 521,\n",
       " 522,\n",
       " 523,\n",
       " 524,\n",
       " 525,\n",
       " 526,\n",
       " 527,\n",
       " 528,\n",
       " 529,\n",
       " 530,\n",
       " 531,\n",
       " 532,\n",
       " 533,\n",
       " 534,\n",
       " 535,\n",
       " 536,\n",
       " 537,\n",
       " 538,\n",
       " 539,\n",
       " 540,\n",
       " 541,\n",
       " 542,\n",
       " 543,\n",
       " 544,\n",
       " 545,\n",
       " 546,\n",
       " 547,\n",
       " 548,\n",
       " 549,\n",
       " 550,\n",
       " 551,\n",
       " 552,\n",
       " 553,\n",
       " 554,\n",
       " 555,\n",
       " 556,\n",
       " 557,\n",
       " 558,\n",
       " 559,\n",
       " 560,\n",
       " 561,\n",
       " 562,\n",
       " 563,\n",
       " 564,\n",
       " 565,\n",
       " 566,\n",
       " 567,\n",
       " 568,\n",
       " 569,\n",
       " 570,\n",
       " 571,\n",
       " 572,\n",
       " 573,\n",
       " 574,\n",
       " 575,\n",
       " 576,\n",
       " 577,\n",
       " 578,\n",
       " 579,\n",
       " 580,\n",
       " 581,\n",
       " 582,\n",
       " 583,\n",
       " 584,\n",
       " 585,\n",
       " 586,\n",
       " 587,\n",
       " 588,\n",
       " 589,\n",
       " 590,\n",
       " 591,\n",
       " 592,\n",
       " 593,\n",
       " 594,\n",
       " 595,\n",
       " 596,\n",
       " 597,\n",
       " 598,\n",
       " 599,\n",
       " 600,\n",
       " 601,\n",
       " 602,\n",
       " 603,\n",
       " 604,\n",
       " 605,\n",
       " 606,\n",
       " 607,\n",
       " 608,\n",
       " 609,\n",
       " 610,\n",
       " 611,\n",
       " 612,\n",
       " 613,\n",
       " 614,\n",
       " 615,\n",
       " 616,\n",
       " 617,\n",
       " 618,\n",
       " 619,\n",
       " 620,\n",
       " 621,\n",
       " 622,\n",
       " 623,\n",
       " 624,\n",
       " 625,\n",
       " 626,\n",
       " 627,\n",
       " 628,\n",
       " 629,\n",
       " 630,\n",
       " 631,\n",
       " 632,\n",
       " 633,\n",
       " 634,\n",
       " 635,\n",
       " 636,\n",
       " 637,\n",
       " 638,\n",
       " 639,\n",
       " 640,\n",
       " 641,\n",
       " 642,\n",
       " 643,\n",
       " 644,\n",
       " 645,\n",
       " 646,\n",
       " 647,\n",
       " 648,\n",
       " 649,\n",
       " 650,\n",
       " 651,\n",
       " 652,\n",
       " 653,\n",
       " 654,\n",
       " 655,\n",
       " 656,\n",
       " 657,\n",
       " 658,\n",
       " 659,\n",
       " 660,\n",
       " 661,\n",
       " 662,\n",
       " 663,\n",
       " 664,\n",
       " 665,\n",
       " 666,\n",
       " 667,\n",
       " 668,\n",
       " 669,\n",
       " 670,\n",
       " 671,\n",
       " 672,\n",
       " 673,\n",
       " 674,\n",
       " 675,\n",
       " 676,\n",
       " 677,\n",
       " 678,\n",
       " 679,\n",
       " 680,\n",
       " 681,\n",
       " 682,\n",
       " 683,\n",
       " 684,\n",
       " 685,\n",
       " 686,\n",
       " 687,\n",
       " 688,\n",
       " 689,\n",
       " 690,\n",
       " 691,\n",
       " 692,\n",
       " 693,\n",
       " 694,\n",
       " 695,\n",
       " 696,\n",
       " 697,\n",
       " 698,\n",
       " 699,\n",
       " 700,\n",
       " 701,\n",
       " 702,\n",
       " 703,\n",
       " 704,\n",
       " 705,\n",
       " 706,\n",
       " 707,\n",
       " 708,\n",
       " 709,\n",
       " 710,\n",
       " 711,\n",
       " 712,\n",
       " 713,\n",
       " 714,\n",
       " 715,\n",
       " 716,\n",
       " 717,\n",
       " 718,\n",
       " 719,\n",
       " 720,\n",
       " 721,\n",
       " 722,\n",
       " 723,\n",
       " 724,\n",
       " 725,\n",
       " 726,\n",
       " 727,\n",
       " 728,\n",
       " 729,\n",
       " 730,\n",
       " 731,\n",
       " 732,\n",
       " 733,\n",
       " 734,\n",
       " 735,\n",
       " 736,\n",
       " 737,\n",
       " 738,\n",
       " 739,\n",
       " 740,\n",
       " 741,\n",
       " 742,\n",
       " 743,\n",
       " 744,\n",
       " 745,\n",
       " 746,\n",
       " 747,\n",
       " 748,\n",
       " 749,\n",
       " 750,\n",
       " 751,\n",
       " 752,\n",
       " 753,\n",
       " 754,\n",
       " 755,\n",
       " 756,\n",
       " 757,\n",
       " 758,\n",
       " 759,\n",
       " 760,\n",
       " 761,\n",
       " 762,\n",
       " 763,\n",
       " 764,\n",
       " 765,\n",
       " 766,\n",
       " 767,\n",
       " 768,\n",
       " 769,\n",
       " 770,\n",
       " 771,\n",
       " 772,\n",
       " 773,\n",
       " 774,\n",
       " 775,\n",
       " 776,\n",
       " 777,\n",
       " 778,\n",
       " 779,\n",
       " 780,\n",
       " 781,\n",
       " 782,\n",
       " 783,\n",
       " 784,\n",
       " 785,\n",
       " 786,\n",
       " 787,\n",
       " 788,\n",
       " 789,\n",
       " 790,\n",
       " 791,\n",
       " 792,\n",
       " 793,\n",
       " 794,\n",
       " 795,\n",
       " 796,\n",
       " 797,\n",
       " 798,\n",
       " 799,\n",
       " 800,\n",
       " 801,\n",
       " 802,\n",
       " 803,\n",
       " 804,\n",
       " 805,\n",
       " 806,\n",
       " 807,\n",
       " 808,\n",
       " 809,\n",
       " 810,\n",
       " 811,\n",
       " 812,\n",
       " 813,\n",
       " 814,\n",
       " 815,\n",
       " 816,\n",
       " 817,\n",
       " 818,\n",
       " 819,\n",
       " 820,\n",
       " 821,\n",
       " 822,\n",
       " 823,\n",
       " 824,\n",
       " 825,\n",
       " 826,\n",
       " 827,\n",
       " 828,\n",
       " 829,\n",
       " 830,\n",
       " 831,\n",
       " 832,\n",
       " 833,\n",
       " 834,\n",
       " 835,\n",
       " 836,\n",
       " 837,\n",
       " 838,\n",
       " 839,\n",
       " 840,\n",
       " 841,\n",
       " 842,\n",
       " 843,\n",
       " 844,\n",
       " 845,\n",
       " 846,\n",
       " 847,\n",
       " 848,\n",
       " 849,\n",
       " 850,\n",
       " 851,\n",
       " 852,\n",
       " 853,\n",
       " 854,\n",
       " 855,\n",
       " 856,\n",
       " 857,\n",
       " 858,\n",
       " 859,\n",
       " 860,\n",
       " 861,\n",
       " 862,\n",
       " 863,\n",
       " 864,\n",
       " 865,\n",
       " 866,\n",
       " 867,\n",
       " 868,\n",
       " 869,\n",
       " 870,\n",
       " 871,\n",
       " 872,\n",
       " 873,\n",
       " 874,\n",
       " 875,\n",
       " 876,\n",
       " 877,\n",
       " 878,\n",
       " 879,\n",
       " 880,\n",
       " 881,\n",
       " 882,\n",
       " 883,\n",
       " 884,\n",
       " 885,\n",
       " 886,\n",
       " 887,\n",
       " 888,\n",
       " 889,\n",
       " 890,\n",
       " 891,\n",
       " 892,\n",
       " 893,\n",
       " 894,\n",
       " 895,\n",
       " 896,\n",
       " 897,\n",
       " 898,\n",
       " 899,\n",
       " 900,\n",
       " 901,\n",
       " 902,\n",
       " 903,\n",
       " 904,\n",
       " 905,\n",
       " 906,\n",
       " 907,\n",
       " 908,\n",
       " 909,\n",
       " 910,\n",
       " 911,\n",
       " 912,\n",
       " 913,\n",
       " 914,\n",
       " 915,\n",
       " 916,\n",
       " 917,\n",
       " 918,\n",
       " 919,\n",
       " 920,\n",
       " 921,\n",
       " 922,\n",
       " 923,\n",
       " 924,\n",
       " 925,\n",
       " 926,\n",
       " 927,\n",
       " 928,\n",
       " 929,\n",
       " 930,\n",
       " 931,\n",
       " 932,\n",
       " 933,\n",
       " 934,\n",
       " 935,\n",
       " 936,\n",
       " 937,\n",
       " 938,\n",
       " 939,\n",
       " 940,\n",
       " 941,\n",
       " 942,\n",
       " 943,\n",
       " 944,\n",
       " 945,\n",
       " 946,\n",
       " 947,\n",
       " 948,\n",
       " 949,\n",
       " 950,\n",
       " 951,\n",
       " 952,\n",
       " 953,\n",
       " 954,\n",
       " 955,\n",
       " 956,\n",
       " 957,\n",
       " 958,\n",
       " 959,\n",
       " 960,\n",
       " 961,\n",
       " 962,\n",
       " 963,\n",
       " 964,\n",
       " 965,\n",
       " 966,\n",
       " 967,\n",
       " 968,\n",
       " 969,\n",
       " 970,\n",
       " 971,\n",
       " 972,\n",
       " 973,\n",
       " 974,\n",
       " 975,\n",
       " 976,\n",
       " 977,\n",
       " 978,\n",
       " 979,\n",
       " 980,\n",
       " 981,\n",
       " 982,\n",
       " 983,\n",
       " 984,\n",
       " 985,\n",
       " 986,\n",
       " 987,\n",
       " 988,\n",
       " 989,\n",
       " 990,\n",
       " 991,\n",
       " 992,\n",
       " 993,\n",
       " 994,\n",
       " 995,\n",
       " 996,\n",
       " 997,\n",
       " 998,\n",
       " 999,\n",
       " 1000,\n",
       " ...]"
      ]
     },
     "execution_count": 7,
     "metadata": {},
     "output_type": "execute_result"
    }
   ],
   "source": [
    "One_Million"
   ]
  },
  {
   "cell_type": "code",
   "execution_count": 8,
   "id": "49e1a07a",
   "metadata": {},
   "outputs": [
    {
     "data": {
      "text/plain": [
       "100000"
      ]
     },
     "execution_count": 8,
     "metadata": {},
     "output_type": "execute_result"
    }
   ],
   "source": [
    "len(One_Million)"
   ]
  },
  {
   "cell_type": "markdown",
   "id": "c63b47f7",
   "metadata": {},
   "source": [
    "# 4-5. Summing a Million: Make a list of the numbers from one to one million, and then use min() and max() to make sure your list actually starts at one and ends at one million. Also, use the sum() function to see how quickly Python can add a million numbers."
   ]
  },
  {
   "cell_type": "code",
   "execution_count": 9,
   "id": "c4aa2ef5",
   "metadata": {},
   "outputs": [
    {
     "data": {
      "text/plain": [
       "1"
      ]
     },
     "execution_count": 9,
     "metadata": {},
     "output_type": "execute_result"
    }
   ],
   "source": [
    "min(One_Million)"
   ]
  },
  {
   "cell_type": "code",
   "execution_count": 10,
   "id": "234a44de",
   "metadata": {},
   "outputs": [
    {
     "data": {
      "text/plain": [
       "100000"
      ]
     },
     "execution_count": 10,
     "metadata": {},
     "output_type": "execute_result"
    }
   ],
   "source": [
    "max(One_Million)"
   ]
  },
  {
   "cell_type": "code",
   "execution_count": 11,
   "id": "ebcee1fb",
   "metadata": {},
   "outputs": [
    {
     "data": {
      "text/plain": [
       "5000050000"
      ]
     },
     "execution_count": 11,
     "metadata": {},
     "output_type": "execute_result"
    }
   ],
   "source": [
    "sum(One_Million)"
   ]
  },
  {
   "cell_type": "markdown",
   "id": "f20d1bcd",
   "metadata": {},
   "source": [
    "# 4-6. Odd Numbers: Use the third argument of the range() function to make a list of the odd numbers from 1 to 20. Use a for loop to print each number."
   ]
  },
  {
   "cell_type": "code",
   "execution_count": 12,
   "id": "f8a20be6",
   "metadata": {},
   "outputs": [
    {
     "name": "stdout",
     "output_type": "stream",
     "text": [
      "1\n",
      "2\n",
      "3\n",
      "4\n",
      "5\n",
      "6\n",
      "7\n",
      "8\n",
      "9\n",
      "10\n",
      "11\n",
      "12\n",
      "13\n",
      "14\n",
      "15\n",
      "16\n",
      "17\n",
      "18\n",
      "19\n"
     ]
    }
   ],
   "source": [
    "for i in range(1,20,1):\n",
    "    print(i)"
   ]
  },
  {
   "cell_type": "markdown",
   "id": "00dac300",
   "metadata": {},
   "source": [
    "# 4-7. Threes: Make a list of the multiples of 3, from 3 to 30. Use a for loop to print the numbers in your list."
   ]
  },
  {
   "cell_type": "code",
   "execution_count": 13,
   "id": "5ef21d3e",
   "metadata": {},
   "outputs": [],
   "source": [
    "Threes = list(range(3,30,3))"
   ]
  },
  {
   "cell_type": "code",
   "execution_count": 14,
   "id": "3c06fe31",
   "metadata": {},
   "outputs": [
    {
     "data": {
      "text/plain": [
       "[3, 6, 9, 12, 15, 18, 21, 24, 27]"
      ]
     },
     "execution_count": 14,
     "metadata": {},
     "output_type": "execute_result"
    }
   ],
   "source": [
    "Threes"
   ]
  },
  {
   "cell_type": "code",
   "execution_count": 15,
   "id": "ff095f93",
   "metadata": {},
   "outputs": [
    {
     "name": "stdout",
     "output_type": "stream",
     "text": [
      "3\n",
      "6\n",
      "9\n",
      "12\n",
      "15\n",
      "18\n",
      "21\n",
      "24\n",
      "27\n"
     ]
    }
   ],
   "source": [
    "for i in Threes:\n",
    "    print(i)"
   ]
  },
  {
   "cell_type": "markdown",
   "id": "d41ac653",
   "metadata": {},
   "source": [
    "# 4-8. Cubes: A number raised to the third power is called a cube. For example, the cube of 2 is written as 2**3 in Python. Make a list of the first 10 cubes (that is, the cube of each integer from 1 through 10), and use a for loop to print out the value of each cube."
   ]
  },
  {
   "cell_type": "code",
   "execution_count": 18,
   "id": "1681049f",
   "metadata": {},
   "outputs": [
    {
     "name": "stdout",
     "output_type": "stream",
     "text": [
      "1 **3\n",
      "2 **3\n",
      "3 **3\n",
      "4 **3\n",
      "5 **3\n",
      "6 **3\n",
      "7 **3\n",
      "8 **3\n",
      "9 **3\n"
     ]
    }
   ],
   "source": [
    "cube = list(range(1,10))\n",
    "for i in cube:\n",
    "    print(i,\"**3\")"
   ]
  },
  {
   "cell_type": "code",
   "execution_count": 25,
   "id": "8490c215",
   "metadata": {},
   "outputs": [
    {
     "name": "stdout",
     "output_type": "stream",
     "text": [
      "1\n",
      "8\n",
      "27\n",
      "64\n",
      "125\n",
      "216\n",
      "343\n",
      "512\n",
      "729\n",
      "1000\n"
     ]
    }
   ],
   "source": [
    "cubes = []\n",
    "for i in range(1, 11):\n",
    "    cubes.append(i ** 3)\n",
    "\n",
    "for cube in cubes:\n",
    "    print(cube)"
   ]
  },
  {
   "cell_type": "code",
   "execution_count": 26,
   "id": "64ba3b5d",
   "metadata": {},
   "outputs": [
    {
     "data": {
      "text/plain": [
       "[1, 8, 27, 64, 125, 216, 343, 512, 729, 1000]"
      ]
     },
     "execution_count": 26,
     "metadata": {},
     "output_type": "execute_result"
    }
   ],
   "source": [
    "cubes"
   ]
  },
  {
   "cell_type": "markdown",
   "id": "30c26047",
   "metadata": {},
   "source": [
    "# 4-9. Cube Comprehension: Use a list comprehension to generate a list of the first 10 cubes."
   ]
  },
  {
   "cell_type": "code",
   "execution_count": 30,
   "id": "673b35ee",
   "metadata": {},
   "outputs": [],
   "source": [
    "cube_comprehensive = [values**3 for values in range(1,11)]"
   ]
  },
  {
   "cell_type": "code",
   "execution_count": 31,
   "id": "ef78aced",
   "metadata": {},
   "outputs": [
    {
     "data": {
      "text/plain": [
       "[1, 8, 27, 64, 125, 216, 343, 512, 729, 1000]"
      ]
     },
     "execution_count": 31,
     "metadata": {},
     "output_type": "execute_result"
    }
   ],
   "source": [
    "cube_comprehensive"
   ]
  },
  {
   "cell_type": "markdown",
   "id": "40e211aa",
   "metadata": {},
   "source": [
    "# 4-10. Slices: Using one of the programs you wrote in this chapter, add several lines to the end of the program that do the following:"
   ]
  },
  {
   "cell_type": "markdown",
   "id": "a5c69549",
   "metadata": {},
   "source": [
    "• Print the message The first three items in the list are:. Then use a slice to\n",
    "print the first three items from that program’s list.\n",
    "\n",
    "• Print the message Three items from the middle of the list are:. Then use a\n",
    "slice to print three items from the middle of the list.\n",
    "\n",
    "• Print the message The last three items in the list are:. Then use a slice to\n",
    "print the last three items in the list."
   ]
  },
  {
   "cell_type": "code",
   "execution_count": 32,
   "id": "76c693d4",
   "metadata": {},
   "outputs": [],
   "source": [
    "List_03 = [\"Farhan Ali\", \"Hafiz Hamza\", \"Abdulrehman\", \"Faisalabad\", \"Lahore\", \"Islamabad\", \"Bike\", \"Car\", \"Aeroplan\"]"
   ]
  },
  {
   "cell_type": "code",
   "execution_count": 38,
   "id": "9a6d6b7e",
   "metadata": {},
   "outputs": [
    {
     "name": "stdout",
     "output_type": "stream",
     "text": [
      " Farhan Ali We will meet soon:\n",
      " Hafiz Hamza We will meet soon:\n",
      " Abdulrehman We will meet soon:\n"
     ]
    }
   ],
   "source": [
    "for i in List_03[:3]:\n",
    "    print(f\" {i.title()} We will meet soon:\")\n",
    "\n"
   ]
  },
  {
   "cell_type": "code",
   "execution_count": 39,
   "id": "ee2a3bbe",
   "metadata": {},
   "outputs": [
    {
     "name": "stdout",
     "output_type": "stream",
     "text": [
      "The first three items in the list are:\n",
      "Farhan Ali\n",
      "Hafiz Hamza\n",
      "Abdulrehman\n"
     ]
    }
   ],
   "source": [
    "print(\"The first three items in the list are:\")\n",
    "for i in List_03[:3]:\n",
    "    print(i)\n",
    "    \n"
   ]
  },
  {
   "cell_type": "code",
   "execution_count": 40,
   "id": "f689ae03",
   "metadata": {},
   "outputs": [
    {
     "name": "stdout",
     "output_type": "stream",
     "text": [
      "Three items from the middle of the list are:\n"
     ]
    },
    {
     "data": {
      "text/plain": [
       "['Faisalabad', 'Lahore', 'Islamabad']"
      ]
     },
     "execution_count": 40,
     "metadata": {},
     "output_type": "execute_result"
    }
   ],
   "source": [
    "print(\"Three items from the middle of the list are:\")\n",
    "\n",
    "start_index = len(List_03)//2-1\n",
    "end_index = start_index + 3\n",
    "\n",
    "List_03[start_index : end_index]"
   ]
  },
  {
   "cell_type": "code",
   "execution_count": 47,
   "id": "c39ff479",
   "metadata": {},
   "outputs": [
    {
     "name": "stdout",
     "output_type": "stream",
     "text": [
      "The last three items in the list are:\n"
     ]
    },
    {
     "data": {
      "text/plain": [
       "['Bike', 'Car', 'Aeroplan']"
      ]
     },
     "execution_count": 47,
     "metadata": {},
     "output_type": "execute_result"
    }
   ],
   "source": [
    "print(\"The last three items in the list are:\")\n",
    "List_03[-3:]"
   ]
  },
  {
   "cell_type": "markdown",
   "id": "00b6aeee",
   "metadata": {},
   "source": [
    "# 4-11. My Pizzas, Your Pizzas: Start with your program from Exercise 4-1 (page 56). Make a copy of the list of pizzas, and call it friend_pizzas. Then, do the following:"
   ]
  },
  {
   "cell_type": "markdown",
   "id": "73ba41f8",
   "metadata": {},
   "source": [
    "• Add a new pizza to the original list.\n",
    "\n",
    "• Add a different pizza to the list friend_pizzas.\n",
    "\n",
    "• Prove that you have two separate lists. Print the message My favorite pizzas are:, and then use a for loop to print the first list. Print the message My friend’s favorite pizzas are:, and then use a for loop to print the second list. Make sure each new pizza is stored in the appropriate list."
   ]
  },
  {
   "cell_type": "code",
   "execution_count": 48,
   "id": "e1dd1706",
   "metadata": {},
   "outputs": [],
   "source": [
    "pizzas = [\"MalaiBoti Pizza\", \"pepproni Piza\", \"Chicken fajita\"]"
   ]
  },
  {
   "cell_type": "code",
   "execution_count": 50,
   "id": "cf8682f8",
   "metadata": {},
   "outputs": [],
   "source": [
    "friend_pizzas = pizzas.copy()"
   ]
  },
  {
   "cell_type": "code",
   "execution_count": 51,
   "id": "cb29f650",
   "metadata": {},
   "outputs": [
    {
     "name": "stdout",
     "output_type": "stream",
     "text": [
      "This is origgional list ['MalaiBoti Pizza', 'pepproni Piza', 'Chicken fajita']\n",
      "This is copied list ['MalaiBoti Pizza', 'pepproni Piza', 'Chicken fajita']\n"
     ]
    }
   ],
   "source": [
    "print(f\"This is origgional list {pizzas}\")\n",
    "print(f\"This is copied list {friend_pizzas}\")"
   ]
  },
  {
   "cell_type": "code",
   "execution_count": 52,
   "id": "9c17957a",
   "metadata": {},
   "outputs": [],
   "source": [
    "pizzas.append(\"Tandoori Pizza\")"
   ]
  },
  {
   "cell_type": "code",
   "execution_count": 53,
   "id": "056550c1",
   "metadata": {},
   "outputs": [],
   "source": [
    "friend_pizzas.append(\"Special pizza\")"
   ]
  },
  {
   "cell_type": "code",
   "execution_count": 62,
   "id": "147836a0",
   "metadata": {},
   "outputs": [
    {
     "name": "stdout",
     "output_type": "stream",
     "text": [
      "My Favourite pizzas are:\n",
      "\n",
      "MalaiBoti Pizza\n",
      "pepproni Piza\n",
      "Chicken fajita\n",
      "Tandoori Pizza\n",
      "**************************************************\n",
      "My friend’s favorite pizzas are:\n",
      "\n",
      "MalaiBoti Pizza\n",
      "pepproni Piza\n",
      "Chicken fajita\n",
      "Special pizza\n"
     ]
    }
   ],
   "source": [
    "print(\"My Favourite pizzas are:\\n\")\n",
    "for i in pizzas:\n",
    "    print(i)\n",
    "print(\"*\" * 50)\n",
    "print(\"My friend’s favorite pizzas are:\\n\")\n",
    "for i in friend_pizzas:\n",
    "    print(i)"
   ]
  },
  {
   "cell_type": "markdown",
   "id": "bd93379f",
   "metadata": {},
   "source": [
    "# 4-13. Buffet: A buffet-style restaurant offers only five basic foods. Think of five simple foods, and store them in a tuple"
   ]
  },
  {
   "cell_type": "markdown",
   "id": "c6953dd9",
   "metadata": {},
   "source": [
    "• Use a for loop to print each food the restaurant offers.\n",
    "\n",
    "• Try to modify one of the items, and make sure that Python rejects the\n",
    "change.\n",
    "\n",
    "• The restaurant changes its menu, replacing two of the items with different\n",
    "foods. Add a line that rewrites the tuple, and then use a for loop to print\n",
    "each of the items on the revised menu."
   ]
  },
  {
   "cell_type": "code",
   "execution_count": 64,
   "id": "e089ef3f",
   "metadata": {},
   "outputs": [
    {
     "name": "stdout",
     "output_type": "stream",
     "text": [
      "Orange\n",
      "Banana\n",
      "Apple\n",
      "Mango\n",
      "Cherry\n"
     ]
    }
   ],
   "source": [
    "buffet_style_restaurant = (\"Orange\",\"Banana\",\"Apple\",\"Mango\",\"Cherry\")\n",
    "\n",
    "for i in buffet_style_restaurant:\n",
    "    print(i)"
   ]
  },
  {
   "cell_type": "code",
   "execution_count": 65,
   "id": "56757507",
   "metadata": {},
   "outputs": [
    {
     "ename": "TypeError",
     "evalue": "'tuple' object does not support item assignment",
     "output_type": "error",
     "traceback": [
      "\u001b[1;31m---------------------------------------------------------------------------\u001b[0m",
      "\u001b[1;31mTypeError\u001b[0m                                 Traceback (most recent call last)",
      "\u001b[1;32m~\\AppData\\Local\\Temp/ipykernel_5612/2308351066.py\u001b[0m in \u001b[0;36m<module>\u001b[1;34m\u001b[0m\n\u001b[1;32m----> 1\u001b[1;33m \u001b[0mbuffet_style_restaurant\u001b[0m\u001b[1;33m[\u001b[0m\u001b[1;34m\"orange\"\u001b[0m\u001b[1;33m]\u001b[0m\u001b[1;33m=\u001b[0m\u001b[1;34m\"Ali\"\u001b[0m\u001b[1;33m\u001b[0m\u001b[1;33m\u001b[0m\u001b[0m\n\u001b[0m",
      "\u001b[1;31mTypeError\u001b[0m: 'tuple' object does not support item assignment"
     ]
    }
   ],
   "source": [
    "buffet_style_restaurant[\"orange\"]=\"Ali\""
   ]
  },
  {
   "cell_type": "code",
   "execution_count": 66,
   "id": "c1b71ef0",
   "metadata": {},
   "outputs": [
    {
     "data": {
      "text/plain": [
       "('Orange', 'Banana', 'Apple', 'Mango', 'Cherry')"
      ]
     },
     "execution_count": 66,
     "metadata": {},
     "output_type": "execute_result"
    }
   ],
   "source": [
    "buffet_style_restaurant"
   ]
  },
  {
   "cell_type": "code",
   "execution_count": 68,
   "id": "0cd8ecff",
   "metadata": {},
   "outputs": [
    {
     "name": "stdout",
     "output_type": "stream",
     "text": [
      "original menu\n",
      "Orange\n",
      "Banana\n",
      "Apple\n",
      "Mango\n",
      "Cherry\n",
      "\n",
      "Revised Menu:\n",
      "ALi\n",
      "Asad\n",
      "Apple\n",
      "Mango\n",
      "Cherry\n"
     ]
    }
   ],
   "source": [
    "print(\"original menu\")\n",
    "for i in buffet_style_restaurant:\n",
    "    print(i)\n",
    "    \n",
    "updated_menu = list(buffet_style_restaurant)\n",
    "updated_menu[0] = \"ALi\"\n",
    "updated_menu[1] = \"Asad\"\n",
    "\n",
    "original_menu = tuple(updated_menu)\n",
    "\n",
    "print(\"\\nRevised Menu:\")\n",
    "for food in original_menu:\n",
    "    print(food)"
   ]
  },
  {
   "cell_type": "code",
   "execution_count": null,
   "id": "aff945bf",
   "metadata": {},
   "outputs": [],
   "source": []
  }
 ],
 "metadata": {
  "kernelspec": {
   "display_name": "Python 3 (ipykernel)",
   "language": "python",
   "name": "python3"
  },
  "language_info": {
   "codemirror_mode": {
    "name": "ipython",
    "version": 3
   },
   "file_extension": ".py",
   "mimetype": "text/x-python",
   "name": "python",
   "nbconvert_exporter": "python",
   "pygments_lexer": "ipython3",
   "version": "3.9.7"
  }
 },
 "nbformat": 4,
 "nbformat_minor": 5
}
