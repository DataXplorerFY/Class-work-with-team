{
 "cells": [
  {
   "cell_type": "code",
   "execution_count": 1,
   "id": "12463a46",
   "metadata": {},
   "outputs": [],
   "source": [
    "cars = [\"bmw\",\"ferrari\",\"BUGGATI\"]"
   ]
  },
  {
   "cell_type": "code",
   "execution_count": 2,
   "id": "7d8de92d",
   "metadata": {},
   "outputs": [
    {
     "name": "stdout",
     "output_type": "stream",
     "text": [
      "BMW\n",
      "ferrari\n",
      "buggati\n"
     ]
    }
   ],
   "source": [
    "for car in cars:\n",
    "    if car==\"bmw\":\n",
    "        print(car.upper())\n",
    "    else:\n",
    "        print(car.lower())"
   ]
  },
  {
   "cell_type": "markdown",
   "id": "a766cae4",
   "metadata": {},
   "source": [
    "# Conditional Tests"
   ]
  },
  {
   "cell_type": "code",
   "execution_count": 3,
   "id": "6aabda06",
   "metadata": {},
   "outputs": [
    {
     "data": {
      "text/plain": [
       "True"
      ]
     },
     "execution_count": 3,
     "metadata": {},
     "output_type": "execute_result"
    }
   ],
   "source": [
    "car=\"bmw\"\n",
    "car==\"bmw\""
   ]
  },
  {
   "cell_type": "code",
   "execution_count": 4,
   "id": "a7ac4b75",
   "metadata": {},
   "outputs": [
    {
     "data": {
      "text/plain": [
       "False"
      ]
     },
     "execution_count": 4,
     "metadata": {},
     "output_type": "execute_result"
    }
   ],
   "source": [
    "car=\"ferrari\"\n",
    "car==\"bmw\""
   ]
  },
  {
   "cell_type": "code",
   "execution_count": 5,
   "id": "58dad085",
   "metadata": {},
   "outputs": [
    {
     "data": {
      "text/plain": [
       "False"
      ]
     },
     "execution_count": 5,
     "metadata": {},
     "output_type": "execute_result"
    }
   ],
   "source": [
    "age = 10\n",
    "weight = 50\n",
    "\n",
    "age > weight"
   ]
  },
  {
   "cell_type": "code",
   "execution_count": 6,
   "id": "8eefcc52",
   "metadata": {},
   "outputs": [
    {
     "name": "stdout",
     "output_type": "stream",
     "text": [
      "The age is not greater then weight\n"
     ]
    }
   ],
   "source": [
    "if age > weight:\n",
    "    print(\"The age is greater then weight\")\n",
    "else:\n",
    "    print(\"The age is not greater then weight\")"
   ]
  },
  {
   "cell_type": "code",
   "execution_count": 7,
   "id": "a60aea21",
   "metadata": {},
   "outputs": [
    {
     "data": {
      "text/plain": [
       "True"
      ]
     },
     "execution_count": 7,
     "metadata": {},
     "output_type": "execute_result"
    }
   ],
   "source": [
    "age<weight and weight>age"
   ]
  },
  {
   "cell_type": "code",
   "execution_count": 8,
   "id": "ad449310",
   "metadata": {},
   "outputs": [
    {
     "data": {
      "text/plain": [
       "True"
      ]
     },
     "execution_count": 8,
     "metadata": {},
     "output_type": "execute_result"
    }
   ],
   "source": [
    "age<weight or weight>age"
   ]
  },
  {
   "cell_type": "code",
   "execution_count": 11,
   "id": "d80600b6",
   "metadata": {},
   "outputs": [
    {
     "data": {
      "text/plain": [
       "False"
      ]
     },
     "execution_count": 11,
     "metadata": {},
     "output_type": "execute_result"
    }
   ],
   "source": [
    "age<weight != weight>age"
   ]
  },
  {
   "cell_type": "markdown",
   "id": "7d6890d0",
   "metadata": {},
   "source": [
    "# 5-1. Conditional Tests: Write a series of conditional tests. Print a statement describing each test and your prediction for the results of each test. Your code should look something like this:     \n",
    "    \n"
   ]
  },
  {
   "cell_type": "markdown",
   "id": "219dd618",
   "metadata": {},
   "source": [
    "car = 'subaru'\n",
    "\n",
    "print(\"Is car == 'subaru'? I predict True.\")\n",
    "\n",
    "print(car == 'subaru')\n",
    "\n",
    "\n",
    "print(\"\\nIs car == 'audi'? I predict False.\")\n",
    "\n",
    "print(car == 'audi')\n",
    "\n",
    "• Look closely at your results, and make sure you understand why each line\n",
    "evaluates to True or False.\n",
    "\n",
    "• Create at least 10 tests. Have at least 5 tests evaluate to True and another\n",
    "5 tests evaluate to False."
   ]
  },
  {
   "cell_type": "markdown",
   "id": "3bdac4a3",
   "metadata": {},
   "source": [
    "# 5 Test Evaluates to True"
   ]
  },
  {
   "cell_type": "code",
   "execution_count": 13,
   "id": "b81f0b6f",
   "metadata": {},
   "outputs": [
    {
     "name": "stdout",
     "output_type": "stream",
     "text": [
      "is car == 'Honada'? I predict True\n",
      "True\n"
     ]
    }
   ],
   "source": [
    "car = \"Honda\"\n",
    "print(\"is car == 'Honada'? I predict True\")\n",
    "print(car==\"Honda\")"
   ]
  },
  {
   "cell_type": "code",
   "execution_count": 14,
   "id": "dd063e13",
   "metadata": {},
   "outputs": [
    {
     "name": "stdout",
     "output_type": "stream",
     "text": [
      "is cgpa== 2.8 ? I predict True\n",
      "True\n"
     ]
    }
   ],
   "source": [
    "cgpa = 2.8\n",
    "print(\"is cgpa== 2.8 ? I predict True\")\n",
    "print(cgpa==2.8)"
   ]
  },
  {
   "cell_type": "code",
   "execution_count": 16,
   "id": "6467febf",
   "metadata": {},
   "outputs": [
    {
     "name": "stdout",
     "output_type": "stream",
     "text": [
      "my favourite fruit is pizza ? I Predict True\n"
     ]
    },
    {
     "data": {
      "text/plain": [
       "True"
      ]
     },
     "execution_count": 16,
     "metadata": {},
     "output_type": "execute_result"
    }
   ],
   "source": [
    "food = \"Pizza\"\n",
    "print(\"my favourite fruit is pizza ? I Predict True\")\n",
    "\n",
    "food==\"Pizza\""
   ]
  },
  {
   "cell_type": "code",
   "execution_count": 17,
   "id": "00ad0ae1",
   "metadata": {},
   "outputs": [
    {
     "name": "stdout",
     "output_type": "stream",
     "text": [
      "Is My_Goal=='Data scientits'? I predict true\n",
      "True\n"
     ]
    }
   ],
   "source": [
    "My_Goal = \"Data Scientits\"\n",
    "print(\"Is My_Goal=='Data scientits'? I predict true\")\n",
    "\n",
    "print(My_Goal==\"Data Scientits\")"
   ]
  },
  {
   "cell_type": "code",
   "execution_count": 20,
   "id": "22a5e979",
   "metadata": {},
   "outputs": [
    {
     "name": "stdout",
     "output_type": "stream",
     "text": [
      "is My_Age=23 ? I predict true\n",
      "True\n"
     ]
    }
   ],
   "source": [
    "My_Age = 23\n",
    "print(\"is My_Age==23 ? I predict true\")\n",
    "print(My_Age==23)"
   ]
  },
  {
   "cell_type": "markdown",
   "id": "b4bd8fda",
   "metadata": {},
   "source": [
    "# 5 Test Evaluates to False"
   ]
  },
  {
   "cell_type": "code",
   "execution_count": 22,
   "id": "140be99f",
   "metadata": {},
   "outputs": [
    {
     "name": "stdout",
     "output_type": "stream",
     "text": [
      "is car == 'Honada'? I predict True\n",
      "True\n",
      "\n",
      "Is Car=='Audi'? I predict False\n",
      "False\n"
     ]
    }
   ],
   "source": [
    "car = \"Honda\"\n",
    "print(\"is car == 'Honada'? I predict True\")\n",
    "print(car==\"Honda\")\n",
    "\n",
    "print(\"\\nIs Car=='Audi'? I predict False\" )\n",
    "print(car==\"Audi\")"
   ]
  },
  {
   "cell_type": "code",
   "execution_count": 23,
   "id": "66ce4d78",
   "metadata": {},
   "outputs": [
    {
     "name": "stdout",
     "output_type": "stream",
     "text": [
      "is cgpa== 2.8 ? I predict True\n",
      "True\n",
      "\n",
      "is cgpa==2.7 ? I predict false\n",
      "False\n"
     ]
    }
   ],
   "source": [
    "cgpa = 2.8\n",
    "print(\"is cgpa== 2.8 ? I predict True\")\n",
    "print(cgpa==2.8)\n",
    "\n",
    "print(\"\\nis cgpa==2.7 ? I predict false\")\n",
    "print(cgpa==2.7)"
   ]
  },
  {
   "cell_type": "code",
   "execution_count": 24,
   "id": "1c9835a8",
   "metadata": {},
   "outputs": [
    {
     "name": "stdout",
     "output_type": "stream",
     "text": [
      "my favourite fruit is pizza ? I Predict True\n",
      "\n",
      "is food==Biryani ? I predict false\n",
      "False\n"
     ]
    }
   ],
   "source": [
    "food = \"Pizza\"\n",
    "print(\"my favourite fruit is pizza ? I Predict True\")\n",
    "food==\"Pizza\"\n",
    "\n",
    "print(\"\\nis food==Biryani ? I predict false\")\n",
    "print(cgpa==\"Biryani\")"
   ]
  },
  {
   "cell_type": "code",
   "execution_count": 25,
   "id": "0f3d5819",
   "metadata": {},
   "outputs": [
    {
     "name": "stdout",
     "output_type": "stream",
     "text": [
      "Is My_Goal=='Data scientits'? I predict true\n",
      "True\n",
      "\n",
      "Is My_Goal=='Data Engineer'? I predict Flase\n",
      "False\n"
     ]
    }
   ],
   "source": [
    "My_Goal = \"Data Scientits\"\n",
    "print(\"Is My_Goal=='Data scientits'? I predict true\")\n",
    "print(My_Goal==\"Data Scientits\")\n",
    "\n",
    "print(\"\\nIs My_Goal=='Data Engineer'? I predict Flase\")\n",
    "print(My_Goal==\"Data Engineer\")"
   ]
  },
  {
   "cell_type": "code",
   "execution_count": 26,
   "id": "8208c29b",
   "metadata": {},
   "outputs": [
    {
     "name": "stdout",
     "output_type": "stream",
     "text": [
      "is My_Age==23 ? I predict true\n",
      "True\n",
      "is My_Age==22 ? I predict False\n",
      "False\n"
     ]
    }
   ],
   "source": [
    "My_Age = 23\n",
    "print(\"is My_Age==23 ? I predict true\")\n",
    "print(My_Age==23)\n",
    "\n",
    "print(\"is My_Age==22 ? I predict False\")\n",
    "print(My_Age==22)"
   ]
  },
  {
   "cell_type": "markdown",
   "id": "39e39933",
   "metadata": {},
   "source": [
    "# 5-2. More Conditional Tests: You don’t have to limit the number of tests you create to 10. If you want to try more comparisons, write more tests and add them to conditional_tests.py. Have at least one True and one False result for each of the following:"
   ]
  },
  {
   "cell_type": "markdown",
   "id": "ea41eb08",
   "metadata": {},
   "source": [
    "• Tests for equality and inequality with strings\n",
    "\n",
    "• Tests using the lower() method\n",
    "\n",
    "• Numerical tests involving equality and inequality, greater than and less\n",
    "  than, greater than or equal to, and less than or equal to\n",
    "\n",
    "• Tests using the and keyword and the or keyword\n",
    "\n",
    "• Test whether an item is in a list\n",
    "\n",
    "• Test whether an item is not in a list"
   ]
  },
  {
   "cell_type": "code",
   "execution_count": 31,
   "id": "d0c7e00e",
   "metadata": {},
   "outputs": [
    {
     "name": "stdout",
     "output_type": "stream",
     "text": [
      "Equality True\n",
      "Inequality False\n"
     ]
    }
   ],
   "source": [
    "name = \"Farhan\"\n",
    "\n",
    "print(\"Equality\",name == \"Farhan\")\n",
    "print(\"Inequality\", name == 'farhan')"
   ]
  },
  {
   "cell_type": "code",
   "execution_count": 33,
   "id": "b22cbba0",
   "metadata": {},
   "outputs": [
    {
     "name": "stdout",
     "output_type": "stream",
     "text": [
      "Equality True\n",
      "Inequality False\n"
     ]
    }
   ],
   "source": [
    "Goal = \"data scientist\"\n",
    "\n",
    "print(\"Equality\", Goal.lower() == \"data scientist\" )\n",
    "print(\"Inequality\", Goal.lower() == \"Data Scientist\" )"
   ]
  },
  {
   "cell_type": "code",
   "execution_count": 52,
   "id": "01455ed4",
   "metadata": {},
   "outputs": [
    {
     "name": "stdout",
     "output_type": "stream",
     "text": [
      "1. Equality True\n",
      "1. Equality False \n",
      "\n",
      "2. Inequality False\n",
      "2. Inequality True \n",
      "\n",
      "3. Greater Than True\n",
      "3. Greater Than False \n",
      "\n",
      "4. Less Than True\n",
      "4. Less Than False \n",
      "\n",
      "5. Greater Than or Equal to True\n",
      "5. Greater Than or Equal to False \n",
      "\n",
      "6. less Than or Equal to True\n",
      "6. less Than or Equal to False\n"
     ]
    }
   ],
   "source": [
    "a = 10\n",
    "b = 20\n",
    "c = 10\n",
    "\n",
    "print(\"1. Equality\", a==c)\n",
    "print(\"1. Equality\", a!=c, \"\\n\")\n",
    "\n",
    "print(\"2. Inequality\", a!=c)\n",
    "print(\"2. Inequality\", a<=c, \"\\n\")\n",
    "\n",
    "print(\"3. Greater Than\", b>c)\n",
    "print(\"3. Greater Than\", b==c,\"\\n\")\n",
    "\n",
    "\n",
    "print(\"4. Less Than\", a<b)\n",
    "print(\"4. Less Than\", a>b, \"\\n\")\n",
    "\n",
    "print(\"5. Greater Than or Equal to\", b>=a)\n",
    "print(\"5. Greater Than or Equal to\", b<=a, \"\\n\")\n",
    "\n",
    "print(\"6. less Than or Equal to\", a<=b)\n",
    "print(\"6. less Than or Equal to\", a>b)\n",
    "\n",
    "\n"
   ]
  },
  {
   "cell_type": "markdown",
   "id": "3fea04f2",
   "metadata": {},
   "source": [
    "# Tests using the and keyword and the or keyword"
   ]
  },
  {
   "cell_type": "code",
   "execution_count": 58,
   "id": "adb42476",
   "metadata": {},
   "outputs": [
    {
     "name": "stdout",
     "output_type": "stream",
     "text": [
      "1. Test Using the AND keyword For  True\n",
      "2. Test Using the AND keyword For  False \n",
      "\n",
      "3. Test Using the OR keyword For  True\n",
      "4. Test Using the OR keyword For  False \n",
      "\n"
     ]
    }
   ],
   "source": [
    "a = 50\n",
    "b = 60\n",
    "\n",
    "print(\"1. Test Using the AND keyword For \",a<b and b>a)\n",
    "print(\"2. Test Using the AND keyword For \",a<b and a>b, \"\\n\")\n",
    "\n",
    "print(\"3. Test Using the OR keyword For \", a<b or b>a)\n",
    "print(\"4. Test Using the OR keyword For \", a>b or a>b, \"\\n\")"
   ]
  },
  {
   "cell_type": "code",
   "execution_count": 61,
   "id": "7eddd59c",
   "metadata": {},
   "outputs": [],
   "source": [
    "List = [\"python\", \"javascript\", \"typescript\"]"
   ]
  },
  {
   "cell_type": "code",
   "execution_count": 64,
   "id": "b85720f3",
   "metadata": {},
   "outputs": [
    {
     "name": "stdout",
     "output_type": "stream",
     "text": [
      "PYTHON is in list True\n"
     ]
    }
   ],
   "source": [
    "for item in List:\n",
    "    if item == \"python\":\n",
    "        print(\"PYTHON is in list\", item == \"python\")"
   ]
  },
  {
   "cell_type": "code",
   "execution_count": 74,
   "id": "c648e291",
   "metadata": {},
   "outputs": [
    {
     "name": "stdout",
     "output_type": "stream",
     "text": [
      "Audi is not in list\n"
     ]
    }
   ],
   "source": [
    "if \"Audi\" not in List:\n",
    "    print(\"Audi is not in list\")\n",
    "else:\n",
    "    print(\"it is in the list \")"
   ]
  },
  {
   "cell_type": "markdown",
   "id": "4478b815",
   "metadata": {},
   "source": [
    "# 5-3. Alien Colors #1: Imagine an alien was just shot down in a game. Create a variable called alien_color and assign it a value of 'green', 'yellow', or 'red'."
   ]
  },
  {
   "cell_type": "markdown",
   "id": "bbc80e44",
   "metadata": {},
   "source": [
    "• Write an if statement to test whether the alien’s color is green. If it is, print\n",
    "a message that the player just earned 5 points.\n",
    "\n",
    "• Write one version of this program that passes the if test and another that\n",
    "fails. (The version that fails will have no output.)\n"
   ]
  },
  {
   "cell_type": "code",
   "execution_count": 76,
   "id": "90e34a39",
   "metadata": {},
   "outputs": [
    {
     "name": "stdout",
     "output_type": "stream",
     "text": [
      "you just earned 5 points\n"
     ]
    }
   ],
   "source": [
    "alien_color = \"green\"\n",
    "if alien_color == \"green\":\n",
    "    print(\"you just earned 5 points\")"
   ]
  },
  {
   "cell_type": "code",
   "execution_count": 78,
   "id": "e518655c",
   "metadata": {},
   "outputs": [],
   "source": [
    "alien_color = \"blue\"\n",
    "if alien_color == \"green\":\n",
    "    print(\"you just earned 5 points\")\n",
    "else:\n",
    "    pass"
   ]
  },
  {
   "cell_type": "markdown",
   "id": "f08bde4d",
   "metadata": {},
   "source": [
    "# 5-4. Alien Colors #2: Choose a color for an alien as you did in Exercise 5-3, and write an if-else chain."
   ]
  },
  {
   "cell_type": "markdown",
   "id": "5659674b",
   "metadata": {},
   "source": [
    "• If the alien’s color is green, print a statement that the player just earned 5\n",
    "points for shooting the alien.\n",
    "\n",
    "• If the alien’s color isn’t green, print a statement that the player just earned\n",
    "10 points.\n",
    "\n",
    "• Write one version of this program that runs the if block and another that\n",
    "runs the else block."
   ]
  },
  {
   "cell_type": "code",
   "execution_count": 86,
   "id": "a2b7c48c",
   "metadata": {},
   "outputs": [
    {
     "name": "stdout",
     "output_type": "stream",
     "text": [
      "Enter the Alien Color!black\n",
      "you just earned 10 points\n"
     ]
    }
   ],
   "source": [
    "userInput = input(\"Enter the Alien Color!\")\n",
    "\n",
    "if userInput == \"green\":\n",
    "    print(\"you just earned 5 points\")\n",
    "    \n",
    "    \n",
    "else:\n",
    "    print(\"you just earned 10 points\")"
   ]
  },
  {
   "cell_type": "markdown",
   "id": "fb022f02",
   "metadata": {},
   "source": [
    "# 5-5. Alien Colors #3: Turn your if-else chain from Exercise 5-4 into an if-elifelse chain."
   ]
  },
  {
   "cell_type": "markdown",
   "id": "c6c33970",
   "metadata": {},
   "source": [
    "• If the alien is green, print a message that the player earned 5 points.\n",
    "\n",
    "• If the alien is yellow, print a message that the player earned 10 points.\n",
    "\n",
    "• If the alien is red, print a message that the player earned 15 points.\n",
    "\n",
    "• Write three versions of this program, making sure each message is printed\n",
    "for the appropriate color alien."
   ]
  },
  {
   "cell_type": "code",
   "execution_count": 89,
   "id": "48a348ec",
   "metadata": {},
   "outputs": [
    {
     "name": "stdout",
     "output_type": "stream",
     "text": [
      "Enter the Alien Color!red\n",
      "you just earned 15 points\n"
     ]
    }
   ],
   "source": [
    "userInput = input(\"Enter the Alien Color!\")\n",
    "\n",
    "if userInput == \"green\":\n",
    "    print(\"you just earned 5 points\")\n",
    "elif userInput == \"yellow\":\n",
    "    print(\"you just earned 10 points\")\n",
    "elif userInput == \"red\":\n",
    "    print(\"you just earned 15 points\")   \n"
   ]
  },
  {
   "cell_type": "markdown",
   "id": "3409eaf8",
   "metadata": {},
   "source": [
    "# 5-6. Stages of Life: Write an if-elif-else chain that determines a person’s stage of life. Set a value for the variable age, and then:"
   ]
  },
  {
   "cell_type": "markdown",
   "id": "49aeb8a7",
   "metadata": {},
   "source": [
    "• If the person is less than 2 years old, print a message that the person is\n",
    "a baby.\n",
    "\n",
    "• If the person is at least 2 years old but less than 4, print a message that the\n",
    "person is a toddler.\n",
    "\n",
    "• If the person is at least 4 years old but less than 13, print a message that\n",
    "the person is a kid.\n",
    "\n",
    "• If the person is at least 13 years old but less than 20, print a message that\n",
    "the person is a teenager.\n",
    "\n",
    "• If the person is at least 20 years old but less than 65, print a message that\n",
    "the person is an adult.\n",
    "\n",
    "• If the person is age 65 or older, print a message that the person is an elder."
   ]
  },
  {
   "cell_type": "code",
   "execution_count": 91,
   "id": "83edaab6",
   "metadata": {},
   "outputs": [
    {
     "name": "stdout",
     "output_type": "stream",
     "text": [
      "Enter youe age!2\n",
      "person is a toddler\n"
     ]
    }
   ],
   "source": [
    "age = int(input(\"Enter youe age!\"))\n",
    "\n",
    "if age < 2:\n",
    "    print(\"person is baby\")\n",
    "elif age >=2 and age < 4:\n",
    "    print(\"person is a toddler\")\n",
    "elif age >= 4 and age < 13:\n",
    "    print(\"person is kid\")\n",
    "elif age >=13 and age < 20:\n",
    "    print(\"person is a teenagers\")\n",
    "elif age>=20 and age<65:\n",
    "    print(\"person is an adult\")\n",
    "elif age>=65:\n",
    "    print(\"person is an elder\")"
   ]
  },
  {
   "cell_type": "markdown",
   "id": "bbebf216",
   "metadata": {},
   "source": [
    "# 5-7. Favorite Fruit: Make a list of your favorite fruits, and then write a series of independent if statements that check for certain fruits in your list."
   ]
  },
  {
   "cell_type": "markdown",
   "id": "e0dfd558",
   "metadata": {},
   "source": [
    "• Make a list of your three favorite fruits and call it favorite_fruits.\n",
    "\n",
    "• Write five if statements. Each should check whether a certain kind of fruit\n",
    "is in your list. If the fruit is in your list, the if block should print a statement,\n",
    "such as You really like bananas!"
   ]
  },
  {
   "cell_type": "code",
   "execution_count": 93,
   "id": "d1a7ae4c",
   "metadata": {},
   "outputs": [
    {
     "name": "stdout",
     "output_type": "stream",
     "text": [
      "i really like bananas\n",
      "i really like cherry\n",
      "i really like mango\n"
     ]
    }
   ],
   "source": [
    "favorite_fruits = [\"Banana\", \"cherry\",\"mango\"]\n",
    "\n",
    "if \"Banana\" in favorite_fruits:\n",
    "    print(\"i really like bananas\")\n",
    "    \n",
    "if \"cherry\" in favorite_fruits:\n",
    "    print(\"i really like cherry\")\n",
    "\n",
    "if \"mango\" in favorite_fruits:\n",
    "    print(\"i really like mango\")"
   ]
  },
  {
   "cell_type": "code",
   "execution_count": null,
   "id": "40f3d6c6",
   "metadata": {},
   "outputs": [],
   "source": []
  }
 ],
 "metadata": {
  "kernelspec": {
   "display_name": "Python 3 (ipykernel)",
   "language": "python",
   "name": "python3"
  },
  "language_info": {
   "codemirror_mode": {
    "name": "ipython",
    "version": 3
   },
   "file_extension": ".py",
   "mimetype": "text/x-python",
   "name": "python",
   "nbconvert_exporter": "python",
   "pygments_lexer": "ipython3",
   "version": "3.9.7"
  }
 },
 "nbformat": 4,
 "nbformat_minor": 5
}
