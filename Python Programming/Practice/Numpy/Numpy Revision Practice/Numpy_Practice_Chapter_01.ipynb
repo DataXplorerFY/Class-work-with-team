{
 "cells": [
  {
   "cell_type": "markdown",
   "id": "a575b05d",
   "metadata": {},
   "source": [
    "# Numpy Basics: Arrays & Vectorized Computation"
   ]
  },
  {
   "cell_type": "markdown",
   "id": "d8dd9c31",
   "metadata": {},
   "source": [
    "Numpy Introduction:\n",
    "\n",
    "1. Numpy stands for Numerical Python_ It is a powerful python library used for numerical computation\n",
    "\n",
    "2. NumPy arrays are mutable, meaning you can change their values after creation.\n",
    "\n",
    "3. Arrays object in Numpy called \"ndarray\", ndarray >> N-Dimensioanl Array\n",
    "\n",
    "4. It stores data in contegeous block of memory"
   ]
  },
  {
   "cell_type": "code",
   "execution_count": 2,
   "id": "5bf378eb",
   "metadata": {},
   "outputs": [],
   "source": [
    "import numpy as np"
   ]
  },
  {
   "cell_type": "code",
   "execution_count": 6,
   "id": "8e0936d4",
   "metadata": {},
   "outputs": [
    {
     "name": "stdout",
     "output_type": "stream",
     "text": [
      "1.26.4\n"
     ]
    }
   ],
   "source": [
    "print(np.__version__)"
   ]
  },
  {
   "cell_type": "code",
   "execution_count": 8,
   "id": "c4460d88",
   "metadata": {},
   "outputs": [
    {
     "name": "stdout",
     "output_type": "stream",
     "text": [
      "[1 2 3 4 5]\n"
     ]
    }
   ],
   "source": [
    "array_01 = np.array([1,2,3,4,5])\n",
    "\n",
    "print(array_01)"
   ]
  },
  {
   "cell_type": "markdown",
   "id": "bb5eb5e2",
   "metadata": {},
   "source": [
    "# Multidimensional Array_Objects"
   ]
  },
  {
   "cell_type": "code",
   "execution_count": 13,
   "id": "d78fcd48",
   "metadata": {},
   "outputs": [
    {
     "data": {
      "text/plain": [
       "array([[0., 0., 0., 0.],\n",
       "       [0., 0., 0., 0.],\n",
       "       [0., 0., 0., 0.],\n",
       "       [0., 0., 0., 0.]])"
      ]
     },
     "execution_count": 13,
     "metadata": {},
     "output_type": "execute_result"
    }
   ],
   "source": [
    "zero = np.zeros((4,4))\n",
    "zero"
   ]
  },
  {
   "cell_type": "code",
   "execution_count": 14,
   "id": "0b9d6c88",
   "metadata": {},
   "outputs": [
    {
     "data": {
      "text/plain": [
       "array([[1., 1., 1., 1., 1.],\n",
       "       [1., 1., 1., 1., 1.],\n",
       "       [1., 1., 1., 1., 1.],\n",
       "       [1., 1., 1., 1., 1.],\n",
       "       [1., 1., 1., 1., 1.]])"
      ]
     },
     "execution_count": 14,
     "metadata": {},
     "output_type": "execute_result"
    }
   ],
   "source": [
    "one = np.ones((5,5))\n",
    "one"
   ]
  },
  {
   "cell_type": "code",
   "execution_count": 15,
   "id": "cc545117",
   "metadata": {},
   "outputs": [
    {
     "name": "stdout",
     "output_type": "stream",
     "text": [
      "<class 'numpy.ndarray'>\n"
     ]
    }
   ],
   "source": [
    "print(type(one))"
   ]
  },
  {
   "cell_type": "code",
   "execution_count": 20,
   "id": "2d812742",
   "metadata": {},
   "outputs": [
    {
     "name": "stdout",
     "output_type": "stream",
     "text": [
      "float64\n"
     ]
    }
   ],
   "source": [
    "print(one.dtype)"
   ]
  },
  {
   "cell_type": "code",
   "execution_count": 23,
   "id": "a8a940a9",
   "metadata": {},
   "outputs": [
    {
     "data": {
      "text/plain": [
       "array([[0., 0., 0.],\n",
       "       [0., 0., 0.]])"
      ]
     },
     "execution_count": 23,
     "metadata": {},
     "output_type": "execute_result"
    }
   ],
   "source": [
    "empty = np.empty((2,3))\n",
    "empty"
   ]
  },
  {
   "cell_type": "markdown",
   "id": "076ab063",
   "metadata": {},
   "source": [
    "# Python List Convert Into Numpy Array"
   ]
  },
  {
   "cell_type": "code",
   "execution_count": 24,
   "id": "252c2afd",
   "metadata": {},
   "outputs": [],
   "source": [
    "python_list = [1,2,3,4,5,6]"
   ]
  },
  {
   "cell_type": "code",
   "execution_count": 26,
   "id": "7abe5ae5",
   "metadata": {},
   "outputs": [
    {
     "data": {
      "text/plain": [
       "list"
      ]
     },
     "execution_count": 26,
     "metadata": {},
     "output_type": "execute_result"
    }
   ],
   "source": [
    "type(python_list)"
   ]
  },
  {
   "cell_type": "code",
   "execution_count": 27,
   "id": "e0120b57",
   "metadata": {},
   "outputs": [
    {
     "name": "stdout",
     "output_type": "stream",
     "text": [
      "<class 'numpy.ndarray'>\n"
     ]
    }
   ],
   "source": [
    "numpy_array = np.array(python_list)\n",
    "\n",
    "print(type(numpy_array))"
   ]
  },
  {
   "cell_type": "code",
   "execution_count": 30,
   "id": "6a17e2f0",
   "metadata": {},
   "outputs": [
    {
     "data": {
      "text/plain": [
       "array([1, 2, 3, 4, 5, 6])"
      ]
     },
     "execution_count": 30,
     "metadata": {},
     "output_type": "execute_result"
    }
   ],
   "source": [
    "np.array(python_list)"
   ]
  },
  {
   "cell_type": "markdown",
   "id": "d0237cfa",
   "metadata": {},
   "source": [
    "# Arange Function Used to Create an Array just like Range function in python | It will create only 1-D Array "
   ]
  },
  {
   "cell_type": "code",
   "execution_count": 36,
   "id": "f2d43f47",
   "metadata": {},
   "outputs": [
    {
     "data": {
      "text/plain": [
       "array([ 1, 11, 21, 31, 41, 51, 61, 71, 81, 91])"
      ]
     },
     "execution_count": 36,
     "metadata": {},
     "output_type": "execute_result"
    }
   ],
   "source": [
    "array_02 = np.arange(1,100,10) #it creates an array from 1 to 100 with step size of 10\n",
    "\n",
    "array_02"
   ]
  },
  {
   "cell_type": "markdown",
   "id": "bfe1e583",
   "metadata": {},
   "source": [
    "# (.shape) Function is used to check the shape of an array e.g. 1-d, 2-d, 3-d, etc"
   ]
  },
  {
   "cell_type": "code",
   "execution_count": 38,
   "id": "4f912b79",
   "metadata": {},
   "outputs": [
    {
     "data": {
      "text/plain": [
       "(10,)"
      ]
     },
     "execution_count": 38,
     "metadata": {},
     "output_type": "execute_result"
    }
   ],
   "source": [
    "array_02.shape"
   ]
  },
  {
   "cell_type": "code",
   "execution_count": 39,
   "id": "63cfe80f",
   "metadata": {},
   "outputs": [
    {
     "data": {
      "text/plain": [
       "10"
      ]
     },
     "execution_count": 39,
     "metadata": {},
     "output_type": "execute_result"
    }
   ],
   "source": [
    "len(array_02)"
   ]
  },
  {
   "cell_type": "code",
   "execution_count": 40,
   "id": "08f817b8",
   "metadata": {},
   "outputs": [
    {
     "data": {
      "text/plain": [
       "10"
      ]
     },
     "execution_count": 40,
     "metadata": {},
     "output_type": "execute_result"
    }
   ],
   "source": [
    "array_02.size"
   ]
  },
  {
   "cell_type": "markdown",
   "id": "f5c9749b",
   "metadata": {},
   "source": [
    "# (.reshape) Function is used to reshape the array into rows and columns"
   ]
  },
  {
   "cell_type": "code",
   "execution_count": 41,
   "id": "171bd38a",
   "metadata": {},
   "outputs": [
    {
     "data": {
      "text/plain": [
       "array([[ 0,  1,  2,  3,  4],\n",
       "       [ 5,  6,  7,  8,  9],\n",
       "       [10, 11, 12, 13, 14],\n",
       "       [15, 16, 17, 18, 19]])"
      ]
     },
     "execution_count": 41,
     "metadata": {},
     "output_type": "execute_result"
    }
   ],
   "source": [
    "arr = np.arange(20).reshape(4,5) \n",
    "arr"
   ]
  },
  {
   "cell_type": "markdown",
   "id": "8c32d15f",
   "metadata": {},
   "source": [
    "# How to create 2-D Array?"
   ]
  },
  {
   "cell_type": "markdown",
   "id": "a057c9d7",
   "metadata": {},
   "source": [
    "1. We can create 2-D array bu using arange function it will creat 1-D array then we will use reshaps function that will convert 1-D to 2-D\n",
    "\n",
    "2. We can create 2-D array by using method that is >> np.array([[1,2,3,4,5],[6,7,8,9,10]])"
   ]
  },
  {
   "cell_type": "code",
   "execution_count": 42,
   "id": "d676e453",
   "metadata": {},
   "outputs": [
    {
     "data": {
      "text/plain": [
       "array([[1, 2, 3, 4],\n",
       "       [5, 6, 7, 8]])"
      ]
     },
     "execution_count": 42,
     "metadata": {},
     "output_type": "execute_result"
    }
   ],
   "source": [
    "_2D_Array = np.array([[1,2,3,4],[5,6,7,8]])\n",
    "\n",
    "_2D_Array"
   ]
  },
  {
   "cell_type": "markdown",
   "id": "1061cfbd",
   "metadata": {},
   "source": [
    "# From 1-d to 2-d array"
   ]
  },
  {
   "cell_type": "code",
   "execution_count": 43,
   "id": "9786b59e",
   "metadata": {},
   "outputs": [],
   "source": [
    "_1D_Array = np.arange(10)"
   ]
  },
  {
   "cell_type": "code",
   "execution_count": 44,
   "id": "d6f4515f",
   "metadata": {},
   "outputs": [
    {
     "data": {
      "text/plain": [
       "array([[0, 1],\n",
       "       [2, 3],\n",
       "       [4, 5],\n",
       "       [6, 7],\n",
       "       [8, 9]])"
      ]
     },
     "execution_count": 44,
     "metadata": {},
     "output_type": "execute_result"
    }
   ],
   "source": [
    "_1D_Array.reshape(5,2)"
   ]
  },
  {
   "cell_type": "markdown",
   "id": "a22893dd",
   "metadata": {},
   "source": [
    "# For checking the Data Types and Dimensions of Arrays "
   ]
  },
  {
   "cell_type": "markdown",
   "id": "04f6fdb9",
   "metadata": {},
   "source": [
    "1.   (.dtype) For checking the Data Type\n",
    "\n",
    "2.   (.ndim) For checking the Dimensions of Array"
   ]
  },
  {
   "cell_type": "code",
   "execution_count": 45,
   "id": "bcfb63ea",
   "metadata": {},
   "outputs": [
    {
     "data": {
      "text/plain": [
       "dtype('int32')"
      ]
     },
     "execution_count": 45,
     "metadata": {},
     "output_type": "execute_result"
    }
   ],
   "source": [
    "_1D_Array.dtype"
   ]
  },
  {
   "cell_type": "code",
   "execution_count": 46,
   "id": "b6d24812",
   "metadata": {},
   "outputs": [
    {
     "data": {
      "text/plain": [
       "1"
      ]
     },
     "execution_count": 46,
     "metadata": {},
     "output_type": "execute_result"
    }
   ],
   "source": [
    "_1D_Array.ndim"
   ]
  },
  {
   "cell_type": "markdown",
   "id": "37a7c0d0",
   "metadata": {},
   "source": [
    "# 0-D Array"
   ]
  },
  {
   "cell_type": "code",
   "execution_count": 48,
   "id": "ad215e90",
   "metadata": {},
   "outputs": [
    {
     "data": {
      "text/plain": [
       "array(45)"
      ]
     },
     "execution_count": 48,
     "metadata": {},
     "output_type": "execute_result"
    }
   ],
   "source": [
    "np.array(45)"
   ]
  },
  {
   "cell_type": "markdown",
   "id": "c5fa5c5a",
   "metadata": {},
   "source": [
    "# 1-D Array"
   ]
  },
  {
   "cell_type": "code",
   "execution_count": 49,
   "id": "2297de20",
   "metadata": {},
   "outputs": [
    {
     "data": {
      "text/plain": [
       "array([0, 1, 2, 3, 4, 5, 6, 7, 8, 9])"
      ]
     },
     "execution_count": 49,
     "metadata": {},
     "output_type": "execute_result"
    }
   ],
   "source": [
    "np.arange(10)"
   ]
  },
  {
   "cell_type": "markdown",
   "id": "c1fb8674",
   "metadata": {},
   "source": [
    "# 2-D Array"
   ]
  },
  {
   "cell_type": "code",
   "execution_count": 51,
   "id": "2a6f7510",
   "metadata": {},
   "outputs": [
    {
     "data": {
      "text/plain": [
       "array([[ 0,  1,  2,  3],\n",
       "       [ 4,  5,  6,  7],\n",
       "       [ 8,  9, 10, 11],\n",
       "       [12, 13, 14, 15],\n",
       "       [16, 17, 18, 19]])"
      ]
     },
     "execution_count": 51,
     "metadata": {},
     "output_type": "execute_result"
    }
   ],
   "source": [
    "np.arange(20).reshape(5,4)"
   ]
  },
  {
   "cell_type": "markdown",
   "id": "30607fb1",
   "metadata": {},
   "source": [
    "# 3-D Array"
   ]
  },
  {
   "cell_type": "code",
   "execution_count": 52,
   "id": "d4ac2014",
   "metadata": {},
   "outputs": [
    {
     "data": {
      "text/plain": [
       "array([[[1, 2, 3],\n",
       "        [4, 5, 6],\n",
       "        [7, 8, 9]]])"
      ]
     },
     "execution_count": 52,
     "metadata": {},
     "output_type": "execute_result"
    }
   ],
   "source": [
    "np.array([[[1,2,3],[4,5,6],[7,8,9]]])"
   ]
  },
  {
   "cell_type": "markdown",
   "id": "92f5993b",
   "metadata": {},
   "source": [
    "# We Have Learned 1-D array to 2-D array, Know we will learn how to convert 2-D array to 1-D array"
   ]
  },
  {
   "cell_type": "markdown",
   "id": "612f146d",
   "metadata": {},
   "source": [
    "we have 3 functions that we can used to convert the 2-D array to 1-D array \n",
    "\n",
    "1. ( .reshape() )\n",
    "\n",
    "2. ( .flatten() )\n",
    "\n",
    "3. ( .ravel() )"
   ]
  },
  {
   "cell_type": "code",
   "execution_count": 54,
   "id": "903e39b2",
   "metadata": {},
   "outputs": [
    {
     "data": {
      "text/plain": [
       "array([[1, 2, 3],\n",
       "       [4, 5, 6]])"
      ]
     },
     "execution_count": 54,
     "metadata": {},
     "output_type": "execute_result"
    }
   ],
   "source": [
    "# First we create the 2-Dimensioanl Array\n",
    "\n",
    "array2d =np.array([[1,2,3],[4,5,6]])\n",
    "array2d"
   ]
  },
  {
   "cell_type": "markdown",
   "id": "97e782e7",
   "metadata": {},
   "source": [
    "# By using .reshape() function"
   ]
  },
  {
   "cell_type": "code",
   "execution_count": 65,
   "id": "7ec0ea56",
   "metadata": {},
   "outputs": [
    {
     "data": {
      "text/plain": [
       "array([1, 2, 3, 4, 5, 6])"
      ]
     },
     "execution_count": 65,
     "metadata": {},
     "output_type": "execute_result"
    }
   ],
   "source": [
    "array2d.reshape(-1)\n",
    "\n",
    "# The -1 argument in the reshape() function indicates that NumPy should automatically calculate the size \n",
    "# of the remaining dimension based on the total number of elements in the array, ensuring that the resulting array is 1D."
   ]
  },
  {
   "cell_type": "markdown",
   "id": "a9bb621a",
   "metadata": {},
   "source": [
    "#  By using .flatten() function"
   ]
  },
  {
   "cell_type": "code",
   "execution_count": 66,
   "id": "8a444b04",
   "metadata": {},
   "outputs": [],
   "source": [
    "a = np.array([[11,12,13],[14,15,16]])"
   ]
  },
  {
   "cell_type": "code",
   "execution_count": 67,
   "id": "4e4b433b",
   "metadata": {},
   "outputs": [
    {
     "data": {
      "text/plain": [
       "array([[11, 12, 13],\n",
       "       [14, 15, 16]])"
      ]
     },
     "execution_count": 67,
     "metadata": {},
     "output_type": "execute_result"
    }
   ],
   "source": [
    "a"
   ]
  },
  {
   "cell_type": "code",
   "execution_count": 70,
   "id": "51582d00",
   "metadata": {},
   "outputs": [
    {
     "data": {
      "text/plain": [
       "array([11, 12, 13, 14, 15, 16])"
      ]
     },
     "execution_count": 70,
     "metadata": {},
     "output_type": "execute_result"
    }
   ],
   "source": [
    "a.flatten()  #It will return the coppy of array by converting it into 1-d array"
   ]
  },
  {
   "cell_type": "code",
   "execution_count": 71,
   "id": "cd5de2be",
   "metadata": {},
   "outputs": [
    {
     "data": {
      "text/plain": [
       "array([[11, 12, 13],\n",
       "       [14, 15, 16]])"
      ]
     },
     "execution_count": 71,
     "metadata": {},
     "output_type": "execute_result"
    }
   ],
   "source": [
    "a"
   ]
  },
  {
   "cell_type": "markdown",
   "id": "58015175",
   "metadata": {},
   "source": [
    "# By Using the .ravel() function"
   ]
  },
  {
   "cell_type": "code",
   "execution_count": 72,
   "id": "f288acda",
   "metadata": {},
   "outputs": [],
   "source": [
    "b = np.array([[111,112,113],[114,115,116]])"
   ]
  },
  {
   "cell_type": "code",
   "execution_count": 73,
   "id": "689e916c",
   "metadata": {},
   "outputs": [
    {
     "data": {
      "text/plain": [
       "array([[111, 112, 113],\n",
       "       [114, 115, 116]])"
      ]
     },
     "execution_count": 73,
     "metadata": {},
     "output_type": "execute_result"
    }
   ],
   "source": [
    "b"
   ]
  },
  {
   "cell_type": "code",
   "execution_count": 75,
   "id": "de036d61",
   "metadata": {},
   "outputs": [
    {
     "data": {
      "text/plain": [
       "array([111, 112, 113, 114, 115, 116])"
      ]
     },
     "execution_count": 75,
     "metadata": {},
     "output_type": "execute_result"
    }
   ],
   "source": [
    "b.ravel()"
   ]
  },
  {
   "cell_type": "markdown",
   "id": "a9304266",
   "metadata": {},
   "source": [
    "# Arithmatic operations with NDARRAY"
   ]
  },
  {
   "cell_type": "markdown",
   "id": "c80f808f",
   "metadata": {},
   "source": [
    "1. np.random.randn(): This function is part of the NumPy library's random module, which provides various methods for generating random numbers.\n",
    "2. (10): This argument specifies the shape of the output array. In this case, it's a tuple with only one element, 10, indicating that we want an array with 10 elements.\n",
    "\n",
    "So, np.random.randn(10) generates an array with 10 random numbers sampled from a standard normal distribution. Each number in the array is drawn independently from the standard normal distribution, meaning each number has a mean of 0 and a standard deviation of 1."
   ]
  },
  {
   "cell_type": "code",
   "execution_count": 76,
   "id": "4ebdde36",
   "metadata": {},
   "outputs": [],
   "source": [
    "A = np.random.randn((10))"
   ]
  },
  {
   "cell_type": "code",
   "execution_count": 77,
   "id": "ab66368d",
   "metadata": {},
   "outputs": [],
   "source": [
    "B = np.random.randn((10))"
   ]
  },
  {
   "cell_type": "code",
   "execution_count": 79,
   "id": "e2718207",
   "metadata": {},
   "outputs": [
    {
     "data": {
      "text/plain": [
       "array([-0.52059527, -0.47002936, -0.07752566,  2.04321212,  0.04752197,\n",
       "       -1.29359976, -1.41691197,  2.36207642,  1.54955422,  1.11061749])"
      ]
     },
     "execution_count": 79,
     "metadata": {},
     "output_type": "execute_result"
    }
   ],
   "source": [
    "A"
   ]
  },
  {
   "cell_type": "code",
   "execution_count": 80,
   "id": "a3bd789c",
   "metadata": {},
   "outputs": [
    {
     "data": {
      "text/plain": [
       "array([-0.2786708 , -1.88384191, -0.21697278,  0.64826278,  0.86815162,\n",
       "        0.79788987,  1.23012421,  1.52848123, -0.91182764, -0.69800007])"
      ]
     },
     "execution_count": 80,
     "metadata": {},
     "output_type": "execute_result"
    }
   ],
   "source": [
    "B"
   ]
  },
  {
   "cell_type": "code",
   "execution_count": 81,
   "id": "8f16ed86",
   "metadata": {},
   "outputs": [
    {
     "data": {
      "text/plain": [
       "array([-0.79926607, -2.35387127, -0.29449844,  2.69147491,  0.91567359,\n",
       "       -0.49570989, -0.18678776,  3.89055765,  0.63772658,  0.41261742])"
      ]
     },
     "execution_count": 81,
     "metadata": {},
     "output_type": "execute_result"
    }
   ],
   "source": [
    "A+B"
   ]
  },
  {
   "cell_type": "code",
   "execution_count": 82,
   "id": "afa432d3",
   "metadata": {},
   "outputs": [
    {
     "data": {
      "text/plain": [
       "array([-0.24192447,  1.41381255,  0.13944711,  1.39494934, -0.82062965,\n",
       "       -2.09148963, -2.64703618,  0.8335952 ,  2.46138186,  1.80861757])"
      ]
     },
     "execution_count": 82,
     "metadata": {},
     "output_type": "execute_result"
    }
   ],
   "source": [
    "A-B"
   ]
  },
  {
   "cell_type": "code",
   "execution_count": 83,
   "id": "014063b9",
   "metadata": {},
   "outputs": [],
   "source": [
    "C = np.array([[1,2,3],[4,5,6]])\n",
    "\n",
    "D = np.array([[1,2,3],[4,5,6]])"
   ]
  },
  {
   "cell_type": "code",
   "execution_count": 84,
   "id": "e526501e",
   "metadata": {},
   "outputs": [
    {
     "data": {
      "text/plain": [
       "array([[1, 2, 3],\n",
       "       [4, 5, 6]])"
      ]
     },
     "execution_count": 84,
     "metadata": {},
     "output_type": "execute_result"
    }
   ],
   "source": [
    "C"
   ]
  },
  {
   "cell_type": "code",
   "execution_count": 85,
   "id": "a0245ab4",
   "metadata": {},
   "outputs": [
    {
     "data": {
      "text/plain": [
       "array([[1, 2, 3],\n",
       "       [4, 5, 6]])"
      ]
     },
     "execution_count": 85,
     "metadata": {},
     "output_type": "execute_result"
    }
   ],
   "source": [
    "D"
   ]
  },
  {
   "cell_type": "code",
   "execution_count": 86,
   "id": "3374a9b6",
   "metadata": {},
   "outputs": [
    {
     "data": {
      "text/plain": [
       "array([[ 2,  4,  6],\n",
       "       [ 8, 10, 12]])"
      ]
     },
     "execution_count": 86,
     "metadata": {},
     "output_type": "execute_result"
    }
   ],
   "source": [
    "C+D"
   ]
  },
  {
   "cell_type": "code",
   "execution_count": 87,
   "id": "1907a932",
   "metadata": {},
   "outputs": [
    {
     "data": {
      "text/plain": [
       "array([[0, 0, 0],\n",
       "       [0, 0, 0]])"
      ]
     },
     "execution_count": 87,
     "metadata": {},
     "output_type": "execute_result"
    }
   ],
   "source": [
    "C-D"
   ]
  },
  {
   "cell_type": "code",
   "execution_count": 88,
   "id": "ff6b402b",
   "metadata": {},
   "outputs": [
    {
     "data": {
      "text/plain": [
       "array([[False, False, False],\n",
       "       [False, False, False]])"
      ]
     },
     "execution_count": 88,
     "metadata": {},
     "output_type": "execute_result"
    }
   ],
   "source": [
    "C>D"
   ]
  },
  {
   "cell_type": "markdown",
   "id": "7329f370",
   "metadata": {},
   "source": [
    "# Indexing & Slicing"
   ]
  },
  {
   "cell_type": "code",
   "execution_count": 1,
   "id": "32c330d9",
   "metadata": {},
   "outputs": [],
   "source": [
    "import numpy as np"
   ]
  },
  {
   "cell_type": "code",
   "execution_count": 2,
   "id": "03e91bb8",
   "metadata": {},
   "outputs": [],
   "source": [
    "arr1 = np.array([1,2,3,4,5])"
   ]
  },
  {
   "cell_type": "code",
   "execution_count": 3,
   "id": "df26623e",
   "metadata": {},
   "outputs": [
    {
     "data": {
      "text/plain": [
       "3"
      ]
     },
     "execution_count": 3,
     "metadata": {},
     "output_type": "execute_result"
    }
   ],
   "source": [
    "arr1[2]"
   ]
  },
  {
   "cell_type": "code",
   "execution_count": 4,
   "id": "eacc3473",
   "metadata": {},
   "outputs": [
    {
     "data": {
      "text/plain": [
       "4"
      ]
     },
     "execution_count": 4,
     "metadata": {},
     "output_type": "execute_result"
    }
   ],
   "source": [
    "arr1[3]"
   ]
  },
  {
   "cell_type": "code",
   "execution_count": 18,
   "id": "53998bf8",
   "metadata": {},
   "outputs": [],
   "source": [
    "arr2d = np.arange(30).reshape(6,5)"
   ]
  },
  {
   "cell_type": "code",
   "execution_count": 19,
   "id": "0329868d",
   "metadata": {},
   "outputs": [
    {
     "data": {
      "text/plain": [
       "array([[ 0,  1,  2,  3,  4],\n",
       "       [ 5,  6,  7,  8,  9],\n",
       "       [10, 11, 12, 13, 14],\n",
       "       [15, 16, 17, 18, 19],\n",
       "       [20, 21, 22, 23, 24],\n",
       "       [25, 26, 27, 28, 29]])"
      ]
     },
     "execution_count": 19,
     "metadata": {},
     "output_type": "execute_result"
    }
   ],
   "source": [
    "arr2d"
   ]
  },
  {
   "cell_type": "code",
   "execution_count": 20,
   "id": "cd28ef91",
   "metadata": {},
   "outputs": [
    {
     "data": {
      "text/plain": [
       "array([0, 1, 2, 3, 4])"
      ]
     },
     "execution_count": 20,
     "metadata": {},
     "output_type": "execute_result"
    }
   ],
   "source": [
    "arr2d[0]"
   ]
  },
  {
   "cell_type": "code",
   "execution_count": 21,
   "id": "def2ae57",
   "metadata": {},
   "outputs": [
    {
     "data": {
      "text/plain": [
       "array([5, 6, 7, 8, 9])"
      ]
     },
     "execution_count": 21,
     "metadata": {},
     "output_type": "execute_result"
    }
   ],
   "source": [
    "arr2d[1]"
   ]
  },
  {
   "cell_type": "code",
   "execution_count": 22,
   "id": "221c4254",
   "metadata": {},
   "outputs": [
    {
     "data": {
      "text/plain": [
       "8"
      ]
     },
     "execution_count": 22,
     "metadata": {},
     "output_type": "execute_result"
    }
   ],
   "source": [
    "arr2d[1][3]"
   ]
  },
  {
   "cell_type": "code",
   "execution_count": 23,
   "id": "66f659e3",
   "metadata": {},
   "outputs": [
    {
     "data": {
      "text/plain": [
       "array([ 6,  7,  8,  9, 10, 11, 12, 13, 14, 15, 16, 17, 18, 19, 20, 21, 22,\n",
       "       23, 24, 25, 26, 27, 28, 29])"
      ]
     },
     "execution_count": 23,
     "metadata": {},
     "output_type": "execute_result"
    }
   ],
   "source": [
    "arr2d[arr2d>5] ##Boolean indexing"
   ]
  },
  {
   "cell_type": "code",
   "execution_count": 24,
   "id": "3786220b",
   "metadata": {},
   "outputs": [
    {
     "data": {
      "text/plain": [
       "array([[ 0,  1,  2,  3,  4],\n",
       "       [ 5,  6,  7,  8,  9],\n",
       "       [10, 11, 12, 13, 14],\n",
       "       [15, 16, 17, 18, 19],\n",
       "       [20, 21, 22, 23, 24],\n",
       "       [25, 26, 27, 28, 29]])"
      ]
     },
     "execution_count": 24,
     "metadata": {},
     "output_type": "execute_result"
    }
   ],
   "source": [
    "arr2d"
   ]
  },
  {
   "cell_type": "markdown",
   "id": "3f94707c",
   "metadata": {},
   "source": [
    "# Fancy Indexing\n"
   ]
  },
  {
   "cell_type": "markdown",
   "id": "2a9587ed",
   "metadata": {},
   "source": [
    "if we want to specific rows more then 1 from 2d array, then we will use fancy indexing like below"
   ]
  },
  {
   "cell_type": "code",
   "execution_count": 26,
   "id": "a0a6ae63",
   "metadata": {},
   "outputs": [
    {
     "data": {
      "text/plain": [
       "array([[ 0,  1,  2,  3,  4],\n",
       "       [10, 11, 12, 13, 14],\n",
       "       [20, 21, 22, 23, 24]])"
      ]
     },
     "execution_count": 26,
     "metadata": {},
     "output_type": "execute_result"
    }
   ],
   "source": [
    "arr2d[[0,2,4]]"
   ]
  },
  {
   "cell_type": "markdown",
   "id": "a9fbcb2a",
   "metadata": {},
   "source": [
    "# Element-Wise Function"
   ]
  },
  {
   "cell_type": "code",
   "execution_count": 14,
   "id": "178c98d9",
   "metadata": {},
   "outputs": [],
   "source": [
    "import numpy as np"
   ]
  },
  {
   "cell_type": "code",
   "execution_count": 20,
   "id": "834d499f",
   "metadata": {},
   "outputs": [],
   "source": [
    "x = np.array([101,911,8,6,11])"
   ]
  },
  {
   "cell_type": "code",
   "execution_count": 21,
   "id": "d8aa33f5",
   "metadata": {},
   "outputs": [
    {
     "name": "stdout",
     "output_type": "stream",
     "text": [
      "[10.04987562 30.18277655  2.82842712  2.44948974  3.31662479]\n"
     ]
    }
   ],
   "source": [
    "print(np.sqrt(x)) #Each element in the array result is the square root of the corresponding element in the array x."
   ]
  },
  {
   "cell_type": "code",
   "execution_count": 22,
   "id": "2860a6a3",
   "metadata": {},
   "outputs": [
    {
     "name": "stdout",
     "output_type": "stream",
     "text": [
      "[ 10201 829921     64     36    121]\n"
     ]
    }
   ],
   "source": [
    "print(np.power(x,2))"
   ]
  },
  {
   "cell_type": "code",
   "execution_count": 23,
   "id": "4c232bee",
   "metadata": {},
   "outputs": [],
   "source": [
    "y = np.array([110,91,81,61,11])"
   ]
  },
  {
   "cell_type": "code",
   "execution_count": 24,
   "id": "4233ccee",
   "metadata": {},
   "outputs": [
    {
     "data": {
      "text/plain": [
       "array([110, 911,  81,  61,  11])"
      ]
     },
     "execution_count": 24,
     "metadata": {},
     "output_type": "execute_result"
    }
   ],
   "source": [
    "np.maximum(x,y) #Each element in the resulting array is the maximum of the corresponding elements in x and y."
   ]
  },
  {
   "cell_type": "markdown",
   "id": "7bbc7160",
   "metadata": {},
   "source": [
    "# NP-Where function \n"
   ]
  },
  {
   "cell_type": "markdown",
   "id": "4560182f",
   "metadata": {},
   "source": [
    "The first argument (arr > 2) is the condition. It checks each element of the array arr to see if it's greater than 2.\n",
    "\n",
    "The second argument (10) is the value that will replace the elements where the condition is True. So, if an element is greater than 2, it will be replaced by 10.\n",
    "\n",
    "The third argument (arr) is the value that will replace the elements where the condition is False. So, if an element is not greater than 2, it remains unchanged."
   ]
  },
  {
   "cell_type": "code",
   "execution_count": 32,
   "id": "4d0e572e",
   "metadata": {},
   "outputs": [
    {
     "name": "stdout",
     "output_type": "stream",
     "text": [
      "[10000 20000 35000 35000]\n"
     ]
    }
   ],
   "source": [
    "salary = np.array([10000, 20000, 30000,40000])\n",
    "\n",
    "\n",
    "results = np.where(salary>20000, 35000,salary)\n",
    "\n",
    "print(results)"
   ]
  },
  {
   "cell_type": "markdown",
   "id": "236d73a5",
   "metadata": {},
   "source": [
    "# Mathematical & Statistical Method"
   ]
  },
  {
   "cell_type": "markdown",
   "id": "75522977",
   "metadata": {},
   "source": [
    "Mean Function "
   ]
  },
  {
   "cell_type": "code",
   "execution_count": 33,
   "id": "4fc74a91",
   "metadata": {},
   "outputs": [
    {
     "name": "stdout",
     "output_type": "stream",
     "text": [
      "3.5\n"
     ]
    }
   ],
   "source": [
    "a = np.array([1,2,3,4,5,6])\n",
    "\n",
    "print(a.mean())"
   ]
  },
  {
   "cell_type": "markdown",
   "id": "6e3aab25",
   "metadata": {},
   "source": [
    "cumsum() function >> cumulative sum of array elements\n",
    "\n",
    "The first element in the cumulative sum array is the same as the first element in the original array (1).\n",
    "\n",
    "The second element in the cumulative sum array is the sum of the first two elements in the original array (1 + 2 = 3).\n",
    "\n",
    "The third element in the cumulative sum array is the sum of the first three elements in the original array (1 + 2 + 3 = 6)."
   ]
  },
  {
   "cell_type": "code",
   "execution_count": 34,
   "id": "6d59461b",
   "metadata": {},
   "outputs": [
    {
     "name": "stdout",
     "output_type": "stream",
     "text": [
      "[ 1  3  6 10 15 21]\n"
     ]
    }
   ],
   "source": [
    "print(a.cumsum())"
   ]
  },
  {
   "cell_type": "markdown",
   "id": "d6b7302f",
   "metadata": {},
   "source": [
    "cumprod() >> cumulative product of array element"
   ]
  },
  {
   "cell_type": "code",
   "execution_count": 35,
   "id": "8048dde7",
   "metadata": {},
   "outputs": [
    {
     "name": "stdout",
     "output_type": "stream",
     "text": [
      "[  1   2   6  24 120 720]\n"
     ]
    }
   ],
   "source": [
    "print(a.cumprod())"
   ]
  },
  {
   "cell_type": "code",
   "execution_count": 38,
   "id": "5280f4b5",
   "metadata": {},
   "outputs": [
    {
     "name": "stdout",
     "output_type": "stream",
     "text": [
      "[ 1  2  3  4  5 45]\n"
     ]
    }
   ],
   "source": [
    "b = np.array([1,1,2,3,4,45,5])  #if the array has some same values multiple time like this [1,1,2,3,3], it will only once\n",
    "\n",
    "print(np.unique(b))"
   ]
  },
  {
   "cell_type": "markdown",
   "id": "8e03139a",
   "metadata": {},
   "source": [
    "# File Input/Output"
   ]
  },
  {
   "cell_type": "code",
   "execution_count": 39,
   "id": "8817ff3b",
   "metadata": {},
   "outputs": [],
   "source": [
    "X = [1,4,5,7]\n",
    "Y = [8,9,10]\n",
    "\n",
    "np.save('textx',X)  #It will save the text file in the same directory"
   ]
  },
  {
   "cell_type": "markdown",
   "id": "540e3e3a",
   "metadata": {},
   "source": [
    "# Numpy Linear Algebra Functions"
   ]
  },
  {
   "cell_type": "code",
   "execution_count": 1,
   "id": "357da48f",
   "metadata": {},
   "outputs": [],
   "source": [
    "import numpy as np"
   ]
  },
  {
   "cell_type": "code",
   "execution_count": 10,
   "id": "3e5c970d",
   "metadata": {},
   "outputs": [
    {
     "data": {
      "text/plain": [
       "array([[ 0.43005601,  0.15783621,  0.43261693],\n",
       "       [-1.49221304,  0.47150238, -1.22919505],\n",
       "       [-0.55016876,  0.31494861, -0.41554923]])"
      ]
     },
     "execution_count": 10,
     "metadata": {},
     "output_type": "execute_result"
    }
   ],
   "source": [
    "x = np.random.randn(3,2)\n",
    "\n",
    "y = np.random.randn(2,3)\n",
    "x.dot(y)"
   ]
  },
  {
   "cell_type": "code",
   "execution_count": 11,
   "id": "ca0c0aa7",
   "metadata": {},
   "outputs": [
    {
     "data": {
      "text/plain": [
       "array([[ 0.34885394,  0.25173951],\n",
       "       [-1.23310142,  1.00608889],\n",
       "       [-0.45777129,  0.63117596]])"
      ]
     },
     "execution_count": 11,
     "metadata": {},
     "output_type": "execute_result"
    }
   ],
   "source": [
    "x"
   ]
  },
  {
   "cell_type": "code",
   "execution_count": 12,
   "id": "657a7727",
   "metadata": {},
   "outputs": [
    {
     "data": {
      "text/plain": [
       "array([[ 0.34885394, -1.23310142, -0.45777129],\n",
       "       [ 0.25173951,  1.00608889,  0.63117596]])"
      ]
     },
     "execution_count": 12,
     "metadata": {},
     "output_type": "execute_result"
    }
   ],
   "source": [
    "x.transpose()"
   ]
  },
  {
   "cell_type": "code",
   "execution_count": 13,
   "id": "5f21ed6a",
   "metadata": {},
   "outputs": [
    {
     "data": {
      "text/plain": [
       "1.3549428357941"
      ]
     },
     "execution_count": 13,
     "metadata": {},
     "output_type": "execute_result"
    }
   ],
   "source": [
    "x.trace() # \n",
    "The x.trace() #method in NumPy computes the sum along the diagonal of the array x."
   ]
  },
  {
   "cell_type": "markdown",
   "id": "d02d6317",
   "metadata": {},
   "source": [
    "# Pseudo Random Number Generator (PRNG):"
   ]
  },
  {
   "cell_type": "markdown",
   "id": "5aa51e8b",
   "metadata": {},
   "source": [
    "A pseudo-random number generator is a computer program or algorithm that produces numbers that appear random, but are actually generated by a deterministic process. In simpler terms, it's a tool used by computers to create sequences of numbers that seem random, but are actually generated using a specific formula. These numbers are not truly random because they are generated by an algorithm, but they're unpredictable enough for most practical purposes."
   ]
  },
  {
   "cell_type": "markdown",
   "id": "0bc4f12a",
   "metadata": {},
   "source": [
    "# np.random.normal()"
   ]
  },
  {
   "cell_type": "markdown",
   "id": "753185e9",
   "metadata": {},
   "source": [
    "This function generates random numbers from a normal distribution (Gaussian distribution). It takes parameters for mean, standard deviation, and the size of the output array. Here's an example:"
   ]
  },
  {
   "cell_type": "code",
   "execution_count": 15,
   "id": "4b5f0f13",
   "metadata": {},
   "outputs": [
    {
     "name": "stdout",
     "output_type": "stream",
     "text": [
      "[-1.43049641  0.49057668  1.60545916  3.27691065  1.25977911  1.70909789\n",
      "  0.54274473  1.79948813  2.36820573  0.27155687]\n"
     ]
    }
   ],
   "source": [
    "import numpy as np\n",
    "\n",
    "# Generate 10 random numbers from a normal distribution with mean 0 and standard deviation 1\n",
    "random_numbers = np.random.normal(1, 2, 10)\n",
    "\n",
    "print(random_numbers)"
   ]
  },
  {
   "cell_type": "markdown",
   "id": "ac18e97f",
   "metadata": {},
   "source": [
    "# np.random.seed()"
   ]
  },
  {
   "cell_type": "markdown",
   "id": "4e5fb27e",
   "metadata": {},
   "source": [
    "This function sets the seed for the random number generator. This is useful for reproducibility; setting the seed to a specific value ensures that the same sequence of random numbers is generated each time the code is run. Here's an example:"
   ]
  },
  {
   "cell_type": "code",
   "execution_count": 28,
   "id": "816cdac3",
   "metadata": {},
   "outputs": [
    {
     "name": "stdout",
     "output_type": "stream",
     "text": [
      "[0.4359949  0.02592623 0.54966248 0.43532239 0.4203678 ]\n"
     ]
    }
   ],
   "source": [
    "import numpy as np\n",
    "\n",
    "# Set the seed to 42\n",
    "np.random.seed(2)\n",
    "\n",
    "# Generate 5 random numbers\n",
    "random_numbers = np.random.random(5)\n",
    "\n",
    "print(random_numbers)\n",
    "\n",
    "#This will output an array of 5 random numbers, but because we set the seed to 42, running this code multiple times will always produce the same sequence of random numbers."
   ]
  },
  {
   "cell_type": "markdown",
   "id": "0a3daa83",
   "metadata": {},
   "source": [
    "# np.random.gamma()"
   ]
  },
  {
   "cell_type": "markdown",
   "id": "d6020109",
   "metadata": {},
   "source": [
    "This function generates random numbers from a gamma distribution. It takes parameters for shape and scale, as well as the size of the output array. Here's an example:"
   ]
  },
  {
   "cell_type": "code",
   "execution_count": 23,
   "id": "169c0aa8",
   "metadata": {},
   "outputs": [
    {
     "name": "stdout",
     "output_type": "stream",
     "text": [
      "[4.10697087 6.68243999 2.04721274 2.15290884 0.11489537 6.43856384\n",
      " 2.34577209 1.76041404 1.95788388 5.12707361]\n"
     ]
    }
   ],
   "source": [
    "random_numbers = np.random.gamma(2, 2, 10)\n",
    "\n",
    "print(random_numbers)"
   ]
  },
  {
   "cell_type": "markdown",
   "id": "b7d86d5b",
   "metadata": {},
   "source": [
    "# Concatenate"
   ]
  },
  {
   "cell_type": "markdown",
   "id": "23eeb6db",
   "metadata": {},
   "source": [
    "V-Stack: Row-Wise\n",
    "\n",
    "H-Stack: Col-Wise"
   ]
  },
  {
   "cell_type": "code",
   "execution_count": 29,
   "id": "3a90d4d7",
   "metadata": {},
   "outputs": [],
   "source": [
    "arr1 = np.array([[1,2,3,4],[5,6,7,8]])\n",
    "\n",
    "arr2 = np.array([[9,10,11,12],[13,14,15,16]])\n",
    "\n"
   ]
  },
  {
   "cell_type": "markdown",
   "id": "3a13ea76",
   "metadata": {},
   "source": [
    "# V-Stack: Row-Wise"
   ]
  },
  {
   "cell_type": "code",
   "execution_count": 30,
   "id": "86047406",
   "metadata": {},
   "outputs": [
    {
     "data": {
      "text/plain": [
       "array([[ 1,  2,  3,  4],\n",
       "       [ 5,  6,  7,  8],\n",
       "       [ 9, 10, 11, 12],\n",
       "       [13, 14, 15, 16]])"
      ]
     },
     "execution_count": 30,
     "metadata": {},
     "output_type": "execute_result"
    }
   ],
   "source": [
    "np.concatenate((arr1,arr2), axis=0) #axis 0 mean it will concatenate and increse the number of rows "
   ]
  },
  {
   "cell_type": "markdown",
   "id": "f9d52824",
   "metadata": {},
   "source": [
    "# H-Stack: Col-Wise"
   ]
  },
  {
   "cell_type": "code",
   "execution_count": 31,
   "id": "ad046454",
   "metadata": {},
   "outputs": [
    {
     "data": {
      "text/plain": [
       "array([[ 1,  2,  3,  4,  9, 10, 11, 12],\n",
       "       [ 5,  6,  7,  8, 13, 14, 15, 16]])"
      ]
     },
     "execution_count": 31,
     "metadata": {},
     "output_type": "execute_result"
    }
   ],
   "source": [
    "np.concatenate((arr1,arr2), axis=1) #axis 1 mean it will concatenate and increse the number of Col "
   ]
  },
  {
   "cell_type": "markdown",
   "id": "5c0f382a",
   "metadata": {},
   "source": [
    "# We can also use np.vstack and np.hstack"
   ]
  },
  {
   "cell_type": "code",
   "execution_count": 32,
   "id": "454ad7c0",
   "metadata": {},
   "outputs": [
    {
     "data": {
      "text/plain": [
       "array([[ 1,  2,  3,  4],\n",
       "       [ 5,  6,  7,  8],\n",
       "       [ 9, 10, 11, 12],\n",
       "       [13, 14, 15, 16]])"
      ]
     },
     "execution_count": 32,
     "metadata": {},
     "output_type": "execute_result"
    }
   ],
   "source": [
    "np.vstack((arr1,arr2))"
   ]
  },
  {
   "cell_type": "code",
   "execution_count": 33,
   "id": "9e55cf23",
   "metadata": {},
   "outputs": [
    {
     "data": {
      "text/plain": [
       "array([[ 1,  2,  3,  4,  9, 10, 11, 12],\n",
       "       [ 5,  6,  7,  8, 13, 14, 15, 16]])"
      ]
     },
     "execution_count": 33,
     "metadata": {},
     "output_type": "execute_result"
    }
   ],
   "source": [
    "np.hstack((arr1,arr2))"
   ]
  },
  {
   "cell_type": "markdown",
   "id": "f8212851",
   "metadata": {},
   "source": [
    "# Spliting of arays"
   ]
  },
  {
   "cell_type": "markdown",
   "id": "a4622596",
   "metadata": {},
   "source": [
    "Split the into multiple arrays along x-axis"
   ]
  },
  {
   "cell_type": "code",
   "execution_count": 39,
   "id": "a5f8f9ca",
   "metadata": {},
   "outputs": [
    {
     "data": {
      "text/plain": [
       "[array([1, 2]), array([3, 4]), array([ 5,  6,  7,  8,  9, 10])]"
      ]
     },
     "execution_count": 39,
     "metadata": {},
     "output_type": "execute_result"
    }
   ],
   "source": [
    "arr1 = np.array([1,2,3,4,5,6,7,8,9,10])\n",
    "\n",
    "np.split(arr1,[2,4])  # in this [2,4] means that we have to split the array 1st from index 2 and then again aplit from index 4"
   ]
  },
  {
   "cell_type": "markdown",
   "id": "84659d17",
   "metadata": {},
   "source": [
    "# If we have to split 2-D Array? then we will use its axis o or 1 for col or rows"
   ]
  },
  {
   "cell_type": "code",
   "execution_count": 41,
   "id": "cc2a12a7",
   "metadata": {},
   "outputs": [],
   "source": [
    "arr2d = np.arange(10).reshape(5,2)"
   ]
  },
  {
   "cell_type": "code",
   "execution_count": 42,
   "id": "819a9515",
   "metadata": {},
   "outputs": [
    {
     "data": {
      "text/plain": [
       "array([[0, 1],\n",
       "       [2, 3],\n",
       "       [4, 5],\n",
       "       [6, 7],\n",
       "       [8, 9]])"
      ]
     },
     "execution_count": 42,
     "metadata": {},
     "output_type": "execute_result"
    }
   ],
   "source": [
    "arr2d"
   ]
  },
  {
   "cell_type": "code",
   "execution_count": 43,
   "id": "e36cc2b6",
   "metadata": {},
   "outputs": [
    {
     "data": {
      "text/plain": [
       "[array([[0, 1],\n",
       "        [2, 3]]),\n",
       " array([[4, 5],\n",
       "        [6, 7],\n",
       "        [8, 9]])]"
      ]
     },
     "execution_count": 43,
     "metadata": {},
     "output_type": "execute_result"
    }
   ],
   "source": [
    "np.split(arr2d,[2],axis=0)"
   ]
  },
  {
   "cell_type": "markdown",
   "id": "86c01918",
   "metadata": {},
   "source": [
    "# Tile & Repeat"
   ]
  },
  {
   "cell_type": "markdown",
   "id": "7cf9de29",
   "metadata": {},
   "source": [
    "np.tile(array, reps): Repeats the elements of an array along specified axes.\n",
    "    \n",
    "np.repeat(array, repeats): Repeats each element of an array a specified number of times."
   ]
  },
  {
   "cell_type": "code",
   "execution_count": 44,
   "id": "12a3ec8c",
   "metadata": {},
   "outputs": [],
   "source": [
    "arr1d = np.array([1,2,3,4,5,6,7,8,9])"
   ]
  },
  {
   "cell_type": "code",
   "execution_count": 45,
   "id": "88d51ad6",
   "metadata": {},
   "outputs": [
    {
     "data": {
      "text/plain": [
       "array([1, 2, 3, 4, 5, 6, 7, 8, 9])"
      ]
     },
     "execution_count": 45,
     "metadata": {},
     "output_type": "execute_result"
    }
   ],
   "source": [
    "arr1d"
   ]
  },
  {
   "cell_type": "code",
   "execution_count": 48,
   "id": "6a6995c7",
   "metadata": {},
   "outputs": [
    {
     "data": {
      "text/plain": [
       "array([ 1,  1,  2,  2,  3,  3,  4,  4,  5,  5,  6,  6,  7,  7,  8,  8,  9,\n",
       "        9, 10, 10])"
      ]
     },
     "execution_count": 48,
     "metadata": {},
     "output_type": "execute_result"
    }
   ],
   "source": [
    "np.repeat(arr1,2) # we have to repeat arr1 and 2 parameter mean that we want every elennt in two times repeatations"
   ]
  },
  {
   "cell_type": "code",
   "execution_count": 51,
   "id": "abe33c56",
   "metadata": {},
   "outputs": [
    {
     "data": {
      "text/plain": [
       "array([1, 2, 3, 4, 5, 6, 7, 8, 9, 1, 2, 3, 4, 5, 6, 7, 8, 9])"
      ]
     },
     "execution_count": 51,
     "metadata": {},
     "output_type": "execute_result"
    }
   ],
   "source": [
    "np.tile(arr1d,2)"
   ]
  },
  {
   "cell_type": "markdown",
   "id": "73b1e588",
   "metadata": {},
   "source": [
    "# Problem solving _ Assignment 2 "
   ]
  },
  {
   "cell_type": "markdown",
   "id": "6ccbf943",
   "metadata": {},
   "source": [
    "# Question 1"
   ]
  },
  {
   "cell_type": "markdown",
   "id": "c0a6f809",
   "metadata": {},
   "source": [
    "Convert a 1D array to a 2D array with 2 rows?\n",
    "\n",
    "Desired output::¶\n",
    "        \n",
    "array([[0, 1, 2, 3, 4], [5, 6, 7, 8, 9]])"
   ]
  },
  {
   "cell_type": "code",
   "execution_count": 60,
   "id": "1c59abd3",
   "metadata": {},
   "outputs": [
    {
     "name": "stdout",
     "output_type": "stream",
     "text": [
      "[[0 1 2 3 4]\n",
      " [5 6 7 8 9]]\n"
     ]
    }
   ],
   "source": [
    "array1d = np.arange(10)\n",
    "array2d = array1d.reshape(2,5)\n",
    "print(array2d)"
   ]
  },
  {
   "cell_type": "markdown",
   "id": "e036d769",
   "metadata": {},
   "source": [
    "# Question 2"
   ]
  },
  {
   "cell_type": "markdown",
   "id": "7225a3bf",
   "metadata": {},
   "source": [
    "How to stack two arrays vertically?\n",
    "\n",
    "Desired Output::\n",
    "        \n",
    "array([[0, 1, 2, 3, 4],\n",
    "        [5, 6, 7, 8, 9],\n",
    "       [1, 1, 1, 1, 1],\n",
    "       [1, 1, 1, 1, 1]])\n"
   ]
  },
  {
   "cell_type": "code",
   "execution_count": 93,
   "id": "28c9580b",
   "metadata": {},
   "outputs": [],
   "source": [
    "arry1 = np.arange(10)\n",
    "arry2 = np.full(10, 1)"
   ]
  },
  {
   "cell_type": "code",
   "execution_count": 94,
   "id": "4e9f08ca",
   "metadata": {},
   "outputs": [
    {
     "data": {
      "text/plain": [
       "array([0, 1, 2, 3, 4, 5, 6, 7, 8, 9])"
      ]
     },
     "execution_count": 94,
     "metadata": {},
     "output_type": "execute_result"
    }
   ],
   "source": [
    "arry1"
   ]
  },
  {
   "cell_type": "code",
   "execution_count": 95,
   "id": "00a87226",
   "metadata": {},
   "outputs": [
    {
     "data": {
      "text/plain": [
       "array([1, 1, 1, 1, 1, 1, 1, 1, 1, 1])"
      ]
     },
     "execution_count": 95,
     "metadata": {},
     "output_type": "execute_result"
    }
   ],
   "source": [
    "arry2"
   ]
  },
  {
   "cell_type": "code",
   "execution_count": 96,
   "id": "54967225",
   "metadata": {},
   "outputs": [],
   "source": [
    "a = np.split(arry1,[5])"
   ]
  },
  {
   "cell_type": "code",
   "execution_count": 97,
   "id": "55856fe4",
   "metadata": {},
   "outputs": [
    {
     "name": "stdout",
     "output_type": "stream",
     "text": [
      "[array([0, 1, 2, 3, 4]), array([5, 6, 7, 8, 9])]\n"
     ]
    }
   ],
   "source": [
    "print(a)"
   ]
  },
  {
   "cell_type": "code",
   "execution_count": 98,
   "id": "583562d2",
   "metadata": {},
   "outputs": [],
   "source": [
    "b = np.split(arry2,[5])"
   ]
  },
  {
   "cell_type": "code",
   "execution_count": 99,
   "id": "fd24044c",
   "metadata": {},
   "outputs": [
    {
     "data": {
      "text/plain": [
       "[array([1, 1, 1, 1, 1]), array([1, 1, 1, 1, 1])]"
      ]
     },
     "execution_count": 99,
     "metadata": {},
     "output_type": "execute_result"
    }
   ],
   "source": [
    "b"
   ]
  },
  {
   "cell_type": "code",
   "execution_count": 100,
   "id": "660cc068",
   "metadata": {},
   "outputs": [
    {
     "data": {
      "text/plain": [
       "array([[0, 1, 2, 3, 4],\n",
       "       [5, 6, 7, 8, 9],\n",
       "       [1, 1, 1, 1, 1],\n",
       "       [1, 1, 1, 1, 1]])"
      ]
     },
     "execution_count": 100,
     "metadata": {},
     "output_type": "execute_result"
    }
   ],
   "source": [
    "np.vstack((a,b))"
   ]
  },
  {
   "cell_type": "markdown",
   "id": "538e75aa",
   "metadata": {},
   "source": [
    "# Question:3 How to stack two arrays horizontally?\n"
   ]
  },
  {
   "cell_type": "markdown",
   "id": "a6958e7b",
   "metadata": {},
   "source": [
    "Desired Output::\n",
    "        \n",
    "array([[0, 1, 2, 3, 4, 1, 1, 1, 1, 1],\n",
    "       [5, 6, 7, 8, 9, 1, 1, 1, 1, 1]])"
   ]
  },
  {
   "cell_type": "code",
   "execution_count": 102,
   "id": "81503c36",
   "metadata": {},
   "outputs": [],
   "source": [
    "arr1 = np.arange(10)\n",
    "arr2 = np.full(10, 1)"
   ]
  },
  {
   "cell_type": "code",
   "execution_count": 103,
   "id": "1ccf89d0",
   "metadata": {},
   "outputs": [
    {
     "data": {
      "text/plain": [
       "array([0, 1, 2, 3, 4, 5, 6, 7, 8, 9])"
      ]
     },
     "execution_count": 103,
     "metadata": {},
     "output_type": "execute_result"
    }
   ],
   "source": [
    "arr1"
   ]
  },
  {
   "cell_type": "code",
   "execution_count": 104,
   "id": "6faf0bf4",
   "metadata": {},
   "outputs": [
    {
     "data": {
      "text/plain": [
       "array([1, 1, 1, 1, 1, 1, 1, 1, 1, 1])"
      ]
     },
     "execution_count": 104,
     "metadata": {},
     "output_type": "execute_result"
    }
   ],
   "source": [
    "arr2"
   ]
  },
  {
   "cell_type": "code",
   "execution_count": 105,
   "id": "67541088",
   "metadata": {},
   "outputs": [],
   "source": [
    "split_arr1 = np.split(arr1,[5])"
   ]
  },
  {
   "cell_type": "code",
   "execution_count": 106,
   "id": "e2222ce3",
   "metadata": {},
   "outputs": [
    {
     "data": {
      "text/plain": [
       "[array([0, 1, 2, 3, 4]), array([5, 6, 7, 8, 9])]"
      ]
     },
     "execution_count": 106,
     "metadata": {},
     "output_type": "execute_result"
    }
   ],
   "source": [
    "split_arr1"
   ]
  },
  {
   "cell_type": "code",
   "execution_count": 107,
   "id": "019147ab",
   "metadata": {},
   "outputs": [],
   "source": [
    "split_arr2 = np.split(arr2,[5])"
   ]
  },
  {
   "cell_type": "code",
   "execution_count": 108,
   "id": "87015298",
   "metadata": {},
   "outputs": [
    {
     "data": {
      "text/plain": [
       "[array([1, 1, 1, 1, 1]), array([1, 1, 1, 1, 1])]"
      ]
     },
     "execution_count": 108,
     "metadata": {},
     "output_type": "execute_result"
    }
   ],
   "source": [
    "split_arr2"
   ]
  },
  {
   "cell_type": "code",
   "execution_count": 112,
   "id": "dbdc6150",
   "metadata": {},
   "outputs": [],
   "source": [
    "Horizontal_Array = np.hstack((split_arr1,split_arr2))"
   ]
  },
  {
   "cell_type": "code",
   "execution_count": 113,
   "id": "ee6d0899",
   "metadata": {},
   "outputs": [
    {
     "data": {
      "text/plain": [
       "array([[0, 1, 2, 3, 4, 1, 1, 1, 1, 1],\n",
       "       [5, 6, 7, 8, 9, 1, 1, 1, 1, 1]])"
      ]
     },
     "execution_count": 113,
     "metadata": {},
     "output_type": "execute_result"
    }
   ],
   "source": [
    "Horizontal_Array"
   ]
  },
  {
   "cell_type": "markdown",
   "id": "ca0e1be2",
   "metadata": {},
   "source": [
    "# Question:4 How to convert an array of arrays into a flat 1d array?\n"
   ]
  },
  {
   "cell_type": "markdown",
   "id": "ef5b9fbc",
   "metadata": {},
   "source": [
    "Desired Output::\n",
    "        \n",
    "array([0, 1, 2, 3, 4, 5, 6, 7, 8, 9])"
   ]
  },
  {
   "cell_type": "code",
   "execution_count": 118,
   "id": "21de01c7",
   "metadata": {},
   "outputs": [],
   "source": [
    "array_of_arrays = np.arange(10).reshape(5,2)"
   ]
  },
  {
   "cell_type": "code",
   "execution_count": 119,
   "id": "50c85424",
   "metadata": {},
   "outputs": [
    {
     "name": "stdout",
     "output_type": "stream",
     "text": [
      "[[0 1]\n",
      " [2 3]\n",
      " [4 5]\n",
      " [6 7]\n",
      " [8 9]]\n"
     ]
    }
   ],
   "source": [
    "print(array_of_arrays)"
   ]
  },
  {
   "cell_type": "code",
   "execution_count": 120,
   "id": "3030270a",
   "metadata": {},
   "outputs": [],
   "source": [
    "flat_1d_array = array_of_arrays.flatten()"
   ]
  },
  {
   "cell_type": "code",
   "execution_count": 121,
   "id": "4d448914",
   "metadata": {},
   "outputs": [
    {
     "data": {
      "text/plain": [
       "array([0, 1, 2, 3, 4, 5, 6, 7, 8, 9])"
      ]
     },
     "execution_count": 121,
     "metadata": {},
     "output_type": "execute_result"
    }
   ],
   "source": [
    "flat_1d_array"
   ]
  },
  {
   "cell_type": "markdown",
   "id": "050ea6e7",
   "metadata": {},
   "source": [
    "# Question:5 How to Convert higher dimension into one dimension?\n"
   ]
  },
  {
   "cell_type": "markdown",
   "id": "0081b901",
   "metadata": {},
   "source": [
    "Desired Output::\n",
    "array([ 0, 1, 2, 3, 4, 5, 6, 7, 8, 9, 10, 11, 12, 13, 14])"
   ]
  },
  {
   "cell_type": "code",
   "execution_count": 122,
   "id": "46628d14",
   "metadata": {},
   "outputs": [],
   "source": [
    "arr3d = np.array([[[0,1,2,3,4],[5, 6, 7, 8, 9], [10, 11, 12, 13, 14]]])"
   ]
  },
  {
   "cell_type": "code",
   "execution_count": 123,
   "id": "4afa6931",
   "metadata": {},
   "outputs": [
    {
     "data": {
      "text/plain": [
       "array([[[ 0,  1,  2,  3,  4],\n",
       "        [ 5,  6,  7,  8,  9],\n",
       "        [10, 11, 12, 13, 14]]])"
      ]
     },
     "execution_count": 123,
     "metadata": {},
     "output_type": "execute_result"
    }
   ],
   "source": [
    "arr3d"
   ]
  },
  {
   "cell_type": "code",
   "execution_count": 124,
   "id": "9412091a",
   "metadata": {},
   "outputs": [
    {
     "data": {
      "text/plain": [
       "array([ 0,  1,  2,  3,  4,  5,  6,  7,  8,  9, 10, 11, 12, 13, 14])"
      ]
     },
     "execution_count": 124,
     "metadata": {},
     "output_type": "execute_result"
    }
   ],
   "source": [
    "arr3d.flatten()"
   ]
  },
  {
   "cell_type": "markdown",
   "id": "cdc8bea9",
   "metadata": {},
   "source": [
    "# Question:6 Convert one dimension to higher dimension?\n"
   ]
  },
  {
   "cell_type": "markdown",
   "id": "4aaf484c",
   "metadata": {},
   "source": [
    "Desired Output::\n",
    "array([[ 0, 1, 2],\n",
    "[ 3, 4, 5],\n",
    "[ 6, 7, 8],\n",
    "[ 9, 10, 11],\n",
    "[12, 13, 14]])"
   ]
  },
  {
   "cell_type": "code",
   "execution_count": 125,
   "id": "8142bcb8",
   "metadata": {},
   "outputs": [],
   "source": [
    "arr1d = np.arange(15)"
   ]
  },
  {
   "cell_type": "code",
   "execution_count": 126,
   "id": "09f07cb1",
   "metadata": {},
   "outputs": [
    {
     "data": {
      "text/plain": [
       "array([ 0,  1,  2,  3,  4,  5,  6,  7,  8,  9, 10, 11, 12, 13, 14])"
      ]
     },
     "execution_count": 126,
     "metadata": {},
     "output_type": "execute_result"
    }
   ],
   "source": [
    "arr1d"
   ]
  },
  {
   "cell_type": "code",
   "execution_count": 128,
   "id": "d1fd4ac6",
   "metadata": {},
   "outputs": [
    {
     "data": {
      "text/plain": [
       "array([[ 0,  1,  2],\n",
       "       [ 3,  4,  5],\n",
       "       [ 6,  7,  8],\n",
       "       [ 9, 10, 11],\n",
       "       [12, 13, 14]])"
      ]
     },
     "execution_count": 128,
     "metadata": {},
     "output_type": "execute_result"
    }
   ],
   "source": [
    "arr1d.reshape(5,3)"
   ]
  },
  {
   "cell_type": "markdown",
   "id": "f470dee9",
   "metadata": {},
   "source": [
    "# Question:7 Create 5x5 an array and find the square of an array?"
   ]
  },
  {
   "cell_type": "code",
   "execution_count": 129,
   "id": "9e00d5dc",
   "metadata": {},
   "outputs": [],
   "source": [
    "arr5by5 = np.arange(25).reshape(5,5) "
   ]
  },
  {
   "cell_type": "code",
   "execution_count": 130,
   "id": "b36d2d02",
   "metadata": {},
   "outputs": [
    {
     "data": {
      "text/plain": [
       "array([[ 0,  1,  2,  3,  4],\n",
       "       [ 5,  6,  7,  8,  9],\n",
       "       [10, 11, 12, 13, 14],\n",
       "       [15, 16, 17, 18, 19],\n",
       "       [20, 21, 22, 23, 24]])"
      ]
     },
     "execution_count": 130,
     "metadata": {},
     "output_type": "execute_result"
    }
   ],
   "source": [
    "arr5by5"
   ]
  },
  {
   "cell_type": "code",
   "execution_count": 133,
   "id": "d80c3f38",
   "metadata": {},
   "outputs": [],
   "source": [
    "squared_arr = arr5by5 ** 2"
   ]
  },
  {
   "cell_type": "code",
   "execution_count": 134,
   "id": "0d3516fd",
   "metadata": {},
   "outputs": [
    {
     "data": {
      "text/plain": [
       "array([[  0,   1,   4,   9,  16],\n",
       "       [ 25,  36,  49,  64,  81],\n",
       "       [100, 121, 144, 169, 196],\n",
       "       [225, 256, 289, 324, 361],\n",
       "       [400, 441, 484, 529, 576]])"
      ]
     },
     "execution_count": 134,
     "metadata": {},
     "output_type": "execute_result"
    }
   ],
   "source": [
    "squared_arr"
   ]
  },
  {
   "cell_type": "markdown",
   "id": "a1e1e922",
   "metadata": {},
   "source": [
    "# Question:8 Create 5x6 an array and find the mean?¶"
   ]
  },
  {
   "cell_type": "code",
   "execution_count": 135,
   "id": "cad7c926",
   "metadata": {},
   "outputs": [],
   "source": [
    "arr5by6 = np.arange(30).reshape(5,6) "
   ]
  },
  {
   "cell_type": "code",
   "execution_count": 136,
   "id": "4b43f55e",
   "metadata": {},
   "outputs": [
    {
     "data": {
      "text/plain": [
       "array([[ 0,  1,  2,  3,  4,  5],\n",
       "       [ 6,  7,  8,  9, 10, 11],\n",
       "       [12, 13, 14, 15, 16, 17],\n",
       "       [18, 19, 20, 21, 22, 23],\n",
       "       [24, 25, 26, 27, 28, 29]])"
      ]
     },
     "execution_count": 136,
     "metadata": {},
     "output_type": "execute_result"
    }
   ],
   "source": [
    "arr5by6"
   ]
  },
  {
   "cell_type": "code",
   "execution_count": 137,
   "id": "159e8a10",
   "metadata": {},
   "outputs": [
    {
     "data": {
      "text/plain": [
       "14.5"
      ]
     },
     "execution_count": 137,
     "metadata": {},
     "output_type": "execute_result"
    }
   ],
   "source": [
    "np.mean(arr5by6)"
   ]
  },
  {
   "cell_type": "markdown",
   "id": "0d05822b",
   "metadata": {},
   "source": [
    "# Question:9 Find the standard deviation of the previous array in Q8?"
   ]
  },
  {
   "cell_type": "code",
   "execution_count": 138,
   "id": "efda96a0",
   "metadata": {},
   "outputs": [
    {
     "data": {
      "text/plain": [
       "8.65544144839919"
      ]
     },
     "execution_count": 138,
     "metadata": {},
     "output_type": "execute_result"
    }
   ],
   "source": [
    "np.std(arr5by6)"
   ]
  },
  {
   "cell_type": "markdown",
   "id": "5fdec5ba",
   "metadata": {},
   "source": [
    "# Question:10 Find the median of the previous array in Q8?"
   ]
  },
  {
   "cell_type": "code",
   "execution_count": 139,
   "id": "95fd2569",
   "metadata": {},
   "outputs": [
    {
     "data": {
      "text/plain": [
       "14.5"
      ]
     },
     "execution_count": 139,
     "metadata": {},
     "output_type": "execute_result"
    }
   ],
   "source": [
    "np.median(arr5by6)"
   ]
  },
  {
   "cell_type": "markdown",
   "id": "d225566f",
   "metadata": {},
   "source": [
    "# Question:11 Find the transpose of the previous array in Q8?"
   ]
  },
  {
   "cell_type": "code",
   "execution_count": 140,
   "id": "2fdfcfc1",
   "metadata": {},
   "outputs": [
    {
     "data": {
      "text/plain": [
       "array([[ 0,  1,  2,  3,  4,  5],\n",
       "       [ 6,  7,  8,  9, 10, 11],\n",
       "       [12, 13, 14, 15, 16, 17],\n",
       "       [18, 19, 20, 21, 22, 23],\n",
       "       [24, 25, 26, 27, 28, 29]])"
      ]
     },
     "execution_count": 140,
     "metadata": {},
     "output_type": "execute_result"
    }
   ],
   "source": [
    "arr5by6"
   ]
  },
  {
   "cell_type": "code",
   "execution_count": 141,
   "id": "2cf5f56b",
   "metadata": {},
   "outputs": [
    {
     "data": {
      "text/plain": [
       "array([[ 0,  6, 12, 18, 24],\n",
       "       [ 1,  7, 13, 19, 25],\n",
       "       [ 2,  8, 14, 20, 26],\n",
       "       [ 3,  9, 15, 21, 27],\n",
       "       [ 4, 10, 16, 22, 28],\n",
       "       [ 5, 11, 17, 23, 29]])"
      ]
     },
     "execution_count": 141,
     "metadata": {},
     "output_type": "execute_result"
    }
   ],
   "source": [
    "arr5by6.transpose()"
   ]
  },
  {
   "cell_type": "markdown",
   "id": "db4673ae",
   "metadata": {},
   "source": [
    "# Question:12 Create a 4x4 an array and find the sum of diagonal elements?"
   ]
  },
  {
   "cell_type": "code",
   "execution_count": 142,
   "id": "694c04fb",
   "metadata": {},
   "outputs": [],
   "source": [
    "arr4by4 = np.arange(16).reshape(4,4)"
   ]
  },
  {
   "cell_type": "code",
   "execution_count": 143,
   "id": "e472bcb0",
   "metadata": {},
   "outputs": [
    {
     "data": {
      "text/plain": [
       "array([[ 0,  1,  2,  3],\n",
       "       [ 4,  5,  6,  7],\n",
       "       [ 8,  9, 10, 11],\n",
       "       [12, 13, 14, 15]])"
      ]
     },
     "execution_count": 143,
     "metadata": {},
     "output_type": "execute_result"
    }
   ],
   "source": [
    "arr4by4"
   ]
  },
  {
   "cell_type": "code",
   "execution_count": 144,
   "id": "3e55ed33",
   "metadata": {},
   "outputs": [
    {
     "data": {
      "text/plain": [
       "30"
      ]
     },
     "execution_count": 144,
     "metadata": {},
     "output_type": "execute_result"
    }
   ],
   "source": [
    "np.trace(arr4by4)"
   ]
  },
  {
   "cell_type": "markdown",
   "id": "abbf9135",
   "metadata": {},
   "source": [
    "# Question:13 Find the determinant of the previous array in Q12?"
   ]
  },
  {
   "cell_type": "code",
   "execution_count": 145,
   "id": "115f6a09",
   "metadata": {},
   "outputs": [
    {
     "data": {
      "text/plain": [
       "0.0"
      ]
     },
     "execution_count": 145,
     "metadata": {},
     "output_type": "execute_result"
    }
   ],
   "source": [
    "np.linalg.det(arr4by4)"
   ]
  },
  {
   "cell_type": "markdown",
   "id": "1ae0fdde",
   "metadata": {},
   "source": [
    "# Question:14 Find the 5th and 95th percentile of an array?¶"
   ]
  },
  {
   "cell_type": "code",
   "execution_count": 146,
   "id": "58843231",
   "metadata": {},
   "outputs": [
    {
     "data": {
      "text/plain": [
       "array([[ 0,  1,  2,  3],\n",
       "       [ 4,  5,  6,  7],\n",
       "       [ 8,  9, 10, 11],\n",
       "       [12, 13, 14, 15]])"
      ]
     },
     "execution_count": 146,
     "metadata": {},
     "output_type": "execute_result"
    }
   ],
   "source": [
    "arr4by4"
   ]
  },
  {
   "cell_type": "code",
   "execution_count": 147,
   "id": "00463c1b",
   "metadata": {},
   "outputs": [
    {
     "data": {
      "text/plain": [
       "array([ 7.5 , 14.25])"
      ]
     },
     "execution_count": 147,
     "metadata": {},
     "output_type": "execute_result"
    }
   ],
   "source": [
    "np.percentile(arr4by4,[50,95])"
   ]
  },
  {
   "cell_type": "markdown",
   "id": "bad39c67",
   "metadata": {},
   "source": [
    "# Question:15 How to find if a given array has any null values?"
   ]
  },
  {
   "cell_type": "code",
   "execution_count": 149,
   "id": "1eb021f9",
   "metadata": {},
   "outputs": [],
   "source": [
    "array = np.array([1,2,3,4,np.nan,5,np.nan])"
   ]
  },
  {
   "cell_type": "code",
   "execution_count": 150,
   "id": "5641a097",
   "metadata": {},
   "outputs": [
    {
     "data": {
      "text/plain": [
       "array([ 1.,  2.,  3.,  4., nan,  5., nan])"
      ]
     },
     "execution_count": 150,
     "metadata": {},
     "output_type": "execute_result"
    }
   ],
   "source": [
    "array"
   ]
  },
  {
   "cell_type": "code",
   "execution_count": 155,
   "id": "05290541",
   "metadata": {},
   "outputs": [
    {
     "data": {
      "text/plain": [
       "array([False, False, False, False,  True, False,  True])"
      ]
     },
     "execution_count": 155,
     "metadata": {},
     "output_type": "execute_result"
    }
   ],
   "source": [
    "np.isnan(array)"
   ]
  },
  {
   "cell_type": "code",
   "execution_count": 161,
   "id": "c3cce08c",
   "metadata": {},
   "outputs": [
    {
     "name": "stdout",
     "output_type": "stream",
     "text": [
      "Index: 4 , Value: nan\n",
      "Index: 6 , Value: nan\n"
     ]
    }
   ],
   "source": [
    "nan_indices = np.where(np.isnan(array))\n",
    "\n",
    "\n",
    "for index in nan_indices[0]:\n",
    "    print(\"Index:\", index, \", Value:\", array[index])\n"
   ]
  },
  {
   "cell_type": "markdown",
   "id": "ddf1894a",
   "metadata": {},
   "source": [
    "# Assignment 1 Questions "
   ]
  },
  {
   "cell_type": "markdown",
   "id": "b7197b65",
   "metadata": {},
   "source": [
    "# Question 1 "
   ]
  },
  {
   "cell_type": "markdown",
   "id": "b559ee31",
   "metadata": {},
   "source": [
    "Import the numpy package under the name np"
   ]
  },
  {
   "cell_type": "code",
   "execution_count": 1,
   "id": "7bb31b1e",
   "metadata": {},
   "outputs": [],
   "source": [
    "import numpy as np"
   ]
  },
  {
   "cell_type": "markdown",
   "id": "476365d8",
   "metadata": {},
   "source": [
    "# Question 2"
   ]
  },
  {
   "cell_type": "markdown",
   "id": "4dedfdd5",
   "metadata": {},
   "source": [
    "Create a null vector of size 10"
   ]
  },
  {
   "cell_type": "code",
   "execution_count": 2,
   "id": "4497d16d",
   "metadata": {},
   "outputs": [
    {
     "data": {
      "text/plain": [
       "array([0., 0., 0., 0., 0., 0., 0., 0., 0., 0.])"
      ]
     },
     "execution_count": 2,
     "metadata": {},
     "output_type": "execute_result"
    }
   ],
   "source": [
    "np.zeros(10)"
   ]
  },
  {
   "cell_type": "markdown",
   "id": "d652efae",
   "metadata": {},
   "source": [
    "# Question 3"
   ]
  },
  {
   "cell_type": "markdown",
   "id": "7018a358",
   "metadata": {},
   "source": [
    "Create a vector with values ranging from 10 to 49"
   ]
  },
  {
   "cell_type": "code",
   "execution_count": 4,
   "id": "2ff0820d",
   "metadata": {},
   "outputs": [
    {
     "name": "stdout",
     "output_type": "stream",
     "text": [
      "[10 11 12 13 14 15 16 17 18 19 20 21 22 23 24 25 26 27 28 29 30 31 32 33\n",
      " 34 35 36 37 38 39 40 41 42 43 44 45 46 47 48 49]\n"
     ]
    }
   ],
   "source": [
    "vec = np.arange(10,50)\n",
    "print(vec)"
   ]
  },
  {
   "cell_type": "markdown",
   "id": "6b3d7850",
   "metadata": {},
   "source": [
    "# Question 4"
   ]
  },
  {
   "cell_type": "markdown",
   "id": "800e1130",
   "metadata": {},
   "source": [
    "Find the shape of previous array in question 3"
   ]
  },
  {
   "cell_type": "code",
   "execution_count": 5,
   "id": "26bdaa5d",
   "metadata": {},
   "outputs": [
    {
     "data": {
      "text/plain": [
       "(40,)"
      ]
     },
     "execution_count": 5,
     "metadata": {},
     "output_type": "execute_result"
    }
   ],
   "source": [
    "np.shape(vec)"
   ]
  },
  {
   "cell_type": "markdown",
   "id": "a86fb5c9",
   "metadata": {},
   "source": [
    "# Question 5 "
   ]
  },
  {
   "cell_type": "markdown",
   "id": "f9313d34",
   "metadata": {},
   "source": [
    "Print the type of the previous array in question 3"
   ]
  },
  {
   "cell_type": "code",
   "execution_count": 7,
   "id": "024170db",
   "metadata": {},
   "outputs": [
    {
     "data": {
      "text/plain": [
       "dtype('int32')"
      ]
     },
     "execution_count": 7,
     "metadata": {},
     "output_type": "execute_result"
    }
   ],
   "source": [
    "vec.dtype"
   ]
  },
  {
   "cell_type": "markdown",
   "id": "51e8519b",
   "metadata": {},
   "source": [
    "# Question 6 "
   ]
  },
  {
   "cell_type": "markdown",
   "id": "1c674091",
   "metadata": {},
   "source": [
    "Print the numpy version and the configuration"
   ]
  },
  {
   "cell_type": "code",
   "execution_count": 8,
   "id": "60175585",
   "metadata": {},
   "outputs": [
    {
     "name": "stdout",
     "output_type": "stream",
     "text": [
      "1.26.4\n"
     ]
    }
   ],
   "source": [
    "print(np.__version__)"
   ]
  },
  {
   "cell_type": "markdown",
   "id": "d73dbfd4",
   "metadata": {},
   "source": [
    "# Question 7"
   ]
  },
  {
   "cell_type": "markdown",
   "id": "e3d5a87a",
   "metadata": {},
   "source": [
    "Print the dimension of the array in question 3"
   ]
  },
  {
   "cell_type": "code",
   "execution_count": 9,
   "id": "f6bd4f39",
   "metadata": {},
   "outputs": [
    {
     "data": {
      "text/plain": [
       "1"
      ]
     },
     "execution_count": 9,
     "metadata": {},
     "output_type": "execute_result"
    }
   ],
   "source": [
    "vec.ndim"
   ]
  },
  {
   "cell_type": "markdown",
   "id": "0d195919",
   "metadata": {},
   "source": [
    "# Question 8"
   ]
  },
  {
   "cell_type": "markdown",
   "id": "c3abe810",
   "metadata": {},
   "source": [
    "Create a boolean array with all the True values"
   ]
  },
  {
   "cell_type": "code",
   "execution_count": 10,
   "id": "4271b555",
   "metadata": {},
   "outputs": [
    {
     "data": {
      "text/plain": [
       "array([ True,  True,  True,  True])"
      ]
     },
     "execution_count": 10,
     "metadata": {},
     "output_type": "execute_result"
    }
   ],
   "source": [
    "boolean_array = np.array([True, True,True,True])\n",
    "boolean_array"
   ]
  },
  {
   "cell_type": "markdown",
   "id": "8d458919",
   "metadata": {},
   "source": [
    "# Question 9"
   ]
  },
  {
   "cell_type": "markdown",
   "id": "cbd48361",
   "metadata": {},
   "source": [
    "Create a two dimensional array"
   ]
  },
  {
   "cell_type": "code",
   "execution_count": 11,
   "id": "044f8445",
   "metadata": {},
   "outputs": [
    {
     "data": {
      "text/plain": [
       "array([[0, 1],\n",
       "       [2, 3],\n",
       "       [4, 5],\n",
       "       [6, 7],\n",
       "       [8, 9]])"
      ]
     },
     "execution_count": 11,
     "metadata": {},
     "output_type": "execute_result"
    }
   ],
   "source": [
    "arr2d = np.arange(10).reshape(5,2)\n",
    "arr2d"
   ]
  },
  {
   "cell_type": "markdown",
   "id": "5c0beab7",
   "metadata": {},
   "source": [
    "# Question 10"
   ]
  },
  {
   "cell_type": "markdown",
   "id": "0b3ffb9e",
   "metadata": {},
   "source": [
    "Create a three dimensional array"
   ]
  },
  {
   "cell_type": "code",
   "execution_count": 12,
   "id": "4f92a92f",
   "metadata": {},
   "outputs": [],
   "source": [
    "arr2d = np.array([[[1,2,3,4],[5,6,7,8]]])"
   ]
  },
  {
   "cell_type": "code",
   "execution_count": 13,
   "id": "85e396f1",
   "metadata": {},
   "outputs": [
    {
     "data": {
      "text/plain": [
       "array([[[1, 2, 3, 4],\n",
       "        [5, 6, 7, 8]]])"
      ]
     },
     "execution_count": 13,
     "metadata": {},
     "output_type": "execute_result"
    }
   ],
   "source": [
    "arr2d"
   ]
  },
  {
   "cell_type": "markdown",
   "id": "e2405622",
   "metadata": {},
   "source": [
    "# Question 11"
   ]
  },
  {
   "cell_type": "markdown",
   "id": "2bb3d9fe",
   "metadata": {},
   "source": [
    "Reverse a vector (first element becomes last)"
   ]
  },
  {
   "cell_type": "code",
   "execution_count": 14,
   "id": "d6b54e5b",
   "metadata": {},
   "outputs": [],
   "source": [
    "arr1 = np.arange(10)"
   ]
  },
  {
   "cell_type": "code",
   "execution_count": 15,
   "id": "0727bc3f",
   "metadata": {},
   "outputs": [
    {
     "data": {
      "text/plain": [
       "array([0, 1, 2, 3, 4, 5, 6, 7, 8, 9])"
      ]
     },
     "execution_count": 15,
     "metadata": {},
     "output_type": "execute_result"
    }
   ],
   "source": [
    "arr1"
   ]
  },
  {
   "cell_type": "code",
   "execution_count": 22,
   "id": "854a7092",
   "metadata": {},
   "outputs": [
    {
     "data": {
      "text/plain": [
       "array([9, 8, 7, 6, 5, 4, 3, 2, 1, 0])"
      ]
     },
     "execution_count": 22,
     "metadata": {},
     "output_type": "execute_result"
    }
   ],
   "source": [
    "np.flip(arr1)"
   ]
  },
  {
   "cell_type": "markdown",
   "id": "e7dc7bce",
   "metadata": {},
   "source": [
    "# Question 12"
   ]
  },
  {
   "cell_type": "markdown",
   "id": "931ef505",
   "metadata": {},
   "source": [
    "Create a null vector of size 10 but the fifth value which is 1"
   ]
  },
  {
   "cell_type": "code",
   "execution_count": 25,
   "id": "906c592c",
   "metadata": {},
   "outputs": [],
   "source": [
    "null_vec = np.zeros(10, dtype=int)"
   ]
  },
  {
   "cell_type": "code",
   "execution_count": 27,
   "id": "59cb1c6d",
   "metadata": {},
   "outputs": [],
   "source": [
    "null_vec[4]=1"
   ]
  },
  {
   "cell_type": "code",
   "execution_count": 28,
   "id": "fed1df79",
   "metadata": {},
   "outputs": [
    {
     "data": {
      "text/plain": [
       "array([0, 0, 0, 0, 1, 0, 0, 0, 0, 0])"
      ]
     },
     "execution_count": 28,
     "metadata": {},
     "output_type": "execute_result"
    }
   ],
   "source": [
    "null_vec"
   ]
  },
  {
   "cell_type": "markdown",
   "id": "dbf63235",
   "metadata": {},
   "source": [
    "# Question 13"
   ]
  },
  {
   "cell_type": "markdown",
   "id": "e292982b",
   "metadata": {},
   "source": [
    "Create a 3x3 identity matrix"
   ]
  },
  {
   "cell_type": "code",
   "execution_count": 33,
   "id": "bf9a8ff8",
   "metadata": {},
   "outputs": [],
   "source": [
    "identity_Matrics = np.eye(3, dtype=int)"
   ]
  },
  {
   "cell_type": "code",
   "execution_count": 34,
   "id": "1f37bae9",
   "metadata": {},
   "outputs": [
    {
     "data": {
      "text/plain": [
       "array([[1, 0, 0],\n",
       "       [0, 1, 0],\n",
       "       [0, 0, 1]])"
      ]
     },
     "execution_count": 34,
     "metadata": {},
     "output_type": "execute_result"
    }
   ],
   "source": [
    "identity_Matrics"
   ]
  },
  {
   "cell_type": "markdown",
   "id": "d7396a12",
   "metadata": {},
   "source": [
    "# Question 14"
   ]
  },
  {
   "cell_type": "markdown",
   "id": "1fdb02a8",
   "metadata": {},
   "source": [
    "Convert the data type of the given array from int to float\n",
    "\n",
    "arr = np.array([1, 2, 3, 4, 5])\n"
   ]
  },
  {
   "cell_type": "code",
   "execution_count": 39,
   "id": "b7d03028",
   "metadata": {},
   "outputs": [],
   "source": [
    "arr = np.array([1, 2, 3, 4, 5], dtype=float)"
   ]
  },
  {
   "cell_type": "code",
   "execution_count": 40,
   "id": "38352b71",
   "metadata": {},
   "outputs": [
    {
     "data": {
      "text/plain": [
       "dtype('float64')"
      ]
     },
     "execution_count": 40,
     "metadata": {},
     "output_type": "execute_result"
    }
   ],
   "source": [
    "arr.dtype"
   ]
  },
  {
   "cell_type": "code",
   "execution_count": 42,
   "id": "21e6454c",
   "metadata": {},
   "outputs": [
    {
     "data": {
      "text/plain": [
       "array([1., 2., 3., 4., 5.])"
      ]
     },
     "execution_count": 42,
     "metadata": {},
     "output_type": "execute_result"
    }
   ],
   "source": [
    "arr"
   ]
  },
  {
   "cell_type": "markdown",
   "id": "9ee756ee",
   "metadata": {},
   "source": [
    "# Question 15"
   ]
  },
  {
   "cell_type": "markdown",
   "id": "740da731",
   "metadata": {},
   "source": [
    "Multiply arr1 with arr2\n",
    "\n",
    "arr1 = np.array([[1., 2., 3.], [4., 5., 6.]])  \n",
    "\n",
    "arr2 = np.array([[0., 4., 1.], [7., 2., 12.]])"
   ]
  },
  {
   "cell_type": "code",
   "execution_count": 44,
   "id": "e3589985",
   "metadata": {},
   "outputs": [],
   "source": [
    "arr1 = np.array([[1., 2., 3.], [4., 5., 6.]])\n",
    "\n",
    "arr2 = np.array([[0., 4., 1.], [7., 2., 12.]])"
   ]
  },
  {
   "cell_type": "code",
   "execution_count": 47,
   "id": "42bc62d1",
   "metadata": {},
   "outputs": [
    {
     "data": {
      "text/plain": [
       "array([[ 0.,  8.,  3.],\n",
       "       [28., 10., 72.]])"
      ]
     },
     "execution_count": 47,
     "metadata": {},
     "output_type": "execute_result"
    }
   ],
   "source": [
    "arr1*arr2"
   ]
  },
  {
   "cell_type": "markdown",
   "id": "bc9238da",
   "metadata": {},
   "source": [
    "# Question 16"
   ]
  },
  {
   "cell_type": "markdown",
   "id": "c66dba2c",
   "metadata": {},
   "source": [
    "Make an array by comparing both the arrays provided below\n",
    "\n",
    "arr1 = np.array([[1., 2., 3.], [4., 5., 6.]]) \n",
    "\n",
    "arr2 = np.array([[0., 4., 1.],[7., 2., 12.]])"
   ]
  },
  {
   "cell_type": "code",
   "execution_count": 9,
   "id": "02e32b83",
   "metadata": {},
   "outputs": [
    {
     "name": "stdout",
     "output_type": "stream",
     "text": [
      "[[ 1.  2.  3.]\n",
      " [ 4.  5.  6.]\n",
      " [ 0.  4.  1.]\n",
      " [ 7.  2. 12.]]\n"
     ]
    },
    {
     "data": {
      "text/plain": [
       "array([ 0.,  1.,  2.,  3.,  4.,  5.,  6.,  7., 12.])"
      ]
     },
     "execution_count": 9,
     "metadata": {},
     "output_type": "execute_result"
    }
   ],
   "source": [
    "import numpy as np\n",
    "\n",
    "arr1 = np.array([[1., 2., 3.], [4., 5., 6.]])\n",
    "\n",
    "arr2 = np.array([[0., 4., 1.],[7., 2., 12.]])\n",
    "\n",
    "new_array = np.vstack((arr1,arr2))\n",
    "print(new_array)\n",
    "\n",
    "np.sort(new_array)\n",
    "np.unique(new_array)"
   ]
  },
  {
   "cell_type": "markdown",
   "id": "7293e01f",
   "metadata": {},
   "source": [
    "# Question 17 "
   ]
  },
  {
   "cell_type": "markdown",
   "id": "b61af030",
   "metadata": {},
   "source": [
    "Extract all odd numbers from arr with values(0-9)"
   ]
  },
  {
   "cell_type": "code",
   "execution_count": 19,
   "id": "b3618545",
   "metadata": {},
   "outputs": [
    {
     "name": "stdout",
     "output_type": "stream",
     "text": [
      "[1 3 5 7 9]\n"
     ]
    }
   ],
   "source": [
    "arr = np.arange(10)\n",
    "\n",
    "arr\n",
    "extract_odd = []\n",
    "for i in arr:\n",
    "    if i%2 != 0:\n",
    "        extract_odd.append(i)\n",
    "extracted_array = np.array(extract_odd)    \n",
    "print(extracted_array)"
   ]
  },
  {
   "cell_type": "markdown",
   "id": "26419f66",
   "metadata": {},
   "source": [
    "# Question 18"
   ]
  },
  {
   "cell_type": "markdown",
   "id": "d2eb44e5",
   "metadata": {},
   "source": [
    "Replace all odd numbers to -1 from previous array"
   ]
  },
  {
   "cell_type": "code",
   "execution_count": 28,
   "id": "7c30097a",
   "metadata": {},
   "outputs": [
    {
     "name": "stdout",
     "output_type": "stream",
     "text": [
      "[-1 -1 -1 -1 -1]\n"
     ]
    }
   ],
   "source": [
    "extracted_array[:]=-1\n",
    "print(extracted_array)"
   ]
  },
  {
   "cell_type": "markdown",
   "id": "5eb64e42",
   "metadata": {},
   "source": [
    "# Question 19"
   ]
  },
  {
   "cell_type": "markdown",
   "id": "c586c563",
   "metadata": {},
   "source": [
    "arr = np.arange(10)\n",
    "\n",
    "Replace the values of indexes 5,6,7 and 8 to 12"
   ]
  },
  {
   "cell_type": "code",
   "execution_count": 29,
   "id": "8a99e027",
   "metadata": {},
   "outputs": [],
   "source": [
    "arr = np.arange(10)\n",
    "\n",
    "arr[5:9]=12\n",
    "arr"
   ]
  },
  {
   "cell_type": "markdown",
   "id": "4bf4d6f4",
   "metadata": {},
   "source": [
    "# Question 20 "
   ]
  },
  {
   "cell_type": "markdown",
   "id": "49e7ddbf",
   "metadata": {},
   "source": [
    "Create a 2d array with 1 on the border and 0 inside"
   ]
  },
  {
   "cell_type": "code",
   "execution_count": 66,
   "id": "cba20742",
   "metadata": {},
   "outputs": [
    {
     "name": "stdout",
     "output_type": "stream",
     "text": [
      "[[1. 1. 1. 1. 1.]\n",
      " [1. 0. 0. 0. 1.]\n",
      " [1. 0. 0. 0. 1.]\n",
      " [1. 0. 0. 0. 1.]\n",
      " [1. 0. 0. 0. 1.]\n",
      " [1. 1. 1. 1. 1.]]\n"
     ]
    }
   ],
   "source": [
    "arr2d = np.zeros((6, 5))\n",
    "\n",
    "# Set the first and last rows to 1\n",
    "arr2d[[0, -1], :] = 1\n",
    "\n",
    "# Set the first and last columns to 1\n",
    "arr2d[:, [0, -1]] = 1\n",
    "\n",
    "print(arr2d)"
   ]
  },
  {
   "cell_type": "code",
   "execution_count": 67,
   "id": "0a804410",
   "metadata": {},
   "outputs": [
    {
     "data": {
      "text/plain": [
       "array([[1., 1., 1., 1., 1.],\n",
       "       [1., 0., 0., 0., 1.],\n",
       "       [1., 0., 0., 0., 1.],\n",
       "       [1., 0., 0., 0., 1.],\n",
       "       [1., 0., 0., 0., 1.],\n",
       "       [1., 1., 1., 1., 1.]])"
      ]
     },
     "execution_count": 67,
     "metadata": {},
     "output_type": "execute_result"
    }
   ],
   "source": [
    "\n",
    "arr2d"
   ]
  },
  {
   "cell_type": "code",
   "execution_count": 68,
   "id": "e2d60c39",
   "metadata": {},
   "outputs": [
    {
     "data": {
      "text/plain": [
       "array([[2., 2., 2., 2., 2.],\n",
       "       [2., 0., 0., 0., 2.],\n",
       "       [2., 0., 0., 0., 2.],\n",
       "       [2., 0., 0., 0., 2.],\n",
       "       [2., 0., 0., 0., 2.],\n",
       "       [2., 2., 2., 2., 2.]])"
      ]
     },
     "execution_count": 68,
     "metadata": {},
     "output_type": "execute_result"
    }
   ],
   "source": [
    "arr2d[[0,-1],:]=2\n",
    "arr2d[:,[0,-1]]=2\n",
    "arr2d"
   ]
  },
  {
   "cell_type": "markdown",
   "id": "447c7709",
   "metadata": {},
   "source": [
    "# Question 21"
   ]
  },
  {
   "cell_type": "markdown",
   "id": "9806aefd",
   "metadata": {},
   "source": [
    "Replace the value 5 to 12\n",
    "\n",
    "arr2d = np.array([[1, 2, 3], [4, 5, 6], [7, 8, 9]])    "
   ]
  },
  {
   "cell_type": "code",
   "execution_count": 70,
   "id": "f45c29f7",
   "metadata": {},
   "outputs": [],
   "source": [
    "arr2d = np.array([[1, 2, 3], [4, 5, 6], [7, 8, 9]])"
   ]
  },
  {
   "cell_type": "code",
   "execution_count": 76,
   "id": "08dc625c",
   "metadata": {},
   "outputs": [
    {
     "data": {
      "text/plain": [
       "array([[ 1,  2,  3],\n",
       "       [ 4, 12,  6],\n",
       "       [ 7,  8,  9]])"
      ]
     },
     "execution_count": 76,
     "metadata": {},
     "output_type": "execute_result"
    }
   ],
   "source": [
    "arr2d[1][1] = 12\n",
    "arr2d"
   ]
  },
  {
   "cell_type": "markdown",
   "id": "8265ca84",
   "metadata": {},
   "source": [
    "# Question 22"
   ]
  },
  {
   "cell_type": "markdown",
   "id": "6fc79b8b",
   "metadata": {},
   "source": [
    "Convert all the values of 1st array to 64\n",
    "\n",
    "arr3d = np.array([[[1, 2, 3], [4, 5, 6]], [[7, 8, 9], [10, 11, 12]]])"
   ]
  },
  {
   "cell_type": "code",
   "execution_count": 78,
   "id": "9cc1a71e",
   "metadata": {},
   "outputs": [
    {
     "data": {
      "text/plain": [
       "array([[[ 1,  2,  3],\n",
       "        [ 4,  5,  6]],\n",
       "\n",
       "       [[ 7,  8,  9],\n",
       "        [10, 11, 12]]])"
      ]
     },
     "execution_count": 78,
     "metadata": {},
     "output_type": "execute_result"
    }
   ],
   "source": [
    "arr3d = np.array([[[1, 2, 3], [4, 5, 6]], [[7, 8, 9], [10, 11, 12]]])\n",
    "arr3d"
   ]
  },
  {
   "cell_type": "code",
   "execution_count": 81,
   "id": "7a990999",
   "metadata": {},
   "outputs": [
    {
     "data": {
      "text/plain": [
       "array([[[64, 64, 64],\n",
       "        [64, 64, 64]],\n",
       "\n",
       "       [[ 7,  8,  9],\n",
       "        [10, 11, 12]]])"
      ]
     },
     "execution_count": 81,
     "metadata": {},
     "output_type": "execute_result"
    }
   ],
   "source": [
    "arr3d[0]=64\n",
    "arr3d"
   ]
  },
  {
   "cell_type": "markdown",
   "id": "769bacae",
   "metadata": {},
   "source": [
    "# Question 23"
   ]
  },
  {
   "cell_type": "markdown",
   "id": "8681e9ea",
   "metadata": {},
   "source": [
    "Make a 2-Dimensional array with values 0-9 and slice out the first 1st 1-D array from it"
   ]
  },
  {
   "cell_type": "code",
   "execution_count": 82,
   "id": "58e43a6a",
   "metadata": {},
   "outputs": [
    {
     "data": {
      "text/plain": [
       "array([[0, 1],\n",
       "       [2, 3],\n",
       "       [4, 5],\n",
       "       [6, 7],\n",
       "       [8, 9]])"
      ]
     },
     "execution_count": 82,
     "metadata": {},
     "output_type": "execute_result"
    }
   ],
   "source": [
    "arr2d = np.arange(10).reshape(5,2)\n",
    "arr2d"
   ]
  },
  {
   "cell_type": "code",
   "execution_count": 83,
   "id": "a80eb8cf",
   "metadata": {},
   "outputs": [
    {
     "data": {
      "text/plain": [
       "array([0, 1])"
      ]
     },
     "execution_count": 83,
     "metadata": {},
     "output_type": "execute_result"
    }
   ],
   "source": [
    "arr2d[0]"
   ]
  },
  {
   "cell_type": "markdown",
   "id": "678e605d",
   "metadata": {},
   "source": [
    "# Question 24 "
   ]
  },
  {
   "cell_type": "markdown",
   "id": "661dcb7e",
   "metadata": {},
   "source": [
    "Make a 2-Dimensional array with values 0-9 and slice out the 2nd value from 2nd 1-D array from it"
   ]
  },
  {
   "cell_type": "code",
   "execution_count": 84,
   "id": "1c816f59",
   "metadata": {},
   "outputs": [
    {
     "data": {
      "text/plain": [
       "array([[0, 1],\n",
       "       [2, 3],\n",
       "       [4, 5],\n",
       "       [6, 7],\n",
       "       [8, 9]])"
      ]
     },
     "execution_count": 84,
     "metadata": {},
     "output_type": "execute_result"
    }
   ],
   "source": [
    "arr2d = np.arange(10).reshape(5,2)\n",
    "arr2d"
   ]
  },
  {
   "cell_type": "code",
   "execution_count": 85,
   "id": "c79eb3de",
   "metadata": {},
   "outputs": [
    {
     "data": {
      "text/plain": [
       "3"
      ]
     },
     "execution_count": 85,
     "metadata": {},
     "output_type": "execute_result"
    }
   ],
   "source": [
    "arr2d[1][1]"
   ]
  },
  {
   "cell_type": "markdown",
   "id": "cc5029ac",
   "metadata": {},
   "source": [
    "# Question 25 "
   ]
  },
  {
   "cell_type": "markdown",
   "id": "b1b33d05",
   "metadata": {},
   "source": [
    "Make a 2-Dimensional array with values 0-9 and slice out the third column but only the first two rows"
   ]
  },
  {
   "cell_type": "code",
   "execution_count": 92,
   "id": "04d0b913",
   "metadata": {},
   "outputs": [
    {
     "data": {
      "text/plain": [
       "array([[0, 1],\n",
       "       [2, 3],\n",
       "       [4, 5],\n",
       "       [6, 7],\n",
       "       [8, 9]])"
      ]
     },
     "execution_count": 92,
     "metadata": {},
     "output_type": "execute_result"
    }
   ],
   "source": [
    "arr2d = np.arange(10).reshape(5,2)\n",
    "arr2d\n"
   ]
  },
  {
   "cell_type": "code",
   "execution_count": 93,
   "id": "e00363d3",
   "metadata": {},
   "outputs": [
    {
     "data": {
      "text/plain": [
       "array([1, 3])"
      ]
     },
     "execution_count": 93,
     "metadata": {},
     "output_type": "execute_result"
    }
   ],
   "source": [
    "arr2d[:2, 1]"
   ]
  },
  {
   "cell_type": "markdown",
   "id": "6e6715b8",
   "metadata": {},
   "source": [
    "# Question 26"
   ]
  },
  {
   "cell_type": "markdown",
   "id": "1f26fbf4",
   "metadata": {},
   "source": [
    "Create a 10x10 array with random values and find the minimum and maximum values"
   ]
  },
  {
   "cell_type": "code",
   "execution_count": 100,
   "id": "d279960a",
   "metadata": {},
   "outputs": [
    {
     "name": "stdout",
     "output_type": "stream",
     "text": [
      "2.316535071133585\n",
      "-2.3311682673007526\n"
     ]
    }
   ],
   "source": [
    "array = np.random.randn(10,10)\n",
    "\n",
    "print(array.max())\n",
    "print(array.min())"
   ]
  },
  {
   "cell_type": "code",
   "execution_count": 101,
   "id": "67819096",
   "metadata": {},
   "outputs": [
    {
     "data": {
      "text/plain": [
       "array([[-0.09937705, -0.7483078 , -0.02150046,  0.34709339,  0.64892844,\n",
       "         1.55147846,  0.57115162, -0.77138433,  0.79670346, -0.39809998],\n",
       "       [ 0.90750095, -0.08419533,  1.34854783,  0.04644858, -1.04068149,\n",
       "         1.17343123, -1.12727801, -0.12200813, -0.00449804,  1.78189733],\n",
       "       [-1.62423855,  1.37170854, -1.63107292,  0.22003482, -0.63649764,\n",
       "         0.02384493, -0.9876899 , -0.93728239,  1.3962754 ,  0.0675545 ],\n",
       "       [ 0.32214623,  0.1166152 ,  0.43353942, -1.74383754,  1.14904652,\n",
       "        -0.58154379,  0.67212613,  0.9640916 ,  2.31091856, -0.19476838],\n",
       "       [-0.58773077, -1.18199648,  0.32248084,  0.67945277,  0.14006496,\n",
       "        -0.24061769,  0.60250676,  0.53984736,  1.05084847,  0.76174896],\n",
       "       [ 0.99505264,  2.31653507, -0.26772032, -0.34173681, -1.16732744,\n",
       "         0.45659723,  1.17393542,  0.33942018, -2.33116827,  1.11149681],\n",
       "       [ 1.88732828,  1.36661895,  1.21780071, -1.4919174 , -0.40321208,\n",
       "         0.15647248, -0.91208895,  0.63410805, -0.2690552 ,  0.61509148],\n",
       "       [-0.66499015,  0.96060855, -0.26610897,  0.12977841,  0.44542589,\n",
       "         2.30558409, -0.13679441,  1.22354884, -0.62002898, -0.27444286],\n",
       "       [ 0.85158266,  1.84192589, -0.08245147, -0.44550824,  0.60934294,\n",
       "         1.3893391 ,  0.51947482, -1.2794384 ,  1.72222853,  1.38120936],\n",
       "       [ 0.09291034,  0.63991514, -0.99936099,  0.91895389, -0.02294751,\n",
       "        -0.67192245,  0.8329423 ,  1.70430104,  1.28035071, -0.60636839]])"
      ]
     },
     "execution_count": 101,
     "metadata": {},
     "output_type": "execute_result"
    }
   ],
   "source": [
    "array"
   ]
  },
  {
   "cell_type": "markdown",
   "id": "33c75062",
   "metadata": {},
   "source": [
    "# Question 27"
   ]
  },
  {
   "cell_type": "markdown",
   "id": "939d6c34",
   "metadata": {},
   "source": [
    "Find the common items between a and b\n",
    "\n",
    "a = np.array([1,2,3,2,3,4,3,4,5,6]) b = np.array([7,2,10,2,7,4,9,4,9,8])\n"
   ]
  },
  {
   "cell_type": "code",
   "execution_count": 102,
   "id": "0df1e898",
   "metadata": {},
   "outputs": [],
   "source": [
    "a = np.array([1,2,3,2,3,4,3,4,5,6]) "
   ]
  },
  {
   "cell_type": "code",
   "execution_count": 103,
   "id": "da61806d",
   "metadata": {},
   "outputs": [],
   "source": [
    "b = np.array([7,2,10,2,7,4,9,4,9,8])"
   ]
  },
  {
   "cell_type": "code",
   "execution_count": 105,
   "id": "2eedc172",
   "metadata": {},
   "outputs": [
    {
     "data": {
      "text/plain": [
       "array([2, 4])"
      ]
     },
     "execution_count": 105,
     "metadata": {},
     "output_type": "execute_result"
    }
   ],
   "source": [
    "np.intersect1d(a,b)"
   ]
  },
  {
   "cell_type": "markdown",
   "id": "4c7a3906",
   "metadata": {},
   "source": [
    "# Question 28"
   ]
  },
  {
   "cell_type": "markdown",
   "id": "cf1731c1",
   "metadata": {},
   "source": [
    "Find the positions where elements of a and b match\n",
    "\n",
    "a = np.array([1,2,3,2,3,4,3,4,5,6]) b = np.array([7,2,10,2,7,4,9,4,9,8])\n"
   ]
  },
  {
   "cell_type": "code",
   "execution_count": 106,
   "id": "8fc0307c",
   "metadata": {},
   "outputs": [],
   "source": [
    "a = np.array([1,2,3,2,3,4,3,4,5,6]) "
   ]
  },
  {
   "cell_type": "code",
   "execution_count": 107,
   "id": "39e14979",
   "metadata": {},
   "outputs": [],
   "source": [
    "b = np.array([7,2,10,2,7,4,9,4,9,8])"
   ]
  },
  {
   "cell_type": "code",
   "execution_count": 122,
   "id": "9c8b02c6",
   "metadata": {},
   "outputs": [
    {
     "data": {
      "text/plain": [
       "array([1, 3, 5, 7], dtype=int64)"
      ]
     },
     "execution_count": 122,
     "metadata": {},
     "output_type": "execute_result"
    }
   ],
   "source": [
    "np.where(a == b)[0]"
   ]
  },
  {
   "cell_type": "markdown",
   "id": "207fbf1b",
   "metadata": {},
   "source": [
    "# Question 29"
   ]
  },
  {
   "cell_type": "markdown",
   "id": "4112c834",
   "metadata": {},
   "source": [
    "Find all the values from array data where the values from array names are not equal to Will\n",
    "\n",
    "names = np.array(['Bob', 'Joe', 'Will', 'Bob', 'Will', 'Joe', 'Joe']) data = np.random.randn(7, 4)\n"
   ]
  },
  {
   "cell_type": "code",
   "execution_count": 125,
   "id": "c6c8008d",
   "metadata": {},
   "outputs": [],
   "source": [
    "names = np.array(['Bob', 'Joe', 'Will', 'Bob', 'Will', 'Joe', 'Joe']) "
   ]
  },
  {
   "cell_type": "code",
   "execution_count": 126,
   "id": "2ecd91e1",
   "metadata": {},
   "outputs": [],
   "source": [
    "data = np.random.randn(7, 4)"
   ]
  },
  {
   "cell_type": "code",
   "execution_count": 127,
   "id": "55b1ef9f",
   "metadata": {},
   "outputs": [
    {
     "data": {
      "text/plain": [
       "array(['Bob', 'Joe', 'Will', 'Bob', 'Will', 'Joe', 'Joe'], dtype='<U4')"
      ]
     },
     "execution_count": 127,
     "metadata": {},
     "output_type": "execute_result"
    }
   ],
   "source": [
    "names"
   ]
  },
  {
   "cell_type": "code",
   "execution_count": 128,
   "id": "a449f75c",
   "metadata": {},
   "outputs": [
    {
     "data": {
      "text/plain": [
       "array([[ 1.30195854, -1.90033474, -0.96348115, -1.596379  ],\n",
       "       [ 0.78838459,  1.83475096,  1.4111387 ,  1.11857521],\n",
       "       [-0.42029807, -1.76072062,  0.6218547 , -0.84329974],\n",
       "       [-0.96181985,  0.7422104 ,  1.00825985, -2.81141844],\n",
       "       [ 0.78106292,  0.1209458 ,  1.63836022, -0.67839049],\n",
       "       [ 0.6634984 ,  0.342187  ,  0.48686526, -1.06893887],\n",
       "       [ 0.09757254,  0.40105865, -1.57844996,  0.65637627]])"
      ]
     },
     "execution_count": 128,
     "metadata": {},
     "output_type": "execute_result"
    }
   ],
   "source": [
    "data"
   ]
  },
  {
   "cell_type": "code",
   "execution_count": 130,
   "id": "28c02307",
   "metadata": {},
   "outputs": [
    {
     "data": {
      "text/plain": [
       "array([[ 1.30195854, -1.90033474, -0.96348115, -1.596379  ],\n",
       "       [ 0.78838459,  1.83475096,  1.4111387 ,  1.11857521],\n",
       "       [-0.96181985,  0.7422104 ,  1.00825985, -2.81141844],\n",
       "       [ 0.6634984 ,  0.342187  ,  0.48686526, -1.06893887],\n",
       "       [ 0.09757254,  0.40105865, -1.57844996,  0.65637627]])"
      ]
     },
     "execution_count": 130,
     "metadata": {},
     "output_type": "execute_result"
    }
   ],
   "source": [
    "not_will_indices = np.where(names != 'Will')[0]\n",
    "\n",
    "\n",
    "filtered_data = data[not_will_indices]\n",
    "filtered_data"
   ]
  },
  {
   "cell_type": "code",
   "execution_count": 131,
   "id": "feb0c875",
   "metadata": {},
   "outputs": [
    {
     "data": {
      "text/plain": [
       "array([0, 1, 3, 5, 6], dtype=int64)"
      ]
     },
     "execution_count": 131,
     "metadata": {},
     "output_type": "execute_result"
    }
   ],
   "source": [
    "not_will_indices"
   ]
  },
  {
   "cell_type": "markdown",
   "id": "3139d9fb",
   "metadata": {},
   "source": [
    "Explation of the above code \n",
    "\n",
    "np.where(names != 'Will')[0] finds the positions where the elements in the names array are not equal to 'Will'.\n",
    "\n",
    "data[not_will_indices] selects the rows from the data array corresponding to the positions where names are not equal to 'Will'.\n",
    "\n",
    "\n",
    "The selected rows are stored in the variable filtered_data."
   ]
  },
  {
   "cell_type": "markdown",
   "id": "0df318dc",
   "metadata": {},
   "source": [
    "# Question 30"
   ]
  },
  {
   "cell_type": "markdown",
   "id": "971377eb",
   "metadata": {},
   "source": [
    "Find all the values from array data where the values from array names are not equal to Will and Joe\n",
    "\n",
    "names = np.array(['Bob', 'Joe', 'Will', 'Bob', 'Will', 'Joe', 'Joe']) data = np.random.randn(7, 4)"
   ]
  },
  {
   "cell_type": "code",
   "execution_count": 132,
   "id": "c4b67087",
   "metadata": {},
   "outputs": [],
   "source": [
    "names = np.array(['Bob', 'Joe', 'Will', 'Bob', 'Will', 'Joe', 'Joe']) \n"
   ]
  },
  {
   "cell_type": "code",
   "execution_count": 133,
   "id": "a75f273b",
   "metadata": {},
   "outputs": [],
   "source": [
    "data = np.random.randn(7, 4)"
   ]
  },
  {
   "cell_type": "code",
   "execution_count": 134,
   "id": "833b3154",
   "metadata": {},
   "outputs": [
    {
     "data": {
      "text/plain": [
       "array(['Bob', 'Joe', 'Will', 'Bob', 'Will', 'Joe', 'Joe'], dtype='<U4')"
      ]
     },
     "execution_count": 134,
     "metadata": {},
     "output_type": "execute_result"
    }
   ],
   "source": [
    "names"
   ]
  },
  {
   "cell_type": "code",
   "execution_count": 135,
   "id": "552aeefa",
   "metadata": {},
   "outputs": [
    {
     "data": {
      "text/plain": [
       "array([[-0.74693457, -1.50167929, -0.62826119,  1.55365231],\n",
       "       [-0.30338287,  0.01429118,  0.66910735,  0.1380903 ],\n",
       "       [-0.05366858,  1.05774163,  1.52864395, -0.30455661],\n",
       "       [-2.20538501,  0.46407925, -0.24189827,  2.26222693],\n",
       "       [-0.88245729,  1.06255388, -0.54994977, -0.00723319],\n",
       "       [-0.38725929, -1.1009188 ,  0.92298005, -0.27663196],\n",
       "       [ 0.0340775 , -1.00066611, -0.48845311, -0.44777309]])"
      ]
     },
     "execution_count": 135,
     "metadata": {},
     "output_type": "execute_result"
    }
   ],
   "source": [
    "data"
   ]
  },
  {
   "cell_type": "code",
   "execution_count": 140,
   "id": "4e6798be",
   "metadata": {},
   "outputs": [
    {
     "name": "stdout",
     "output_type": "stream",
     "text": [
      "[[-0.74693457 -1.50167929 -0.62826119  1.55365231]\n",
      " [-2.20538501  0.46407925 -0.24189827  2.26222693]]\n"
     ]
    }
   ],
   "source": [
    "not_matched_mask = ~np.isin(names, [\"Will\", \"Joe\"])\n",
    "\n",
    "\n",
    "filtered_data = data[not_matched_mask]\n",
    "\n",
    "print(filtered_data)"
   ]
  },
  {
   "cell_type": "markdown",
   "id": "f60fa1f5",
   "metadata": {},
   "source": [
    "# Question 31"
   ]
  },
  {
   "cell_type": "markdown",
   "id": "c69824ca",
   "metadata": {},
   "source": [
    "Create a 2D array of shape 5x3 to contain decimal numbers between 1 and 15."
   ]
  },
  {
   "cell_type": "code",
   "execution_count": 5,
   "id": "1c8eb4b2",
   "metadata": {},
   "outputs": [
    {
     "data": {
      "text/plain": [
       "array([[ 1.,  2.,  3.],\n",
       "       [ 4.,  5.,  6.],\n",
       "       [ 7.,  8.,  9.],\n",
       "       [10., 11., 12.],\n",
       "       [13., 14., 15.]])"
      ]
     },
     "execution_count": 5,
     "metadata": {},
     "output_type": "execute_result"
    }
   ],
   "source": [
    "import numpy as np\n",
    "\n",
    "arr2d = np.arange(1,16, dtype=float).reshape(5,3)\n",
    "\n",
    "arr2d"
   ]
  },
  {
   "cell_type": "markdown",
   "id": "b35a32e3",
   "metadata": {},
   "source": [
    "# Question 32"
   ]
  },
  {
   "cell_type": "markdown",
   "id": "72ba3820",
   "metadata": {},
   "source": [
    "Create an array of shape (2, 2, 4) with decimal numbers between 1 to 16."
   ]
  },
  {
   "cell_type": "code",
   "execution_count": 7,
   "id": "e4a1e38d",
   "metadata": {},
   "outputs": [
    {
     "name": "stdout",
     "output_type": "stream",
     "text": [
      "[[[ 1.  2.  3.  4.]\n",
      "  [ 5.  6.  7.  8.]]\n",
      "\n",
      " [[ 9. 10. 11. 12.]\n",
      "  [13. 14. 15. 16.]]]\n"
     ]
    }
   ],
   "source": [
    "arr = np.arange(1, 17, dtype=float)\n",
    "\n",
    "\n",
    "arr_3d = arr.reshape(2, 2, 4)\n",
    "\n",
    "print(arr_3d)"
   ]
  },
  {
   "cell_type": "markdown",
   "id": "934fa97a",
   "metadata": {},
   "source": [
    "# Question 33"
   ]
  },
  {
   "cell_type": "markdown",
   "id": "eb744610",
   "metadata": {},
   "source": [
    "Swap axes of the array you created in Question 32"
   ]
  },
  {
   "cell_type": "code",
   "execution_count": 8,
   "id": "3c5e9a8f",
   "metadata": {},
   "outputs": [
    {
     "data": {
      "text/plain": [
       "array([[[ 1.,  2.,  3.,  4.],\n",
       "        [ 5.,  6.,  7.,  8.]],\n",
       "\n",
       "       [[ 9., 10., 11., 12.],\n",
       "        [13., 14., 15., 16.]]])"
      ]
     },
     "execution_count": 8,
     "metadata": {},
     "output_type": "execute_result"
    }
   ],
   "source": [
    "arr_3d"
   ]
  },
  {
   "cell_type": "code",
   "execution_count": 9,
   "id": "a17b891c",
   "metadata": {},
   "outputs": [
    {
     "name": "stdout",
     "output_type": "stream",
     "text": [
      "[[[ 1.  2.  3.  4.]\n",
      "  [ 9. 10. 11. 12.]]\n",
      "\n",
      " [[ 5.  6.  7.  8.]\n",
      "  [13. 14. 15. 16.]]]\n"
     ]
    }
   ],
   "source": [
    "arr_swapped = arr_3d.transpose(1, 0, 2)\n",
    "print(arr_swapped)"
   ]
  },
  {
   "cell_type": "markdown",
   "id": "c500141c",
   "metadata": {},
   "source": [
    "# Question 34"
   ]
  },
  {
   "cell_type": "markdown",
   "id": "d02fe796",
   "metadata": {},
   "source": [
    "Create an array of size 10, and find the square root of every element in the array, if the values less than 0.5, replace them with 0"
   ]
  },
  {
   "cell_type": "code",
   "execution_count": 10,
   "id": "359554a6",
   "metadata": {},
   "outputs": [],
   "source": [
    "arr = np.arange(11)"
   ]
  },
  {
   "cell_type": "code",
   "execution_count": 11,
   "id": "20a5ab2a",
   "metadata": {},
   "outputs": [
    {
     "data": {
      "text/plain": [
       "array([ 0,  1,  2,  3,  4,  5,  6,  7,  8,  9, 10])"
      ]
     },
     "execution_count": 11,
     "metadata": {},
     "output_type": "execute_result"
    }
   ],
   "source": [
    "arr"
   ]
  },
  {
   "cell_type": "code",
   "execution_count": 12,
   "id": "b8a9f656",
   "metadata": {},
   "outputs": [
    {
     "data": {
      "text/plain": [
       "array([0.        , 1.        , 1.41421356, 1.73205081, 2.        ,\n",
       "       2.23606798, 2.44948974, 2.64575131, 2.82842712, 3.        ,\n",
       "       3.16227766])"
      ]
     },
     "execution_count": 12,
     "metadata": {},
     "output_type": "execute_result"
    }
   ],
   "source": [
    "np.sqrt(arr)"
   ]
  },
  {
   "cell_type": "markdown",
   "id": "43dd6b09",
   "metadata": {},
   "source": [
    "# Question 35"
   ]
  },
  {
   "cell_type": "markdown",
   "id": "0f0e8675",
   "metadata": {},
   "source": [
    "Create two random arrays of range 12 and make an array with the maximum values between each element of the two arrays"
   ]
  },
  {
   "cell_type": "code",
   "execution_count": 23,
   "id": "c95dbf17",
   "metadata": {},
   "outputs": [
    {
     "name": "stdout",
     "output_type": "stream",
     "text": [
      "Array 1:\n",
      "[0.07630829 0.77991879 0.43840923 0.72346518 0.97798951 0.53849587\n",
      " 0.50112046 0.07205113 0.26843898 0.4998825  0.67923    0.80373904]\n",
      "\n",
      "Array 2:\n",
      "[0.38094113 0.06593635 0.2881456  0.90959353 0.21338535 0.45212396\n",
      " 0.93120602 0.02489923 0.60054892 0.9501295  0.23030288 0.54848992]\n",
      "\n",
      "Maximum values between corresponding elements:\n",
      "[0.38094113 0.77991879 0.43840923 0.90959353 0.97798951 0.53849587\n",
      " 0.93120602 0.07205113 0.60054892 0.9501295  0.67923    0.80373904]\n"
     ]
    }
   ],
   "source": [
    "array1 = np.random.rand(12)\n",
    "array2 = np.random.rand(12)\n",
    "\n",
    "\n",
    "max_array = np.maximum(array1, array2)\n",
    "\n",
    "print(\"Array 1:\")\n",
    "print(array1)\n",
    "print(\"\\nArray 2:\")\n",
    "print(array2)\n",
    "print(\"\\nMaximum values between corresponding elements:\")\n",
    "print(max_array)"
   ]
  },
  {
   "cell_type": "markdown",
   "id": "1ad585bf",
   "metadata": {},
   "source": [
    "# Question 36"
   ]
  },
  {
   "cell_type": "markdown",
   "id": "490fa4fc",
   "metadata": {},
   "source": [
    "Find the unique names and sort them out!\n",
    "\n",
    "names = np.array(['Bob', 'Joe', 'Will', 'Bob', 'Will', 'Joe', 'Joe'])\n"
   ]
  },
  {
   "cell_type": "code",
   "execution_count": 24,
   "id": "f20391f4",
   "metadata": {},
   "outputs": [],
   "source": [
    "names = np.array(['Bob', 'Joe', 'Will', 'Bob', 'Will', 'Joe', 'Joe'])"
   ]
  },
  {
   "cell_type": "code",
   "execution_count": 27,
   "id": "67bb609f",
   "metadata": {},
   "outputs": [],
   "source": [
    "uniq = np.unique(names)"
   ]
  },
  {
   "cell_type": "code",
   "execution_count": 28,
   "id": "d5a70b16",
   "metadata": {},
   "outputs": [],
   "source": [
    "uniq.sort()"
   ]
  },
  {
   "cell_type": "code",
   "execution_count": 29,
   "id": "e423e31f",
   "metadata": {},
   "outputs": [
    {
     "data": {
      "text/plain": [
       "array(['Bob', 'Joe', 'Will'], dtype='<U4')"
      ]
     },
     "execution_count": 29,
     "metadata": {},
     "output_type": "execute_result"
    }
   ],
   "source": [
    "uniq"
   ]
  },
  {
   "cell_type": "markdown",
   "id": "280a2b3c",
   "metadata": {},
   "source": [
    "# Question 37"
   ]
  },
  {
   "cell_type": "markdown",
   "id": "f0e48982",
   "metadata": {},
   "source": [
    "From array a remove all items present in array b\n",
    "\n",
    "a = np.array([1,2,3,4,5]) b = np.array([5,6,7,8,9])\n"
   ]
  },
  {
   "cell_type": "code",
   "execution_count": 30,
   "id": "b5b953fc",
   "metadata": {},
   "outputs": [],
   "source": [
    "a = np.array([1,2,3,4,5])"
   ]
  },
  {
   "cell_type": "code",
   "execution_count": 34,
   "id": "43cd8a24",
   "metadata": {},
   "outputs": [],
   "source": [
    "b = np.array([5,6,7,8,9])"
   ]
  },
  {
   "cell_type": "code",
   "execution_count": 38,
   "id": "ab81eac9",
   "metadata": {},
   "outputs": [],
   "source": [
    "mask = np.isin(a,b, invert=True)"
   ]
  },
  {
   "cell_type": "code",
   "execution_count": 39,
   "id": "284ebec3",
   "metadata": {},
   "outputs": [
    {
     "name": "stdout",
     "output_type": "stream",
     "text": [
      "[1 2 3 4]\n"
     ]
    }
   ],
   "source": [
    "result = a[mask]\n",
    "\n",
    "print(result)"
   ]
  },
  {
   "cell_type": "markdown",
   "id": "e63fc56a",
   "metadata": {},
   "source": [
    "# Question 38"
   ]
  },
  {
   "cell_type": "markdown",
   "id": "3cbf618b",
   "metadata": {},
   "source": [
    "Following is the input NumPy array delete column two and insert following new column in its place.\n",
    "\n",
    "sampleArray = numpy.array([[34,43,73],[82,22,12],[53,94,66]])\n",
    "\n",
    "newColumn = numpy.array([[10,10,10]])"
   ]
  },
  {
   "cell_type": "code",
   "execution_count": 41,
   "id": "41f3d612",
   "metadata": {},
   "outputs": [],
   "source": [
    "sampleArray = np.array([[34,43,73],[82,22,12],[53,94,66]])\n",
    "\n",
    "newColumn = np.array([[10,10,10]])"
   ]
  },
  {
   "cell_type": "code",
   "execution_count": 42,
   "id": "6e7a8a1e",
   "metadata": {},
   "outputs": [
    {
     "data": {
      "text/plain": [
       "array([[34, 43, 73],\n",
       "       [82, 22, 12],\n",
       "       [53, 94, 66]])"
      ]
     },
     "execution_count": 42,
     "metadata": {},
     "output_type": "execute_result"
    }
   ],
   "source": [
    "sampleArray"
   ]
  },
  {
   "cell_type": "code",
   "execution_count": 43,
   "id": "39cb67b8",
   "metadata": {},
   "outputs": [
    {
     "data": {
      "text/plain": [
       "array([[10, 10, 10]])"
      ]
     },
     "execution_count": 43,
     "metadata": {},
     "output_type": "execute_result"
    }
   ],
   "source": [
    "newColumn"
   ]
  },
  {
   "cell_type": "code",
   "execution_count": 45,
   "id": "1c22e604",
   "metadata": {},
   "outputs": [],
   "source": [
    "sampleArray[:,1] = newColumn"
   ]
  },
  {
   "cell_type": "code",
   "execution_count": 46,
   "id": "825b393b",
   "metadata": {},
   "outputs": [
    {
     "data": {
      "text/plain": [
       "array([[34, 10, 73],\n",
       "       [82, 10, 12],\n",
       "       [53, 10, 66]])"
      ]
     },
     "execution_count": 46,
     "metadata": {},
     "output_type": "execute_result"
    }
   ],
   "source": [
    "sampleArray"
   ]
  },
  {
   "cell_type": "markdown",
   "id": "50e48aea",
   "metadata": {},
   "source": [
    "# Question 39"
   ]
  },
  {
   "cell_type": "markdown",
   "id": "55308f6f",
   "metadata": {},
   "source": [
    "x = np.array([[1., 2., 3.], [4., 5., 6.]]) y = np.array([[6., 23.], [-1, 7], [8, 9]])\n",
    "\n",
    "\n",
    "Find the dot product of the above two matrix"
   ]
  },
  {
   "cell_type": "code",
   "execution_count": 47,
   "id": "fd76de7e",
   "metadata": {},
   "outputs": [],
   "source": [
    "x = np.array([[1., 2., 3.], [4., 5., 6.]])"
   ]
  },
  {
   "cell_type": "code",
   "execution_count": 48,
   "id": "86fd9521",
   "metadata": {},
   "outputs": [],
   "source": [
    "y = np.array([[6., 23.], [-1, 7], [8, 9]])"
   ]
  },
  {
   "cell_type": "code",
   "execution_count": 49,
   "id": "f49d96a5",
   "metadata": {},
   "outputs": [
    {
     "data": {
      "text/plain": [
       "array([[1., 2., 3.],\n",
       "       [4., 5., 6.]])"
      ]
     },
     "execution_count": 49,
     "metadata": {},
     "output_type": "execute_result"
    }
   ],
   "source": [
    "x"
   ]
  },
  {
   "cell_type": "code",
   "execution_count": 50,
   "id": "9880b2b6",
   "metadata": {},
   "outputs": [
    {
     "data": {
      "text/plain": [
       "array([[ 6., 23.],\n",
       "       [-1.,  7.],\n",
       "       [ 8.,  9.]])"
      ]
     },
     "execution_count": 50,
     "metadata": {},
     "output_type": "execute_result"
    }
   ],
   "source": [
    "y"
   ]
  },
  {
   "cell_type": "code",
   "execution_count": 51,
   "id": "0ce2348e",
   "metadata": {},
   "outputs": [
    {
     "data": {
      "text/plain": [
       "array([[ 28.,  64.],\n",
       "       [ 67., 181.]])"
      ]
     },
     "execution_count": 51,
     "metadata": {},
     "output_type": "execute_result"
    }
   ],
   "source": [
    "np.dot(x,y)"
   ]
  },
  {
   "cell_type": "markdown",
   "id": "ed3f4ff8",
   "metadata": {},
   "source": [
    "# Question 40"
   ]
  },
  {
   "cell_type": "markdown",
   "id": "5efe503a",
   "metadata": {},
   "source": [
    "Generate a matrix of 20 random values and find its cumulative sum"
   ]
  },
  {
   "cell_type": "code",
   "execution_count": 52,
   "id": "c02361e8",
   "metadata": {},
   "outputs": [],
   "source": [
    "matrix = np.random.randn(20)"
   ]
  },
  {
   "cell_type": "code",
   "execution_count": 53,
   "id": "4f3e72fb",
   "metadata": {},
   "outputs": [
    {
     "data": {
      "text/plain": [
       "array([ 1.65069969,  0.15433554, -0.38713994,  2.02907222, -0.04538603,\n",
       "       -1.4506787 , -0.40522786, -2.2883151 ,  1.04939655, -0.41647432,\n",
       "       -0.74255353,  1.07247013, -1.65107559,  0.53542936, -2.0644148 ,\n",
       "       -0.66215934, -1.20421985,  1.46197563,  1.76616088, -0.32941375])"
      ]
     },
     "execution_count": 53,
     "metadata": {},
     "output_type": "execute_result"
    }
   ],
   "source": [
    "matrix"
   ]
  },
  {
   "cell_type": "code",
   "execution_count": 54,
   "id": "29398f44",
   "metadata": {},
   "outputs": [
    {
     "data": {
      "text/plain": [
       "array([ 1.65069969,  1.80503523,  1.41789528,  3.4469675 ,  3.40158147,\n",
       "        1.95090278,  1.54567492, -0.74264018,  0.30675637, -0.10971795,\n",
       "       -0.85227148,  0.22019865, -1.43087693, -0.89544758, -2.95986238,\n",
       "       -3.62202172, -4.82624157, -3.36426594, -1.59810506, -1.92751881])"
      ]
     },
     "execution_count": 54,
     "metadata": {},
     "output_type": "execute_result"
    }
   ],
   "source": [
    "np.cumsum(matrix)"
   ]
  },
  {
   "cell_type": "markdown",
   "id": "8ea6f808",
   "metadata": {},
   "source": [
    "# Question 41"
   ]
  },
  {
   "cell_type": "markdown",
   "id": "eaad0184",
   "metadata": {},
   "source": [
    "create a 2d Array with a 60 elements"
   ]
  },
  {
   "cell_type": "code",
   "execution_count": 1,
   "id": "05d446a1",
   "metadata": {},
   "outputs": [
    {
     "data": {
      "text/plain": [
       "array([[ 0,  1,  2,  3,  4,  5,  6,  7,  8,  9, 10, 11, 12, 13, 14],\n",
       "       [15, 16, 17, 18, 19, 20, 21, 22, 23, 24, 25, 26, 27, 28, 29],\n",
       "       [30, 31, 32, 33, 34, 35, 36, 37, 38, 39, 40, 41, 42, 43, 44],\n",
       "       [45, 46, 47, 48, 49, 50, 51, 52, 53, 54, 55, 56, 57, 58, 59]])"
      ]
     },
     "execution_count": 1,
     "metadata": {},
     "output_type": "execute_result"
    }
   ],
   "source": [
    "import numpy as np\n",
    "arra2d =np.arange(60).reshape(4,15)\n",
    "arra2d"
   ]
  },
  {
   "cell_type": "code",
   "execution_count": null,
   "id": "25ba91d0",
   "metadata": {},
   "outputs": [],
   "source": []
  }
 ],
 "metadata": {
  "kernelspec": {
   "display_name": "Python 3 (ipykernel)",
   "language": "python",
   "name": "python3"
  },
  "language_info": {
   "codemirror_mode": {
    "name": "ipython",
    "version": 3
   },
   "file_extension": ".py",
   "mimetype": "text/x-python",
   "name": "python",
   "nbconvert_exporter": "python",
   "pygments_lexer": "ipython3",
   "version": "3.9.7"
  }
 },
 "nbformat": 4,
 "nbformat_minor": 5
}
