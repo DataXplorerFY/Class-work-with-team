{
 "cells": [
  {
   "cell_type": "code",
   "execution_count": 4,
   "id": "d3f65d31",
   "metadata": {},
   "outputs": [
    {
     "name": "stdout",
     "output_type": "stream",
     "text": [
      "Hello World\n"
     ]
    }
   ],
   "source": [
    "def greet_user():\n",
    "    print(\"Hello World\")\n",
    "greet_user()"
   ]
  },
  {
   "cell_type": "markdown",
   "id": "d38f3a3f",
   "metadata": {},
   "source": [
    "# Passing Information to a Function"
   ]
  },
  {
   "cell_type": "code",
   "execution_count": 7,
   "id": "2a3112a7",
   "metadata": {},
   "outputs": [
    {
     "name": "stdout",
     "output_type": "stream",
     "text": [
      "Hello Farhan!\n"
     ]
    }
   ],
   "source": [
    "def greet_user(userName):\n",
    "    print(f\"Hello {userName.title()}!\")\n",
    "greet_user(\"Farhan\")"
   ]
  },
  {
   "cell_type": "markdown",
   "id": "0b03376e",
   "metadata": {},
   "source": [
    "\n",
    "# 8-1. Message: Write a function called display_message() that prints one sentence telling everyone what you are learning about in this chapter. Call the function, and make sure the message displays correctly."
   ]
  },
  {
   "cell_type": "code",
   "execution_count": 8,
   "id": "756b4441",
   "metadata": {},
   "outputs": [
    {
     "name": "stdout",
     "output_type": "stream",
     "text": [
      "what you are learning about in this chapter\n"
     ]
    }
   ],
   "source": [
    "def display_message():\n",
    "    print(\"what you are learning about in this chapter\")\n",
    "    \n",
    "display_message()\n",
    "    "
   ]
  },
  {
   "cell_type": "markdown",
   "id": "d0e8f162",
   "metadata": {},
   "source": [
    "# 8-2. Favorite Book: Write a function called favorite_book() that accepts one parameter, title. The function should print a message, such as One of my favorite books is Alice in Wonderland. Call the function, making sure to include a book title as an argument in the function call."
   ]
  },
  {
   "cell_type": "code",
   "execution_count": 11,
   "id": "ca46a841",
   "metadata": {},
   "outputs": [
    {
     "name": "stdout",
     "output_type": "stream",
     "text": [
      "One of my favorite books is Deep Learning With Python in Wonderland\n"
     ]
    }
   ],
   "source": [
    "def favorite_book(title):\n",
    "    print(f\"One of my favorite books is {title.title()} in Wonderland\")\n",
    "    \n",
    "favorite_book(\"deep learning with python\")"
   ]
  },
  {
   "cell_type": "markdown",
   "id": "125a628a",
   "metadata": {},
   "source": [
    "# Positional Arguments"
   ]
  },
  {
   "cell_type": "code",
   "execution_count": 12,
   "id": "9273356a",
   "metadata": {},
   "outputs": [
    {
     "name": "stdout",
     "output_type": "stream",
     "text": [
      "Farhan ALi\n"
     ]
    }
   ],
   "source": [
    "def fullname(FirstName, LastName):\n",
    "    print(f\"{FirstName} {LastName}\")\n",
    "    \n",
    "fullname(\"Farhan\", \"ALi\")"
   ]
  },
  {
   "cell_type": "markdown",
   "id": "c88d31f2",
   "metadata": {},
   "source": [
    "# Keyword Arguments"
   ]
  },
  {
   "cell_type": "code",
   "execution_count": 2,
   "id": "1d69e60c",
   "metadata": {},
   "outputs": [
    {
     "name": "stdout",
     "output_type": "stream",
     "text": [
      "Farhan ALi\n"
     ]
    }
   ],
   "source": [
    "def fullname_01(FirstName, LastName):\n",
    "    print(f\"{FirstName} {LastName}\")\n",
    "    \n",
    "fullname_01(LastName=\"ALi\",FirstName=\"Farhan\")"
   ]
  },
  {
   "cell_type": "markdown",
   "id": "dd74006f",
   "metadata": {},
   "source": [
    "# Default Values"
   ]
  },
  {
   "cell_type": "code",
   "execution_count": 6,
   "id": "77edb2f2",
   "metadata": {},
   "outputs": [
    {
     "name": "stdout",
     "output_type": "stream",
     "text": [
      "70.0\n"
     ]
    }
   ],
   "source": [
    "def cgpaCalculator(cgpa, totalCGPA = 4):\n",
    "    \n",
    "    TotalScore = (cgpa/totalCGPA)*100\n",
    "    print(TotalScore)\n",
    "    \n",
    "    \n",
    "cgpaCalculator(2.8)"
   ]
  },
  {
   "cell_type": "markdown",
   "id": "3d73ccc4",
   "metadata": {},
   "source": [
    "# 8-3. T-Shirt: Write a function called make_shirt() that accepts a size and the text of a message that should be printed on the shirt. The function should print a sentence summarizing the size of the shirt and the message printed on it. Call the function once using positional arguments to make a shirt. Call the function a second time using keyword arguments."
   ]
  },
  {
   "cell_type": "code",
   "execution_count": 12,
   "id": "e39db8a1",
   "metadata": {},
   "outputs": [
    {
     "name": "stdout",
     "output_type": "stream",
     "text": [
      "your shirt size is medium, and message is teenager shirt\n"
     ]
    }
   ],
   "source": [
    "def make_shirt(size, message):\n",
    "    print(f\"your shirt size is {size}, and message is {message}\")\n",
    "\n",
    "make_shirt(\"medium\", \"teenager shirt\")\n",
    "   "
   ]
  },
  {
   "cell_type": "code",
   "execution_count": 13,
   "id": "4c49d87d",
   "metadata": {},
   "outputs": [
    {
     "name": "stdout",
     "output_type": "stream",
     "text": [
      "your shirt size is LArge, and message is Boys shirt\n"
     ]
    }
   ],
   "source": [
    "make_shirt(message = \"Boys shirt\", size = \"Large\")"
   ]
  },
  {
   "cell_type": "markdown",
   "id": "a9935cdd",
   "metadata": {},
   "source": [
    "# 8-4. Large Shirts: Modify the make_shirt() function so that shirts are large by default with a message that reads I love Python. Make a large shirt and a medium shirt with the default message, and a shirt of any size with a different message."
   ]
  },
  {
   "cell_type": "code",
   "execution_count": 17,
   "id": "b09fa336",
   "metadata": {},
   "outputs": [
    {
     "name": "stdout",
     "output_type": "stream",
     "text": [
      "your shirt size is Large, and message is I love python\n",
      "your shirt size is medium, and message is I love python\n",
      "your shirt size is small, and message is This is different message\n"
     ]
    }
   ],
   "source": [
    "def make_shirt(size=\"Large\", message=\"I love python\"):\n",
    "    print(f\"your shirt size is {size}, and message is {message}\")\n",
    "    \n",
    "make_shirt()\n",
    "make_shirt(size=\"medium\")\n",
    "make_shirt(size=\"small\", message=\"This is different message\")"
   ]
  },
  {
   "cell_type": "markdown",
   "id": "e8444d4d",
   "metadata": {},
   "source": [
    "# 8-5. Cities: Write a function called describe_city() that accepts the name of a city and its country. The function should print a simple sentence, such as Reykjavik is in Iceland. Give the parameter for the country a default value. Call your function for three different cities, at least one of which is not in the default country"
   ]
  },
  {
   "cell_type": "code",
   "execution_count": 19,
   "id": "60bf1069",
   "metadata": {},
   "outputs": [
    {
     "name": "stdout",
     "output_type": "stream",
     "text": [
      "Faisalabad is in pakistan\n"
     ]
    }
   ],
   "source": [
    "def describe_city(name, country=\"pakistan\"):\n",
    "    print(f\"{name} is in {country}\")\n",
    "    \n",
    "describe_city(\"Faisalabad\")"
   ]
  },
  {
   "cell_type": "code",
   "execution_count": 20,
   "id": "a79163ee",
   "metadata": {},
   "outputs": [
    {
     "name": "stdout",
     "output_type": "stream",
     "text": [
      "lahore is in pakistan\n"
     ]
    }
   ],
   "source": [
    "describe_city(\"lahore\")"
   ]
  },
  {
   "cell_type": "code",
   "execution_count": 21,
   "id": "805d2fe6",
   "metadata": {},
   "outputs": [
    {
     "name": "stdout",
     "output_type": "stream",
     "text": [
      "Vienna is in Austria\n"
     ]
    }
   ],
   "source": [
    "describe_city(\"Vienna\", country=\"Austria\")"
   ]
  },
  {
   "cell_type": "markdown",
   "id": "2ade13b5",
   "metadata": {},
   "source": [
    "# Return Values"
   ]
  },
  {
   "cell_type": "code",
   "execution_count": 23,
   "id": "085c0637",
   "metadata": {},
   "outputs": [
    {
     "name": "stdout",
     "output_type": "stream",
     "text": [
      "30\n"
     ]
    }
   ],
   "source": [
    "def sumTwo(num1, num2):\n",
    "    totalNum = num1 + num2\n",
    "    return totalNum\n",
    "\n",
    "\n",
    "numbers = sumTwo(10,20)\n",
    "print(numbers)"
   ]
  },
  {
   "cell_type": "markdown",
   "id": "065b25bd",
   "metadata": {},
   "source": [
    "# Making an Argument Optional"
   ]
  },
  {
   "cell_type": "code",
   "execution_count": 26,
   "id": "ba7f950f",
   "metadata": {},
   "outputs": [
    {
     "name": "stdout",
     "output_type": "stream",
     "text": [
      "Muhammad Ali Farhan\n"
     ]
    }
   ],
   "source": [
    "def get_formatted_name(first_name,last_name, middle_name='' ):\n",
    "    if middle_name:\n",
    "        fullName = f\"{first_name} {middle_name} {last_name}\"\n",
    "        \n",
    "    else:\n",
    "        fullName = f\"{first_name} {last_name}\"\n",
    "    \n",
    "    return fullName.title()\n",
    "\n",
    "name = get_formatted_name(\"Muhammad\", \"Farhan\", \"Ali\")\n",
    "print(name)\n",
    "       "
   ]
  },
  {
   "cell_type": "code",
   "execution_count": 27,
   "id": "99692aa5",
   "metadata": {},
   "outputs": [
    {
     "name": "stdout",
     "output_type": "stream",
     "text": [
      "Muhammad Ali\n"
     ]
    }
   ],
   "source": [
    "name2 = get_formatted_name(\"Muhammad\", \"Ali\")\n",
    "print(name2)"
   ]
  },
  {
   "cell_type": "markdown",
   "id": "72a5a94b",
   "metadata": {},
   "source": [
    "# 8-6. City Names: Write a function called city_country() that takes in the name of a city and its country. The function should return a string formatted like this:"
   ]
  },
  {
   "cell_type": "markdown",
   "id": "3cef28c8",
   "metadata": {},
   "source": [
    "\"Santiago, Chile\"\n",
    "\n",
    "Call your function with at least three city-country pairs, and print the values\n",
    "that are returned."
   ]
  },
  {
   "cell_type": "code",
   "execution_count": 28,
   "id": "4aaafcd0",
   "metadata": {},
   "outputs": [
    {
     "name": "stdout",
     "output_type": "stream",
     "text": [
      "Faisalabad,Pakistan\n"
     ]
    }
   ],
   "source": [
    "def city_country(city, country):\n",
    "    Name = f\"{city},{country}\"\n",
    "    return Name\n",
    "City_name = city_country(\"Faisalabad\", \"Pakistan\")\n",
    "print(City_name)"
   ]
  },
  {
   "cell_type": "markdown",
   "id": "79c1bbe0",
   "metadata": {},
   "source": [
    "# 8-7. Album: Write a function called make_album() that builds a dictionary describing a music album. The function should take in an artist name and an album title, and it should return a dictionary containing these two pieces of information. Use the function to make three dictionaries representing different albums. Print each return value to show that the dictionaries are storing the album information correctly. Use None to add an optional parameter to make_album() that allows you to store the number of songs on an album. If the calling line includes a value for the number of songs, add that value to the album’s dictionary. Make at least one new function call that includes the number of songs on an album."
   ]
  },
  {
   "cell_type": "code",
   "execution_count": null,
   "id": "339dd217",
   "metadata": {},
   "outputs": [],
   "source": [
    "def make_album(Artist_Name, Album_Title):\n",
    "    "
   ]
  }
 ],
 "metadata": {
  "kernelspec": {
   "display_name": "Python 3 (ipykernel)",
   "language": "python",
   "name": "python3"
  },
  "language_info": {
   "codemirror_mode": {
    "name": "ipython",
    "version": 3
   },
   "file_extension": ".py",
   "mimetype": "text/x-python",
   "name": "python",
   "nbconvert_exporter": "python",
   "pygments_lexer": "ipython3",
   "version": "3.9.7"
  }
 },
 "nbformat": 4,
 "nbformat_minor": 5
}
