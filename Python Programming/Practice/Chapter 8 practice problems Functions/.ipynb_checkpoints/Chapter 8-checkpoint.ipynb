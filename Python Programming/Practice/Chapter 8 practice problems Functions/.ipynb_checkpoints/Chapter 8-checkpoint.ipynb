{
 "cells": [
  {
   "cell_type": "code",
   "execution_count": 4,
   "id": "d3f65d31",
   "metadata": {},
   "outputs": [
    {
     "name": "stdout",
     "output_type": "stream",
     "text": [
      "Hello World\n"
     ]
    }
   ],
   "source": [
    "def greet_user():\n",
    "    print(\"Hello World\")\n",
    "greet_user()"
   ]
  },
  {
   "cell_type": "markdown",
   "id": "d38f3a3f",
   "metadata": {},
   "source": [
    "# Passing Information to a Function"
   ]
  },
  {
   "cell_type": "code",
   "execution_count": 7,
   "id": "2a3112a7",
   "metadata": {},
   "outputs": [
    {
     "name": "stdout",
     "output_type": "stream",
     "text": [
      "Hello Farhan!\n"
     ]
    }
   ],
   "source": [
    "def greet_user(userName):\n",
    "    print(f\"Hello {userName.title()}!\")\n",
    "greet_user(\"Farhan\")"
   ]
  },
  {
   "cell_type": "markdown",
   "id": "0b03376e",
   "metadata": {},
   "source": [
    "\n",
    "# 8-1. Message: Write a function called display_message() that prints one sentence telling everyone what you are learning about in this chapter. Call the function, and make sure the message displays correctly."
   ]
  },
  {
   "cell_type": "code",
   "execution_count": 8,
   "id": "756b4441",
   "metadata": {},
   "outputs": [
    {
     "name": "stdout",
     "output_type": "stream",
     "text": [
      "what you are learning about in this chapter\n"
     ]
    }
   ],
   "source": [
    "def display_message():\n",
    "    print(\"what you are learning about in this chapter\")\n",
    "    \n",
    "display_message()\n",
    "    "
   ]
  },
  {
   "cell_type": "markdown",
   "id": "d0e8f162",
   "metadata": {},
   "source": [
    "# 8-2. Favorite Book: Write a function called favorite_book() that accepts one parameter, title. The function should print a message, such as One of my favorite books is Alice in Wonderland. Call the function, making sure to include a book title as an argument in the function call."
   ]
  },
  {
   "cell_type": "code",
   "execution_count": 11,
   "id": "ca46a841",
   "metadata": {},
   "outputs": [
    {
     "name": "stdout",
     "output_type": "stream",
     "text": [
      "One of my favorite books is Deep Learning With Python in Wonderland\n"
     ]
    }
   ],
   "source": [
    "def favorite_book(title):\n",
    "    print(f\"One of my favorite books is {title.title()} in Wonderland\")\n",
    "    \n",
    "favorite_book(\"deep learning with python\")"
   ]
  },
  {
   "cell_type": "markdown",
   "id": "125a628a",
   "metadata": {},
   "source": [
    "# Positional Arguments"
   ]
  },
  {
   "cell_type": "code",
   "execution_count": 12,
   "id": "9273356a",
   "metadata": {},
   "outputs": [
    {
     "name": "stdout",
     "output_type": "stream",
     "text": [
      "Farhan ALi\n"
     ]
    }
   ],
   "source": [
    "def fullname(FirstName, LastName):\n",
    "    print(f\"{FirstName} {LastName}\")\n",
    "    \n",
    "fullname(\"Farhan\", \"ALi\")"
   ]
  },
  {
   "cell_type": "code",
   "execution_count": null,
   "id": "5d1b239f",
   "metadata": {},
   "outputs": [],
   "source": []
  }
 ],
 "metadata": {
  "kernelspec": {
   "display_name": "Python 3 (ipykernel)",
   "language": "python",
   "name": "python3"
  },
  "language_info": {
   "codemirror_mode": {
    "name": "ipython",
    "version": 3
   },
   "file_extension": ".py",
   "mimetype": "text/x-python",
   "name": "python",
   "nbconvert_exporter": "python",
   "pygments_lexer": "ipython3",
   "version": "3.9.7"
  }
 },
 "nbformat": 4,
 "nbformat_minor": 5
}
