{
 "cells": [
  {
   "cell_type": "code",
   "execution_count": 4,
   "id": "d3f65d31",
   "metadata": {},
   "outputs": [
    {
     "name": "stdout",
     "output_type": "stream",
     "text": [
      "Hello World\n"
     ]
    }
   ],
   "source": [
    "def greet_user():\n",
    "    print(\"Hello World\")\n",
    "greet_user()"
   ]
  },
  {
   "cell_type": "markdown",
   "id": "d38f3a3f",
   "metadata": {},
   "source": [
    "# Passing Information to a Function"
   ]
  },
  {
   "cell_type": "code",
   "execution_count": 7,
   "id": "2a3112a7",
   "metadata": {},
   "outputs": [
    {
     "name": "stdout",
     "output_type": "stream",
     "text": [
      "Hello Farhan!\n"
     ]
    }
   ],
   "source": [
    "def greet_user(userName):\n",
    "    print(f\"Hello {userName.title()}!\")\n",
    "greet_user(\"Farhan\")"
   ]
  },
  {
   "cell_type": "markdown",
   "id": "0b03376e",
   "metadata": {},
   "source": [
    "\n",
    "# 8-1. Message: Write a function called display_message() that prints one sentence telling everyone what you are learning about in this chapter. Call the function, and make sure the message displays correctly."
   ]
  },
  {
   "cell_type": "code",
   "execution_count": 8,
   "id": "756b4441",
   "metadata": {},
   "outputs": [
    {
     "name": "stdout",
     "output_type": "stream",
     "text": [
      "what you are learning about in this chapter\n"
     ]
    }
   ],
   "source": [
    "def display_message():\n",
    "    print(\"what you are learning about in this chapter\")\n",
    "    \n",
    "display_message()\n",
    "    "
   ]
  },
  {
   "cell_type": "markdown",
   "id": "d0e8f162",
   "metadata": {},
   "source": [
    "# 8-2. Favorite Book: Write a function called favorite_book() that accepts one parameter, title. The function should print a message, such as One of my favorite books is Alice in Wonderland. Call the function, making sure to include a book title as an argument in the function call."
   ]
  },
  {
   "cell_type": "code",
   "execution_count": 11,
   "id": "ca46a841",
   "metadata": {},
   "outputs": [
    {
     "name": "stdout",
     "output_type": "stream",
     "text": [
      "One of my favorite books is Deep Learning With Python in Wonderland\n"
     ]
    }
   ],
   "source": [
    "def favorite_book(title):\n",
    "    print(f\"One of my favorite books is {title.title()} in Wonderland\")\n",
    "    \n",
    "favorite_book(\"deep learning with python\")"
   ]
  },
  {
   "cell_type": "markdown",
   "id": "125a628a",
   "metadata": {},
   "source": [
    "# Positional Arguments"
   ]
  },
  {
   "cell_type": "code",
   "execution_count": 12,
   "id": "9273356a",
   "metadata": {},
   "outputs": [
    {
     "name": "stdout",
     "output_type": "stream",
     "text": [
      "Farhan ALi\n"
     ]
    }
   ],
   "source": [
    "def fullname(FirstName, LastName):\n",
    "    print(f\"{FirstName} {LastName}\")\n",
    "    \n",
    "fullname(\"Farhan\", \"ALi\")"
   ]
  },
  {
   "cell_type": "markdown",
   "id": "c88d31f2",
   "metadata": {},
   "source": [
    "# Keyword Arguments"
   ]
  },
  {
   "cell_type": "code",
   "execution_count": 2,
   "id": "1d69e60c",
   "metadata": {},
   "outputs": [
    {
     "name": "stdout",
     "output_type": "stream",
     "text": [
      "Farhan ALi\n"
     ]
    }
   ],
   "source": [
    "def fullname_01(FirstName, LastName):\n",
    "    print(f\"{FirstName} {LastName}\")\n",
    "    \n",
    "fullname_01(LastName=\"ALi\",FirstName=\"Farhan\")"
   ]
  },
  {
   "cell_type": "markdown",
   "id": "dd74006f",
   "metadata": {},
   "source": [
    "# Default Values"
   ]
  },
  {
   "cell_type": "code",
   "execution_count": 6,
   "id": "77edb2f2",
   "metadata": {},
   "outputs": [
    {
     "name": "stdout",
     "output_type": "stream",
     "text": [
      "70.0\n"
     ]
    }
   ],
   "source": [
    "def cgpaCalculator(cgpa, totalCGPA = 4):\n",
    "    \n",
    "    TotalScore = (cgpa/totalCGPA)*100\n",
    "    print(TotalScore)\n",
    "    \n",
    "    \n",
    "cgpaCalculator(2.8)"
   ]
  },
  {
   "cell_type": "markdown",
   "id": "3d73ccc4",
   "metadata": {},
   "source": [
    "# 8-3. T-Shirt: Write a function called make_shirt() that accepts a size and the text of a message that should be printed on the shirt. The function should print a sentence summarizing the size of the shirt and the message printed on it. Call the function once using positional arguments to make a shirt. Call the function a second time using keyword arguments."
   ]
  },
  {
   "cell_type": "code",
   "execution_count": 12,
   "id": "e39db8a1",
   "metadata": {},
   "outputs": [
    {
     "name": "stdout",
     "output_type": "stream",
     "text": [
      "your shirt size is medium, and message is teenager shirt\n"
     ]
    }
   ],
   "source": [
    "def make_shirt(size, message):\n",
    "    print(f\"your shirt size is {size}, and message is {message}\")\n",
    "\n",
    "make_shirt(\"medium\", \"teenager shirt\")\n",
    "   "
   ]
  },
  {
   "cell_type": "code",
   "execution_count": 13,
   "id": "4c49d87d",
   "metadata": {},
   "outputs": [
    {
     "name": "stdout",
     "output_type": "stream",
     "text": [
      "your shirt size is LArge, and message is Boys shirt\n"
     ]
    }
   ],
   "source": [
    "make_shirt(message = \"Boys shirt\", size = \"Large\")"
   ]
  },
  {
   "cell_type": "markdown",
   "id": "a9935cdd",
   "metadata": {},
   "source": [
    "# 8-4. Large Shirts: Modify the make_shirt() function so that shirts are large by default with a message that reads I love Python. Make a large shirt and a medium shirt with the default message, and a shirt of any size with a different message."
   ]
  },
  {
   "cell_type": "code",
   "execution_count": 17,
   "id": "b09fa336",
   "metadata": {},
   "outputs": [
    {
     "name": "stdout",
     "output_type": "stream",
     "text": [
      "your shirt size is Large, and message is I love python\n",
      "your shirt size is medium, and message is I love python\n",
      "your shirt size is small, and message is This is different message\n"
     ]
    }
   ],
   "source": [
    "def make_shirt(size=\"Large\", message=\"I love python\"):\n",
    "    print(f\"your shirt size is {size}, and message is {message}\")\n",
    "    \n",
    "make_shirt()\n",
    "make_shirt(size=\"medium\")\n",
    "make_shirt(size=\"small\", message=\"This is different message\")"
   ]
  },
  {
   "cell_type": "markdown",
   "id": "e8444d4d",
   "metadata": {},
   "source": [
    "# 8-5. Cities: Write a function called describe_city() that accepts the name of a city and its country. The function should print a simple sentence, such as Reykjavik is in Iceland. Give the parameter for the country a default value. Call your function for three different cities, at least one of which is not in the default country"
   ]
  },
  {
   "cell_type": "code",
   "execution_count": 19,
   "id": "60bf1069",
   "metadata": {},
   "outputs": [
    {
     "name": "stdout",
     "output_type": "stream",
     "text": [
      "Faisalabad is in pakistan\n"
     ]
    }
   ],
   "source": [
    "def describe_city(name, country=\"pakistan\"):\n",
    "    print(f\"{name} is in {country}\")\n",
    "    \n",
    "describe_city(\"Faisalabad\")"
   ]
  },
  {
   "cell_type": "code",
   "execution_count": 20,
   "id": "a79163ee",
   "metadata": {},
   "outputs": [
    {
     "name": "stdout",
     "output_type": "stream",
     "text": [
      "lahore is in pakistan\n"
     ]
    }
   ],
   "source": [
    "describe_city(\"lahore\")"
   ]
  },
  {
   "cell_type": "code",
   "execution_count": 21,
   "id": "805d2fe6",
   "metadata": {},
   "outputs": [
    {
     "name": "stdout",
     "output_type": "stream",
     "text": [
      "Vienna is in Austria\n"
     ]
    }
   ],
   "source": [
    "describe_city(\"Vienna\", country=\"Austria\")"
   ]
  },
  {
   "cell_type": "markdown",
   "id": "2ade13b5",
   "metadata": {},
   "source": [
    "# Return Values"
   ]
  },
  {
   "cell_type": "code",
   "execution_count": 23,
   "id": "085c0637",
   "metadata": {},
   "outputs": [
    {
     "name": "stdout",
     "output_type": "stream",
     "text": [
      "30\n"
     ]
    }
   ],
   "source": [
    "def sumTwo(num1, num2):\n",
    "    totalNum = num1 + num2\n",
    "    return totalNum\n",
    "\n",
    "\n",
    "numbers = sumTwo(10,20)\n",
    "print(numbers)"
   ]
  },
  {
   "cell_type": "markdown",
   "id": "065b25bd",
   "metadata": {},
   "source": [
    "# Making an Argument Optional"
   ]
  },
  {
   "cell_type": "code",
   "execution_count": 26,
   "id": "ba7f950f",
   "metadata": {},
   "outputs": [
    {
     "name": "stdout",
     "output_type": "stream",
     "text": [
      "Muhammad Ali Farhan\n"
     ]
    }
   ],
   "source": [
    "def get_formatted_name(first_name,last_name, middle_name='' ):\n",
    "    if middle_name:\n",
    "        fullName = f\"{first_name} {middle_name} {last_name}\"\n",
    "        \n",
    "    else:\n",
    "        fullName = f\"{first_name} {last_name}\"\n",
    "    \n",
    "    return fullName.title()\n",
    "\n",
    "name = get_formatted_name(\"Muhammad\", \"Farhan\", \"Ali\")\n",
    "print(name)\n",
    "       "
   ]
  },
  {
   "cell_type": "code",
   "execution_count": 27,
   "id": "99692aa5",
   "metadata": {},
   "outputs": [
    {
     "name": "stdout",
     "output_type": "stream",
     "text": [
      "Muhammad Ali\n"
     ]
    }
   ],
   "source": [
    "name2 = get_formatted_name(\"Muhammad\", \"Ali\")\n",
    "print(name2)"
   ]
  },
  {
   "cell_type": "markdown",
   "id": "72a5a94b",
   "metadata": {},
   "source": [
    "# 8-6. City Names: Write a function called city_country() that takes in the name of a city and its country. The function should return a string formatted like this:"
   ]
  },
  {
   "cell_type": "markdown",
   "id": "3cef28c8",
   "metadata": {},
   "source": [
    "\"Santiago, Chile\"\n",
    "\n",
    "Call your function with at least three city-country pairs, and print the values\n",
    "that are returned."
   ]
  },
  {
   "cell_type": "code",
   "execution_count": 28,
   "id": "4aaafcd0",
   "metadata": {},
   "outputs": [
    {
     "name": "stdout",
     "output_type": "stream",
     "text": [
      "Faisalabad,Pakistan\n"
     ]
    }
   ],
   "source": [
    "def city_country(city, country):\n",
    "    Name = f\"{city},{country}\"\n",
    "    return Name\n",
    "City_name = city_country(\"Faisalabad\", \"Pakistan\")\n",
    "print(City_name)"
   ]
  },
  {
   "cell_type": "markdown",
   "id": "79c1bbe0",
   "metadata": {},
   "source": [
    "# 8-7. Album: Write a function called make_album() that builds a dictionary describing a music album. The function should take in an artist name and an album title, and it should return a dictionary containing these two pieces of information. Use the function to make three dictionaries representing different albums. Print each return value to show that the dictionaries are storing the album information correctly. Use None to add an optional parameter to make_album() that allows you to store the number of songs on an album. If the calling line includes a value for the number of songs, add that value to the album’s dictionary. Make at least one new function call that includes the number of songs on an album."
   ]
  },
  {
   "cell_type": "code",
   "execution_count": 3,
   "id": "339dd217",
   "metadata": {},
   "outputs": [
    {
     "name": "stdout",
     "output_type": "stream",
     "text": [
      "{'artist': 'Ali', 'title': 'Album1', 'num_songs': 10}\n",
      "{'artist': 'Asad', 'title': 'Album2', 'num_songs': 12}\n",
      "{'artist': 'Leo', 'title': 'Album3'}\n"
     ]
    }
   ],
   "source": [
    "def make_album(artist_name, album_title, num_songs=None):\n",
    "    album = {'artist': artist_name, 'title': album_title}\n",
    "    if num_songs:\n",
    "        album['num_songs'] = num_songs\n",
    "    return album\n",
    "\n",
    "\n",
    "album1 = make_album('Ali', 'Album1', 10)\n",
    "album2 = make_album('Asad', 'Album2', 12)\n",
    "album3 = make_album('Leo', 'Album3')\n",
    "\n",
    "\n",
    "print(album1)\n",
    "print(album2)\n",
    "print(album3)"
   ]
  },
  {
   "cell_type": "markdown",
   "id": "385ccb11",
   "metadata": {},
   "source": [
    "# 8-8. User Albums: Start with your program from Exercise 8-7. Write a while  loop that allows users to enter an album’s artist and title. Once you have that information, call make_album() with the user’s input and print the dictionary that’s created. Be sure to include a quit value in the while loop"
   ]
  },
  {
   "cell_type": "code",
   "execution_count": 2,
   "id": "16b8bf27",
   "metadata": {},
   "outputs": [
    {
     "name": "stdout",
     "output_type": "stream",
     "text": [
      "Enter the artist's name (or 'quit' to exit): Farhan\n",
      "Enter the album's title: Udaasiyan\n",
      "{'artist': 'Farhan', 'title': 'Udaasiyan'}\n",
      "Enter the artist's name (or 'quit' to exit): quit\n"
     ]
    }
   ],
   "source": [
    "def make_album(artist_name, album_title, num_songs=None):\n",
    "    album = {'artist': artist_name, 'title': album_title}\n",
    "    if num_songs:\n",
    "        album['num_songs'] = num_songs\n",
    "    return album\n",
    "\n",
    "while True:\n",
    "    artist = input(\"Enter the artist's name (or 'quit' to exit): \")\n",
    "    if artist.lower() == 'quit':\n",
    "        break\n",
    "    title = input(\"Enter the album's title: \")\n",
    "    album_info = make_album(artist, title)\n",
    "    print(album_info)"
   ]
  },
  {
   "cell_type": "markdown",
   "id": "eeacac23",
   "metadata": {},
   "source": [
    "# 8-9. Messages: Make a list containing a series of short text messages. Pass the list to a function called show_messages(), which prints each text message."
   ]
  },
  {
   "cell_type": "code",
   "execution_count": 4,
   "id": "efe22261",
   "metadata": {},
   "outputs": [
    {
     "name": "stdout",
     "output_type": "stream",
     "text": [
      "Hello!\n",
      "How are you?\n",
      "What's up?\n",
      "Just checking in.\n",
      "Have a great day!\n"
     ]
    }
   ],
   "source": [
    "def show_messages(messages):\n",
    "    for message in messages:\n",
    "        print(message)\n",
    "\n",
    "\n",
    "text_messages = [\n",
    "    \"Hello!\",\n",
    "    \"How are you?\",\n",
    "    \"What's up?\",\n",
    "    \"Just checking in.\",\n",
    "    \"Have a great day!\"\n",
    "]\n",
    "\n",
    "\n",
    "show_messages(text_messages)\n"
   ]
  },
  {
   "cell_type": "markdown",
   "id": "fba8fb15",
   "metadata": {},
   "source": [
    "# 8-10. Sending Messages: Start with a copy of your program from Exercise 8-9. Write a function called send_messages() that prints each text message and moves each message to a new list called sent_messages as it’s printed. After calling the function, print both of your lists to make sure the messages were moved correctly"
   ]
  },
  {
   "cell_type": "code",
   "execution_count": 6,
   "id": "16a79c0e",
   "metadata": {},
   "outputs": [
    {
     "name": "stdout",
     "output_type": "stream",
     "text": [
      "Hi\n",
      "Hello How are you\n",
      "This is sent_message list ['Hi', 'Hello How are you']\n"
     ]
    }
   ],
   "source": [
    "sent_messages = []\n",
    "\n",
    "def send_messages(messages):\n",
    "    for message in messages:\n",
    "        print(message)\n",
    "        sent_messages.append(message)\n",
    "        \n",
    "        \n",
    "listofMessage = [\"Hi\", \"Hello How are you\"]\n",
    "\n",
    "send_messages(listofMessage)\n",
    "print(\"This is sent_message list\", sent_messages)"
   ]
  },
  {
   "cell_type": "markdown",
   "id": "94f4acd6",
   "metadata": {},
   "source": [
    "# 8-11. Archived Messages: Start with your work from Exercise 8-10. Call the function send_messages() with a copy of the list of messages. After calling the function, print both of your lists to show that the original list has retained its messages."
   ]
  },
  {
   "cell_type": "code",
   "execution_count": 8,
   "id": "3af71f27",
   "metadata": {},
   "outputs": [
    {
     "name": "stdout",
     "output_type": "stream",
     "text": [
      "Hi\n",
      "Hello, how are you?\n",
      "Original list of messages: ['Hi', 'Hello, how are you?']\n",
      "Sent messages list: ['Hi', 'Hello, how are you?']\n"
     ]
    }
   ],
   "source": [
    "sent_messages = []\n",
    "\n",
    "def send_messages(messages):\n",
    "    for message in messages:\n",
    "        print(message)\n",
    "        sent_messages.append(message)\n",
    "\n",
    "\n",
    "listofMessage = [\"Hi\", \"Hello, how are you?\"]\n",
    "\n",
    "\n",
    "send_messages(listofMessage[:]) \n",
    "\n",
    "\n",
    "print(\"Original list of messages:\", listofMessage)\n",
    "print(\"Sent messages list:\", sent_messages)"
   ]
  },
  {
   "cell_type": "markdown",
   "id": "99ff2cc6",
   "metadata": {},
   "source": [
    "# 8-12. Sandwiches: Write a function that accepts a list of items a person wants on a sandwich. The function should have one parameter that collects as many items as the function call provides, and it should print a summary of the sandwich that’s being ordered. Call the function three times, using a different number of arguments each time."
   ]
  },
  {
   "cell_type": "code",
   "execution_count": 9,
   "id": "f5d25cdc",
   "metadata": {},
   "outputs": [
    {
     "name": "stdout",
     "output_type": "stream",
     "text": [
      "**** SUMMARY ****\n",
      "mayonease\n",
      "Catchup\n",
      "Salad\n"
     ]
    }
   ],
   "source": [
    "def sandwiches(listofitems):\n",
    "    print(\"**** SUMMARY ****\")\n",
    "    for item in listofitems:\n",
    "        print(item)\n",
    "        \n",
    "sandwiches([\"mayonease\", \"Catchup\",\"Salad\"])\n",
    "    "
   ]
  },
  {
   "cell_type": "markdown",
   "id": "61857610",
   "metadata": {},
   "source": [
    "# 8-13. User Profile: Start with a copy of user_profile.py from page 148. Build a profile of yourself by calling build_profile(), using your first and last names and three other key-value pairs that describe you"
   ]
  },
  {
   "cell_type": "code",
   "execution_count": 12,
   "id": "0db7aa55",
   "metadata": {},
   "outputs": [
    {
     "name": "stdout",
     "output_type": "stream",
     "text": [
      "('Name', 'FarhanAli')\n",
      "('Age', 23)\n",
      "('Height', 5.8)\n",
      "('Education', 'BSSE')\n",
      "('Skills', 'Python')\n"
     ]
    }
   ],
   "source": [
    "def build_profile(firstName, lastName, age, height, education, skill):\n",
    "    fullName = firstName + lastName\n",
    "    profile = {\"Name\":fullName, \"Age\":age, \"Height\":height, \"Education\":education, \"Skills\":skill}\n",
    "    for i in profile.items():\n",
    "        print(i)\n",
    "        \n",
    "build_profile(\"Farhan\",\"Ali\",23,5.8,\"BSSE\",\"Python\")"
   ]
  },
  {
   "cell_type": "markdown",
   "id": "a233a7b0",
   "metadata": {},
   "source": [
    "# 8-14. Cars: Write a function that stores information about a car in a dictionary. The function should always receive a manufacturer and a model name. It should then accept an arbitrary number of keyword arguments. Call the function with the required information and two other name-value pairs, such as a color or an optional feature. Your function should work for a call like this one:"
   ]
  },
  {
   "cell_type": "markdown",
   "id": "4e5e4e85",
   "metadata": {},
   "source": [
    "car = make_car('subaru', 'outback', color='blue', tow_package=True)\n",
    "\n",
    "Print the dictionary that’s returned to make sure all the information was\n",
    "stored correctly"
   ]
  },
  {
   "cell_type": "code",
   "execution_count": 18,
   "id": "6b245182",
   "metadata": {},
   "outputs": [
    {
     "name": "stdout",
     "output_type": "stream",
     "text": [
      "{'Manufacturer': 'Honda', 'Model': '2023', 'color': 'Black'}\n"
     ]
    }
   ],
   "source": [
    "def make_car(manufacturer, model, **kwargs):\n",
    "    car_info = {\"Manufacturer\": manufacturer, \"Model\": model}\n",
    "    car_info.update(kwargs) \n",
    "    return car_info\n",
    "\n",
    "car = make_car('Honda', '2023', color='Black')\n",
    "print(car)"
   ]
  },
  {
   "cell_type": "markdown",
   "id": "03b32c4d",
   "metadata": {},
   "source": [
    "# Function practice problems From C++ Book"
   ]
  },
  {
   "cell_type": "code",
   "execution_count": 2,
   "id": "7315113a",
   "metadata": {},
   "outputs": [
    {
     "name": "stdout",
     "output_type": "stream",
     "text": [
      "Programming makes life easy interesting\n"
     ]
    }
   ],
   "source": [
    "def message():\n",
    "    print(\"Programming makes life easy interesting\")\n",
    "    \n",
    "message()"
   ]
  },
  {
   "cell_type": "code",
   "execution_count": 3,
   "id": "317dc68b",
   "metadata": {},
   "outputs": [
    {
     "name": "stdout",
     "output_type": "stream",
     "text": [
      "Enter 1st Number!4\n",
      "Enter 2nd Number!5\n",
      "Maximum num is  5\n"
     ]
    }
   ],
   "source": [
    "def Inputnums():\n",
    "    user1 = int(input(\"Enter 1st Number!\"))\n",
    "    user2 = int(input(\"Enter 2nd Number!\"))\n",
    "    if user1>user2:\n",
    "        print(\"Maximum num is \", user1)\n",
    "    else:\n",
    "        print(\"Maximum num is \", user2)\n",
    "        \n",
    "Inputnums()"
   ]
  },
  {
   "cell_type": "code",
   "execution_count": 10,
   "id": "96111e2e",
   "metadata": {},
   "outputs": [
    {
     "name": "stdout",
     "output_type": "stream",
     "text": [
      "5 * 1 = 5\n",
      "5 * 2 = 10\n",
      "5 * 3 = 15\n",
      "5 * 4 = 20\n",
      "5 * 5 = 25\n",
      "5 * 6 = 30\n",
      "5 * 7 = 35\n",
      "5 * 8 = 40\n",
      "5 * 9 = 45\n",
      "5 * 10 = 50\n"
     ]
    }
   ],
   "source": [
    "def table(num):\n",
    "    for i in range(1,11):\n",
    "        print(f\"{num} * {i} = {i*num}\")\n",
    "        \n",
    "table(5)"
   ]
  },
  {
   "cell_type": "code",
   "execution_count": 12,
   "id": "584ca080",
   "metadata": {},
   "outputs": [
    {
     "name": "stdout",
     "output_type": "stream",
     "text": [
      "The number before 5 is 4 \n",
      "The number After 5 is 6 \n"
     ]
    }
   ],
   "source": [
    "def value(num):\n",
    "    print(f\"The number before {num} is {num-1} \")\n",
    "    print(f\"The number After {num} is {num+1} \")\n",
    "    \n",
    "value(5)"
   ]
  },
  {
   "cell_type": "code",
   "execution_count": 21,
   "id": "5826079e",
   "metadata": {},
   "outputs": [
    {
     "name": "stdout",
     "output_type": "stream",
     "text": [
      "120\n"
     ]
    }
   ],
   "source": [
    "def fact(num):\n",
    "    fact=1\n",
    "    for i in range(1,num+1):\n",
    "        fact=fact*i\n",
    "    print(fact)      \n",
    "        \n",
    "fact(5)"
   ]
  },
  {
   "cell_type": "code",
   "execution_count": null,
   "id": "e8c4993c",
   "metadata": {},
   "outputs": [],
   "source": []
  }
 ],
 "metadata": {
  "kernelspec": {
   "display_name": "Python 3 (ipykernel)",
   "language": "python",
   "name": "python3"
  },
  "language_info": {
   "codemirror_mode": {
    "name": "ipython",
    "version": 3
   },
   "file_extension": ".py",
   "mimetype": "text/x-python",
   "name": "python",
   "nbconvert_exporter": "python",
   "pygments_lexer": "ipython3",
   "version": "3.9.7"
  }
 },
 "nbformat": 4,
 "nbformat_minor": 5
}
