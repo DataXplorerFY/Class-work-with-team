{
 "cells": [
  {
   "cell_type": "code",
   "execution_count": 1,
   "id": "1f3d8f25",
   "metadata": {},
   "outputs": [
    {
     "name": "stdout",
     "output_type": "stream",
     "text": [
      "Weird\n"
     ]
    }
   ],
   "source": [
    "def function(n):\n",
    "    if n%2 != 0:\n",
    "        print(\"Weird\")\n",
    "    elif n%2==0 and n == range(2,6):\n",
    "        print(\"Not Weird\")\n",
    "    elif n%2==0 and n == range(6,21):\n",
    "        print(\"Weird\")\n",
    "    elif n%2==0 and n>20:\n",
    "        print(\"Not Weird\")\n",
    "        \n",
    "function(3)\n"
   ]
  },
  {
   "cell_type": "code",
   "execution_count": 2,
   "id": "c6a2c28b",
   "metadata": {},
   "outputs": [
    {
     "name": "stdout",
     "output_type": "stream",
     "text": [
      "Not Weird\n"
     ]
    }
   ],
   "source": [
    "function(24)"
   ]
  },
  {
   "cell_type": "code",
   "execution_count": 3,
   "id": "a2309ae7",
   "metadata": {},
   "outputs": [
    {
     "name": "stdout",
     "output_type": "stream",
     "text": [
      "Weird\n",
      "Not Weird\n"
     ]
    }
   ],
   "source": [
    "def function(n):\n",
    "    if n % 2 != 0:                          \n",
    "        print(\"Weird\")\n",
    "    elif n in range(2, 6):                   \n",
    "        print(\"Not Weird\")\n",
    "    elif n in range(6, 21):                  \n",
    "        print(\"Weird\")\n",
    "    elif n % 2 == 0 and n > 20:              \n",
    "        print(\"Not Weird\")\n",
    "\n",
    "function(3)   \n",
    "function(24)   "
   ]
  },
  {
   "cell_type": "code",
   "execution_count": 4,
   "id": "f9d52824",
   "metadata": {},
   "outputs": [
    {
     "name": "stdout",
     "output_type": "stream",
     "text": [
      "3\n",
      "2\n",
      "5\n",
      "1\n",
      "6\n"
     ]
    }
   ],
   "source": [
    "def function(a,b):\n",
    "    Sum = a+b\n",
    "    dif = a-b\n",
    "    prod = a*b\n",
    "    \n",
    "    print(f\"{Sum}\\n{dif}\\n{prod}\")\n",
    "    \n",
    "    \n",
    "a = int(input())\n",
    "b = int(input())\n",
    "\n",
    "function(a,b)"
   ]
  },
  {
   "cell_type": "code",
   "execution_count": 6,
   "id": "41c736df",
   "metadata": {},
   "outputs": [
    {
     "name": "stdout",
     "output_type": "stream",
     "text": [
      "4\n",
      "3\n",
      "1\n",
      "1.3333333333333333\n"
     ]
    }
   ],
   "source": [
    "def function(a,b):\n",
    "    print(f\"{a//b}\\n{a/b}\")\n",
    "    \n",
    "    \n",
    "a = int(input())\n",
    "b = int(input())\n",
    "\n",
    "function(a,b)"
   ]
  },
  {
   "cell_type": "code",
   "execution_count": null,
   "id": "7d5026fa",
   "metadata": {},
   "outputs": [],
   "source": []
  }
 ],
 "metadata": {
  "kernelspec": {
   "display_name": "Python 3 (ipykernel)",
   "language": "python",
   "name": "python3"
  },
  "language_info": {
   "codemirror_mode": {
    "name": "ipython",
    "version": 3
   },
   "file_extension": ".py",
   "mimetype": "text/x-python",
   "name": "python",
   "nbconvert_exporter": "python",
   "pygments_lexer": "ipython3",
   "version": "3.9.7"
  }
 },
 "nbformat": 4,
 "nbformat_minor": 5
}
