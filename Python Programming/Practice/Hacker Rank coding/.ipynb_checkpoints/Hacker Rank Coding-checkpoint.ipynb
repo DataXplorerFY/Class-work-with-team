{
 "cells": [
  {
   "cell_type": "code",
   "execution_count": 1,
   "id": "1f3d8f25",
   "metadata": {},
   "outputs": [
    {
     "name": "stdout",
     "output_type": "stream",
     "text": [
      "Weird\n"
     ]
    }
   ],
   "source": [
    "def function(n):\n",
    "    if n%2 != 0:\n",
    "        print(\"Weird\")\n",
    "    elif n%2==0 and n == range(2,6):\n",
    "        print(\"Not Weird\")\n",
    "    elif n%2==0 and n == range(6,21):\n",
    "        print(\"Weird\")\n",
    "    elif n%2==0 and n>20:\n",
    "        print(\"Not Weird\")\n",
    "        \n",
    "function(3)\n"
   ]
  },
  {
   "cell_type": "code",
   "execution_count": 2,
   "id": "c6a2c28b",
   "metadata": {},
   "outputs": [
    {
     "name": "stdout",
     "output_type": "stream",
     "text": [
      "Not Weird\n"
     ]
    }
   ],
   "source": [
    "function(24)"
   ]
  },
  {
   "cell_type": "code",
   "execution_count": 3,
   "id": "a2309ae7",
   "metadata": {},
   "outputs": [
    {
     "name": "stdout",
     "output_type": "stream",
     "text": [
      "Weird\n",
      "Not Weird\n"
     ]
    }
   ],
   "source": [
    "def function(n):\n",
    "    if n % 2 != 0:                          \n",
    "        print(\"Weird\")\n",
    "    elif n in range(2, 6):                   \n",
    "        print(\"Not Weird\")\n",
    "    elif n in range(6, 21):                  \n",
    "        print(\"Weird\")\n",
    "    elif n % 2 == 0 and n > 20:              \n",
    "        print(\"Not Weird\")\n",
    "\n",
    "function(3)   \n",
    "function(24)   "
   ]
  },
  {
   "cell_type": "code",
   "execution_count": 4,
   "id": "f9d52824",
   "metadata": {},
   "outputs": [
    {
     "name": "stdout",
     "output_type": "stream",
     "text": [
      "3\n",
      "2\n",
      "5\n",
      "1\n",
      "6\n"
     ]
    }
   ],
   "source": [
    "def function(a,b):\n",
    "    Sum = a+b\n",
    "    dif = a-b\n",
    "    prod = a*b\n",
    "    \n",
    "    print(f\"{Sum}\\n{dif}\\n{prod}\")\n",
    "    \n",
    "    \n",
    "a = int(input())\n",
    "b = int(input())\n",
    "\n",
    "function(a,b)"
   ]
  },
  {
   "cell_type": "code",
   "execution_count": 6,
   "id": "41c736df",
   "metadata": {},
   "outputs": [
    {
     "name": "stdout",
     "output_type": "stream",
     "text": [
      "4\n",
      "3\n",
      "1\n",
      "1.3333333333333333\n"
     ]
    }
   ],
   "source": [
    "def function(a,b):\n",
    "    print(f\"{a//b}\\n{a/b}\")\n",
    "    \n",
    "    \n",
    "a = int(input())\n",
    "b = int(input())\n",
    "\n",
    "function(a,b)"
   ]
  },
  {
   "cell_type": "code",
   "execution_count": 3,
   "id": "7d5026fa",
   "metadata": {},
   "outputs": [
    {
     "name": "stdout",
     "output_type": "stream",
     "text": [
      "5\n",
      "0\n",
      "1\n",
      "4\n",
      "9\n",
      "16\n"
     ]
    }
   ],
   "source": [
    "def integer(n):\n",
    "    List = []\n",
    "    for i in range(n):\n",
    "        List.append(i)\n",
    "        print(f\"{i**2}\")\n",
    "        \n",
    "a = int(input())\n",
    "\n",
    "integer(a)\n",
    "\n",
    "        "
   ]
  },
  {
   "cell_type": "markdown",
   "id": "957f31d5",
   "metadata": {},
   "source": [
    "In the Gregorian calendar, three conditions are used to identify leap years:\n",
    "\n",
    "The year can be evenly divided by 4, is a leap year, unless:\n",
    "\n",
    "The year can be evenly divided by 100, it is NOT a leap year, unless:\n",
    "\n",
    "The year is also evenly divisible by 400. Then it is a leap year.\n",
    "\n",
    "This means that in the Gregorian calendar, the years 2000 and 2400 are leap years, while 1800, 1900, 2100, 2200, 2300 and 2500 are NOT leap years. Source"
   ]
  },
  {
   "cell_type": "code",
   "execution_count": 18,
   "id": "2681117e",
   "metadata": {},
   "outputs": [
    {
     "name": "stdout",
     "output_type": "stream",
     "text": [
      "1990\n"
     ]
    }
   ],
   "source": [
    "leap = False\n",
    "\n",
    "def is_leap(n):\n",
    "    if n>=1900 and n%4==0 and n%400==0:\n",
    "        leap = True\n",
    "        print(leap)\n",
    "        \n",
    "    elif n%100==0:\n",
    "        leap = False\n",
    "        print(leap)\n",
    "    \n",
    "        \n",
    "year = int(input())\n",
    "\n",
    "leapyear(year)        \n",
    "        "
   ]
  },
  {
   "cell_type": "code",
   "execution_count": null,
   "id": "264cfb9d",
   "metadata": {},
   "outputs": [],
   "source": [
    "def is_leap(n):\n",
    "    if n >= 1900 and (n % 4 == 0 and n % 100 != 0 or n % 400 == 0):\n",
    "        return True\n",
    "    else:\n",
    "        return False\n",
    "\n",
    "year = int(input(\"Enter a year: \"))\n",
    "\n",
    "if is_leap(year):\n",
    "    print(year, \"is a leap year.\")\n",
    "else:\n",
    "    print(year, \"is not a leap year.\")\n"
   ]
  },
  {
   "cell_type": "code",
   "execution_count": 26,
   "id": "46039cf4",
   "metadata": {},
   "outputs": [
    {
     "name": "stdout",
     "output_type": "stream",
     "text": [
      "12345\n"
     ]
    }
   ],
   "source": [
    "def function(n):\n",
    "    if n < 1 or n > 150:\n",
    "        print(\"Input value of 'n' should be between 1 and 150 (inclusive).\")\n",
    "        return\n",
    "    \n",
    "    concatenated_string = \"\"\n",
    "    for i in range(1, n + 1):\n",
    "        concatenated_string += str(i)\n",
    "        \n",
    "    print(concatenated_string)\n",
    "\n",
    "function(5)"
   ]
  },
  {
   "cell_type": "code",
   "execution_count": 3,
   "id": "6728905c",
   "metadata": {},
   "outputs": [
    {
     "name": "stdout",
     "output_type": "stream",
     "text": [
      "farhan\n",
      "ali\n",
      "Hello farhan ali! You just delved into python.\n"
     ]
    }
   ],
   "source": [
    "def print_full_name(first, last):\n",
    "    return f\"Hello {first} {last}! You just delved into python.\"\n",
    "    \n",
    "first_input = input()\n",
    "second_input = input()\n",
    "\n",
    "result = print_full_name(first_input,second_input)\n",
    "print(result)"
   ]
  },
  {
   "cell_type": "code",
   "execution_count": 4,
   "id": "494ae3e6",
   "metadata": {},
   "outputs": [
    {
     "name": "stdout",
     "output_type": "stream",
     "text": [
      "Farhan\n",
      "Ali\n"
     ]
    }
   ],
   "source": [
    "def print_full_name(first, last):\n",
    "    return f\"Hello {first} {last}! You just delved into python.\"\n",
    "    \n",
    "\n",
    "\n",
    "\n",
    "if __name__ == '__main__':\n",
    "    first_name = input()\n",
    "    last_name = input()\n",
    "    print_full_name(first_name, last_name)"
   ]
  },
  {
   "cell_type": "code",
   "execution_count": null,
   "id": "2afde9b5",
   "metadata": {},
   "outputs": [],
   "source": []
  }
 ],
 "metadata": {
  "kernelspec": {
   "display_name": "Python 3 (ipykernel)",
   "language": "python",
   "name": "python3"
  },
  "language_info": {
   "codemirror_mode": {
    "name": "ipython",
    "version": 3
   },
   "file_extension": ".py",
   "mimetype": "text/x-python",
   "name": "python",
   "nbconvert_exporter": "python",
   "pygments_lexer": "ipython3",
   "version": "3.9.7"
  }
 },
 "nbformat": 4,
 "nbformat_minor": 5
}
