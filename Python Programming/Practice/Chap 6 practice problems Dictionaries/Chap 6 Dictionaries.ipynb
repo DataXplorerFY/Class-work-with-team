{
 "cells": [
  {
   "cell_type": "markdown",
   "id": "eef48f4a",
   "metadata": {},
   "source": [
    "# 6-1. Person: Use a dictionary to store information about a person you know. Store their first name, last name, age, and the city in which they live. You should have keys such as first_name, last_name, age, and city. Print each piece of information stored in your dictionary."
   ]
  },
  {
   "cell_type": "code",
   "execution_count": 1,
   "id": "495888b4",
   "metadata": {},
   "outputs": [],
   "source": [
    "Friend_Info = {\n",
    "    \"first_name\" : \"Farhan\",\n",
    "    \"last_name\" : \"Ali\",\n",
    "    \"Age\" : 23,\n",
    "    \"city\" : \"Faisalabad\"\n",
    "}"
   ]
  },
  {
   "cell_type": "code",
   "execution_count": 2,
   "id": "316519b8",
   "metadata": {},
   "outputs": [
    {
     "name": "stdout",
     "output_type": "stream",
     "text": [
      "{'first_name': 'Farhan', 'last_name': 'Ali', 'Age': 23, 'city': 'Faisalabad'}\n"
     ]
    }
   ],
   "source": [
    "print(Friend_Info)"
   ]
  },
  {
   "cell_type": "code",
   "execution_count": 3,
   "id": "0ac3d4dd",
   "metadata": {},
   "outputs": [
    {
     "name": "stdout",
     "output_type": "stream",
     "text": [
      "first_name,Farhan\n",
      "last_name,Ali\n",
      "Age,23\n",
      "city,Faisalabad\n"
     ]
    }
   ],
   "source": [
    "for key, values in Friend_Info.items():\n",
    "    print(f\"{key},{values}\")"
   ]
  },
  {
   "cell_type": "markdown",
   "id": "e8e6ba67",
   "metadata": {},
   "source": [
    "# 6-2. Favorite Numbers: Use a dictionary to store people’s favorite numbers. Think of five names, and use them as keys in your dictionary. Think of a favorite number for each person, and store each as a value in your dictionary. Print each person’s name and their favorite number. For even more fun, poll a few friends and get some actual data for your program. "
   ]
  },
  {
   "cell_type": "code",
   "execution_count": 20,
   "id": "5f19811d",
   "metadata": {},
   "outputs": [
    {
     "name": "stdout",
     "output_type": "stream",
     "text": [
      "Farhan,1\n",
      "Ali,2\n",
      "Asad,3\n",
      "Hamza,5\n",
      "Abdullah,6\n"
     ]
    }
   ],
   "source": [
    "favorite_numbers = {\"Farhan\":1, \"Ali\":2, \"Asad\":3, \"Hamza\":5, \"Abdullah\":6}\n",
    "\n",
    "for key, values in favorite_numbers.items():\n",
    "    print(f\"{key},{values}\")"
   ]
  },
  {
   "cell_type": "code",
   "execution_count": 5,
   "id": "9f6c1667",
   "metadata": {},
   "outputs": [
    {
     "name": "stdout",
     "output_type": "stream",
     "text": [
      "Enter the name!Ashir\n",
      "Enter the number!9\n"
     ]
    }
   ],
   "source": [
    "userKey = input(\"Enter the name!\")\n",
    "uservalue = int(input(\"Enter the number!\"))\n",
    "favorite_numbers[f\"{userKey}\"] = uservalue"
   ]
  },
  {
   "cell_type": "code",
   "execution_count": 6,
   "id": "0c929325",
   "metadata": {},
   "outputs": [
    {
     "data": {
      "text/plain": [
       "{'Farhan': 1, 'Ali': 2, 'Asad': 3, 'Hamza': 5, 'Abdullah': 6, 'Ashir': 9}"
      ]
     },
     "execution_count": 6,
     "metadata": {},
     "output_type": "execute_result"
    }
   ],
   "source": [
    "favorite_numbers"
   ]
  },
  {
   "cell_type": "markdown",
   "id": "d773f7f4",
   "metadata": {},
   "source": [
    "# 6-3. Glossary: A Python dictionary can be used to model an actual dictionary. However, to avoid confusion, let’s call it a glossary."
   ]
  },
  {
   "cell_type": "markdown",
   "id": "7efe05a9",
   "metadata": {},
   "source": [
    "• Think of five programming words you’ve learned about in the previous\n",
    "chapters. Use these words as the keys in your glossary, and store their\n",
    "meanings as values.\n",
    "\n",
    "• Print each word and its meaning as neatly formatted output. You might\n",
    "print the word followed by a colon and then its meaning, or print the word\n",
    "on one line and then print its meaning indented on a second line. Use the\n",
    "newline character (\\n) to insert a blank line between each word-meaning\n",
    "pair in your output."
   ]
  },
  {
   "cell_type": "code",
   "execution_count": 7,
   "id": "93236b15",
   "metadata": {},
   "outputs": [
    {
     "name": "stdout",
     "output_type": "stream",
     "text": [
      "List \n",
      " Python Data Structure\n",
      "Methods \n",
      " Append, extend, Remove\n",
      "Append \n",
      " Add Values in the last of list\n",
      "Remove \n",
      " Remove the items from list\n",
      "Clear \n",
      " Dell the item permanantly\n"
     ]
    }
   ],
   "source": [
    "Glossary = {\n",
    "    \"List\":\"Python Data Structure\",\n",
    "    \"Methods\": \"Append, extend, Remove\",\n",
    "    \"Append\": \"Add Values in the last of list\",\n",
    "    \"Remove\":\"Remove the items from list\",\n",
    "    \"Clear\": \"Dell the item permanantly\"\n",
    "    \n",
    "}\n",
    "\n",
    "for key, value in Glossary.items():\n",
    "    print(f\"{key} \\n {value}\")"
   ]
  },
  {
   "cell_type": "markdown",
   "id": "31f47998",
   "metadata": {},
   "source": [
    "# 6-4. Glossary 2: Now that you know how to loop through a dictionary, clean up the code from Exercise 6-3 (page 99) by replacing your series of print() calls with a loop that runs through the dictionary’s keys and values. When you’re sure that your loop works, add five more Python terms to your glossary. When you run your program again, these new words and meanings should automatically be included in the output."
   ]
  },
  {
   "cell_type": "code",
   "execution_count": 9,
   "id": "ddbd195d",
   "metadata": {},
   "outputs": [
    {
     "name": "stdout",
     "output_type": "stream",
     "text": [
      "Enter the name!Extend\n",
      "Enter the number!\n",
      "\n",
      "It will add multiple values in the list \n",
      "List \n",
      " Python Data Structure\n",
      "Methods \n",
      " Append, extend, Remove\n",
      "Append \n",
      " Add Values in the last of list\n",
      "Remove \n",
      " Remove the items from list\n",
      "Clear \n",
      " Dell the item permanantly\n",
      "Extend \n",
      " It will add multiple values in the list \n"
     ]
    }
   ],
   "source": [
    "Glossary_2 = {\n",
    "    \"List\":\"Python Data Structure\",\n",
    "    \"Methods\": \"Append, extend, Remove\",\n",
    "    \"Append\": \"Add Values in the last of list\",\n",
    "    \"Remove\":\"Remove the items from list\",\n",
    "    \"Clear\": \"Dell the item permanantly\"\n",
    "    \n",
    "}\n",
    "\n",
    "userKey = input(\"Enter the name!\")\n",
    "uservalue = (input(\"Enter the number!\\n\\n\"))\n",
    "Glossary_2[f\"{userKey}\"] = uservalue\n",
    "\n",
    "for key, value in Glossary_2.items():\n",
    "    print(f\"{key} \\n {value}\")"
   ]
  },
  {
   "cell_type": "markdown",
   "id": "5aa485f2",
   "metadata": {},
   "source": [
    "# 6-5. Rivers: Make a dictionary containing three major rivers and the country each river runs through. One key-value pair might be 'nile': 'egypt'."
   ]
  },
  {
   "cell_type": "markdown",
   "id": "334c91e9",
   "metadata": {},
   "source": [
    "• Use a loop to print a sentence about each river, such as The Nile runs\n",
    "through Egypt.\n",
    "\n",
    "• Use a loop to print the name of each river included in the dictionary.\n",
    "\n",
    "• Use a loop to print the name of each country included in the dictionary."
   ]
  },
  {
   "cell_type": "code",
   "execution_count": 19,
   "id": "e668389b",
   "metadata": {},
   "outputs": [
    {
     "name": "stdout",
     "output_type": "stream",
     "text": [
      "Nile River runs through Africa\n",
      "\n",
      "Amazon River runs through South America\n",
      "\n",
      "Yangtze River  runs through China\n",
      "\n",
      "Nile  runs through Egypt\n",
      "\n",
      "**************************************************\n",
      "Nile River\n",
      "Amazon River\n",
      "Yangtze River \n",
      "Nile \n",
      "**************************************************\n",
      "Africa\n",
      "South America\n",
      "China\n",
      "Egypt\n"
     ]
    }
   ],
   "source": [
    "Rivers = {\n",
    "    \"Nile River\" : \"Africa\",\n",
    "    \"Amazon River\" : \"South America\",\n",
    "    \"Yangtze River \" : \"China\",\n",
    "    \"Nile \" : \"Egypt\"\n",
    "}\n",
    "\n",
    "for key, value in Rivers.items():\n",
    "    print(f\"{key} runs through {value}\\n\")\n",
    "    \n",
    "print(\"*\" *50 )\n",
    "\n",
    "for key in Rivers.keys():\n",
    "    print(key)\n",
    "    \n",
    "print(\"*\" *50 )\n",
    "\n",
    "for value in Rivers.values():\n",
    "    print(value)"
   ]
  },
  {
   "cell_type": "markdown",
   "id": "3623fe02",
   "metadata": {},
   "source": [
    "# 6-6. Polling: Use the code in favorite_languages.py (page 96)."
   ]
  },
  {
   "cell_type": "markdown",
   "id": "e787af83",
   "metadata": {},
   "source": [
    "• Make a list of people who should take the favorite languages poll. Include\n",
    "some names that are already in the dictionary and some that are not.\n",
    "\n",
    "\n",
    "• Loop through the list of people who should take the poll. If they have\n",
    "already taken the poll, print a message thanking them for responding.\n",
    "If they have not yet taken the poll, print a message inviting them to take\n",
    "the poll."
   ]
  },
  {
   "cell_type": "code",
   "execution_count": 25,
   "id": "a307a62e",
   "metadata": {},
   "outputs": [
    {
     "name": "stdout",
     "output_type": "stream",
     "text": [
      "Farhan, We are inviting you to please take the poll\n",
      "Ali, Thank You for taking the poll!\n",
      "Hannan, Thank You for taking the poll!\n",
      "Talha, We are inviting you to please take the poll\n",
      "Rana, We are inviting you to please take the poll\n"
     ]
    }
   ],
   "source": [
    "favorite_languages = {\n",
    "    \"Ali\" : \"Python\", \n",
    "    \"Asad\" : \"C++\",\n",
    "    \"Hannan\" : \"R\"\n",
    "}\n",
    "\n",
    "\n",
    "favorite_languages_poll = [\"Farhan\", \"Ali\", \"Hannan\", \"Talha\", \"Rana\"]\n",
    "\n",
    "\n",
    "for name in favorite_languages_poll:\n",
    "    if name in favorite_languages.keys():\n",
    "        print(f\"{name}, Thank You for taking the poll!\")\n",
    "    else:\n",
    "        print(f\"{name}, We are inviting you to please take the poll\")"
   ]
  },
  {
   "cell_type": "markdown",
   "id": "14781ec5",
   "metadata": {},
   "source": [
    "# 6-7. People: Start with the program you wrote for Exercise 6-1 (page 98). Make two new dictionaries representing different people, and store all three dictionaries in a list called people. Loop through your list of people. As you loop through the list, print everything you know about each person."
   ]
  },
  {
   "cell_type": "code",
   "execution_count": 40,
   "id": "d44c2b63",
   "metadata": {},
   "outputs": [
    {
     "name": "stdout",
     "output_type": "stream",
     "text": [
      "first_name, Farhan \n",
      "last_name, Ali \n",
      "Age, 23 \n",
      "city, Faisalabad \n",
      "first_name, Hanan \n",
      "last_name, Tariq \n",
      "Age, 26 \n",
      "city, Faisalabad \n",
      "first_name, Talha \n",
      "last_name, RAshid \n",
      "Age, 27 \n",
      "city, Faisalabad \n"
     ]
    }
   ],
   "source": [
    "Friend_1 = {\"first_name\":\"Farhan\", \"last_name\":\"Ali\", \"Age\":23, \"city\":\"Faisalabad\" }\n",
    "\n",
    "Friend_2 = {\"first_name\":\"Hanan\", \"last_name\":\"Tariq\", \"Age\":26, \"city\":\"Faisalabad\"}\n",
    "\n",
    "Friend_3 = {\"first_name\":\"Talha\", \"last_name\":\"RAshid\", \"Age\":27, \"city\":\"Faisalabad\"}\n",
    "\n",
    "\n",
    "\n",
    "people = []\n",
    "\n",
    "people.extend([Friend_1, Friend_2, Friend_3])\n",
    "\n",
    "for i in people:\n",
    "    for key, value in i.items():\n",
    "        print(f\"{key}, {value} \")"
   ]
  },
  {
   "cell_type": "code",
   "execution_count": 39,
   "id": "013ff2d6",
   "metadata": {},
   "outputs": [
    {
     "name": "stdout",
     "output_type": "stream",
     "text": [
      "first_name, Farhan \n",
      "last_name, Ali \n",
      "Age, 23 \n",
      "city, Faisalabad \n",
      "first_name, Hanan \n",
      "last_name, Tariq \n",
      "Age, 26 \n",
      "city, Faisalabad \n",
      "first_name, Talha \n",
      "last_name, RAshid \n",
      "Age, 27 \n",
      "city, Faisalabad \n"
     ]
    }
   ],
   "source": []
  },
  {
   "cell_type": "code",
   "execution_count": 41,
   "id": "37a064fc",
   "metadata": {},
   "outputs": [
    {
     "name": "stdout",
     "output_type": "stream",
     "text": [
      "\n",
      "Person:\n",
      "First_name: Farhan\n",
      "Last_name: Ali\n",
      "Age: 23\n",
      "City: Faisalabad\n",
      "\n",
      "Person:\n",
      "First_name: Hanan\n",
      "Last_name: Tariq\n",
      "Age: 26\n",
      "City: Faisalabad\n",
      "\n",
      "Person:\n",
      "First_name: Talha\n",
      "Last_name: Rashid\n",
      "Age: 27\n",
      "City: Faisalabad\n"
     ]
    }
   ],
   "source": [
    "Friend_1 = {\"first_name\": \"Farhan\", \"last_name\": \"Ali\", \"Age\": 23, \"city\": \"Faisalabad\"}\n",
    "Friend_2 = {\"first_name\": \"Hanan\", \"last_name\": \"Tariq\", \"Age\": 26, \"city\": \"Faisalabad\"}\n",
    "Friend_3 = {\"first_name\": \"Talha\", \"last_name\": \"Rashid\", \"Age\": 27, \"city\": \"Faisalabad\"}\n",
    "\n",
    "people = [Friend_1, Friend_2, Friend_3]\n",
    "\n",
    "for person in people:\n",
    "    print(\"\\nPerson:\")\n",
    "    for key, value in person.items():\n",
    "        print(f\"{key.capitalize()}: {value}\")"
   ]
  },
  {
   "cell_type": "markdown",
   "id": "475a6c39",
   "metadata": {},
   "source": [
    "# 6-8. Pets: Make several dictionaries, where each dictionary represents a different pet. In each dictionary, include the kind of animal and the owner’s name. Store these dictionaries in a list called pets. Next, loop through your list and as you do, print everything you know about each pet."
   ]
  },
  {
   "cell_type": "code",
   "execution_count": 43,
   "id": "911bba98",
   "metadata": {},
   "outputs": [
    {
     "name": "stdout",
     "output_type": "stream",
     "text": [
      "\n",
      "pet:\n",
      "Name: Buddy\n",
      "Species: Dog\n",
      "Age: 5\n",
      "Owner: Farhan Ali\n",
      "\n",
      "pet:\n",
      "Name: Mittens\n",
      "Species: Cat\n",
      "Age: 3\n",
      "Owner: Hanan Tariq\n",
      "\n",
      "pet:\n",
      "Name: Rocky\n",
      "Species: Dog\n",
      "Age: 2\n",
      "Owner: Talha Rashid\n"
     ]
    }
   ],
   "source": [
    "Pet_1 = {\"name\": \"Buddy\", \"species\": \"Dog\", \"age\": 5, \"owner\": \"Farhan Ali\"}\n",
    "Pet_2 = {\"name\": \"Mittens\", \"species\": \"Cat\", \"age\": 3, \"owner\": \"Hanan Tariq\"}\n",
    "Pet_3 = {\"name\": \"Rocky\", \"species\": \"Dog\", \"age\": 2, \"owner\": \"Talha Rashid\"}\n",
    "\n",
    "\n",
    "pets = [Pet_1, Pet_2, Pet_3]\n",
    "\n",
    "for pet in pets:\n",
    "    print(\"\\npet:\")\n",
    "    for key, value in pet.items():\n",
    "        print(f\"{key.capitalize()}: {value}\")"
   ]
  },
  {
   "cell_type": "markdown",
   "id": "4753ab71",
   "metadata": {},
   "source": [
    "# 6-9. Favorite Places: Make a dictionary called favorite_places. Think of three names to use as keys in the dictionary, and store one to three favorite places for each person. To make this exercise a bit more interesting, ask some friends to name a few of their favorite places. Loop through the dictionary, and print each person’s name and their favorite places."
   ]
  },
  {
   "cell_type": "code",
   "execution_count": 46,
   "id": "82d56b5a",
   "metadata": {},
   "outputs": [
    {
     "name": "stdout",
     "output_type": "stream",
     "text": [
      "Enter your favourite place!Austria\n",
      "Enter your Name!Ashir\n",
      "Lahore,Farhan\n",
      "Islamabad,Ali\n",
      "Karachi,Asad\n",
      "Austria,Ashir\n"
     ]
    }
   ],
   "source": [
    "favorite_places = {\"Lahore\":\"Farhan\", \"Islamabad\":\"Ali\", \"Karachi\":\"Asad\"}\n",
    "\n",
    "askkey = input(\"Enter your favourite place!\")\n",
    "askvalue = input(\"Enter your Name!\")\n",
    "\n",
    "favorite_places[askkey] = askvalue\n",
    "\n",
    "for key, value in favorite_places.items():\n",
    "    print(f\"{key},{value}\")"
   ]
  },
  {
   "cell_type": "markdown",
   "id": "f4433516",
   "metadata": {},
   "source": [
    "# 6-10. Favorite Numbers: Modify your program from Exercise 6-2 (page 98) so each person can have more than one favorite number. Then print each person’s name along with their favorite numbers."
   ]
  },
  {
   "cell_type": "code",
   "execution_count": 48,
   "id": "b0fa0d3f",
   "metadata": {},
   "outputs": [
    {
     "name": "stdout",
     "output_type": "stream",
     "text": [
      "Farhan, Favorite numbers are, [1, 2, 3]\n",
      "Ali, Favorite numbers are, [9, 4]\n",
      "Asad, Favorite numbers are, [4, 5, 7]\n",
      "Hamza, Favorite numbers are, 5\n",
      "Abdullah, Favorite numbers are, 6\n"
     ]
    }
   ],
   "source": [
    "favorite_numbers = {\"Farhan\":[1, 2, 3], \"Ali\":[9,4], \"Asad\":[4,5,7], \"Hamza\":5, \"Abdullah\":6}\n",
    "\n",
    "for key, values in favorite_numbers.items():\n",
    "    print(f\"{key}, Favorite numbers are, {values}\")"
   ]
  },
  {
   "cell_type": "markdown",
   "id": "dc19e181",
   "metadata": {},
   "source": [
    "# 6-11. Cities: Make a dictionary called cities. Use the names of three cities as keys in your dictionary. Create a dictionary of information about each city and include the country that the city is in, its approximate population, and one fact about that city. The keys for each city’s dictionary should be something like country, population, and fact. Print the name of each city and all of the information you have stored about it"
   ]
  },
  {
   "cell_type": "code",
   "execution_count": 54,
   "id": "8e8b860d",
   "metadata": {},
   "outputs": [
    {
     "name": "stdout",
     "output_type": "stream",
     "text": [
      "Tokyo:\n",
      " {'country': 'Japan', 'population': 13929286, 'fact': 'Tokyo is the most populous metropolitan area in the world.'}\n",
      "\n",
      "New York City:\n",
      " {'country': 'United States', 'population': 8550405, 'fact': 'New York City is often referred to as the cultural, financial, and media capital of the world.'}\n",
      "\n",
      "Paris:\n",
      " {'country': 'France', 'population': 2140526, 'fact': \"Paris is known as the 'City of Light' due to its significant role in the Age of Enlightenment.\"}\n",
      "\n"
     ]
    }
   ],
   "source": [
    "cities = {\n",
    "    \"Tokyo\": {\n",
    "        \"country\": \"Japan\",\n",
    "        \"population\": 13929286,\n",
    "        \"fact\": \"Tokyo is the most populous metropolitan area in the world.\"\n",
    "    },\n",
    "    \"New York City\": {\n",
    "        \"country\": \"United States\",\n",
    "        \"population\": 8550405,\n",
    "        \"fact\": \"New York City is often referred to as the cultural, financial, and media capital of the world.\"\n",
    "    },\n",
    "    \"Paris\": {\n",
    "        \"country\": \"France\",\n",
    "        \"population\": 2140526,\n",
    "        \"fact\": \"Paris is known as the 'City of Light' due to its significant role in the Age of Enlightenment.\"\n",
    "    }\n",
    "}\n",
    "\n",
    "\n",
    "\n",
    "\n",
    "for key, value in cities.items():\n",
    "    print(f\"{key}:\\n {value}\\n\")\n",
    "    \n",
    "\n",
    "\n",
    "    "
   ]
  },
  {
   "cell_type": "code",
   "execution_count": 55,
   "id": "d7a4dc60",
   "metadata": {},
   "outputs": [
    {
     "name": "stdout",
     "output_type": "stream",
     "text": [
      "Tokyo:\n",
      "\tCountry: Japan\n",
      "\tPopulation: 13929286\n",
      "\tFact: Tokyo is the most populous metropolitan area in the world.\n",
      "\n",
      "New York City:\n",
      "\tCountry: United States\n",
      "\tPopulation: 8550405\n",
      "\tFact: New York City is often referred to as the cultural, financial, and media capital of the world.\n",
      "\n",
      "Paris:\n",
      "\tCountry: France\n",
      "\tPopulation: 2140526\n",
      "\tFact: Paris is known as the 'City of Light' due to its significant role in the Age of Enlightenment.\n",
      "\n"
     ]
    }
   ],
   "source": [
    "cities = {\n",
    "    \"Tokyo\": {\n",
    "        \"country\": \"Japan\",\n",
    "        \"population\": 13929286,\n",
    "        \"fact\": \"Tokyo is the most populous metropolitan area in the world.\"\n",
    "    },\n",
    "    \"New York City\": {\n",
    "        \"country\": \"United States\",\n",
    "        \"population\": 8550405,\n",
    "        \"fact\": \"New York City is often referred to as the cultural, financial, and media capital of the world.\"\n",
    "    },\n",
    "    \"Paris\": {\n",
    "        \"country\": \"France\",\n",
    "        \"population\": 2140526,\n",
    "        \"fact\": \"Paris is known as the 'City of Light' due to its significant role in the Age of Enlightenment.\"\n",
    "    }\n",
    "}\n",
    "\n",
    "for city, info in cities.items():\n",
    "    print(f\"{city}:\")\n",
    "    print(f\"\\tCountry: {info['country']}\")\n",
    "    print(f\"\\tPopulation: {info['population']}\")\n",
    "    print(f\"\\tFact: {info['fact']}\")\n",
    "    print()"
   ]
  },
  {
   "cell_type": "code",
   "execution_count": null,
   "id": "f38a04e2",
   "metadata": {},
   "outputs": [],
   "source": []
  }
 ],
 "metadata": {
  "kernelspec": {
   "display_name": "Python 3 (ipykernel)",
   "language": "python",
   "name": "python3"
  },
  "language_info": {
   "codemirror_mode": {
    "name": "ipython",
    "version": 3
   },
   "file_extension": ".py",
   "mimetype": "text/x-python",
   "name": "python",
   "nbconvert_exporter": "python",
   "pygments_lexer": "ipython3",
   "version": "3.9.7"
  }
 },
 "nbformat": 4,
 "nbformat_minor": 5
}
