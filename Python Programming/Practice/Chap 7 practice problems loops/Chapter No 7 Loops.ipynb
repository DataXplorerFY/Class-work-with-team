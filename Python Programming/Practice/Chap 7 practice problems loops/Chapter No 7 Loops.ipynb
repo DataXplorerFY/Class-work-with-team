{
 "cells": [
  {
   "cell_type": "markdown",
   "id": "75c7ff47",
   "metadata": {},
   "source": [
    "# 7-1. Rental Car: Write a program that asks the user what kind of rental car they would like. Print a message about that car, such as “Let me see if I can find you a Subaru.”"
   ]
  },
  {
   "cell_type": "code",
   "execution_count": 1,
   "id": "58e6362b",
   "metadata": {},
   "outputs": [
    {
     "name": "stdout",
     "output_type": "stream",
     "text": [
      "What kind of a rental car you would like?\n",
      "\n",
      "Civic\n"
     ]
    }
   ],
   "source": [
    "RentalCar = input(\"What kind of a rental car you would like?\\n\\n\")"
   ]
  },
  {
   "cell_type": "markdown",
   "id": "f069e076",
   "metadata": {},
   "source": [
    "# 7-2. Restaurant Seating: Write a program that asks the user how many people are in their dinner group. If the answer is more than eight, print a message saying they’ll have to wait for a table. Otherwise, report that their table is ready."
   ]
  },
  {
   "cell_type": "code",
   "execution_count": 3,
   "id": "9fcd9074",
   "metadata": {},
   "outputs": [
    {
     "name": "stdout",
     "output_type": "stream",
     "text": [
      "How many people are in their dinner group?\n",
      "\n",
      "9\n",
      "You will have to wait for the table.\n"
     ]
    }
   ],
   "source": [
    "Restaurant_Seating = int(input(\"How many people are in their dinner group?\\n\\n\"))\n",
    "\n",
    "if Restaurant_Seating>8:\n",
    "    print(\"You will have to wait for the table.\")\n",
    "else:\n",
    "    print(\"Your table is ready you can use \")"
   ]
  },
  {
   "cell_type": "markdown",
   "id": "b54b2fed",
   "metadata": {},
   "source": [
    "# 7-3. Multiples of Ten: Ask the user for a number, and then report whether the number is a multiple of 10 or not."
   ]
  },
  {
   "cell_type": "code",
   "execution_count": 6,
   "id": "fb80ca37",
   "metadata": {},
   "outputs": [
    {
     "name": "stdout",
     "output_type": "stream",
     "text": [
      "Enter a number!\n",
      "30\n",
      "The Number you have entered is Multiple of 10!\n"
     ]
    }
   ],
   "source": [
    "userNumber = int(input(\"Enter a number!\\n\"))\n",
    "\n",
    "if userNumber%10 == 0:\n",
    "    print(\"The Number you have entered is Multiple of 10!\")\n",
    "else:\n",
    "    print(\"Not Multiple of 10\")"
   ]
  },
  {
   "cell_type": "code",
   "execution_count": null,
   "id": "66b0e8a1",
   "metadata": {},
   "outputs": [],
   "source": []
  }
 ],
 "metadata": {
  "kernelspec": {
   "display_name": "Python 3 (ipykernel)",
   "language": "python",
   "name": "python3"
  },
  "language_info": {
   "codemirror_mode": {
    "name": "ipython",
    "version": 3
   },
   "file_extension": ".py",
   "mimetype": "text/x-python",
   "name": "python",
   "nbconvert_exporter": "python",
   "pygments_lexer": "ipython3",
   "version": "3.9.7"
  }
 },
 "nbformat": 4,
 "nbformat_minor": 5
}
